{
 "cells": [
  {
   "cell_type": "code",
   "execution_count": 2,
   "id": "9574f320",
   "metadata": {},
   "outputs": [
    {
     "name": "stdout",
     "output_type": "stream",
     "text": [
      "4\n",
      "유사도는 22.222222 %입니다\n"
     ]
    }
   ],
   "source": [
    "x=\"머신러닝은 인공지능의 한 분류입니다\" #내가 작성한 숙제\n",
    "y=\"런닝머신은 운동 기구중의 하나입니다\" #다른 사람이 작성한 숙제\n",
    "\n",
    "p=[]\n",
    "q=[]\n",
    "count=0\n",
    "\n",
    "for i in range(len(x)-1):\n",
    "    p.append([x[i:i+2]])\n",
    "\n",
    "for j in range(len(y)-1):\n",
    "    q.append([y[j:j+2]])\n",
    "\n",
    "\n",
    "for k in range(len(p)-1):\n",
    "    for l in range(len(q)-1):\n",
    "        if p[k]==q[l]:\n",
    "            count+=1\n",
    "print(count)\n",
    "\n",
    "print(\"유사도는 %f %%입니다\" % (100*count/len(p)))"
   ]
  },
  {
   "cell_type": "code",
   "execution_count": 6,
   "id": "80a1edb3",
   "metadata": {},
   "outputs": [
    {
     "name": "stdout",
     "output_type": "stream",
     "text": [
      "[5, 4, 4, 5, 5, 5, 5, 5, 5, 6, 5]\n",
      "2\n"
     ]
    }
   ],
   "source": [
    "a = [5,8,3,1,5,6,9,9,2,2,4]\n",
    "for i in range(11):\n",
    "    a.sort()\n",
    "    a[len(a)-1] -= 1\n",
    "    a[0] += 1\n",
    "\n",
    "print(a)\n",
    "a.sort()\n",
    "print(a[len(a)-1]-a[0])"
   ]
  },
  {
   "cell_type": "code",
   "execution_count": 7,
   "id": "811b7a13",
   "metadata": {},
   "outputs": [
    {
     "name": "stdout",
     "output_type": "stream",
     "text": [
      "hello\n",
      "ex01\n",
      "intro\n"
     ]
    }
   ],
   "source": [
    "li = ['hello.py', 'ex01.py', 'intro.hwp']\n",
    "for i in li:\n",
    "    print(i.split(\".\")[0])"
   ]
  },
  {
   "cell_type": "code",
   "execution_count": 8,
   "id": "8574c71a",
   "metadata": {},
   "outputs": [
    {
     "name": "stdout",
     "output_type": "stream",
     "text": [
      "[50, 100, 30, 80, 0]\n"
     ]
    }
   ],
   "source": [
    "low_prices = [100, 200, 400, 800, 1000]\n",
    "high_prices = [150, 300, 430, 880, 1000]\n",
    "var = []\n",
    "\n",
    "for i in range(5):\n",
    "    a = high_prices[i] - low_prices[i]\n",
    "    var.append(a)\n",
    "print(var)"
   ]
  },
  {
   "cell_type": "code",
   "execution_count": 9,
   "id": "27c79c73",
   "metadata": {},
   "outputs": [
    {
     "name": "stdout",
     "output_type": "stream",
     "text": [
      "101 호\n",
      "102 호\n",
      "-----\n",
      "201 호\n",
      "202 호\n",
      "-----\n",
      "301 호\n",
      "302 호\n",
      "-----\n"
     ]
    }
   ],
   "source": [
    "apart = [ [101, 102], [201, 202], [301, 302] ]\n",
    " \n",
    "for i in range(len(apart)):\n",
    "    for j in range(len(apart[i])):\n",
    "        print(apart[i][j],\"호\")\n",
    "    print(\"-----\")"
   ]
  },
  {
   "cell_type": "code",
   "execution_count": null,
   "id": "c8cbbd94",
   "metadata": {},
   "outputs": [],
   "source": []
  }
 ],
 "metadata": {
  "kernelspec": {
   "display_name": "Python 3",
   "language": "python",
   "name": "python3"
  },
  "language_info": {
   "codemirror_mode": {
    "name": "ipython",
    "version": 3
   },
   "file_extension": ".py",
   "mimetype": "text/x-python",
   "name": "python",
   "nbconvert_exporter": "python",
   "pygments_lexer": "ipython3",
   "version": "3.8.8"
  }
 },
 "nbformat": 4,
 "nbformat_minor": 5
}
