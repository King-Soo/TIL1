{
 "cells": [
  {
   "cell_type": "code",
   "execution_count": 18,
   "id": "0bf4e3e1",
   "metadata": {},
   "outputs": [
    {
     "name": "stdout",
     "output_type": "stream",
     "text": [
      "1~10 입력5\n",
      "8\n"
     ]
    }
   ],
   "source": [
    "def fibo(n):\n",
    "    if n < 3:\n",
    "        return n\n",
    "    else:\n",
    "        return fibo(n-1)+fibo(n-2)\n",
    "\n",
    "    \n",
    "b = int(input(\"1~10 입력\"))\n",
    "print(fibo(b))"
   ]
  },
  {
   "cell_type": "code",
   "execution_count": 20,
   "id": "9e52ac44",
   "metadata": {},
   "outputs": [
    {
     "name": "stdout",
     "output_type": "stream",
     "text": [
      "a#b#c#d\n"
     ]
    }
   ],
   "source": [
    "a = 'a:b:c:d'\n",
    "print('#'.join(a.split(':')))"
   ]
  },
  {
   "cell_type": "code",
   "execution_count": 3,
   "id": "ddd5a0dc",
   "metadata": {},
   "outputs": [
    {
     "name": "stdout",
     "output_type": "stream",
     "text": [
      "<re.Match object; span=(0, 4), match='abcd'>\n",
      "<re.Match object; span=(0, 3), match='120'>\n"
     ]
    }
   ],
   "source": [
    "import re\n",
    "print(re.match(\"[decab]+\", \"abcd\")) \n",
    "print(re.match(\"[10842]+\", \"120348\")) "
   ]
  },
  {
   "cell_type": "code",
   "execution_count": null,
   "id": "bb90a71f",
   "metadata": {},
   "outputs": [],
   "source": []
  },
  {
   "cell_type": "code",
   "execution_count": null,
   "id": "1ac8aee1",
   "metadata": {},
   "outputs": [],
   "source": []
  },
  {
   "cell_type": "code",
   "execution_count": null,
   "id": "c32dd97c",
   "metadata": {},
   "outputs": [],
   "source": []
  },
  {
   "cell_type": "code",
   "execution_count": null,
   "id": "6358bf7e",
   "metadata": {},
   "outputs": [],
   "source": []
  },
  {
   "cell_type": "code",
   "execution_count": null,
   "id": "922c4385",
   "metadata": {},
   "outputs": [],
   "source": []
  }
 ],
 "metadata": {
  "kernelspec": {
   "display_name": "Python 3",
   "language": "python",
   "name": "python3"
  },
  "language_info": {
   "codemirror_mode": {
    "name": "ipython",
    "version": 3
   },
   "file_extension": ".py",
   "mimetype": "text/x-python",
   "name": "python",
   "nbconvert_exporter": "python",
   "pygments_lexer": "ipython3",
   "version": "3.8.8"
  }
 },
 "nbformat": 4,
 "nbformat_minor": 5
}
