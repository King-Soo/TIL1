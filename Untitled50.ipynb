{
 "cells": [
  {
   "cell_type": "code",
   "execution_count": 3,
   "id": "be98532f",
   "metadata": {},
   "outputs": [
    {
     "name": "stdout",
     "output_type": "stream",
     "text": [
      "Requirement already satisfied: plotly in d:\\ai\\anaconda3\\lib\\site-packages (4.5.4)Note: you may need to restart the kernel to use updated packages.\n",
      "Requirement already satisfied: retrying>=1.3.3 in d:\\ai\\anaconda3\\lib\\site-packages (from plotly) (1.3.3)\n",
      "Requirement already satisfied: six in d:\\ai\\anaconda3\\lib\\site-packages (from plotly) (1.15.0)\n",
      "\n"
     ]
    }
   ],
   "source": [
    "pip install plotly"
   ]
  },
  {
   "cell_type": "code",
   "execution_count": 5,
   "id": "5cdb0a60",
   "metadata": {},
   "outputs": [
    {
     "name": "stdout",
     "output_type": "stream",
     "text": [
      "Note: you may need to restart the kernel to use updated packages.\n"
     ]
    },
    {
     "name": "stderr",
     "output_type": "stream",
     "text": [
      "ERROR: Could not find a version that satisfies the requirement chromedriver.exeart_studio\n",
      "ERROR: No matching distribution found for chromedriver.exeart_studio\n"
     ]
    }
   ],
   "source": [
    "pip install chromedriver.exeart_studio"
   ]
  },
  {
   "cell_type": "code",
   "execution_count": 3,
   "id": "30720312",
   "metadata": {
    "collapsed": true
   },
   "outputs": [
    {
     "name": "stdout",
     "output_type": "stream",
     "text": [
      "Collecting cufflinks\n",
      "  Downloading cufflinks-0.17.3.tar.gz (81 kB)\n",
      "Requirement already satisfied: numpy>=1.9.2 in d:\\ai\\anaconda3\\lib\\site-packages (from cufflinks) (1.20.1)\n",
      "Requirement already satisfied: pandas>=0.19.2 in d:\\ai\\anaconda3\\lib\\site-packages (from cufflinks) (1.2.4)\n",
      "Requirement already satisfied: plotly>=4.1.1 in d:\\ai\\anaconda3\\lib\\site-packages (from cufflinks) (5.1.0)\n",
      "Requirement already satisfied: six>=1.9.0 in d:\\ai\\anaconda3\\lib\\site-packages (from cufflinks) (1.15.0)\n",
      "Collecting colorlover>=0.2.1\n",
      "  Downloading colorlover-0.3.0-py3-none-any.whl (8.9 kB)\n",
      "Requirement already satisfied: setuptools>=34.4.1 in d:\\ai\\anaconda3\\lib\\site-packages (from cufflinks) (52.0.0.post20210125)\n",
      "Requirement already satisfied: ipython>=5.3.0 in d:\\ai\\anaconda3\\lib\\site-packages (from cufflinks) (7.22.0)\n",
      "Requirement already satisfied: ipywidgets>=7.0.0 in d:\\ai\\anaconda3\\lib\\site-packages (from cufflinks) (7.6.3)\n",
      "Requirement already satisfied: traitlets>=4.2 in d:\\ai\\anaconda3\\lib\\site-packages (from ipython>=5.3.0->cufflinks) (5.0.5)\n",
      "Requirement already satisfied: colorama in d:\\ai\\anaconda3\\lib\\site-packages (from ipython>=5.3.0->cufflinks) (0.4.4)\n",
      "Requirement already satisfied: decorator in d:\\ai\\anaconda3\\lib\\site-packages (from ipython>=5.3.0->cufflinks) (5.0.6)\n",
      "Requirement already satisfied: jedi>=0.16 in d:\\ai\\anaconda3\\lib\\site-packages (from ipython>=5.3.0->cufflinks) (0.17.2)\n",
      "Requirement already satisfied: backcall in d:\\ai\\anaconda3\\lib\\site-packages (from ipython>=5.3.0->cufflinks) (0.2.0)\n",
      "Requirement already satisfied: pygments in d:\\ai\\anaconda3\\lib\\site-packages (from ipython>=5.3.0->cufflinks) (2.8.1)\n",
      "Requirement already satisfied: pickleshare in d:\\ai\\anaconda3\\lib\\site-packages (from ipython>=5.3.0->cufflinks) (0.7.5)\n",
      "Requirement already satisfied: prompt-toolkit!=3.0.0,!=3.0.1,<3.1.0,>=2.0.0 in d:\\ai\\anaconda3\\lib\\site-packages (from ipython>=5.3.0->cufflinks) (3.0.17)\n",
      "Requirement already satisfied: widgetsnbextension~=3.5.0 in d:\\ai\\anaconda3\\lib\\site-packages (from ipywidgets>=7.0.0->cufflinks) (3.5.1)\n",
      "Requirement already satisfied: jupyterlab-widgets>=1.0.0 in d:\\ai\\anaconda3\\lib\\site-packages (from ipywidgets>=7.0.0->cufflinks) (1.0.0)\n",
      "Requirement already satisfied: nbformat>=4.2.0 in d:\\ai\\anaconda3\\lib\\site-packages (from ipywidgets>=7.0.0->cufflinks) (5.1.3)\n",
      "Requirement already satisfied: ipykernel>=4.5.1 in d:\\ai\\anaconda3\\lib\\site-packages (from ipywidgets>=7.0.0->cufflinks) (5.3.4)\n",
      "Requirement already satisfied: tornado>=4.2 in d:\\ai\\anaconda3\\lib\\site-packages (from ipykernel>=4.5.1->ipywidgets>=7.0.0->cufflinks) (6.1)\n",
      "Requirement already satisfied: jupyter-client in d:\\ai\\anaconda3\\lib\\site-packages (from ipykernel>=4.5.1->ipywidgets>=7.0.0->cufflinks) (6.1.12)\n",
      "Requirement already satisfied: parso<0.8.0,>=0.7.0 in d:\\ai\\anaconda3\\lib\\site-packages (from jedi>=0.16->ipython>=5.3.0->cufflinks) (0.7.0)\n",
      "Requirement already satisfied: ipython-genutils in d:\\ai\\anaconda3\\lib\\site-packages (from nbformat>=4.2.0->ipywidgets>=7.0.0->cufflinks) (0.2.0)\n",
      "Requirement already satisfied: jupyter-core in d:\\ai\\anaconda3\\lib\\site-packages (from nbformat>=4.2.0->ipywidgets>=7.0.0->cufflinks) (4.7.1)\n",
      "Requirement already satisfied: jsonschema!=2.5.0,>=2.4 in d:\\ai\\anaconda3\\lib\\site-packages (from nbformat>=4.2.0->ipywidgets>=7.0.0->cufflinks) (3.2.0)\n",
      "Requirement already satisfied: pyrsistent>=0.14.0 in d:\\ai\\anaconda3\\lib\\site-packages (from jsonschema!=2.5.0,>=2.4->nbformat>=4.2.0->ipywidgets>=7.0.0->cufflinks) (0.17.3)\n",
      "Requirement already satisfied: attrs>=17.4.0 in d:\\ai\\anaconda3\\lib\\site-packages (from jsonschema!=2.5.0,>=2.4->nbformat>=4.2.0->ipywidgets>=7.0.0->cufflinks) (20.3.0)\n",
      "Requirement already satisfied: pytz>=2017.3 in d:\\ai\\anaconda3\\lib\\site-packages (from pandas>=0.19.2->cufflinks) (2021.1)\n",
      "Requirement already satisfied: python-dateutil>=2.7.3 in d:\\ai\\anaconda3\\lib\\site-packages (from pandas>=0.19.2->cufflinks) (2.8.1)\n",
      "Requirement already satisfied: tenacity>=6.2.0 in d:\\ai\\anaconda3\\lib\\site-packages (from plotly>=4.1.1->cufflinks) (8.0.1)\n",
      "Requirement already satisfied: wcwidth in d:\\ai\\anaconda3\\lib\\site-packages (from prompt-toolkit!=3.0.0,!=3.0.1,<3.1.0,>=2.0.0->ipython>=5.3.0->cufflinks) (0.2.5)\n",
      "Requirement already satisfied: notebook>=4.4.1 in d:\\ai\\anaconda3\\lib\\site-packages (from widgetsnbextension~=3.5.0->ipywidgets>=7.0.0->cufflinks) (6.3.0)\n",
      "Requirement already satisfied: jinja2 in d:\\ai\\anaconda3\\lib\\site-packages (from notebook>=4.4.1->widgetsnbextension~=3.5.0->ipywidgets>=7.0.0->cufflinks) (2.11.3)\n",
      "Requirement already satisfied: Send2Trash>=1.5.0 in d:\\ai\\anaconda3\\lib\\site-packages (from notebook>=4.4.1->widgetsnbextension~=3.5.0->ipywidgets>=7.0.0->cufflinks) (1.5.0)\n",
      "Requirement already satisfied: pyzmq>=17 in d:\\ai\\anaconda3\\lib\\site-packages (from notebook>=4.4.1->widgetsnbextension~=3.5.0->ipywidgets>=7.0.0->cufflinks) (20.0.0)\n",
      "Requirement already satisfied: nbconvert in d:\\ai\\anaconda3\\lib\\site-packages (from notebook>=4.4.1->widgetsnbextension~=3.5.0->ipywidgets>=7.0.0->cufflinks) (6.0.7)\n",
      "Requirement already satisfied: argon2-cffi in d:\\ai\\anaconda3\\lib\\site-packages (from notebook>=4.4.1->widgetsnbextension~=3.5.0->ipywidgets>=7.0.0->cufflinks) (20.1.0)\n",
      "Requirement already satisfied: terminado>=0.8.3 in d:\\ai\\anaconda3\\lib\\site-packages (from notebook>=4.4.1->widgetsnbextension~=3.5.0->ipywidgets>=7.0.0->cufflinks) (0.9.4)\n",
      "Requirement already satisfied: prometheus-client in d:\\ai\\anaconda3\\lib\\site-packages (from notebook>=4.4.1->widgetsnbextension~=3.5.0->ipywidgets>=7.0.0->cufflinks) (0.10.1)\n",
      "Requirement already satisfied: pywin32>=1.0 in d:\\ai\\anaconda3\\lib\\site-packages (from jupyter-core->nbformat>=4.2.0->ipywidgets>=7.0.0->cufflinks) (227)\n",
      "Requirement already satisfied: pywinpty>=0.5 in d:\\ai\\anaconda3\\lib\\site-packages (from terminado>=0.8.3->notebook>=4.4.1->widgetsnbextension~=3.5.0->ipywidgets>=7.0.0->cufflinks) (0.5.7)\n",
      "Requirement already satisfied: cffi>=1.0.0 in d:\\ai\\anaconda3\\lib\\site-packages (from argon2-cffi->notebook>=4.4.1->widgetsnbextension~=3.5.0->ipywidgets>=7.0.0->cufflinks) (1.14.5)\n",
      "Requirement already satisfied: pycparser in d:\\ai\\anaconda3\\lib\\site-packages (from cffi>=1.0.0->argon2-cffi->notebook>=4.4.1->widgetsnbextension~=3.5.0->ipywidgets>=7.0.0->cufflinks) (2.20)\n",
      "Requirement already satisfied: MarkupSafe>=0.23 in d:\\ai\\anaconda3\\lib\\site-packages (from jinja2->notebook>=4.4.1->widgetsnbextension~=3.5.0->ipywidgets>=7.0.0->cufflinks) (1.1.1)\n",
      "Requirement already satisfied: pandocfilters>=1.4.1 in d:\\ai\\anaconda3\\lib\\site-packages (from nbconvert->notebook>=4.4.1->widgetsnbextension~=3.5.0->ipywidgets>=7.0.0->cufflinks) (1.4.3)\n",
      "Requirement already satisfied: testpath in d:\\ai\\anaconda3\\lib\\site-packages (from nbconvert->notebook>=4.4.1->widgetsnbextension~=3.5.0->ipywidgets>=7.0.0->cufflinks) (0.4.4)\n",
      "Requirement already satisfied: defusedxml in d:\\ai\\anaconda3\\lib\\site-packages (from nbconvert->notebook>=4.4.1->widgetsnbextension~=3.5.0->ipywidgets>=7.0.0->cufflinks) (0.7.1)\n",
      "Requirement already satisfied: bleach in d:\\ai\\anaconda3\\lib\\site-packages (from nbconvert->notebook>=4.4.1->widgetsnbextension~=3.5.0->ipywidgets>=7.0.0->cufflinks) (3.3.0)\n",
      "Requirement already satisfied: entrypoints>=0.2.2 in d:\\ai\\anaconda3\\lib\\site-packages (from nbconvert->notebook>=4.4.1->widgetsnbextension~=3.5.0->ipywidgets>=7.0.0->cufflinks) (0.3)\n",
      "Requirement already satisfied: mistune<2,>=0.8.1 in d:\\ai\\anaconda3\\lib\\site-packages (from nbconvert->notebook>=4.4.1->widgetsnbextension~=3.5.0->ipywidgets>=7.0.0->cufflinks) (0.8.4)\n",
      "Requirement already satisfied: nbclient<0.6.0,>=0.5.0 in d:\\ai\\anaconda3\\lib\\site-packages (from nbconvert->notebook>=4.4.1->widgetsnbextension~=3.5.0->ipywidgets>=7.0.0->cufflinks) (0.5.3)\n",
      "Requirement already satisfied: jupyterlab-pygments in d:\\ai\\anaconda3\\lib\\site-packages (from nbconvert->notebook>=4.4.1->widgetsnbextension~=3.5.0->ipywidgets>=7.0.0->cufflinks) (0.1.2)\n",
      "Requirement already satisfied: nest-asyncio in d:\\ai\\anaconda3\\lib\\site-packages (from nbclient<0.6.0,>=0.5.0->nbconvert->notebook>=4.4.1->widgetsnbextension~=3.5.0->ipywidgets>=7.0.0->cufflinks) (1.5.1)\n",
      "Requirement already satisfied: async-generator in d:\\ai\\anaconda3\\lib\\site-packages (from nbclient<0.6.0,>=0.5.0->nbconvert->notebook>=4.4.1->widgetsnbextension~=3.5.0->ipywidgets>=7.0.0->cufflinks) (1.10)\n",
      "Requirement already satisfied: packaging in d:\\ai\\anaconda3\\lib\\site-packages (from bleach->nbconvert->notebook>=4.4.1->widgetsnbextension~=3.5.0->ipywidgets>=7.0.0->cufflinks) (20.9)\n",
      "Requirement already satisfied: webencodings in d:\\ai\\anaconda3\\lib\\site-packages (from bleach->nbconvert->notebook>=4.4.1->widgetsnbextension~=3.5.0->ipywidgets>=7.0.0->cufflinks) (0.5.1)\n",
      "Requirement already satisfied: pyparsing>=2.0.2 in d:\\ai\\anaconda3\\lib\\site-packages (from packaging->bleach->nbconvert->notebook>=4.4.1->widgetsnbextension~=3.5.0->ipywidgets>=7.0.0->cufflinks) (2.4.7)\n",
      "Building wheels for collected packages: cufflinks\n",
      "  Building wheel for cufflinks (setup.py): started\n",
      "  Building wheel for cufflinks (setup.py): finished with status 'done'\n",
      "  Created wheel for cufflinks: filename=cufflinks-0.17.3-py3-none-any.whl size=68724 sha256=3e70c9ed076acda173604a7df24590151a1df537a11fd5561246ba6bab40d5f1\n",
      "  Stored in directory: c:\\users\\jinsu1\\appdata\\local\\pip\\cache\\wheels\\6b\\76\\62\\6da97734911ffcbdd559fd1a3f28526321f0ae699182a23866\n",
      "Successfully built cufflinks\n",
      "Installing collected packages: colorlover, cufflinks\n",
      "Successfully installed colorlover-0.3.0 cufflinks-0.17.3\n",
      "Note: you may need to restart the kernel to use updated packages.\n"
     ]
    }
   ],
   "source": []
  },
  {
   "cell_type": "code",
   "execution_count": 8,
   "id": "cc534317",
   "metadata": {},
   "outputs": [],
   "source": [
    "import pandas as pd\n",
    "#import plotly.plotly as py\n",
    "import plotly.express as px\n"
   ]
  },
  {
   "cell_type": "code",
   "execution_count": 32,
   "id": "8b5601a9",
   "metadata": {},
   "outputs": [
    {
     "name": "stdout",
     "output_type": "stream",
     "text": [
      "Package                            Version\n",
      "---------------------------------- -------------------\n",
      "alabaster                          0.7.12\n",
      "anaconda-client                    1.7.2\n",
      "anaconda-navigator                 2.0.3\n",
      "anaconda-project                   0.9.1\n",
      "anyio                              2.2.0\n",
      "appdirs                            1.4.4\n",
      "argh                               0.26.2\n",
      "argon2-cffi                        20.1.0\n",
      "asn1crypto                         1.4.0\n",
      "astroid                            2.5\n",
      "astropy                            4.2.1\n",
      "async-generator                    1.10\n",
      "atomicwrites                       1.4.0\n",
      "attrs                              20.3.0\n",
      "autopep8                           1.5.6\n",
      "Babel                              2.9.0\n",
      "backcall                           0.2.0\n",
      "backports.functools-lru-cache      1.6.4\n",
      "backports.shutil-get-terminal-size 1.0.0\n",
      "backports.tempfile                 1.0\n",
      "backports.weakref                  1.0.post1\n",
      "bcrypt                             3.2.0\n",
      "beautifulsoup4                     4.9.3\n",
      "bitarray                           1.9.2\n",
      "bkcharts                           0.2\n",
      "black                              19.10b0\n",
      "bleach                             3.3.0\n",
      "bokeh                              2.3.2\n",
      "boto                               2.49.0\n",
      "Bottleneck                         1.3.2\n",
      "branca                             0.4.2\n",
      "brotlipy                           0.7.0\n",
      "certifi                            2020.12.5\n",
      "cffi                               1.14.5\n",
      "chardet                            4.0.0\n",
      "click                              7.1.2\n",
      "cloudpickle                        1.6.0\n",
      "clyent                             1.2.2\n",
      "colorama                           0.4.4\n",
      "colorlover                         0.3.0\n",
      "comtypes                           1.1.9\n",
      "conda                              4.10.1\n",
      "conda-build                        3.21.4\n",
      "conda-content-trust                0+unknown\n",
      "conda-package-handling             1.7.3\n",
      "conda-repo-cli                     1.0.4\n",
      "conda-token                        0.3.0\n",
      "conda-verify                       3.4.2\n",
      "contextlib2                        0.6.0.post1\n",
      "cryptography                       3.4.7\n",
      "cufflinks                          0.17.3\n",
      "cycler                             0.10.0\n",
      "Cython                             0.29.23\n",
      "cytoolz                            0.11.0\n",
      "dask                               2021.4.0\n",
      "decorator                          5.0.6\n",
      "defusedxml                         0.7.1\n",
      "diff-match-patch                   20200713\n",
      "distributed                        2021.4.0\n",
      "docutils                           0.17\n",
      "entrypoints                        0.3\n",
      "et-xmlfile                         1.0.1\n",
      "fastcache                          1.1.0\n",
      "filelock                           3.0.12\n",
      "flake8                             3.9.0\n",
      "Flask                              1.1.2\n",
      "folium                             0.12.1\n",
      "fsspec                             0.9.0\n",
      "future                             0.18.2\n",
      "gevent                             21.1.2\n",
      "glob2                              0.7\n",
      "greenlet                           1.0.0\n",
      "h5py                               2.10.0\n",
      "HeapDict                           1.0.1\n",
      "html5lib                           1.1\n",
      "idna                               2.10\n",
      "imagecodecs                        2021.3.31\n",
      "imageio                            2.9.0\n",
      "imagesize                          1.2.0\n",
      "importlib-metadata                 3.10.0\n",
      "iniconfig                          1.1.1\n",
      "intervaltree                       3.1.0\n",
      "ipykernel                          5.3.4\n",
      "ipython                            7.22.0\n",
      "ipython-genutils                   0.2.0\n",
      "ipywidgets                         7.6.3\n",
      "isort                              5.8.0\n",
      "itsdangerous                       1.1.0\n",
      "jdcal                              1.4.1\n",
      "jedi                               0.17.2\n",
      "Jinja2                             2.11.3\n",
      "joblib                             1.0.1\n",
      "json5                              0.9.5\n",
      "jsonschema                         3.2.0\n",
      "jupyter                            1.0.0\n",
      "jupyter-client                     6.1.12\n",
      "jupyter-console                    6.4.0\n",
      "jupyter-core                       4.7.1\n",
      "jupyter-packaging                  0.7.12\n",
      "jupyter-server                     1.4.1\n",
      "jupyterlab                         3.0.14\n",
      "jupyterlab-pygments                0.1.2\n",
      "jupyterlab-server                  2.4.0\n",
      "jupyterlab-widgets                 1.0.0\n",
      "jupyterthemes                      0.20.0\n",
      "keyring                            22.3.0\n",
      "kiwisolver                         1.3.1\n",
      "lazy-object-proxy                  1.6.0\n",
      "lesscpy                            0.15.0\n",
      "libarchive-c                       2.9\n",
      "llvmlite                           0.36.0\n",
      "Note: you may need to restart the kernel to use updated packages.locket                             0.2.1\n",
      "\n",
      "lxml                               4.6.3\n",
      "MarkupSafe                         1.1.1\n",
      "matplotlib                         3.3.4\n",
      "mccabe                             0.6.1\n",
      "menuinst                           1.4.16\n",
      "mistune                            0.8.4\n",
      "mkl-fft                            1.3.0\n",
      "mkl-random                         1.2.1\n",
      "mkl-service                        2.3.0\n",
      "mock                               4.0.3\n",
      "more-itertools                     8.7.0\n",
      "mpmath                             1.2.1\n",
      "msgpack                            1.0.2\n",
      "multipledispatch                   0.6.0\n",
      "mypy-extensions                    0.4.3\n",
      "navigator-updater                  0.2.1\n",
      "nbclassic                          0.2.6\n",
      "nbclient                           0.5.3\n",
      "nbconvert                          6.0.7\n",
      "nbformat                           5.1.3\n",
      "nest-asyncio                       1.5.1\n",
      "networkx                           2.5\n",
      "nltk                               3.6.1\n",
      "nose                               1.3.7\n",
      "notebook                           6.3.0\n",
      "numba                              0.53.1\n",
      "numexpr                            2.7.3\n",
      "numpy                              1.20.1\n",
      "numpydoc                           1.1.0\n",
      "olefile                            0.46\n",
      "openpyxl                           3.0.7\n",
      "packaging                          20.9\n",
      "pandas                             1.2.4\n",
      "pandocfilters                      1.4.3\n",
      "paramiko                           2.7.2\n",
      "parso                              0.7.0\n",
      "partd                              1.2.0\n",
      "path                               15.1.2\n",
      "pathlib2                           2.3.5\n",
      "pathspec                           0.7.0\n",
      "patsy                              0.5.1\n",
      "pep8                               1.7.1\n",
      "pexpect                            4.8.0\n",
      "pickleshare                        0.7.5\n",
      "Pillow                             8.2.0\n",
      "pip                                21.0.1\n",
      "pkginfo                            1.7.0\n",
      "plotly                             4.5.4\n",
      "pluggy                             0.13.1\n",
      "ply                                3.11\n",
      "prometheus-client                  0.10.1\n",
      "prompt-toolkit                     3.0.17\n",
      "psutil                             5.8.0\n",
      "ptyprocess                         0.7.0\n",
      "py                                 1.10.0\n",
      "pycodestyle                        2.6.0\n",
      "pycosat                            0.6.3\n",
      "pycparser                          2.20\n",
      "pycurl                             7.43.0.6\n",
      "pydocstyle                         6.0.0\n",
      "pyerfa                             1.7.3\n",
      "pyflakes                           2.2.0\n",
      "Pygments                           2.8.1\n",
      "pylint                             2.7.4\n",
      "pyls-black                         0.4.6\n",
      "pyls-spyder                        0.3.2\n",
      "PyNaCl                             1.4.0\n",
      "pyodbc                             4.0.0-unsupported\n",
      "pyOpenSSL                          20.0.1\n",
      "pyparsing                          2.4.7\n",
      "pyreadline                         2.1\n",
      "pyrsistent                         0.17.3\n",
      "PySocks                            1.7.1\n",
      "pytest                             6.2.3\n",
      "python-dateutil                    2.8.1\n",
      "python-jsonrpc-server              0.4.0\n",
      "python-language-server             0.36.2\n",
      "pytz                               2021.1\n",
      "PyWavelets                         1.1.1\n",
      "pywin32                            227\n",
      "pywin32-ctypes                     0.2.0\n",
      "pywinpty                           0.5.7\n",
      "PyYAML                             5.4.1\n",
      "pyzmq                              20.0.0\n",
      "QDarkStyle                         2.8.1\n",
      "QtAwesome                          1.0.2\n",
      "qtconsole                          5.0.3\n",
      "QtPy                               1.9.0\n",
      "regex                              2021.4.4\n",
      "requests                           2.25.1\n",
      "retrying                           1.3.3\n",
      "rope                               0.18.0\n",
      "Rtree                              0.9.7\n",
      "ruamel-yaml-conda                  0.15.100\n",
      "scikit-image                       0.18.1\n",
      "scikit-learn                       0.24.1\n",
      "scipy                              1.6.2\n",
      "seaborn                            0.11.1\n",
      "selenium                           3.141.0\n",
      "Send2Trash                         1.5.0\n",
      "setuptools                         52.0.0.post20210125\n",
      "simplegeneric                      0.8.1\n",
      "singledispatch                     0.0.0\n",
      "sip                                4.19.13\n",
      "six                                1.15.0\n",
      "sniffio                            1.2.0\n",
      "snowballstemmer                    2.1.0\n",
      "sortedcollections                  2.1.0\n",
      "sortedcontainers                   2.3.0\n",
      "soupsieve                          2.2.1\n",
      "Sphinx                             4.0.1\n",
      "sphinxcontrib-applehelp            1.0.2\n",
      "sphinxcontrib-devhelp              1.0.2\n",
      "sphinxcontrib-htmlhelp             1.0.3\n",
      "sphinxcontrib-jsmath               1.0.1\n",
      "sphinxcontrib-qthelp               1.0.3\n",
      "sphinxcontrib-serializinghtml      1.1.4\n",
      "sphinxcontrib-websupport           1.2.4\n",
      "spyder                             4.2.5\n",
      "spyder-kernels                     1.10.2\n",
      "SQLAlchemy                         1.4.7\n",
      "statsmodels                        0.12.2\n",
      "sympy                              1.8\n",
      "tables                             3.6.1\n",
      "tblib                              1.7.0\n",
      "tenacity                           8.0.1\n",
      "terminado                          0.9.4\n",
      "testpath                           0.4.4\n",
      "textdistance                       4.2.1\n",
      "threadpoolctl                      2.1.0\n",
      "three-merge                        0.1.1\n",
      "tifffile                           2021.4.8\n",
      "toml                               0.10.2\n",
      "toolz                              0.11.1\n"
     ]
    },
    {
     "name": "stdout",
     "output_type": "stream",
     "text": [
      "tornado                            6.1\n",
      "tqdm                               4.59.0\n",
      "traitlets                          5.0.5\n",
      "typed-ast                          1.4.2\n",
      "typing-extensions                  3.7.4.3\n",
      "ujson                              4.0.2\n",
      "unicodecsv                         0.14.1\n",
      "urllib3                            1.26.4\n",
      "watchdog                           1.0.2\n",
      "wcwidth                            0.2.5\n",
      "webencodings                       0.5.1\n",
      "Werkzeug                           1.0.1\n",
      "wget                               3.2\n",
      "wheel                              0.36.2\n",
      "widgetsnbextension                 3.5.1\n",
      "win-inet-pton                      1.1.0\n",
      "win-unicode-console                0.5\n",
      "wincertstore                       0.2\n",
      "wrapt                              1.12.1\n",
      "xlrd                               2.0.1\n",
      "XlsxWriter                         1.3.8\n",
      "xlwings                            0.23.0\n",
      "xlwt                               1.3.0\n",
      "xmltodict                          0.12.0\n",
      "yapf                               0.31.0\n",
      "zict                               2.0.0\n",
      "zipp                               3.4.1\n",
      "zope.event                         4.5.0\n",
      "zope.interface                     5.3.0\n"
     ]
    }
   ],
   "source": [
    "pip list"
   ]
  },
  {
   "cell_type": "code",
   "execution_count": 10,
   "id": "940b474c",
   "metadata": {},
   "outputs": [
    {
     "data": {
      "text/html": [
       "<div>\n",
       "<style scoped>\n",
       "    .dataframe tbody tr th:only-of-type {\n",
       "        vertical-align: middle;\n",
       "    }\n",
       "\n",
       "    .dataframe tbody tr th {\n",
       "        vertical-align: top;\n",
       "    }\n",
       "\n",
       "    .dataframe thead th {\n",
       "        text-align: right;\n",
       "    }\n",
       "</style>\n",
       "<table border=\"1\" class=\"dataframe\">\n",
       "  <thead>\n",
       "    <tr style=\"text-align: right;\">\n",
       "      <th></th>\n",
       "      <th>노선번호</th>\n",
       "      <th>노선명</th>\n",
       "      <th>기점</th>\n",
       "      <th>종점</th>\n",
       "      <th>소   계</th>\n",
       "      <th>2차로</th>\n",
       "      <th>4차로</th>\n",
       "      <th>6차로</th>\n",
       "      <th>8차로</th>\n",
       "      <th>10차로\\n이상</th>\n",
       "    </tr>\n",
       "  </thead>\n",
       "  <tbody>\n",
       "    <tr>\n",
       "      <th>0</th>\n",
       "      <td>제 1 호</td>\n",
       "      <td>경부선</td>\n",
       "      <td>부산 금정구</td>\n",
       "      <td>서울 서초구</td>\n",
       "      <td>415.34</td>\n",
       "      <td>0.0</td>\n",
       "      <td>13.51</td>\n",
       "      <td>221.89</td>\n",
       "      <td>159.51</td>\n",
       "      <td>20.43</td>\n",
       "    </tr>\n",
       "    <tr>\n",
       "      <th>1</th>\n",
       "      <td>제 10 호</td>\n",
       "      <td>남해선</td>\n",
       "      <td>전남 영암군</td>\n",
       "      <td>부산 북구</td>\n",
       "      <td>273.20</td>\n",
       "      <td>0.0</td>\n",
       "      <td>190.61</td>\n",
       "      <td>19.40</td>\n",
       "      <td>63.19</td>\n",
       "      <td>0.00</td>\n",
       "    </tr>\n",
       "    <tr>\n",
       "      <th>2</th>\n",
       "      <td>제 12 호</td>\n",
       "      <td>광주대구선</td>\n",
       "      <td>광주 북구</td>\n",
       "      <td>대구 달성군</td>\n",
       "      <td>212.88</td>\n",
       "      <td>0.0</td>\n",
       "      <td>198.53</td>\n",
       "      <td>14.35</td>\n",
       "      <td>0.00</td>\n",
       "      <td>0.00</td>\n",
       "    </tr>\n",
       "    <tr>\n",
       "      <th>3</th>\n",
       "      <td>제 14 호</td>\n",
       "      <td>함양울산선</td>\n",
       "      <td>경남 함양군</td>\n",
       "      <td>울산 울주군</td>\n",
       "      <td>44.98</td>\n",
       "      <td>0.0</td>\n",
       "      <td>44.98</td>\n",
       "      <td>0.00</td>\n",
       "      <td>0.00</td>\n",
       "      <td>0.00</td>\n",
       "    </tr>\n",
       "    <tr>\n",
       "      <th>4</th>\n",
       "      <td>제 15 호</td>\n",
       "      <td>서해안선</td>\n",
       "      <td>전남 무안군</td>\n",
       "      <td>서울 금천구</td>\n",
       "      <td>336.65</td>\n",
       "      <td>0.0</td>\n",
       "      <td>255.57</td>\n",
       "      <td>53.21</td>\n",
       "      <td>9.64</td>\n",
       "      <td>18.23</td>\n",
       "    </tr>\n",
       "  </tbody>\n",
       "</table>\n",
       "</div>"
      ],
      "text/plain": [
       "     노선번호    노선명      기점      종점   소   계  2차로     4차로     6차로     8차로  \\\n",
       "0   제 1 호    경부선  부산 금정구  서울 서초구  415.34  0.0   13.51  221.89  159.51   \n",
       "1  제 10 호    남해선  전남 영암군   부산 북구  273.20  0.0  190.61   19.40   63.19   \n",
       "2  제 12 호  광주대구선   광주 북구  대구 달성군  212.88  0.0  198.53   14.35    0.00   \n",
       "3  제 14 호  함양울산선  경남 함양군  울산 울주군   44.98  0.0   44.98    0.00    0.00   \n",
       "4  제 15 호   서해안선  전남 무안군  서울 금천구  336.65  0.0  255.57   53.21    9.64   \n",
       "\n",
       "   10차로\\n이상  \n",
       "0     20.43  \n",
       "1      0.00  \n",
       "2      0.00  \n",
       "3      0.00  \n",
       "4     18.23  "
      ]
     },
     "execution_count": 10,
     "metadata": {},
     "output_type": "execute_result"
    }
   ],
   "source": [
    "df=pd.read_excel('05.고속국도_현황_2020.xlsx')\n",
    "df.head()"
   ]
  },
  {
   "cell_type": "code",
   "execution_count": 11,
   "id": "eb9e2082",
   "metadata": {},
   "outputs": [
    {
     "ename": "NameError",
     "evalue": "name 'cf' is not defined",
     "output_type": "error",
     "traceback": [
      "\u001b[1;31m---------------------------------------------------------------------------\u001b[0m",
      "\u001b[1;31mNameError\u001b[0m                                 Traceback (most recent call last)",
      "\u001b[1;32m<ipython-input-11-091063bff2e9>\u001b[0m in \u001b[0;36m<module>\u001b[1;34m\u001b[0m\n\u001b[1;32m----> 1\u001b[1;33m \u001b[0mcf\u001b[0m\u001b[1;33m.\u001b[0m\u001b[0mdatagen\u001b[0m\u001b[1;33m.\u001b[0m\u001b[0mlines\u001b[0m\u001b[1;33m(\u001b[0m\u001b[1;33m)\u001b[0m\u001b[1;33m\u001b[0m\u001b[1;33m\u001b[0m\u001b[0m\n\u001b[0m",
      "\u001b[1;31mNameError\u001b[0m: name 'cf' is not defined"
     ]
    }
   ],
   "source": [
    "cf.datagen.lines()"
   ]
  },
  {
   "cell_type": "code",
   "execution_count": 20,
   "id": "20e20650",
   "metadata": {
    "collapsed": true
   },
   "outputs": [
    {
     "data": {
      "application/vnd.plotly.v1+json": {
       "config": {
        "plotlyServerURL": "https://plot.ly"
       },
       "data": [
        {
         "alignmentgroup": "True",
         "bingroup": "x",
         "hoverlabel": {
          "namelength": 0
         },
         "hovertemplate": "소   계=%{x}<br>count=%{y}",
         "legendgroup": "",
         "marker": {
          "color": "#636efa"
         },
         "name": "",
         "offsetgroup": "",
         "orientation": "v",
         "showlegend": false,
         "type": "histogram",
         "x": [
          415.34,
          273.2,
          212.88,
          44.98,
          336.65,
          14.3,
          89.27,
          105.86,
          276.26,
          117.78,
          50.6,
          278.9,
          12.1,
          332.48,
          31.08,
          126.91,
          302.03,
          234.4,
          56.95,
          370.76,
          151.07,
          222.63,
          128.02,
          17.88,
          20.25,
          15.26,
          69.98,
          13.44,
          36.55,
          61.36,
          40.3,
          25.45,
          24.49,
          53.97,
          42.5,
          13.28,
          94,
          38.14,
          30,
          17.42,
          48.8,
          null
         ],
         "xaxis": "x",
         "yaxis": "y"
        }
       ],
       "layout": {
        "barmode": "relative",
        "legend": {
         "tracegroupgap": 0
        },
        "margin": {
         "t": 60
        },
        "template": {
         "data": {
          "bar": [
           {
            "error_x": {
             "color": "#2a3f5f"
            },
            "error_y": {
             "color": "#2a3f5f"
            },
            "marker": {
             "line": {
              "color": "#E5ECF6",
              "width": 0.5
             }
            },
            "type": "bar"
           }
          ],
          "barpolar": [
           {
            "marker": {
             "line": {
              "color": "#E5ECF6",
              "width": 0.5
             }
            },
            "type": "barpolar"
           }
          ],
          "carpet": [
           {
            "aaxis": {
             "endlinecolor": "#2a3f5f",
             "gridcolor": "white",
             "linecolor": "white",
             "minorgridcolor": "white",
             "startlinecolor": "#2a3f5f"
            },
            "baxis": {
             "endlinecolor": "#2a3f5f",
             "gridcolor": "white",
             "linecolor": "white",
             "minorgridcolor": "white",
             "startlinecolor": "#2a3f5f"
            },
            "type": "carpet"
           }
          ],
          "choropleth": [
           {
            "colorbar": {
             "outlinewidth": 0,
             "ticks": ""
            },
            "type": "choropleth"
           }
          ],
          "contour": [
           {
            "colorbar": {
             "outlinewidth": 0,
             "ticks": ""
            },
            "colorscale": [
             [
              0,
              "#0d0887"
             ],
             [
              0.1111111111111111,
              "#46039f"
             ],
             [
              0.2222222222222222,
              "#7201a8"
             ],
             [
              0.3333333333333333,
              "#9c179e"
             ],
             [
              0.4444444444444444,
              "#bd3786"
             ],
             [
              0.5555555555555556,
              "#d8576b"
             ],
             [
              0.6666666666666666,
              "#ed7953"
             ],
             [
              0.7777777777777778,
              "#fb9f3a"
             ],
             [
              0.8888888888888888,
              "#fdca26"
             ],
             [
              1,
              "#f0f921"
             ]
            ],
            "type": "contour"
           }
          ],
          "contourcarpet": [
           {
            "colorbar": {
             "outlinewidth": 0,
             "ticks": ""
            },
            "type": "contourcarpet"
           }
          ],
          "heatmap": [
           {
            "colorbar": {
             "outlinewidth": 0,
             "ticks": ""
            },
            "colorscale": [
             [
              0,
              "#0d0887"
             ],
             [
              0.1111111111111111,
              "#46039f"
             ],
             [
              0.2222222222222222,
              "#7201a8"
             ],
             [
              0.3333333333333333,
              "#9c179e"
             ],
             [
              0.4444444444444444,
              "#bd3786"
             ],
             [
              0.5555555555555556,
              "#d8576b"
             ],
             [
              0.6666666666666666,
              "#ed7953"
             ],
             [
              0.7777777777777778,
              "#fb9f3a"
             ],
             [
              0.8888888888888888,
              "#fdca26"
             ],
             [
              1,
              "#f0f921"
             ]
            ],
            "type": "heatmap"
           }
          ],
          "heatmapgl": [
           {
            "colorbar": {
             "outlinewidth": 0,
             "ticks": ""
            },
            "colorscale": [
             [
              0,
              "#0d0887"
             ],
             [
              0.1111111111111111,
              "#46039f"
             ],
             [
              0.2222222222222222,
              "#7201a8"
             ],
             [
              0.3333333333333333,
              "#9c179e"
             ],
             [
              0.4444444444444444,
              "#bd3786"
             ],
             [
              0.5555555555555556,
              "#d8576b"
             ],
             [
              0.6666666666666666,
              "#ed7953"
             ],
             [
              0.7777777777777778,
              "#fb9f3a"
             ],
             [
              0.8888888888888888,
              "#fdca26"
             ],
             [
              1,
              "#f0f921"
             ]
            ],
            "type": "heatmapgl"
           }
          ],
          "histogram": [
           {
            "marker": {
             "colorbar": {
              "outlinewidth": 0,
              "ticks": ""
             }
            },
            "type": "histogram"
           }
          ],
          "histogram2d": [
           {
            "colorbar": {
             "outlinewidth": 0,
             "ticks": ""
            },
            "colorscale": [
             [
              0,
              "#0d0887"
             ],
             [
              0.1111111111111111,
              "#46039f"
             ],
             [
              0.2222222222222222,
              "#7201a8"
             ],
             [
              0.3333333333333333,
              "#9c179e"
             ],
             [
              0.4444444444444444,
              "#bd3786"
             ],
             [
              0.5555555555555556,
              "#d8576b"
             ],
             [
              0.6666666666666666,
              "#ed7953"
             ],
             [
              0.7777777777777778,
              "#fb9f3a"
             ],
             [
              0.8888888888888888,
              "#fdca26"
             ],
             [
              1,
              "#f0f921"
             ]
            ],
            "type": "histogram2d"
           }
          ],
          "histogram2dcontour": [
           {
            "colorbar": {
             "outlinewidth": 0,
             "ticks": ""
            },
            "colorscale": [
             [
              0,
              "#0d0887"
             ],
             [
              0.1111111111111111,
              "#46039f"
             ],
             [
              0.2222222222222222,
              "#7201a8"
             ],
             [
              0.3333333333333333,
              "#9c179e"
             ],
             [
              0.4444444444444444,
              "#bd3786"
             ],
             [
              0.5555555555555556,
              "#d8576b"
             ],
             [
              0.6666666666666666,
              "#ed7953"
             ],
             [
              0.7777777777777778,
              "#fb9f3a"
             ],
             [
              0.8888888888888888,
              "#fdca26"
             ],
             [
              1,
              "#f0f921"
             ]
            ],
            "type": "histogram2dcontour"
           }
          ],
          "mesh3d": [
           {
            "colorbar": {
             "outlinewidth": 0,
             "ticks": ""
            },
            "type": "mesh3d"
           }
          ],
          "parcoords": [
           {
            "line": {
             "colorbar": {
              "outlinewidth": 0,
              "ticks": ""
             }
            },
            "type": "parcoords"
           }
          ],
          "pie": [
           {
            "automargin": true,
            "type": "pie"
           }
          ],
          "scatter": [
           {
            "marker": {
             "colorbar": {
              "outlinewidth": 0,
              "ticks": ""
             }
            },
            "type": "scatter"
           }
          ],
          "scatter3d": [
           {
            "line": {
             "colorbar": {
              "outlinewidth": 0,
              "ticks": ""
             }
            },
            "marker": {
             "colorbar": {
              "outlinewidth": 0,
              "ticks": ""
             }
            },
            "type": "scatter3d"
           }
          ],
          "scattercarpet": [
           {
            "marker": {
             "colorbar": {
              "outlinewidth": 0,
              "ticks": ""
             }
            },
            "type": "scattercarpet"
           }
          ],
          "scattergeo": [
           {
            "marker": {
             "colorbar": {
              "outlinewidth": 0,
              "ticks": ""
             }
            },
            "type": "scattergeo"
           }
          ],
          "scattergl": [
           {
            "marker": {
             "colorbar": {
              "outlinewidth": 0,
              "ticks": ""
             }
            },
            "type": "scattergl"
           }
          ],
          "scattermapbox": [
           {
            "marker": {
             "colorbar": {
              "outlinewidth": 0,
              "ticks": ""
             }
            },
            "type": "scattermapbox"
           }
          ],
          "scatterpolar": [
           {
            "marker": {
             "colorbar": {
              "outlinewidth": 0,
              "ticks": ""
             }
            },
            "type": "scatterpolar"
           }
          ],
          "scatterpolargl": [
           {
            "marker": {
             "colorbar": {
              "outlinewidth": 0,
              "ticks": ""
             }
            },
            "type": "scatterpolargl"
           }
          ],
          "scatterternary": [
           {
            "marker": {
             "colorbar": {
              "outlinewidth": 0,
              "ticks": ""
             }
            },
            "type": "scatterternary"
           }
          ],
          "surface": [
           {
            "colorbar": {
             "outlinewidth": 0,
             "ticks": ""
            },
            "colorscale": [
             [
              0,
              "#0d0887"
             ],
             [
              0.1111111111111111,
              "#46039f"
             ],
             [
              0.2222222222222222,
              "#7201a8"
             ],
             [
              0.3333333333333333,
              "#9c179e"
             ],
             [
              0.4444444444444444,
              "#bd3786"
             ],
             [
              0.5555555555555556,
              "#d8576b"
             ],
             [
              0.6666666666666666,
              "#ed7953"
             ],
             [
              0.7777777777777778,
              "#fb9f3a"
             ],
             [
              0.8888888888888888,
              "#fdca26"
             ],
             [
              1,
              "#f0f921"
             ]
            ],
            "type": "surface"
           }
          ],
          "table": [
           {
            "cells": {
             "fill": {
              "color": "#EBF0F8"
             },
             "line": {
              "color": "white"
             }
            },
            "header": {
             "fill": {
              "color": "#C8D4E3"
             },
             "line": {
              "color": "white"
             }
            },
            "type": "table"
           }
          ]
         },
         "layout": {
          "annotationdefaults": {
           "arrowcolor": "#2a3f5f",
           "arrowhead": 0,
           "arrowwidth": 1
          },
          "coloraxis": {
           "colorbar": {
            "outlinewidth": 0,
            "ticks": ""
           }
          },
          "colorscale": {
           "diverging": [
            [
             0,
             "#8e0152"
            ],
            [
             0.1,
             "#c51b7d"
            ],
            [
             0.2,
             "#de77ae"
            ],
            [
             0.3,
             "#f1b6da"
            ],
            [
             0.4,
             "#fde0ef"
            ],
            [
             0.5,
             "#f7f7f7"
            ],
            [
             0.6,
             "#e6f5d0"
            ],
            [
             0.7,
             "#b8e186"
            ],
            [
             0.8,
             "#7fbc41"
            ],
            [
             0.9,
             "#4d9221"
            ],
            [
             1,
             "#276419"
            ]
           ],
           "sequential": [
            [
             0,
             "#0d0887"
            ],
            [
             0.1111111111111111,
             "#46039f"
            ],
            [
             0.2222222222222222,
             "#7201a8"
            ],
            [
             0.3333333333333333,
             "#9c179e"
            ],
            [
             0.4444444444444444,
             "#bd3786"
            ],
            [
             0.5555555555555556,
             "#d8576b"
            ],
            [
             0.6666666666666666,
             "#ed7953"
            ],
            [
             0.7777777777777778,
             "#fb9f3a"
            ],
            [
             0.8888888888888888,
             "#fdca26"
            ],
            [
             1,
             "#f0f921"
            ]
           ],
           "sequentialminus": [
            [
             0,
             "#0d0887"
            ],
            [
             0.1111111111111111,
             "#46039f"
            ],
            [
             0.2222222222222222,
             "#7201a8"
            ],
            [
             0.3333333333333333,
             "#9c179e"
            ],
            [
             0.4444444444444444,
             "#bd3786"
            ],
            [
             0.5555555555555556,
             "#d8576b"
            ],
            [
             0.6666666666666666,
             "#ed7953"
            ],
            [
             0.7777777777777778,
             "#fb9f3a"
            ],
            [
             0.8888888888888888,
             "#fdca26"
            ],
            [
             1,
             "#f0f921"
            ]
           ]
          },
          "colorway": [
           "#636efa",
           "#EF553B",
           "#00cc96",
           "#ab63fa",
           "#FFA15A",
           "#19d3f3",
           "#FF6692",
           "#B6E880",
           "#FF97FF",
           "#FECB52"
          ],
          "font": {
           "color": "#2a3f5f"
          },
          "geo": {
           "bgcolor": "white",
           "lakecolor": "white",
           "landcolor": "#E5ECF6",
           "showlakes": true,
           "showland": true,
           "subunitcolor": "white"
          },
          "hoverlabel": {
           "align": "left"
          },
          "hovermode": "closest",
          "mapbox": {
           "style": "light"
          },
          "paper_bgcolor": "white",
          "plot_bgcolor": "#E5ECF6",
          "polar": {
           "angularaxis": {
            "gridcolor": "white",
            "linecolor": "white",
            "ticks": ""
           },
           "bgcolor": "#E5ECF6",
           "radialaxis": {
            "gridcolor": "white",
            "linecolor": "white",
            "ticks": ""
           }
          },
          "scene": {
           "xaxis": {
            "backgroundcolor": "#E5ECF6",
            "gridcolor": "white",
            "gridwidth": 2,
            "linecolor": "white",
            "showbackground": true,
            "ticks": "",
            "zerolinecolor": "white"
           },
           "yaxis": {
            "backgroundcolor": "#E5ECF6",
            "gridcolor": "white",
            "gridwidth": 2,
            "linecolor": "white",
            "showbackground": true,
            "ticks": "",
            "zerolinecolor": "white"
           },
           "zaxis": {
            "backgroundcolor": "#E5ECF6",
            "gridcolor": "white",
            "gridwidth": 2,
            "linecolor": "white",
            "showbackground": true,
            "ticks": "",
            "zerolinecolor": "white"
           }
          },
          "shapedefaults": {
           "line": {
            "color": "#2a3f5f"
           }
          },
          "ternary": {
           "aaxis": {
            "gridcolor": "white",
            "linecolor": "white",
            "ticks": ""
           },
           "baxis": {
            "gridcolor": "white",
            "linecolor": "white",
            "ticks": ""
           },
           "bgcolor": "#E5ECF6",
           "caxis": {
            "gridcolor": "white",
            "linecolor": "white",
            "ticks": ""
           }
          },
          "title": {
           "x": 0.05
          },
          "xaxis": {
           "automargin": true,
           "gridcolor": "white",
           "linecolor": "white",
           "ticks": "",
           "title": {
            "standoff": 15
           },
           "zerolinecolor": "white",
           "zerolinewidth": 2
          },
          "yaxis": {
           "automargin": true,
           "gridcolor": "white",
           "linecolor": "white",
           "ticks": "",
           "title": {
            "standoff": 15
           },
           "zerolinecolor": "white",
           "zerolinewidth": 2
          }
         }
        },
        "xaxis": {
         "anchor": "y",
         "domain": [
          0,
          1
         ],
         "title": {
          "text": "소   계"
         }
        },
        "yaxis": {
         "anchor": "x",
         "domain": [
          0,
          1
         ],
         "title": {
          "text": "count"
         }
        }
       }
      },
      "text/html": [
       "<div>\n",
       "        \n",
       "        \n",
       "            <div id=\"02dc2ef3-c5c4-4d61-9cca-dc5641ea4a9a\" class=\"plotly-graph-div\" style=\"height:525px; width:100%;\"></div>\n",
       "            <script type=\"text/javascript\">\n",
       "                require([\"plotly\"], function(Plotly) {\n",
       "                    window.PLOTLYENV=window.PLOTLYENV || {};\n",
       "                    \n",
       "                if (document.getElementById(\"02dc2ef3-c5c4-4d61-9cca-dc5641ea4a9a\")) {\n",
       "                    Plotly.newPlot(\n",
       "                        '02dc2ef3-c5c4-4d61-9cca-dc5641ea4a9a',\n",
       "                        [{\"alignmentgroup\": \"True\", \"bingroup\": \"x\", \"hoverlabel\": {\"namelength\": 0}, \"hovertemplate\": \"\\uc18c   \\uacc4=%{x}<br>count=%{y}\", \"legendgroup\": \"\", \"marker\": {\"color\": \"#636efa\"}, \"name\": \"\", \"offsetgroup\": \"\", \"orientation\": \"v\", \"showlegend\": false, \"type\": \"histogram\", \"x\": [415.34, 273.2, 212.88, 44.98, 336.65, 14.3, 89.27, 105.86, 276.26, 117.78, 50.6, 278.9, 12.1, 332.48, 31.08, 126.91, 302.03, 234.4, 56.95, 370.76, 151.07, 222.63, 128.02, 17.88, 20.25, 15.26, 69.98, 13.44, 36.55, 61.36, 40.3, 25.45, 24.49, 53.97, 42.5, 13.28, 94.0, 38.14, 30.0, 17.42, 48.8, null], \"xaxis\": \"x\", \"yaxis\": \"y\"}],\n",
       "                        {\"barmode\": \"relative\", \"legend\": {\"tracegroupgap\": 0}, \"margin\": {\"t\": 60}, \"template\": {\"data\": {\"bar\": [{\"error_x\": {\"color\": \"#2a3f5f\"}, \"error_y\": {\"color\": \"#2a3f5f\"}, \"marker\": {\"line\": {\"color\": \"#E5ECF6\", \"width\": 0.5}}, \"type\": \"bar\"}], \"barpolar\": [{\"marker\": {\"line\": {\"color\": \"#E5ECF6\", \"width\": 0.5}}, \"type\": \"barpolar\"}], \"carpet\": [{\"aaxis\": {\"endlinecolor\": \"#2a3f5f\", \"gridcolor\": \"white\", \"linecolor\": \"white\", \"minorgridcolor\": \"white\", \"startlinecolor\": \"#2a3f5f\"}, \"baxis\": {\"endlinecolor\": \"#2a3f5f\", \"gridcolor\": \"white\", \"linecolor\": \"white\", \"minorgridcolor\": \"white\", \"startlinecolor\": \"#2a3f5f\"}, \"type\": \"carpet\"}], \"choropleth\": [{\"colorbar\": {\"outlinewidth\": 0, \"ticks\": \"\"}, \"type\": \"choropleth\"}], \"contour\": [{\"colorbar\": {\"outlinewidth\": 0, \"ticks\": \"\"}, \"colorscale\": [[0.0, \"#0d0887\"], [0.1111111111111111, \"#46039f\"], [0.2222222222222222, \"#7201a8\"], [0.3333333333333333, \"#9c179e\"], [0.4444444444444444, \"#bd3786\"], [0.5555555555555556, \"#d8576b\"], [0.6666666666666666, \"#ed7953\"], [0.7777777777777778, \"#fb9f3a\"], [0.8888888888888888, \"#fdca26\"], [1.0, \"#f0f921\"]], \"type\": \"contour\"}], \"contourcarpet\": [{\"colorbar\": {\"outlinewidth\": 0, \"ticks\": \"\"}, \"type\": \"contourcarpet\"}], \"heatmap\": [{\"colorbar\": {\"outlinewidth\": 0, \"ticks\": \"\"}, \"colorscale\": [[0.0, \"#0d0887\"], [0.1111111111111111, \"#46039f\"], [0.2222222222222222, \"#7201a8\"], [0.3333333333333333, \"#9c179e\"], [0.4444444444444444, \"#bd3786\"], [0.5555555555555556, \"#d8576b\"], [0.6666666666666666, \"#ed7953\"], [0.7777777777777778, \"#fb9f3a\"], [0.8888888888888888, \"#fdca26\"], [1.0, \"#f0f921\"]], \"type\": \"heatmap\"}], \"heatmapgl\": [{\"colorbar\": {\"outlinewidth\": 0, \"ticks\": \"\"}, \"colorscale\": [[0.0, \"#0d0887\"], [0.1111111111111111, \"#46039f\"], [0.2222222222222222, \"#7201a8\"], [0.3333333333333333, \"#9c179e\"], [0.4444444444444444, \"#bd3786\"], [0.5555555555555556, \"#d8576b\"], [0.6666666666666666, \"#ed7953\"], [0.7777777777777778, \"#fb9f3a\"], [0.8888888888888888, \"#fdca26\"], [1.0, \"#f0f921\"]], \"type\": \"heatmapgl\"}], \"histogram\": [{\"marker\": {\"colorbar\": {\"outlinewidth\": 0, \"ticks\": \"\"}}, \"type\": \"histogram\"}], \"histogram2d\": [{\"colorbar\": {\"outlinewidth\": 0, \"ticks\": \"\"}, \"colorscale\": [[0.0, \"#0d0887\"], [0.1111111111111111, \"#46039f\"], [0.2222222222222222, \"#7201a8\"], [0.3333333333333333, \"#9c179e\"], [0.4444444444444444, \"#bd3786\"], [0.5555555555555556, \"#d8576b\"], [0.6666666666666666, \"#ed7953\"], [0.7777777777777778, \"#fb9f3a\"], [0.8888888888888888, \"#fdca26\"], [1.0, \"#f0f921\"]], \"type\": \"histogram2d\"}], \"histogram2dcontour\": [{\"colorbar\": {\"outlinewidth\": 0, \"ticks\": \"\"}, \"colorscale\": [[0.0, \"#0d0887\"], [0.1111111111111111, \"#46039f\"], [0.2222222222222222, \"#7201a8\"], [0.3333333333333333, \"#9c179e\"], [0.4444444444444444, \"#bd3786\"], [0.5555555555555556, \"#d8576b\"], [0.6666666666666666, \"#ed7953\"], [0.7777777777777778, \"#fb9f3a\"], [0.8888888888888888, \"#fdca26\"], [1.0, \"#f0f921\"]], \"type\": \"histogram2dcontour\"}], \"mesh3d\": [{\"colorbar\": {\"outlinewidth\": 0, \"ticks\": \"\"}, \"type\": \"mesh3d\"}], \"parcoords\": [{\"line\": {\"colorbar\": {\"outlinewidth\": 0, \"ticks\": \"\"}}, \"type\": \"parcoords\"}], \"pie\": [{\"automargin\": true, \"type\": \"pie\"}], \"scatter\": [{\"marker\": {\"colorbar\": {\"outlinewidth\": 0, \"ticks\": \"\"}}, \"type\": \"scatter\"}], \"scatter3d\": [{\"line\": {\"colorbar\": {\"outlinewidth\": 0, \"ticks\": \"\"}}, \"marker\": {\"colorbar\": {\"outlinewidth\": 0, \"ticks\": \"\"}}, \"type\": \"scatter3d\"}], \"scattercarpet\": [{\"marker\": {\"colorbar\": {\"outlinewidth\": 0, \"ticks\": \"\"}}, \"type\": \"scattercarpet\"}], \"scattergeo\": [{\"marker\": {\"colorbar\": {\"outlinewidth\": 0, \"ticks\": \"\"}}, \"type\": \"scattergeo\"}], \"scattergl\": [{\"marker\": {\"colorbar\": {\"outlinewidth\": 0, \"ticks\": \"\"}}, \"type\": \"scattergl\"}], \"scattermapbox\": [{\"marker\": {\"colorbar\": {\"outlinewidth\": 0, \"ticks\": \"\"}}, \"type\": \"scattermapbox\"}], \"scatterpolar\": [{\"marker\": {\"colorbar\": {\"outlinewidth\": 0, \"ticks\": \"\"}}, \"type\": \"scatterpolar\"}], \"scatterpolargl\": [{\"marker\": {\"colorbar\": {\"outlinewidth\": 0, \"ticks\": \"\"}}, \"type\": \"scatterpolargl\"}], \"scatterternary\": [{\"marker\": {\"colorbar\": {\"outlinewidth\": 0, \"ticks\": \"\"}}, \"type\": \"scatterternary\"}], \"surface\": [{\"colorbar\": {\"outlinewidth\": 0, \"ticks\": \"\"}, \"colorscale\": [[0.0, \"#0d0887\"], [0.1111111111111111, \"#46039f\"], [0.2222222222222222, \"#7201a8\"], [0.3333333333333333, \"#9c179e\"], [0.4444444444444444, \"#bd3786\"], [0.5555555555555556, \"#d8576b\"], [0.6666666666666666, \"#ed7953\"], [0.7777777777777778, \"#fb9f3a\"], [0.8888888888888888, \"#fdca26\"], [1.0, \"#f0f921\"]], \"type\": \"surface\"}], \"table\": [{\"cells\": {\"fill\": {\"color\": \"#EBF0F8\"}, \"line\": {\"color\": \"white\"}}, \"header\": {\"fill\": {\"color\": \"#C8D4E3\"}, \"line\": {\"color\": \"white\"}}, \"type\": \"table\"}]}, \"layout\": {\"annotationdefaults\": {\"arrowcolor\": \"#2a3f5f\", \"arrowhead\": 0, \"arrowwidth\": 1}, \"coloraxis\": {\"colorbar\": {\"outlinewidth\": 0, \"ticks\": \"\"}}, \"colorscale\": {\"diverging\": [[0, \"#8e0152\"], [0.1, \"#c51b7d\"], [0.2, \"#de77ae\"], [0.3, \"#f1b6da\"], [0.4, \"#fde0ef\"], [0.5, \"#f7f7f7\"], [0.6, \"#e6f5d0\"], [0.7, \"#b8e186\"], [0.8, \"#7fbc41\"], [0.9, \"#4d9221\"], [1, \"#276419\"]], \"sequential\": [[0.0, \"#0d0887\"], [0.1111111111111111, \"#46039f\"], [0.2222222222222222, \"#7201a8\"], [0.3333333333333333, \"#9c179e\"], [0.4444444444444444, \"#bd3786\"], [0.5555555555555556, \"#d8576b\"], [0.6666666666666666, \"#ed7953\"], [0.7777777777777778, \"#fb9f3a\"], [0.8888888888888888, \"#fdca26\"], [1.0, \"#f0f921\"]], \"sequentialminus\": [[0.0, \"#0d0887\"], [0.1111111111111111, \"#46039f\"], [0.2222222222222222, \"#7201a8\"], [0.3333333333333333, \"#9c179e\"], [0.4444444444444444, \"#bd3786\"], [0.5555555555555556, \"#d8576b\"], [0.6666666666666666, \"#ed7953\"], [0.7777777777777778, \"#fb9f3a\"], [0.8888888888888888, \"#fdca26\"], [1.0, \"#f0f921\"]]}, \"colorway\": [\"#636efa\", \"#EF553B\", \"#00cc96\", \"#ab63fa\", \"#FFA15A\", \"#19d3f3\", \"#FF6692\", \"#B6E880\", \"#FF97FF\", \"#FECB52\"], \"font\": {\"color\": \"#2a3f5f\"}, \"geo\": {\"bgcolor\": \"white\", \"lakecolor\": \"white\", \"landcolor\": \"#E5ECF6\", \"showlakes\": true, \"showland\": true, \"subunitcolor\": \"white\"}, \"hoverlabel\": {\"align\": \"left\"}, \"hovermode\": \"closest\", \"mapbox\": {\"style\": \"light\"}, \"paper_bgcolor\": \"white\", \"plot_bgcolor\": \"#E5ECF6\", \"polar\": {\"angularaxis\": {\"gridcolor\": \"white\", \"linecolor\": \"white\", \"ticks\": \"\"}, \"bgcolor\": \"#E5ECF6\", \"radialaxis\": {\"gridcolor\": \"white\", \"linecolor\": \"white\", \"ticks\": \"\"}}, \"scene\": {\"xaxis\": {\"backgroundcolor\": \"#E5ECF6\", \"gridcolor\": \"white\", \"gridwidth\": 2, \"linecolor\": \"white\", \"showbackground\": true, \"ticks\": \"\", \"zerolinecolor\": \"white\"}, \"yaxis\": {\"backgroundcolor\": \"#E5ECF6\", \"gridcolor\": \"white\", \"gridwidth\": 2, \"linecolor\": \"white\", \"showbackground\": true, \"ticks\": \"\", \"zerolinecolor\": \"white\"}, \"zaxis\": {\"backgroundcolor\": \"#E5ECF6\", \"gridcolor\": \"white\", \"gridwidth\": 2, \"linecolor\": \"white\", \"showbackground\": true, \"ticks\": \"\", \"zerolinecolor\": \"white\"}}, \"shapedefaults\": {\"line\": {\"color\": \"#2a3f5f\"}}, \"ternary\": {\"aaxis\": {\"gridcolor\": \"white\", \"linecolor\": \"white\", \"ticks\": \"\"}, \"baxis\": {\"gridcolor\": \"white\", \"linecolor\": \"white\", \"ticks\": \"\"}, \"bgcolor\": \"#E5ECF6\", \"caxis\": {\"gridcolor\": \"white\", \"linecolor\": \"white\", \"ticks\": \"\"}}, \"title\": {\"x\": 0.05}, \"xaxis\": {\"automargin\": true, \"gridcolor\": \"white\", \"linecolor\": \"white\", \"ticks\": \"\", \"title\": {\"standoff\": 15}, \"zerolinecolor\": \"white\", \"zerolinewidth\": 2}, \"yaxis\": {\"automargin\": true, \"gridcolor\": \"white\", \"linecolor\": \"white\", \"ticks\": \"\", \"title\": {\"standoff\": 15}, \"zerolinecolor\": \"white\", \"zerolinewidth\": 2}}}, \"xaxis\": {\"anchor\": \"y\", \"domain\": [0.0, 1.0], \"title\": {\"text\": \"\\uc18c   \\uacc4\"}}, \"yaxis\": {\"anchor\": \"x\", \"domain\": [0.0, 1.0], \"title\": {\"text\": \"count\"}}},\n",
       "                        {\"responsive\": true}\n",
       "                    ).then(function(){\n",
       "                            \n",
       "var gd = document.getElementById('02dc2ef3-c5c4-4d61-9cca-dc5641ea4a9a');\n",
       "var x = new MutationObserver(function (mutations, observer) {{\n",
       "        var display = window.getComputedStyle(gd).display;\n",
       "        if (!display || display === 'none') {{\n",
       "            console.log([gd, 'removed!']);\n",
       "            Plotly.purge(gd);\n",
       "            observer.disconnect();\n",
       "        }}\n",
       "}});\n",
       "\n",
       "// Listen for the removal of the full notebook cells\n",
       "var notebookContainer = gd.closest('#notebook-container');\n",
       "if (notebookContainer) {{\n",
       "    x.observe(notebookContainer, {childList: true});\n",
       "}}\n",
       "\n",
       "// Listen for the clearing of the current output cell\n",
       "var outputEl = gd.closest('.output');\n",
       "if (outputEl) {{\n",
       "    x.observe(outputEl, {childList: true});\n",
       "}}\n",
       "\n",
       "                        })\n",
       "                };\n",
       "                });\n",
       "            </script>\n",
       "        </div>"
      ]
     },
     "metadata": {},
     "output_type": "display_data"
    }
   ],
   "source": [
    "fig=px.histogram(df, x='소   계') # 키로수 구간별 카운트\n",
    "fig.show()"
   ]
  },
  {
   "cell_type": "code",
   "execution_count": 21,
   "id": "50d1dad5",
   "metadata": {
    "collapsed": true
   },
   "outputs": [
    {
     "data": {
      "application/vnd.plotly.v1+json": {
       "config": {
        "plotlyServerURL": "https://plot.ly"
       },
       "data": [
        {
         "alignmentgroup": "True",
         "bingroup": "x",
         "hoverlabel": {
          "namelength": 0
         },
         "hovertemplate": "기점=%{x}<br>count=%{y}",
         "legendgroup": "",
         "marker": {
          "color": "#636efa"
         },
         "name": "",
         "offsetgroup": "",
         "orientation": "v",
         "showlegend": false,
         "type": "histogram",
         "x": [
          "부산 금정구",
          "전남 영암군",
          "광주 북구",
          "경남 함양군",
          "전남 무안군",
          "울산 울주군",
          "경기 평택시",
          "전북 익산시",
          "전남 순천시",
          "전남 순천시",
          "경기 구리시",
          "충남 당진시",
          "충남 아산시",
          "경남 통영시",
          "경기 이천시",
          "경기 평택시",
          "경남 마산시",
          "인천 남동구",
          "경기 광주시",
          "부산 사상구",
          "서울 강동구",
          "부산 해운대구",
          "경기 안양시",
          "경남 함안군",
          "경남 김해시",
          "경남 창원시",
          "인천 중구",
          "인천 남구",
          "인천 중구",
          "충남 서천군",
          "경기 평택시",
          "경기 용인시",
          "전북 익산시",
          "충남 논산시",
          "전북 고창군",
          "대전 유성구",
          "경북 상주시",
          "경기 화성시",
          "대구 달성군",
          "경남 김해시",
          "경남 김해시",
          null
         ],
         "xaxis": "x",
         "yaxis": "y"
        }
       ],
       "layout": {
        "barmode": "relative",
        "legend": {
         "tracegroupgap": 0
        },
        "margin": {
         "t": 60
        },
        "template": {
         "data": {
          "bar": [
           {
            "error_x": {
             "color": "#2a3f5f"
            },
            "error_y": {
             "color": "#2a3f5f"
            },
            "marker": {
             "line": {
              "color": "#E5ECF6",
              "width": 0.5
             }
            },
            "type": "bar"
           }
          ],
          "barpolar": [
           {
            "marker": {
             "line": {
              "color": "#E5ECF6",
              "width": 0.5
             }
            },
            "type": "barpolar"
           }
          ],
          "carpet": [
           {
            "aaxis": {
             "endlinecolor": "#2a3f5f",
             "gridcolor": "white",
             "linecolor": "white",
             "minorgridcolor": "white",
             "startlinecolor": "#2a3f5f"
            },
            "baxis": {
             "endlinecolor": "#2a3f5f",
             "gridcolor": "white",
             "linecolor": "white",
             "minorgridcolor": "white",
             "startlinecolor": "#2a3f5f"
            },
            "type": "carpet"
           }
          ],
          "choropleth": [
           {
            "colorbar": {
             "outlinewidth": 0,
             "ticks": ""
            },
            "type": "choropleth"
           }
          ],
          "contour": [
           {
            "colorbar": {
             "outlinewidth": 0,
             "ticks": ""
            },
            "colorscale": [
             [
              0,
              "#0d0887"
             ],
             [
              0.1111111111111111,
              "#46039f"
             ],
             [
              0.2222222222222222,
              "#7201a8"
             ],
             [
              0.3333333333333333,
              "#9c179e"
             ],
             [
              0.4444444444444444,
              "#bd3786"
             ],
             [
              0.5555555555555556,
              "#d8576b"
             ],
             [
              0.6666666666666666,
              "#ed7953"
             ],
             [
              0.7777777777777778,
              "#fb9f3a"
             ],
             [
              0.8888888888888888,
              "#fdca26"
             ],
             [
              1,
              "#f0f921"
             ]
            ],
            "type": "contour"
           }
          ],
          "contourcarpet": [
           {
            "colorbar": {
             "outlinewidth": 0,
             "ticks": ""
            },
            "type": "contourcarpet"
           }
          ],
          "heatmap": [
           {
            "colorbar": {
             "outlinewidth": 0,
             "ticks": ""
            },
            "colorscale": [
             [
              0,
              "#0d0887"
             ],
             [
              0.1111111111111111,
              "#46039f"
             ],
             [
              0.2222222222222222,
              "#7201a8"
             ],
             [
              0.3333333333333333,
              "#9c179e"
             ],
             [
              0.4444444444444444,
              "#bd3786"
             ],
             [
              0.5555555555555556,
              "#d8576b"
             ],
             [
              0.6666666666666666,
              "#ed7953"
             ],
             [
              0.7777777777777778,
              "#fb9f3a"
             ],
             [
              0.8888888888888888,
              "#fdca26"
             ],
             [
              1,
              "#f0f921"
             ]
            ],
            "type": "heatmap"
           }
          ],
          "heatmapgl": [
           {
            "colorbar": {
             "outlinewidth": 0,
             "ticks": ""
            },
            "colorscale": [
             [
              0,
              "#0d0887"
             ],
             [
              0.1111111111111111,
              "#46039f"
             ],
             [
              0.2222222222222222,
              "#7201a8"
             ],
             [
              0.3333333333333333,
              "#9c179e"
             ],
             [
              0.4444444444444444,
              "#bd3786"
             ],
             [
              0.5555555555555556,
              "#d8576b"
             ],
             [
              0.6666666666666666,
              "#ed7953"
             ],
             [
              0.7777777777777778,
              "#fb9f3a"
             ],
             [
              0.8888888888888888,
              "#fdca26"
             ],
             [
              1,
              "#f0f921"
             ]
            ],
            "type": "heatmapgl"
           }
          ],
          "histogram": [
           {
            "marker": {
             "colorbar": {
              "outlinewidth": 0,
              "ticks": ""
             }
            },
            "type": "histogram"
           }
          ],
          "histogram2d": [
           {
            "colorbar": {
             "outlinewidth": 0,
             "ticks": ""
            },
            "colorscale": [
             [
              0,
              "#0d0887"
             ],
             [
              0.1111111111111111,
              "#46039f"
             ],
             [
              0.2222222222222222,
              "#7201a8"
             ],
             [
              0.3333333333333333,
              "#9c179e"
             ],
             [
              0.4444444444444444,
              "#bd3786"
             ],
             [
              0.5555555555555556,
              "#d8576b"
             ],
             [
              0.6666666666666666,
              "#ed7953"
             ],
             [
              0.7777777777777778,
              "#fb9f3a"
             ],
             [
              0.8888888888888888,
              "#fdca26"
             ],
             [
              1,
              "#f0f921"
             ]
            ],
            "type": "histogram2d"
           }
          ],
          "histogram2dcontour": [
           {
            "colorbar": {
             "outlinewidth": 0,
             "ticks": ""
            },
            "colorscale": [
             [
              0,
              "#0d0887"
             ],
             [
              0.1111111111111111,
              "#46039f"
             ],
             [
              0.2222222222222222,
              "#7201a8"
             ],
             [
              0.3333333333333333,
              "#9c179e"
             ],
             [
              0.4444444444444444,
              "#bd3786"
             ],
             [
              0.5555555555555556,
              "#d8576b"
             ],
             [
              0.6666666666666666,
              "#ed7953"
             ],
             [
              0.7777777777777778,
              "#fb9f3a"
             ],
             [
              0.8888888888888888,
              "#fdca26"
             ],
             [
              1,
              "#f0f921"
             ]
            ],
            "type": "histogram2dcontour"
           }
          ],
          "mesh3d": [
           {
            "colorbar": {
             "outlinewidth": 0,
             "ticks": ""
            },
            "type": "mesh3d"
           }
          ],
          "parcoords": [
           {
            "line": {
             "colorbar": {
              "outlinewidth": 0,
              "ticks": ""
             }
            },
            "type": "parcoords"
           }
          ],
          "pie": [
           {
            "automargin": true,
            "type": "pie"
           }
          ],
          "scatter": [
           {
            "marker": {
             "colorbar": {
              "outlinewidth": 0,
              "ticks": ""
             }
            },
            "type": "scatter"
           }
          ],
          "scatter3d": [
           {
            "line": {
             "colorbar": {
              "outlinewidth": 0,
              "ticks": ""
             }
            },
            "marker": {
             "colorbar": {
              "outlinewidth": 0,
              "ticks": ""
             }
            },
            "type": "scatter3d"
           }
          ],
          "scattercarpet": [
           {
            "marker": {
             "colorbar": {
              "outlinewidth": 0,
              "ticks": ""
             }
            },
            "type": "scattercarpet"
           }
          ],
          "scattergeo": [
           {
            "marker": {
             "colorbar": {
              "outlinewidth": 0,
              "ticks": ""
             }
            },
            "type": "scattergeo"
           }
          ],
          "scattergl": [
           {
            "marker": {
             "colorbar": {
              "outlinewidth": 0,
              "ticks": ""
             }
            },
            "type": "scattergl"
           }
          ],
          "scattermapbox": [
           {
            "marker": {
             "colorbar": {
              "outlinewidth": 0,
              "ticks": ""
             }
            },
            "type": "scattermapbox"
           }
          ],
          "scatterpolar": [
           {
            "marker": {
             "colorbar": {
              "outlinewidth": 0,
              "ticks": ""
             }
            },
            "type": "scatterpolar"
           }
          ],
          "scatterpolargl": [
           {
            "marker": {
             "colorbar": {
              "outlinewidth": 0,
              "ticks": ""
             }
            },
            "type": "scatterpolargl"
           }
          ],
          "scatterternary": [
           {
            "marker": {
             "colorbar": {
              "outlinewidth": 0,
              "ticks": ""
             }
            },
            "type": "scatterternary"
           }
          ],
          "surface": [
           {
            "colorbar": {
             "outlinewidth": 0,
             "ticks": ""
            },
            "colorscale": [
             [
              0,
              "#0d0887"
             ],
             [
              0.1111111111111111,
              "#46039f"
             ],
             [
              0.2222222222222222,
              "#7201a8"
             ],
             [
              0.3333333333333333,
              "#9c179e"
             ],
             [
              0.4444444444444444,
              "#bd3786"
             ],
             [
              0.5555555555555556,
              "#d8576b"
             ],
             [
              0.6666666666666666,
              "#ed7953"
             ],
             [
              0.7777777777777778,
              "#fb9f3a"
             ],
             [
              0.8888888888888888,
              "#fdca26"
             ],
             [
              1,
              "#f0f921"
             ]
            ],
            "type": "surface"
           }
          ],
          "table": [
           {
            "cells": {
             "fill": {
              "color": "#EBF0F8"
             },
             "line": {
              "color": "white"
             }
            },
            "header": {
             "fill": {
              "color": "#C8D4E3"
             },
             "line": {
              "color": "white"
             }
            },
            "type": "table"
           }
          ]
         },
         "layout": {
          "annotationdefaults": {
           "arrowcolor": "#2a3f5f",
           "arrowhead": 0,
           "arrowwidth": 1
          },
          "coloraxis": {
           "colorbar": {
            "outlinewidth": 0,
            "ticks": ""
           }
          },
          "colorscale": {
           "diverging": [
            [
             0,
             "#8e0152"
            ],
            [
             0.1,
             "#c51b7d"
            ],
            [
             0.2,
             "#de77ae"
            ],
            [
             0.3,
             "#f1b6da"
            ],
            [
             0.4,
             "#fde0ef"
            ],
            [
             0.5,
             "#f7f7f7"
            ],
            [
             0.6,
             "#e6f5d0"
            ],
            [
             0.7,
             "#b8e186"
            ],
            [
             0.8,
             "#7fbc41"
            ],
            [
             0.9,
             "#4d9221"
            ],
            [
             1,
             "#276419"
            ]
           ],
           "sequential": [
            [
             0,
             "#0d0887"
            ],
            [
             0.1111111111111111,
             "#46039f"
            ],
            [
             0.2222222222222222,
             "#7201a8"
            ],
            [
             0.3333333333333333,
             "#9c179e"
            ],
            [
             0.4444444444444444,
             "#bd3786"
            ],
            [
             0.5555555555555556,
             "#d8576b"
            ],
            [
             0.6666666666666666,
             "#ed7953"
            ],
            [
             0.7777777777777778,
             "#fb9f3a"
            ],
            [
             0.8888888888888888,
             "#fdca26"
            ],
            [
             1,
             "#f0f921"
            ]
           ],
           "sequentialminus": [
            [
             0,
             "#0d0887"
            ],
            [
             0.1111111111111111,
             "#46039f"
            ],
            [
             0.2222222222222222,
             "#7201a8"
            ],
            [
             0.3333333333333333,
             "#9c179e"
            ],
            [
             0.4444444444444444,
             "#bd3786"
            ],
            [
             0.5555555555555556,
             "#d8576b"
            ],
            [
             0.6666666666666666,
             "#ed7953"
            ],
            [
             0.7777777777777778,
             "#fb9f3a"
            ],
            [
             0.8888888888888888,
             "#fdca26"
            ],
            [
             1,
             "#f0f921"
            ]
           ]
          },
          "colorway": [
           "#636efa",
           "#EF553B",
           "#00cc96",
           "#ab63fa",
           "#FFA15A",
           "#19d3f3",
           "#FF6692",
           "#B6E880",
           "#FF97FF",
           "#FECB52"
          ],
          "font": {
           "color": "#2a3f5f"
          },
          "geo": {
           "bgcolor": "white",
           "lakecolor": "white",
           "landcolor": "#E5ECF6",
           "showlakes": true,
           "showland": true,
           "subunitcolor": "white"
          },
          "hoverlabel": {
           "align": "left"
          },
          "hovermode": "closest",
          "mapbox": {
           "style": "light"
          },
          "paper_bgcolor": "white",
          "plot_bgcolor": "#E5ECF6",
          "polar": {
           "angularaxis": {
            "gridcolor": "white",
            "linecolor": "white",
            "ticks": ""
           },
           "bgcolor": "#E5ECF6",
           "radialaxis": {
            "gridcolor": "white",
            "linecolor": "white",
            "ticks": ""
           }
          },
          "scene": {
           "xaxis": {
            "backgroundcolor": "#E5ECF6",
            "gridcolor": "white",
            "gridwidth": 2,
            "linecolor": "white",
            "showbackground": true,
            "ticks": "",
            "zerolinecolor": "white"
           },
           "yaxis": {
            "backgroundcolor": "#E5ECF6",
            "gridcolor": "white",
            "gridwidth": 2,
            "linecolor": "white",
            "showbackground": true,
            "ticks": "",
            "zerolinecolor": "white"
           },
           "zaxis": {
            "backgroundcolor": "#E5ECF6",
            "gridcolor": "white",
            "gridwidth": 2,
            "linecolor": "white",
            "showbackground": true,
            "ticks": "",
            "zerolinecolor": "white"
           }
          },
          "shapedefaults": {
           "line": {
            "color": "#2a3f5f"
           }
          },
          "ternary": {
           "aaxis": {
            "gridcolor": "white",
            "linecolor": "white",
            "ticks": ""
           },
           "baxis": {
            "gridcolor": "white",
            "linecolor": "white",
            "ticks": ""
           },
           "bgcolor": "#E5ECF6",
           "caxis": {
            "gridcolor": "white",
            "linecolor": "white",
            "ticks": ""
           }
          },
          "title": {
           "x": 0.05
          },
          "xaxis": {
           "automargin": true,
           "gridcolor": "white",
           "linecolor": "white",
           "ticks": "",
           "title": {
            "standoff": 15
           },
           "zerolinecolor": "white",
           "zerolinewidth": 2
          },
          "yaxis": {
           "automargin": true,
           "gridcolor": "white",
           "linecolor": "white",
           "ticks": "",
           "title": {
            "standoff": 15
           },
           "zerolinecolor": "white",
           "zerolinewidth": 2
          }
         }
        },
        "xaxis": {
         "anchor": "y",
         "domain": [
          0,
          1
         ],
         "title": {
          "text": "기점"
         }
        },
        "yaxis": {
         "anchor": "x",
         "domain": [
          0,
          1
         ],
         "title": {
          "text": "count"
         }
        }
       }
      },
      "text/html": [
       "<div>\n",
       "        \n",
       "        \n",
       "            <div id=\"8f6cea92-427a-426e-81df-e01ae6ef8013\" class=\"plotly-graph-div\" style=\"height:525px; width:100%;\"></div>\n",
       "            <script type=\"text/javascript\">\n",
       "                require([\"plotly\"], function(Plotly) {\n",
       "                    window.PLOTLYENV=window.PLOTLYENV || {};\n",
       "                    \n",
       "                if (document.getElementById(\"8f6cea92-427a-426e-81df-e01ae6ef8013\")) {\n",
       "                    Plotly.newPlot(\n",
       "                        '8f6cea92-427a-426e-81df-e01ae6ef8013',\n",
       "                        [{\"alignmentgroup\": \"True\", \"bingroup\": \"x\", \"hoverlabel\": {\"namelength\": 0}, \"hovertemplate\": \"\\uae30\\uc810=%{x}<br>count=%{y}\", \"legendgroup\": \"\", \"marker\": {\"color\": \"#636efa\"}, \"name\": \"\", \"offsetgroup\": \"\", \"orientation\": \"v\", \"showlegend\": false, \"type\": \"histogram\", \"x\": [\"\\ubd80\\uc0b0 \\uae08\\uc815\\uad6c\", \"\\uc804\\ub0a8 \\uc601\\uc554\\uad70\", \"\\uad11\\uc8fc \\ubd81\\uad6c\", \"\\uacbd\\ub0a8 \\ud568\\uc591\\uad70\", \"\\uc804\\ub0a8 \\ubb34\\uc548\\uad70\", \"\\uc6b8\\uc0b0 \\uc6b8\\uc8fc\\uad70\", \"\\uacbd\\uae30 \\ud3c9\\ud0dd\\uc2dc\", \"\\uc804\\ubd81 \\uc775\\uc0b0\\uc2dc\", \"\\uc804\\ub0a8 \\uc21c\\ucc9c\\uc2dc\", \"\\uc804\\ub0a8 \\uc21c\\ucc9c\\uc2dc\", \"\\uacbd\\uae30 \\uad6c\\ub9ac\\uc2dc\", \"\\ucda9\\ub0a8 \\ub2f9\\uc9c4\\uc2dc\", \"\\ucda9\\ub0a8 \\uc544\\uc0b0\\uc2dc\", \"\\uacbd\\ub0a8 \\ud1b5\\uc601\\uc2dc\", \"\\uacbd\\uae30 \\uc774\\ucc9c\\uc2dc\", \"\\uacbd\\uae30 \\ud3c9\\ud0dd\\uc2dc\", \"\\uacbd\\ub0a8 \\ub9c8\\uc0b0\\uc2dc\", \"\\uc778\\ucc9c \\ub0a8\\ub3d9\\uad6c\", \"\\uacbd\\uae30 \\uad11\\uc8fc\\uc2dc\", \"\\ubd80\\uc0b0 \\uc0ac\\uc0c1\\uad6c\", \"\\uc11c\\uc6b8 \\uac15\\ub3d9\\uad6c\", \"\\ubd80\\uc0b0 \\ud574\\uc6b4\\ub300\\uad6c\", \"\\uacbd\\uae30 \\uc548\\uc591\\uc2dc\", \"\\uacbd\\ub0a8 \\ud568\\uc548\\uad70\", \"\\uacbd\\ub0a8 \\uae40\\ud574\\uc2dc\", \"\\uacbd\\ub0a8 \\ucc3d\\uc6d0\\uc2dc\", \"\\uc778\\ucc9c \\uc911\\uad6c\", \"\\uc778\\ucc9c \\ub0a8\\uad6c\", \"\\uc778\\ucc9c \\uc911\\uad6c\", \"\\ucda9\\ub0a8 \\uc11c\\ucc9c\\uad70\", \"\\uacbd\\uae30 \\ud3c9\\ud0dd\\uc2dc\", \"\\uacbd\\uae30 \\uc6a9\\uc778\\uc2dc\", \"\\uc804\\ubd81 \\uc775\\uc0b0\\uc2dc\", \"\\ucda9\\ub0a8 \\ub17c\\uc0b0\\uc2dc\", \"\\uc804\\ubd81 \\uace0\\ucc3d\\uad70\", \"\\ub300\\uc804 \\uc720\\uc131\\uad6c\", \"\\uacbd\\ubd81 \\uc0c1\\uc8fc\\uc2dc\", \"\\uacbd\\uae30 \\ud654\\uc131\\uc2dc\", \"\\ub300\\uad6c \\ub2ec\\uc131\\uad70\", \"\\uacbd\\ub0a8 \\uae40\\ud574\\uc2dc\", \"\\uacbd\\ub0a8 \\uae40\\ud574\\uc2dc\", null], \"xaxis\": \"x\", \"yaxis\": \"y\"}],\n",
       "                        {\"barmode\": \"relative\", \"legend\": {\"tracegroupgap\": 0}, \"margin\": {\"t\": 60}, \"template\": {\"data\": {\"bar\": [{\"error_x\": {\"color\": \"#2a3f5f\"}, \"error_y\": {\"color\": \"#2a3f5f\"}, \"marker\": {\"line\": {\"color\": \"#E5ECF6\", \"width\": 0.5}}, \"type\": \"bar\"}], \"barpolar\": [{\"marker\": {\"line\": {\"color\": \"#E5ECF6\", \"width\": 0.5}}, \"type\": \"barpolar\"}], \"carpet\": [{\"aaxis\": {\"endlinecolor\": \"#2a3f5f\", \"gridcolor\": \"white\", \"linecolor\": \"white\", \"minorgridcolor\": \"white\", \"startlinecolor\": \"#2a3f5f\"}, \"baxis\": {\"endlinecolor\": \"#2a3f5f\", \"gridcolor\": \"white\", \"linecolor\": \"white\", \"minorgridcolor\": \"white\", \"startlinecolor\": \"#2a3f5f\"}, \"type\": \"carpet\"}], \"choropleth\": [{\"colorbar\": {\"outlinewidth\": 0, \"ticks\": \"\"}, \"type\": \"choropleth\"}], \"contour\": [{\"colorbar\": {\"outlinewidth\": 0, \"ticks\": \"\"}, \"colorscale\": [[0.0, \"#0d0887\"], [0.1111111111111111, \"#46039f\"], [0.2222222222222222, \"#7201a8\"], [0.3333333333333333, \"#9c179e\"], [0.4444444444444444, \"#bd3786\"], [0.5555555555555556, \"#d8576b\"], [0.6666666666666666, \"#ed7953\"], [0.7777777777777778, \"#fb9f3a\"], [0.8888888888888888, \"#fdca26\"], [1.0, \"#f0f921\"]], \"type\": \"contour\"}], \"contourcarpet\": [{\"colorbar\": {\"outlinewidth\": 0, \"ticks\": \"\"}, \"type\": \"contourcarpet\"}], \"heatmap\": [{\"colorbar\": {\"outlinewidth\": 0, \"ticks\": \"\"}, \"colorscale\": [[0.0, \"#0d0887\"], [0.1111111111111111, \"#46039f\"], [0.2222222222222222, \"#7201a8\"], [0.3333333333333333, \"#9c179e\"], [0.4444444444444444, \"#bd3786\"], [0.5555555555555556, \"#d8576b\"], [0.6666666666666666, \"#ed7953\"], [0.7777777777777778, \"#fb9f3a\"], [0.8888888888888888, \"#fdca26\"], [1.0, \"#f0f921\"]], \"type\": \"heatmap\"}], \"heatmapgl\": [{\"colorbar\": {\"outlinewidth\": 0, \"ticks\": \"\"}, \"colorscale\": [[0.0, \"#0d0887\"], [0.1111111111111111, \"#46039f\"], [0.2222222222222222, \"#7201a8\"], [0.3333333333333333, \"#9c179e\"], [0.4444444444444444, \"#bd3786\"], [0.5555555555555556, \"#d8576b\"], [0.6666666666666666, \"#ed7953\"], [0.7777777777777778, \"#fb9f3a\"], [0.8888888888888888, \"#fdca26\"], [1.0, \"#f0f921\"]], \"type\": \"heatmapgl\"}], \"histogram\": [{\"marker\": {\"colorbar\": {\"outlinewidth\": 0, \"ticks\": \"\"}}, \"type\": \"histogram\"}], \"histogram2d\": [{\"colorbar\": {\"outlinewidth\": 0, \"ticks\": \"\"}, \"colorscale\": [[0.0, \"#0d0887\"], [0.1111111111111111, \"#46039f\"], [0.2222222222222222, \"#7201a8\"], [0.3333333333333333, \"#9c179e\"], [0.4444444444444444, \"#bd3786\"], [0.5555555555555556, \"#d8576b\"], [0.6666666666666666, \"#ed7953\"], [0.7777777777777778, \"#fb9f3a\"], [0.8888888888888888, \"#fdca26\"], [1.0, \"#f0f921\"]], \"type\": \"histogram2d\"}], \"histogram2dcontour\": [{\"colorbar\": {\"outlinewidth\": 0, \"ticks\": \"\"}, \"colorscale\": [[0.0, \"#0d0887\"], [0.1111111111111111, \"#46039f\"], [0.2222222222222222, \"#7201a8\"], [0.3333333333333333, \"#9c179e\"], [0.4444444444444444, \"#bd3786\"], [0.5555555555555556, \"#d8576b\"], [0.6666666666666666, \"#ed7953\"], [0.7777777777777778, \"#fb9f3a\"], [0.8888888888888888, \"#fdca26\"], [1.0, \"#f0f921\"]], \"type\": \"histogram2dcontour\"}], \"mesh3d\": [{\"colorbar\": {\"outlinewidth\": 0, \"ticks\": \"\"}, \"type\": \"mesh3d\"}], \"parcoords\": [{\"line\": {\"colorbar\": {\"outlinewidth\": 0, \"ticks\": \"\"}}, \"type\": \"parcoords\"}], \"pie\": [{\"automargin\": true, \"type\": \"pie\"}], \"scatter\": [{\"marker\": {\"colorbar\": {\"outlinewidth\": 0, \"ticks\": \"\"}}, \"type\": \"scatter\"}], \"scatter3d\": [{\"line\": {\"colorbar\": {\"outlinewidth\": 0, \"ticks\": \"\"}}, \"marker\": {\"colorbar\": {\"outlinewidth\": 0, \"ticks\": \"\"}}, \"type\": \"scatter3d\"}], \"scattercarpet\": [{\"marker\": {\"colorbar\": {\"outlinewidth\": 0, \"ticks\": \"\"}}, \"type\": \"scattercarpet\"}], \"scattergeo\": [{\"marker\": {\"colorbar\": {\"outlinewidth\": 0, \"ticks\": \"\"}}, \"type\": \"scattergeo\"}], \"scattergl\": [{\"marker\": {\"colorbar\": {\"outlinewidth\": 0, \"ticks\": \"\"}}, \"type\": \"scattergl\"}], \"scattermapbox\": [{\"marker\": {\"colorbar\": {\"outlinewidth\": 0, \"ticks\": \"\"}}, \"type\": \"scattermapbox\"}], \"scatterpolar\": [{\"marker\": {\"colorbar\": {\"outlinewidth\": 0, \"ticks\": \"\"}}, \"type\": \"scatterpolar\"}], \"scatterpolargl\": [{\"marker\": {\"colorbar\": {\"outlinewidth\": 0, \"ticks\": \"\"}}, \"type\": \"scatterpolargl\"}], \"scatterternary\": [{\"marker\": {\"colorbar\": {\"outlinewidth\": 0, \"ticks\": \"\"}}, \"type\": \"scatterternary\"}], \"surface\": [{\"colorbar\": {\"outlinewidth\": 0, \"ticks\": \"\"}, \"colorscale\": [[0.0, \"#0d0887\"], [0.1111111111111111, \"#46039f\"], [0.2222222222222222, \"#7201a8\"], [0.3333333333333333, \"#9c179e\"], [0.4444444444444444, \"#bd3786\"], [0.5555555555555556, \"#d8576b\"], [0.6666666666666666, \"#ed7953\"], [0.7777777777777778, \"#fb9f3a\"], [0.8888888888888888, \"#fdca26\"], [1.0, \"#f0f921\"]], \"type\": \"surface\"}], \"table\": [{\"cells\": {\"fill\": {\"color\": \"#EBF0F8\"}, \"line\": {\"color\": \"white\"}}, \"header\": {\"fill\": {\"color\": \"#C8D4E3\"}, \"line\": {\"color\": \"white\"}}, \"type\": \"table\"}]}, \"layout\": {\"annotationdefaults\": {\"arrowcolor\": \"#2a3f5f\", \"arrowhead\": 0, \"arrowwidth\": 1}, \"coloraxis\": {\"colorbar\": {\"outlinewidth\": 0, \"ticks\": \"\"}}, \"colorscale\": {\"diverging\": [[0, \"#8e0152\"], [0.1, \"#c51b7d\"], [0.2, \"#de77ae\"], [0.3, \"#f1b6da\"], [0.4, \"#fde0ef\"], [0.5, \"#f7f7f7\"], [0.6, \"#e6f5d0\"], [0.7, \"#b8e186\"], [0.8, \"#7fbc41\"], [0.9, \"#4d9221\"], [1, \"#276419\"]], \"sequential\": [[0.0, \"#0d0887\"], [0.1111111111111111, \"#46039f\"], [0.2222222222222222, \"#7201a8\"], [0.3333333333333333, \"#9c179e\"], [0.4444444444444444, \"#bd3786\"], [0.5555555555555556, \"#d8576b\"], [0.6666666666666666, \"#ed7953\"], [0.7777777777777778, \"#fb9f3a\"], [0.8888888888888888, \"#fdca26\"], [1.0, \"#f0f921\"]], \"sequentialminus\": [[0.0, \"#0d0887\"], [0.1111111111111111, \"#46039f\"], [0.2222222222222222, \"#7201a8\"], [0.3333333333333333, \"#9c179e\"], [0.4444444444444444, \"#bd3786\"], [0.5555555555555556, \"#d8576b\"], [0.6666666666666666, \"#ed7953\"], [0.7777777777777778, \"#fb9f3a\"], [0.8888888888888888, \"#fdca26\"], [1.0, \"#f0f921\"]]}, \"colorway\": [\"#636efa\", \"#EF553B\", \"#00cc96\", \"#ab63fa\", \"#FFA15A\", \"#19d3f3\", \"#FF6692\", \"#B6E880\", \"#FF97FF\", \"#FECB52\"], \"font\": {\"color\": \"#2a3f5f\"}, \"geo\": {\"bgcolor\": \"white\", \"lakecolor\": \"white\", \"landcolor\": \"#E5ECF6\", \"showlakes\": true, \"showland\": true, \"subunitcolor\": \"white\"}, \"hoverlabel\": {\"align\": \"left\"}, \"hovermode\": \"closest\", \"mapbox\": {\"style\": \"light\"}, \"paper_bgcolor\": \"white\", \"plot_bgcolor\": \"#E5ECF6\", \"polar\": {\"angularaxis\": {\"gridcolor\": \"white\", \"linecolor\": \"white\", \"ticks\": \"\"}, \"bgcolor\": \"#E5ECF6\", \"radialaxis\": {\"gridcolor\": \"white\", \"linecolor\": \"white\", \"ticks\": \"\"}}, \"scene\": {\"xaxis\": {\"backgroundcolor\": \"#E5ECF6\", \"gridcolor\": \"white\", \"gridwidth\": 2, \"linecolor\": \"white\", \"showbackground\": true, \"ticks\": \"\", \"zerolinecolor\": \"white\"}, \"yaxis\": {\"backgroundcolor\": \"#E5ECF6\", \"gridcolor\": \"white\", \"gridwidth\": 2, \"linecolor\": \"white\", \"showbackground\": true, \"ticks\": \"\", \"zerolinecolor\": \"white\"}, \"zaxis\": {\"backgroundcolor\": \"#E5ECF6\", \"gridcolor\": \"white\", \"gridwidth\": 2, \"linecolor\": \"white\", \"showbackground\": true, \"ticks\": \"\", \"zerolinecolor\": \"white\"}}, \"shapedefaults\": {\"line\": {\"color\": \"#2a3f5f\"}}, \"ternary\": {\"aaxis\": {\"gridcolor\": \"white\", \"linecolor\": \"white\", \"ticks\": \"\"}, \"baxis\": {\"gridcolor\": \"white\", \"linecolor\": \"white\", \"ticks\": \"\"}, \"bgcolor\": \"#E5ECF6\", \"caxis\": {\"gridcolor\": \"white\", \"linecolor\": \"white\", \"ticks\": \"\"}}, \"title\": {\"x\": 0.05}, \"xaxis\": {\"automargin\": true, \"gridcolor\": \"white\", \"linecolor\": \"white\", \"ticks\": \"\", \"title\": {\"standoff\": 15}, \"zerolinecolor\": \"white\", \"zerolinewidth\": 2}, \"yaxis\": {\"automargin\": true, \"gridcolor\": \"white\", \"linecolor\": \"white\", \"ticks\": \"\", \"title\": {\"standoff\": 15}, \"zerolinecolor\": \"white\", \"zerolinewidth\": 2}}}, \"xaxis\": {\"anchor\": \"y\", \"domain\": [0.0, 1.0], \"title\": {\"text\": \"\\uae30\\uc810\"}}, \"yaxis\": {\"anchor\": \"x\", \"domain\": [0.0, 1.0], \"title\": {\"text\": \"count\"}}},\n",
       "                        {\"responsive\": true}\n",
       "                    ).then(function(){\n",
       "                            \n",
       "var gd = document.getElementById('8f6cea92-427a-426e-81df-e01ae6ef8013');\n",
       "var x = new MutationObserver(function (mutations, observer) {{\n",
       "        var display = window.getComputedStyle(gd).display;\n",
       "        if (!display || display === 'none') {{\n",
       "            console.log([gd, 'removed!']);\n",
       "            Plotly.purge(gd);\n",
       "            observer.disconnect();\n",
       "        }}\n",
       "}});\n",
       "\n",
       "// Listen for the removal of the full notebook cells\n",
       "var notebookContainer = gd.closest('#notebook-container');\n",
       "if (notebookContainer) {{\n",
       "    x.observe(notebookContainer, {childList: true});\n",
       "}}\n",
       "\n",
       "// Listen for the clearing of the current output cell\n",
       "var outputEl = gd.closest('.output');\n",
       "if (outputEl) {{\n",
       "    x.observe(outputEl, {childList: true});\n",
       "}}\n",
       "\n",
       "                        })\n",
       "                };\n",
       "                });\n",
       "            </script>\n",
       "        </div>"
      ]
     },
     "metadata": {},
     "output_type": "display_data"
    }
   ],
   "source": [
    "fig=px.histogram(df, x='기점') \n",
    "fig.show()"
   ]
  },
  {
   "cell_type": "code",
   "execution_count": null,
   "id": "8f26df43",
   "metadata": {},
   "outputs": [],
   "source": [
    "fig=px.bar(df,x='노선명',y='count')"
   ]
  },
  {
   "cell_type": "code",
   "execution_count": 22,
   "id": "03bd1086",
   "metadata": {},
   "outputs": [],
   "source": [
    "import plotly.graph_objects as go"
   ]
  },
  {
   "cell_type": "code",
   "execution_count": 43,
   "id": "d4257ad1",
   "metadata": {},
   "outputs": [
    {
     "data": {
      "application/vnd.plotly.v1+json": {
       "config": {
        "plotlyServerURL": "https://plot.ly"
       },
       "data": [
        {
         "name": "전체거리",
         "type": "bar",
         "x": [
          "경부선",
          "남해선",
          "광주대구선",
          "함양울산선",
          "서해안선",
          "울산선",
          "평택파주선",
          "새만금포항선",
          "호남선",
          "순천완주선",
          "세종포천선",
          "당진상주선",
          "옥산~오창선",
          "중부선",
          "제2중부선",
          "평택제천선",
          "중부내륙선",
          "영동선",
          "광주원주선",
          "중앙선",
          "서울양양선",
          "동해선",
          "수도권\n제1순환선",
          "남해제1지선",
          "남해제2지선",
          "남해제3지선",
          "제2경인선",
          "경인선",
          "인천국제\n공항선",
          "서천공주선",
          "평택시흥선",
          "용인서울선",
          "새만금포항선의지선",
          "호남선지선",
          "고창담양선",
          "대전남부\n순환선",
          "상주영천선",
          "수도권\n제2순환선",
          "중부내륙지선",
          "중앙선지선",
          "부산외곽선",
          null
         ],
         "y": [
          415.34,
          273.2,
          212.88,
          44.98,
          336.65,
          14.3,
          89.27,
          105.86,
          276.26,
          117.78,
          50.6,
          278.9,
          12.1,
          332.48,
          31.08,
          126.91,
          302.03,
          234.4,
          56.95,
          370.76,
          151.07,
          222.63,
          128.02,
          17.88,
          20.25,
          15.26,
          69.98,
          13.44,
          36.55,
          61.36,
          40.3,
          25.45,
          24.49,
          53.97,
          42.5,
          13.28,
          94,
          38.14,
          30,
          17.42,
          48.8,
          null
         ]
        },
        {
         "name": "2차로길이",
         "type": "bar",
         "x": [
          "경부선",
          "남해선",
          "광주대구선",
          "함양울산선",
          "서해안선",
          "울산선",
          "평택파주선",
          "새만금포항선",
          "호남선",
          "순천완주선",
          "세종포천선",
          "당진상주선",
          "옥산~오창선",
          "중부선",
          "제2중부선",
          "평택제천선",
          "중부내륙선",
          "영동선",
          "광주원주선",
          "중앙선",
          "서울양양선",
          "동해선",
          "수도권\n제1순환선",
          "남해제1지선",
          "남해제2지선",
          "남해제3지선",
          "제2경인선",
          "경인선",
          "인천국제\n공항선",
          "서천공주선",
          "평택시흥선",
          "용인서울선",
          "새만금포항선의지선",
          "호남선지선",
          "고창담양선",
          "대전남부\n순환선",
          "상주영천선",
          "수도권\n제2순환선",
          "중부내륙지선",
          "중앙선지선",
          "부산외곽선",
          null
         ],
         "y": [
          0,
          0,
          0,
          0,
          0,
          0,
          2.4,
          0,
          0,
          0,
          0,
          0,
          0,
          0,
          0,
          0,
          0,
          0,
          0,
          0,
          0,
          0,
          0,
          0,
          0,
          0,
          2.18,
          0,
          0,
          0,
          0,
          0,
          0,
          0,
          0,
          0,
          0,
          0,
          0,
          0,
          0,
          null
         ]
        },
        {
         "name": "4차로길이",
         "type": "bar",
         "x": [
          "경부선",
          "남해선",
          "광주대구선",
          "함양울산선",
          "서해안선",
          "울산선",
          "평택파주선",
          "새만금포항선",
          "호남선",
          "순천완주선",
          "세종포천선",
          "당진상주선",
          "옥산~오창선",
          "중부선",
          "제2중부선",
          "평택제천선",
          "중부내륙선",
          "영동선",
          "광주원주선",
          "중앙선",
          "서울양양선",
          "동해선",
          "수도권\n제1순환선",
          "남해제1지선",
          "남해제2지선",
          "남해제3지선",
          "제2경인선",
          "경인선",
          "인천국제\n공항선",
          "서천공주선",
          "평택시흥선",
          "용인서울선",
          "새만금포항선의지선",
          "호남선지선",
          "고창담양선",
          "대전남부\n순환선",
          "상주영천선",
          "수도권\n제2순환선",
          "중부내륙지선",
          "중앙선지선",
          "부산외곽선",
          null
         ],
         "y": [
          13.51,
          190.61,
          198.53,
          44.98,
          255.57,
          10.57,
          38.65,
          72.68,
          249.3,
          117.78,
          22.3,
          278.9,
          12.1,
          322.83,
          31.08,
          101.11,
          302.03,
          145.99,
          56.95,
          368.87,
          137.87,
          179.68,
          0,
          17.88,
          0,
          14.33,
          14.83,
          0,
          0,
          61.36,
          35.561,
          4.9,
          24.49,
          53.97,
          42.5,
          13.28,
          91.29,
          22.74,
          15.56,
          10.98,
          48.8,
          null
         ]
        },
        {
         "name": "6차로길이",
         "type": "bar",
         "x": [
          "경부선",
          "남해선",
          "광주대구선",
          "함양울산선",
          "서해안선",
          "울산선",
          "평택파주선",
          "새만금포항선",
          "호남선",
          "순천완주선",
          "세종포천선",
          "당진상주선",
          "옥산~오창선",
          "중부선",
          "제2중부선",
          "평택제천선",
          "중부내륙선",
          "영동선",
          "광주원주선",
          "중앙선",
          "서울양양선",
          "동해선",
          "수도권\n제1순환선",
          "남해제1지선",
          "남해제2지선",
          "남해제3지선",
          "제2경인선",
          "경인선",
          "인천국제\n공항선",
          "서천공주선",
          "평택시흥선",
          "용인서울선",
          "새만금포항선의지선",
          "호남선지선",
          "고창담양선",
          "대전남부\n순환선",
          "상주영천선",
          "수도권\n제2순환선",
          "중부내륙지선",
          "중앙선지선",
          "부산외곽선",
          null
         ],
         "y": [
          221.89,
          19.4,
          14.35,
          0,
          53.21,
          2.79,
          48.22,
          33.18,
          12.68,
          0,
          28.3,
          0,
          0,
          0,
          0,
          25.8,
          0,
          34.95,
          0,
          1.89,
          11.22,
          42.95,
          0,
          0,
          2.02,
          0.54,
          50.14,
          1.14,
          9.3,
          0,
          4.109,
          20.55,
          0,
          0,
          0,
          0,
          2.71,
          15.4,
          6.66,
          6.44,
          0,
          null
         ]
        },
        {
         "name": "8차로길이",
         "type": "bar",
         "x": [
          "경부선",
          "남해선",
          "광주대구선",
          "함양울산선",
          "서해안선",
          "울산선",
          "평택파주선",
          "새만금포항선",
          "호남선",
          "순천완주선",
          "세종포천선",
          "당진상주선",
          "옥산~오창선",
          "중부선",
          "제2중부선",
          "평택제천선",
          "중부내륙선",
          "영동선",
          "광주원주선",
          "중앙선",
          "서울양양선",
          "동해선",
          "수도권\n제1순환선",
          "남해제1지선",
          "남해제2지선",
          "남해제3지선",
          "제2경인선",
          "경인선",
          "인천국제\n공항선",
          "서천공주선",
          "평택시흥선",
          "용인서울선",
          "새만금포항선의지선",
          "호남선지선",
          "고창담양선",
          "대전남부\n순환선",
          "상주영천선",
          "수도권\n제2순환선",
          "중부내륙지선",
          "중앙선지선",
          "부산외곽선",
          null
         ],
         "y": [
          159.51,
          63.19,
          0,
          0,
          9.64,
          0.94,
          0,
          0,
          14.28,
          0,
          0,
          0,
          0,
          9.65,
          0,
          0,
          0,
          43.31,
          0,
          0,
          1.98,
          0,
          126.92,
          0,
          18.23,
          0,
          2.83,
          12.3,
          27.25,
          0,
          0,
          0,
          0,
          0,
          0,
          0,
          0,
          0,
          7.78,
          0,
          0,
          null
         ]
        },
        {
         "name": "10차로 이상길이",
         "type": "bar",
         "x": [
          "경부선",
          "남해선",
          "광주대구선",
          "함양울산선",
          "서해안선",
          "울산선",
          "평택파주선",
          "새만금포항선",
          "호남선",
          "순천완주선",
          "세종포천선",
          "당진상주선",
          "옥산~오창선",
          "중부선",
          "제2중부선",
          "평택제천선",
          "중부내륙선",
          "영동선",
          "광주원주선",
          "중앙선",
          "서울양양선",
          "동해선",
          "수도권\n제1순환선",
          "남해제1지선",
          "남해제2지선",
          "남해제3지선",
          "제2경인선",
          "경인선",
          "인천국제\n공항선",
          "서천공주선",
          "평택시흥선",
          "용인서울선",
          "새만금포항선의지선",
          "호남선지선",
          "고창담양선",
          "대전남부\n순환선",
          "상주영천선",
          "수도권\n제2순환선",
          "중부내륙지선",
          "중앙선지선",
          "부산외곽선",
          null
         ],
         "y": [
          20.43,
          0,
          0,
          0,
          18.23,
          0,
          0,
          0,
          0,
          0,
          0,
          0,
          0,
          0,
          0,
          0,
          0,
          10.15,
          0,
          0,
          0,
          0,
          1.1,
          0,
          0,
          0.39,
          0,
          0,
          0,
          0,
          0.63,
          0,
          0,
          0,
          0,
          0,
          0,
          0,
          0,
          0,
          0,
          null
         ]
        }
       ],
       "layout": {
        "template": {
         "data": {
          "bar": [
           {
            "error_x": {
             "color": "#2a3f5f"
            },
            "error_y": {
             "color": "#2a3f5f"
            },
            "marker": {
             "line": {
              "color": "#E5ECF6",
              "width": 0.5
             }
            },
            "type": "bar"
           }
          ],
          "barpolar": [
           {
            "marker": {
             "line": {
              "color": "#E5ECF6",
              "width": 0.5
             }
            },
            "type": "barpolar"
           }
          ],
          "carpet": [
           {
            "aaxis": {
             "endlinecolor": "#2a3f5f",
             "gridcolor": "white",
             "linecolor": "white",
             "minorgridcolor": "white",
             "startlinecolor": "#2a3f5f"
            },
            "baxis": {
             "endlinecolor": "#2a3f5f",
             "gridcolor": "white",
             "linecolor": "white",
             "minorgridcolor": "white",
             "startlinecolor": "#2a3f5f"
            },
            "type": "carpet"
           }
          ],
          "choropleth": [
           {
            "colorbar": {
             "outlinewidth": 0,
             "ticks": ""
            },
            "type": "choropleth"
           }
          ],
          "contour": [
           {
            "colorbar": {
             "outlinewidth": 0,
             "ticks": ""
            },
            "colorscale": [
             [
              0,
              "#0d0887"
             ],
             [
              0.1111111111111111,
              "#46039f"
             ],
             [
              0.2222222222222222,
              "#7201a8"
             ],
             [
              0.3333333333333333,
              "#9c179e"
             ],
             [
              0.4444444444444444,
              "#bd3786"
             ],
             [
              0.5555555555555556,
              "#d8576b"
             ],
             [
              0.6666666666666666,
              "#ed7953"
             ],
             [
              0.7777777777777778,
              "#fb9f3a"
             ],
             [
              0.8888888888888888,
              "#fdca26"
             ],
             [
              1,
              "#f0f921"
             ]
            ],
            "type": "contour"
           }
          ],
          "contourcarpet": [
           {
            "colorbar": {
             "outlinewidth": 0,
             "ticks": ""
            },
            "type": "contourcarpet"
           }
          ],
          "heatmap": [
           {
            "colorbar": {
             "outlinewidth": 0,
             "ticks": ""
            },
            "colorscale": [
             [
              0,
              "#0d0887"
             ],
             [
              0.1111111111111111,
              "#46039f"
             ],
             [
              0.2222222222222222,
              "#7201a8"
             ],
             [
              0.3333333333333333,
              "#9c179e"
             ],
             [
              0.4444444444444444,
              "#bd3786"
             ],
             [
              0.5555555555555556,
              "#d8576b"
             ],
             [
              0.6666666666666666,
              "#ed7953"
             ],
             [
              0.7777777777777778,
              "#fb9f3a"
             ],
             [
              0.8888888888888888,
              "#fdca26"
             ],
             [
              1,
              "#f0f921"
             ]
            ],
            "type": "heatmap"
           }
          ],
          "heatmapgl": [
           {
            "colorbar": {
             "outlinewidth": 0,
             "ticks": ""
            },
            "colorscale": [
             [
              0,
              "#0d0887"
             ],
             [
              0.1111111111111111,
              "#46039f"
             ],
             [
              0.2222222222222222,
              "#7201a8"
             ],
             [
              0.3333333333333333,
              "#9c179e"
             ],
             [
              0.4444444444444444,
              "#bd3786"
             ],
             [
              0.5555555555555556,
              "#d8576b"
             ],
             [
              0.6666666666666666,
              "#ed7953"
             ],
             [
              0.7777777777777778,
              "#fb9f3a"
             ],
             [
              0.8888888888888888,
              "#fdca26"
             ],
             [
              1,
              "#f0f921"
             ]
            ],
            "type": "heatmapgl"
           }
          ],
          "histogram": [
           {
            "marker": {
             "colorbar": {
              "outlinewidth": 0,
              "ticks": ""
             }
            },
            "type": "histogram"
           }
          ],
          "histogram2d": [
           {
            "colorbar": {
             "outlinewidth": 0,
             "ticks": ""
            },
            "colorscale": [
             [
              0,
              "#0d0887"
             ],
             [
              0.1111111111111111,
              "#46039f"
             ],
             [
              0.2222222222222222,
              "#7201a8"
             ],
             [
              0.3333333333333333,
              "#9c179e"
             ],
             [
              0.4444444444444444,
              "#bd3786"
             ],
             [
              0.5555555555555556,
              "#d8576b"
             ],
             [
              0.6666666666666666,
              "#ed7953"
             ],
             [
              0.7777777777777778,
              "#fb9f3a"
             ],
             [
              0.8888888888888888,
              "#fdca26"
             ],
             [
              1,
              "#f0f921"
             ]
            ],
            "type": "histogram2d"
           }
          ],
          "histogram2dcontour": [
           {
            "colorbar": {
             "outlinewidth": 0,
             "ticks": ""
            },
            "colorscale": [
             [
              0,
              "#0d0887"
             ],
             [
              0.1111111111111111,
              "#46039f"
             ],
             [
              0.2222222222222222,
              "#7201a8"
             ],
             [
              0.3333333333333333,
              "#9c179e"
             ],
             [
              0.4444444444444444,
              "#bd3786"
             ],
             [
              0.5555555555555556,
              "#d8576b"
             ],
             [
              0.6666666666666666,
              "#ed7953"
             ],
             [
              0.7777777777777778,
              "#fb9f3a"
             ],
             [
              0.8888888888888888,
              "#fdca26"
             ],
             [
              1,
              "#f0f921"
             ]
            ],
            "type": "histogram2dcontour"
           }
          ],
          "mesh3d": [
           {
            "colorbar": {
             "outlinewidth": 0,
             "ticks": ""
            },
            "type": "mesh3d"
           }
          ],
          "parcoords": [
           {
            "line": {
             "colorbar": {
              "outlinewidth": 0,
              "ticks": ""
             }
            },
            "type": "parcoords"
           }
          ],
          "pie": [
           {
            "automargin": true,
            "type": "pie"
           }
          ],
          "scatter": [
           {
            "marker": {
             "colorbar": {
              "outlinewidth": 0,
              "ticks": ""
             }
            },
            "type": "scatter"
           }
          ],
          "scatter3d": [
           {
            "line": {
             "colorbar": {
              "outlinewidth": 0,
              "ticks": ""
             }
            },
            "marker": {
             "colorbar": {
              "outlinewidth": 0,
              "ticks": ""
             }
            },
            "type": "scatter3d"
           }
          ],
          "scattercarpet": [
           {
            "marker": {
             "colorbar": {
              "outlinewidth": 0,
              "ticks": ""
             }
            },
            "type": "scattercarpet"
           }
          ],
          "scattergeo": [
           {
            "marker": {
             "colorbar": {
              "outlinewidth": 0,
              "ticks": ""
             }
            },
            "type": "scattergeo"
           }
          ],
          "scattergl": [
           {
            "marker": {
             "colorbar": {
              "outlinewidth": 0,
              "ticks": ""
             }
            },
            "type": "scattergl"
           }
          ],
          "scattermapbox": [
           {
            "marker": {
             "colorbar": {
              "outlinewidth": 0,
              "ticks": ""
             }
            },
            "type": "scattermapbox"
           }
          ],
          "scatterpolar": [
           {
            "marker": {
             "colorbar": {
              "outlinewidth": 0,
              "ticks": ""
             }
            },
            "type": "scatterpolar"
           }
          ],
          "scatterpolargl": [
           {
            "marker": {
             "colorbar": {
              "outlinewidth": 0,
              "ticks": ""
             }
            },
            "type": "scatterpolargl"
           }
          ],
          "scatterternary": [
           {
            "marker": {
             "colorbar": {
              "outlinewidth": 0,
              "ticks": ""
             }
            },
            "type": "scatterternary"
           }
          ],
          "surface": [
           {
            "colorbar": {
             "outlinewidth": 0,
             "ticks": ""
            },
            "colorscale": [
             [
              0,
              "#0d0887"
             ],
             [
              0.1111111111111111,
              "#46039f"
             ],
             [
              0.2222222222222222,
              "#7201a8"
             ],
             [
              0.3333333333333333,
              "#9c179e"
             ],
             [
              0.4444444444444444,
              "#bd3786"
             ],
             [
              0.5555555555555556,
              "#d8576b"
             ],
             [
              0.6666666666666666,
              "#ed7953"
             ],
             [
              0.7777777777777778,
              "#fb9f3a"
             ],
             [
              0.8888888888888888,
              "#fdca26"
             ],
             [
              1,
              "#f0f921"
             ]
            ],
            "type": "surface"
           }
          ],
          "table": [
           {
            "cells": {
             "fill": {
              "color": "#EBF0F8"
             },
             "line": {
              "color": "white"
             }
            },
            "header": {
             "fill": {
              "color": "#C8D4E3"
             },
             "line": {
              "color": "white"
             }
            },
            "type": "table"
           }
          ]
         },
         "layout": {
          "annotationdefaults": {
           "arrowcolor": "#2a3f5f",
           "arrowhead": 0,
           "arrowwidth": 1
          },
          "coloraxis": {
           "colorbar": {
            "outlinewidth": 0,
            "ticks": ""
           }
          },
          "colorscale": {
           "diverging": [
            [
             0,
             "#8e0152"
            ],
            [
             0.1,
             "#c51b7d"
            ],
            [
             0.2,
             "#de77ae"
            ],
            [
             0.3,
             "#f1b6da"
            ],
            [
             0.4,
             "#fde0ef"
            ],
            [
             0.5,
             "#f7f7f7"
            ],
            [
             0.6,
             "#e6f5d0"
            ],
            [
             0.7,
             "#b8e186"
            ],
            [
             0.8,
             "#7fbc41"
            ],
            [
             0.9,
             "#4d9221"
            ],
            [
             1,
             "#276419"
            ]
           ],
           "sequential": [
            [
             0,
             "#0d0887"
            ],
            [
             0.1111111111111111,
             "#46039f"
            ],
            [
             0.2222222222222222,
             "#7201a8"
            ],
            [
             0.3333333333333333,
             "#9c179e"
            ],
            [
             0.4444444444444444,
             "#bd3786"
            ],
            [
             0.5555555555555556,
             "#d8576b"
            ],
            [
             0.6666666666666666,
             "#ed7953"
            ],
            [
             0.7777777777777778,
             "#fb9f3a"
            ],
            [
             0.8888888888888888,
             "#fdca26"
            ],
            [
             1,
             "#f0f921"
            ]
           ],
           "sequentialminus": [
            [
             0,
             "#0d0887"
            ],
            [
             0.1111111111111111,
             "#46039f"
            ],
            [
             0.2222222222222222,
             "#7201a8"
            ],
            [
             0.3333333333333333,
             "#9c179e"
            ],
            [
             0.4444444444444444,
             "#bd3786"
            ],
            [
             0.5555555555555556,
             "#d8576b"
            ],
            [
             0.6666666666666666,
             "#ed7953"
            ],
            [
             0.7777777777777778,
             "#fb9f3a"
            ],
            [
             0.8888888888888888,
             "#fdca26"
            ],
            [
             1,
             "#f0f921"
            ]
           ]
          },
          "colorway": [
           "#636efa",
           "#EF553B",
           "#00cc96",
           "#ab63fa",
           "#FFA15A",
           "#19d3f3",
           "#FF6692",
           "#B6E880",
           "#FF97FF",
           "#FECB52"
          ],
          "font": {
           "color": "#2a3f5f"
          },
          "geo": {
           "bgcolor": "white",
           "lakecolor": "white",
           "landcolor": "#E5ECF6",
           "showlakes": true,
           "showland": true,
           "subunitcolor": "white"
          },
          "hoverlabel": {
           "align": "left"
          },
          "hovermode": "closest",
          "mapbox": {
           "style": "light"
          },
          "paper_bgcolor": "white",
          "plot_bgcolor": "#E5ECF6",
          "polar": {
           "angularaxis": {
            "gridcolor": "white",
            "linecolor": "white",
            "ticks": ""
           },
           "bgcolor": "#E5ECF6",
           "radialaxis": {
            "gridcolor": "white",
            "linecolor": "white",
            "ticks": ""
           }
          },
          "scene": {
           "xaxis": {
            "backgroundcolor": "#E5ECF6",
            "gridcolor": "white",
            "gridwidth": 2,
            "linecolor": "white",
            "showbackground": true,
            "ticks": "",
            "zerolinecolor": "white"
           },
           "yaxis": {
            "backgroundcolor": "#E5ECF6",
            "gridcolor": "white",
            "gridwidth": 2,
            "linecolor": "white",
            "showbackground": true,
            "ticks": "",
            "zerolinecolor": "white"
           },
           "zaxis": {
            "backgroundcolor": "#E5ECF6",
            "gridcolor": "white",
            "gridwidth": 2,
            "linecolor": "white",
            "showbackground": true,
            "ticks": "",
            "zerolinecolor": "white"
           }
          },
          "shapedefaults": {
           "line": {
            "color": "#2a3f5f"
           }
          },
          "ternary": {
           "aaxis": {
            "gridcolor": "white",
            "linecolor": "white",
            "ticks": ""
           },
           "baxis": {
            "gridcolor": "white",
            "linecolor": "white",
            "ticks": ""
           },
           "bgcolor": "#E5ECF6",
           "caxis": {
            "gridcolor": "white",
            "linecolor": "white",
            "ticks": ""
           }
          },
          "title": {
           "x": 0.05
          },
          "xaxis": {
           "automargin": true,
           "gridcolor": "white",
           "linecolor": "white",
           "ticks": "",
           "title": {
            "standoff": 15
           },
           "zerolinecolor": "white",
           "zerolinewidth": 2
          },
          "yaxis": {
           "automargin": true,
           "gridcolor": "white",
           "linecolor": "white",
           "ticks": "",
           "title": {
            "standoff": 15
           },
           "zerolinecolor": "white",
           "zerolinewidth": 2
          }
         }
        }
       }
      },
      "text/html": [
       "<div>\n",
       "        \n",
       "        \n",
       "            <div id=\"fcb0b36e-1887-4888-816c-50e91ed442df\" class=\"plotly-graph-div\" style=\"height:525px; width:100%;\"></div>\n",
       "            <script type=\"text/javascript\">\n",
       "                require([\"plotly\"], function(Plotly) {\n",
       "                    window.PLOTLYENV=window.PLOTLYENV || {};\n",
       "                    \n",
       "                if (document.getElementById(\"fcb0b36e-1887-4888-816c-50e91ed442df\")) {\n",
       "                    Plotly.newPlot(\n",
       "                        'fcb0b36e-1887-4888-816c-50e91ed442df',\n",
       "                        [{\"name\": \"\\uc804\\uccb4\\uac70\\ub9ac\", \"type\": \"bar\", \"x\": [\"\\uacbd\\ubd80\\uc120\", \"\\ub0a8\\ud574\\uc120\", \"\\uad11\\uc8fc\\ub300\\uad6c\\uc120\", \"\\ud568\\uc591\\uc6b8\\uc0b0\\uc120\", \"\\uc11c\\ud574\\uc548\\uc120\", \"\\uc6b8\\uc0b0\\uc120\", \"\\ud3c9\\ud0dd\\ud30c\\uc8fc\\uc120\", \"\\uc0c8\\ub9cc\\uae08\\ud3ec\\ud56d\\uc120\", \"\\ud638\\ub0a8\\uc120\", \"\\uc21c\\ucc9c\\uc644\\uc8fc\\uc120\", \"\\uc138\\uc885\\ud3ec\\ucc9c\\uc120\", \"\\ub2f9\\uc9c4\\uc0c1\\uc8fc\\uc120\", \"\\uc625\\uc0b0~\\uc624\\ucc3d\\uc120\", \"\\uc911\\ubd80\\uc120\", \"\\uc81c2\\uc911\\ubd80\\uc120\", \"\\ud3c9\\ud0dd\\uc81c\\ucc9c\\uc120\", \"\\uc911\\ubd80\\ub0b4\\ub959\\uc120\", \"\\uc601\\ub3d9\\uc120\", \"\\uad11\\uc8fc\\uc6d0\\uc8fc\\uc120\", \"\\uc911\\uc559\\uc120\", \"\\uc11c\\uc6b8\\uc591\\uc591\\uc120\", \"\\ub3d9\\ud574\\uc120\", \"\\uc218\\ub3c4\\uad8c\\n\\uc81c1\\uc21c\\ud658\\uc120\", \"\\ub0a8\\ud574\\uc81c1\\uc9c0\\uc120\", \"\\ub0a8\\ud574\\uc81c2\\uc9c0\\uc120\", \"\\ub0a8\\ud574\\uc81c3\\uc9c0\\uc120\", \"\\uc81c2\\uacbd\\uc778\\uc120\", \"\\uacbd\\uc778\\uc120\", \"\\uc778\\ucc9c\\uad6d\\uc81c\\n\\uacf5\\ud56d\\uc120\", \"\\uc11c\\ucc9c\\uacf5\\uc8fc\\uc120\", \"\\ud3c9\\ud0dd\\uc2dc\\ud765\\uc120\", \"\\uc6a9\\uc778\\uc11c\\uc6b8\\uc120\", \"\\uc0c8\\ub9cc\\uae08\\ud3ec\\ud56d\\uc120\\uc758\\uc9c0\\uc120\", \"\\ud638\\ub0a8\\uc120\\uc9c0\\uc120\", \"\\uace0\\ucc3d\\ub2f4\\uc591\\uc120\", \"\\ub300\\uc804\\ub0a8\\ubd80\\n\\uc21c\\ud658\\uc120\", \"\\uc0c1\\uc8fc\\uc601\\ucc9c\\uc120\", \"\\uc218\\ub3c4\\uad8c\\n\\uc81c2\\uc21c\\ud658\\uc120\", \"\\uc911\\ubd80\\ub0b4\\ub959\\uc9c0\\uc120\", \"\\uc911\\uc559\\uc120\\uc9c0\\uc120\", \"\\ubd80\\uc0b0\\uc678\\uacfd\\uc120\", null], \"y\": [415.34, 273.2, 212.88, 44.98, 336.65, 14.3, 89.27, 105.86, 276.26, 117.78, 50.6, 278.9, 12.1, 332.48, 31.08, 126.91, 302.03, 234.4, 56.95, 370.76, 151.07, 222.63, 128.02, 17.88, 20.25, 15.26, 69.98, 13.44, 36.55, 61.36, 40.3, 25.45, 24.49, 53.97, 42.5, 13.28, 94.0, 38.14, 30.0, 17.42, 48.8, null]}, {\"name\": \"2\\ucc28\\ub85c\\uae38\\uc774\", \"type\": \"bar\", \"x\": [\"\\uacbd\\ubd80\\uc120\", \"\\ub0a8\\ud574\\uc120\", \"\\uad11\\uc8fc\\ub300\\uad6c\\uc120\", \"\\ud568\\uc591\\uc6b8\\uc0b0\\uc120\", \"\\uc11c\\ud574\\uc548\\uc120\", \"\\uc6b8\\uc0b0\\uc120\", \"\\ud3c9\\ud0dd\\ud30c\\uc8fc\\uc120\", \"\\uc0c8\\ub9cc\\uae08\\ud3ec\\ud56d\\uc120\", \"\\ud638\\ub0a8\\uc120\", \"\\uc21c\\ucc9c\\uc644\\uc8fc\\uc120\", \"\\uc138\\uc885\\ud3ec\\ucc9c\\uc120\", \"\\ub2f9\\uc9c4\\uc0c1\\uc8fc\\uc120\", \"\\uc625\\uc0b0~\\uc624\\ucc3d\\uc120\", \"\\uc911\\ubd80\\uc120\", \"\\uc81c2\\uc911\\ubd80\\uc120\", \"\\ud3c9\\ud0dd\\uc81c\\ucc9c\\uc120\", \"\\uc911\\ubd80\\ub0b4\\ub959\\uc120\", \"\\uc601\\ub3d9\\uc120\", \"\\uad11\\uc8fc\\uc6d0\\uc8fc\\uc120\", \"\\uc911\\uc559\\uc120\", \"\\uc11c\\uc6b8\\uc591\\uc591\\uc120\", \"\\ub3d9\\ud574\\uc120\", \"\\uc218\\ub3c4\\uad8c\\n\\uc81c1\\uc21c\\ud658\\uc120\", \"\\ub0a8\\ud574\\uc81c1\\uc9c0\\uc120\", \"\\ub0a8\\ud574\\uc81c2\\uc9c0\\uc120\", \"\\ub0a8\\ud574\\uc81c3\\uc9c0\\uc120\", \"\\uc81c2\\uacbd\\uc778\\uc120\", \"\\uacbd\\uc778\\uc120\", \"\\uc778\\ucc9c\\uad6d\\uc81c\\n\\uacf5\\ud56d\\uc120\", \"\\uc11c\\ucc9c\\uacf5\\uc8fc\\uc120\", \"\\ud3c9\\ud0dd\\uc2dc\\ud765\\uc120\", \"\\uc6a9\\uc778\\uc11c\\uc6b8\\uc120\", \"\\uc0c8\\ub9cc\\uae08\\ud3ec\\ud56d\\uc120\\uc758\\uc9c0\\uc120\", \"\\ud638\\ub0a8\\uc120\\uc9c0\\uc120\", \"\\uace0\\ucc3d\\ub2f4\\uc591\\uc120\", \"\\ub300\\uc804\\ub0a8\\ubd80\\n\\uc21c\\ud658\\uc120\", \"\\uc0c1\\uc8fc\\uc601\\ucc9c\\uc120\", \"\\uc218\\ub3c4\\uad8c\\n\\uc81c2\\uc21c\\ud658\\uc120\", \"\\uc911\\ubd80\\ub0b4\\ub959\\uc9c0\\uc120\", \"\\uc911\\uc559\\uc120\\uc9c0\\uc120\", \"\\ubd80\\uc0b0\\uc678\\uacfd\\uc120\", null], \"y\": [0.0, 0.0, 0.0, 0.0, 0.0, 0.0, 2.4, 0.0, 0.0, 0.0, 0.0, 0.0, 0.0, 0.0, 0.0, 0.0, 0.0, 0.0, 0.0, 0.0, 0.0, 0.0, 0.0, 0.0, 0.0, 0.0, 2.18, 0.0, 0.0, 0.0, 0.0, 0.0, 0.0, 0.0, 0.0, 0.0, 0.0, 0.0, 0.0, 0.0, 0.0, null]}, {\"name\": \"4\\ucc28\\ub85c\\uae38\\uc774\", \"type\": \"bar\", \"x\": [\"\\uacbd\\ubd80\\uc120\", \"\\ub0a8\\ud574\\uc120\", \"\\uad11\\uc8fc\\ub300\\uad6c\\uc120\", \"\\ud568\\uc591\\uc6b8\\uc0b0\\uc120\", \"\\uc11c\\ud574\\uc548\\uc120\", \"\\uc6b8\\uc0b0\\uc120\", \"\\ud3c9\\ud0dd\\ud30c\\uc8fc\\uc120\", \"\\uc0c8\\ub9cc\\uae08\\ud3ec\\ud56d\\uc120\", \"\\ud638\\ub0a8\\uc120\", \"\\uc21c\\ucc9c\\uc644\\uc8fc\\uc120\", \"\\uc138\\uc885\\ud3ec\\ucc9c\\uc120\", \"\\ub2f9\\uc9c4\\uc0c1\\uc8fc\\uc120\", \"\\uc625\\uc0b0~\\uc624\\ucc3d\\uc120\", \"\\uc911\\ubd80\\uc120\", \"\\uc81c2\\uc911\\ubd80\\uc120\", \"\\ud3c9\\ud0dd\\uc81c\\ucc9c\\uc120\", \"\\uc911\\ubd80\\ub0b4\\ub959\\uc120\", \"\\uc601\\ub3d9\\uc120\", \"\\uad11\\uc8fc\\uc6d0\\uc8fc\\uc120\", \"\\uc911\\uc559\\uc120\", \"\\uc11c\\uc6b8\\uc591\\uc591\\uc120\", \"\\ub3d9\\ud574\\uc120\", \"\\uc218\\ub3c4\\uad8c\\n\\uc81c1\\uc21c\\ud658\\uc120\", \"\\ub0a8\\ud574\\uc81c1\\uc9c0\\uc120\", \"\\ub0a8\\ud574\\uc81c2\\uc9c0\\uc120\", \"\\ub0a8\\ud574\\uc81c3\\uc9c0\\uc120\", \"\\uc81c2\\uacbd\\uc778\\uc120\", \"\\uacbd\\uc778\\uc120\", \"\\uc778\\ucc9c\\uad6d\\uc81c\\n\\uacf5\\ud56d\\uc120\", \"\\uc11c\\ucc9c\\uacf5\\uc8fc\\uc120\", \"\\ud3c9\\ud0dd\\uc2dc\\ud765\\uc120\", \"\\uc6a9\\uc778\\uc11c\\uc6b8\\uc120\", \"\\uc0c8\\ub9cc\\uae08\\ud3ec\\ud56d\\uc120\\uc758\\uc9c0\\uc120\", \"\\ud638\\ub0a8\\uc120\\uc9c0\\uc120\", \"\\uace0\\ucc3d\\ub2f4\\uc591\\uc120\", \"\\ub300\\uc804\\ub0a8\\ubd80\\n\\uc21c\\ud658\\uc120\", \"\\uc0c1\\uc8fc\\uc601\\ucc9c\\uc120\", \"\\uc218\\ub3c4\\uad8c\\n\\uc81c2\\uc21c\\ud658\\uc120\", \"\\uc911\\ubd80\\ub0b4\\ub959\\uc9c0\\uc120\", \"\\uc911\\uc559\\uc120\\uc9c0\\uc120\", \"\\ubd80\\uc0b0\\uc678\\uacfd\\uc120\", null], \"y\": [13.51, 190.61, 198.53, 44.98, 255.57, 10.57, 38.65, 72.68, 249.3, 117.78, 22.3, 278.9, 12.1, 322.83, 31.08, 101.11, 302.03, 145.99, 56.95, 368.87, 137.87, 179.68, 0.0, 17.88, 0.0, 14.33, 14.83, 0.0, 0.0, 61.36, 35.561, 4.9, 24.49, 53.97, 42.5, 13.28, 91.29, 22.74, 15.56, 10.98, 48.8, null]}, {\"name\": \"6\\ucc28\\ub85c\\uae38\\uc774\", \"type\": \"bar\", \"x\": [\"\\uacbd\\ubd80\\uc120\", \"\\ub0a8\\ud574\\uc120\", \"\\uad11\\uc8fc\\ub300\\uad6c\\uc120\", \"\\ud568\\uc591\\uc6b8\\uc0b0\\uc120\", \"\\uc11c\\ud574\\uc548\\uc120\", \"\\uc6b8\\uc0b0\\uc120\", \"\\ud3c9\\ud0dd\\ud30c\\uc8fc\\uc120\", \"\\uc0c8\\ub9cc\\uae08\\ud3ec\\ud56d\\uc120\", \"\\ud638\\ub0a8\\uc120\", \"\\uc21c\\ucc9c\\uc644\\uc8fc\\uc120\", \"\\uc138\\uc885\\ud3ec\\ucc9c\\uc120\", \"\\ub2f9\\uc9c4\\uc0c1\\uc8fc\\uc120\", \"\\uc625\\uc0b0~\\uc624\\ucc3d\\uc120\", \"\\uc911\\ubd80\\uc120\", \"\\uc81c2\\uc911\\ubd80\\uc120\", \"\\ud3c9\\ud0dd\\uc81c\\ucc9c\\uc120\", \"\\uc911\\ubd80\\ub0b4\\ub959\\uc120\", \"\\uc601\\ub3d9\\uc120\", \"\\uad11\\uc8fc\\uc6d0\\uc8fc\\uc120\", \"\\uc911\\uc559\\uc120\", \"\\uc11c\\uc6b8\\uc591\\uc591\\uc120\", \"\\ub3d9\\ud574\\uc120\", \"\\uc218\\ub3c4\\uad8c\\n\\uc81c1\\uc21c\\ud658\\uc120\", \"\\ub0a8\\ud574\\uc81c1\\uc9c0\\uc120\", \"\\ub0a8\\ud574\\uc81c2\\uc9c0\\uc120\", \"\\ub0a8\\ud574\\uc81c3\\uc9c0\\uc120\", \"\\uc81c2\\uacbd\\uc778\\uc120\", \"\\uacbd\\uc778\\uc120\", \"\\uc778\\ucc9c\\uad6d\\uc81c\\n\\uacf5\\ud56d\\uc120\", \"\\uc11c\\ucc9c\\uacf5\\uc8fc\\uc120\", \"\\ud3c9\\ud0dd\\uc2dc\\ud765\\uc120\", \"\\uc6a9\\uc778\\uc11c\\uc6b8\\uc120\", \"\\uc0c8\\ub9cc\\uae08\\ud3ec\\ud56d\\uc120\\uc758\\uc9c0\\uc120\", \"\\ud638\\ub0a8\\uc120\\uc9c0\\uc120\", \"\\uace0\\ucc3d\\ub2f4\\uc591\\uc120\", \"\\ub300\\uc804\\ub0a8\\ubd80\\n\\uc21c\\ud658\\uc120\", \"\\uc0c1\\uc8fc\\uc601\\ucc9c\\uc120\", \"\\uc218\\ub3c4\\uad8c\\n\\uc81c2\\uc21c\\ud658\\uc120\", \"\\uc911\\ubd80\\ub0b4\\ub959\\uc9c0\\uc120\", \"\\uc911\\uc559\\uc120\\uc9c0\\uc120\", \"\\ubd80\\uc0b0\\uc678\\uacfd\\uc120\", null], \"y\": [221.89, 19.4, 14.35, 0.0, 53.21, 2.79, 48.22, 33.18, 12.68, 0.0, 28.3, 0.0, 0.0, 0.0, 0.0, 25.8, 0.0, 34.95, 0.0, 1.89, 11.22, 42.95, 0.0, 0.0, 2.02, 0.54, 50.14, 1.14, 9.3, 0.0, 4.109, 20.55, 0.0, 0.0, 0.0, 0.0, 2.71, 15.4, 6.66, 6.44, 0.0, null]}, {\"name\": \"8\\ucc28\\ub85c\\uae38\\uc774\", \"type\": \"bar\", \"x\": [\"\\uacbd\\ubd80\\uc120\", \"\\ub0a8\\ud574\\uc120\", \"\\uad11\\uc8fc\\ub300\\uad6c\\uc120\", \"\\ud568\\uc591\\uc6b8\\uc0b0\\uc120\", \"\\uc11c\\ud574\\uc548\\uc120\", \"\\uc6b8\\uc0b0\\uc120\", \"\\ud3c9\\ud0dd\\ud30c\\uc8fc\\uc120\", \"\\uc0c8\\ub9cc\\uae08\\ud3ec\\ud56d\\uc120\", \"\\ud638\\ub0a8\\uc120\", \"\\uc21c\\ucc9c\\uc644\\uc8fc\\uc120\", \"\\uc138\\uc885\\ud3ec\\ucc9c\\uc120\", \"\\ub2f9\\uc9c4\\uc0c1\\uc8fc\\uc120\", \"\\uc625\\uc0b0~\\uc624\\ucc3d\\uc120\", \"\\uc911\\ubd80\\uc120\", \"\\uc81c2\\uc911\\ubd80\\uc120\", \"\\ud3c9\\ud0dd\\uc81c\\ucc9c\\uc120\", \"\\uc911\\ubd80\\ub0b4\\ub959\\uc120\", \"\\uc601\\ub3d9\\uc120\", \"\\uad11\\uc8fc\\uc6d0\\uc8fc\\uc120\", \"\\uc911\\uc559\\uc120\", \"\\uc11c\\uc6b8\\uc591\\uc591\\uc120\", \"\\ub3d9\\ud574\\uc120\", \"\\uc218\\ub3c4\\uad8c\\n\\uc81c1\\uc21c\\ud658\\uc120\", \"\\ub0a8\\ud574\\uc81c1\\uc9c0\\uc120\", \"\\ub0a8\\ud574\\uc81c2\\uc9c0\\uc120\", \"\\ub0a8\\ud574\\uc81c3\\uc9c0\\uc120\", \"\\uc81c2\\uacbd\\uc778\\uc120\", \"\\uacbd\\uc778\\uc120\", \"\\uc778\\ucc9c\\uad6d\\uc81c\\n\\uacf5\\ud56d\\uc120\", \"\\uc11c\\ucc9c\\uacf5\\uc8fc\\uc120\", \"\\ud3c9\\ud0dd\\uc2dc\\ud765\\uc120\", \"\\uc6a9\\uc778\\uc11c\\uc6b8\\uc120\", \"\\uc0c8\\ub9cc\\uae08\\ud3ec\\ud56d\\uc120\\uc758\\uc9c0\\uc120\", \"\\ud638\\ub0a8\\uc120\\uc9c0\\uc120\", \"\\uace0\\ucc3d\\ub2f4\\uc591\\uc120\", \"\\ub300\\uc804\\ub0a8\\ubd80\\n\\uc21c\\ud658\\uc120\", \"\\uc0c1\\uc8fc\\uc601\\ucc9c\\uc120\", \"\\uc218\\ub3c4\\uad8c\\n\\uc81c2\\uc21c\\ud658\\uc120\", \"\\uc911\\ubd80\\ub0b4\\ub959\\uc9c0\\uc120\", \"\\uc911\\uc559\\uc120\\uc9c0\\uc120\", \"\\ubd80\\uc0b0\\uc678\\uacfd\\uc120\", null], \"y\": [159.51, 63.19, 0.0, 0.0, 9.64, 0.94, 0.0, 0.0, 14.28, 0.0, 0.0, 0.0, 0.0, 9.65, 0.0, 0.0, 0.0, 43.31, 0.0, 0.0, 1.98, 0.0, 126.92, 0.0, 18.23, 0.0, 2.83, 12.3, 27.25, 0.0, 0.0, 0.0, 0.0, 0.0, 0.0, 0.0, 0.0, 0.0, 7.78, 0.0, 0.0, null]}, {\"name\": \"10\\ucc28\\ub85c \\uc774\\uc0c1\\uae38\\uc774\", \"type\": \"bar\", \"x\": [\"\\uacbd\\ubd80\\uc120\", \"\\ub0a8\\ud574\\uc120\", \"\\uad11\\uc8fc\\ub300\\uad6c\\uc120\", \"\\ud568\\uc591\\uc6b8\\uc0b0\\uc120\", \"\\uc11c\\ud574\\uc548\\uc120\", \"\\uc6b8\\uc0b0\\uc120\", \"\\ud3c9\\ud0dd\\ud30c\\uc8fc\\uc120\", \"\\uc0c8\\ub9cc\\uae08\\ud3ec\\ud56d\\uc120\", \"\\ud638\\ub0a8\\uc120\", \"\\uc21c\\ucc9c\\uc644\\uc8fc\\uc120\", \"\\uc138\\uc885\\ud3ec\\ucc9c\\uc120\", \"\\ub2f9\\uc9c4\\uc0c1\\uc8fc\\uc120\", \"\\uc625\\uc0b0~\\uc624\\ucc3d\\uc120\", \"\\uc911\\ubd80\\uc120\", \"\\uc81c2\\uc911\\ubd80\\uc120\", \"\\ud3c9\\ud0dd\\uc81c\\ucc9c\\uc120\", \"\\uc911\\ubd80\\ub0b4\\ub959\\uc120\", \"\\uc601\\ub3d9\\uc120\", \"\\uad11\\uc8fc\\uc6d0\\uc8fc\\uc120\", \"\\uc911\\uc559\\uc120\", \"\\uc11c\\uc6b8\\uc591\\uc591\\uc120\", \"\\ub3d9\\ud574\\uc120\", \"\\uc218\\ub3c4\\uad8c\\n\\uc81c1\\uc21c\\ud658\\uc120\", \"\\ub0a8\\ud574\\uc81c1\\uc9c0\\uc120\", \"\\ub0a8\\ud574\\uc81c2\\uc9c0\\uc120\", \"\\ub0a8\\ud574\\uc81c3\\uc9c0\\uc120\", \"\\uc81c2\\uacbd\\uc778\\uc120\", \"\\uacbd\\uc778\\uc120\", \"\\uc778\\ucc9c\\uad6d\\uc81c\\n\\uacf5\\ud56d\\uc120\", \"\\uc11c\\ucc9c\\uacf5\\uc8fc\\uc120\", \"\\ud3c9\\ud0dd\\uc2dc\\ud765\\uc120\", \"\\uc6a9\\uc778\\uc11c\\uc6b8\\uc120\", \"\\uc0c8\\ub9cc\\uae08\\ud3ec\\ud56d\\uc120\\uc758\\uc9c0\\uc120\", \"\\ud638\\ub0a8\\uc120\\uc9c0\\uc120\", \"\\uace0\\ucc3d\\ub2f4\\uc591\\uc120\", \"\\ub300\\uc804\\ub0a8\\ubd80\\n\\uc21c\\ud658\\uc120\", \"\\uc0c1\\uc8fc\\uc601\\ucc9c\\uc120\", \"\\uc218\\ub3c4\\uad8c\\n\\uc81c2\\uc21c\\ud658\\uc120\", \"\\uc911\\ubd80\\ub0b4\\ub959\\uc9c0\\uc120\", \"\\uc911\\uc559\\uc120\\uc9c0\\uc120\", \"\\ubd80\\uc0b0\\uc678\\uacfd\\uc120\", null], \"y\": [20.43, 0.0, 0.0, 0.0, 18.23, 0.0, 0.0, 0.0, 0.0, 0.0, 0.0, 0.0, 0.0, 0.0, 0.0, 0.0, 0.0, 10.15, 0.0, 0.0, 0.0, 0.0, 1.1, 0.0, 0.0, 0.39, 0.0, 0.0, 0.0, 0.0, 0.63, 0.0, 0.0, 0.0, 0.0, 0.0, 0.0, 0.0, 0.0, 0.0, 0.0, null]}],\n",
       "                        {\"template\": {\"data\": {\"bar\": [{\"error_x\": {\"color\": \"#2a3f5f\"}, \"error_y\": {\"color\": \"#2a3f5f\"}, \"marker\": {\"line\": {\"color\": \"#E5ECF6\", \"width\": 0.5}}, \"type\": \"bar\"}], \"barpolar\": [{\"marker\": {\"line\": {\"color\": \"#E5ECF6\", \"width\": 0.5}}, \"type\": \"barpolar\"}], \"carpet\": [{\"aaxis\": {\"endlinecolor\": \"#2a3f5f\", \"gridcolor\": \"white\", \"linecolor\": \"white\", \"minorgridcolor\": \"white\", \"startlinecolor\": \"#2a3f5f\"}, \"baxis\": {\"endlinecolor\": \"#2a3f5f\", \"gridcolor\": \"white\", \"linecolor\": \"white\", \"minorgridcolor\": \"white\", \"startlinecolor\": \"#2a3f5f\"}, \"type\": \"carpet\"}], \"choropleth\": [{\"colorbar\": {\"outlinewidth\": 0, \"ticks\": \"\"}, \"type\": \"choropleth\"}], \"contour\": [{\"colorbar\": {\"outlinewidth\": 0, \"ticks\": \"\"}, \"colorscale\": [[0.0, \"#0d0887\"], [0.1111111111111111, \"#46039f\"], [0.2222222222222222, \"#7201a8\"], [0.3333333333333333, \"#9c179e\"], [0.4444444444444444, \"#bd3786\"], [0.5555555555555556, \"#d8576b\"], [0.6666666666666666, \"#ed7953\"], [0.7777777777777778, \"#fb9f3a\"], [0.8888888888888888, \"#fdca26\"], [1.0, \"#f0f921\"]], \"type\": \"contour\"}], \"contourcarpet\": [{\"colorbar\": {\"outlinewidth\": 0, \"ticks\": \"\"}, \"type\": \"contourcarpet\"}], \"heatmap\": [{\"colorbar\": {\"outlinewidth\": 0, \"ticks\": \"\"}, \"colorscale\": [[0.0, \"#0d0887\"], [0.1111111111111111, \"#46039f\"], [0.2222222222222222, \"#7201a8\"], [0.3333333333333333, \"#9c179e\"], [0.4444444444444444, \"#bd3786\"], [0.5555555555555556, \"#d8576b\"], [0.6666666666666666, \"#ed7953\"], [0.7777777777777778, \"#fb9f3a\"], [0.8888888888888888, \"#fdca26\"], [1.0, \"#f0f921\"]], \"type\": \"heatmap\"}], \"heatmapgl\": [{\"colorbar\": {\"outlinewidth\": 0, \"ticks\": \"\"}, \"colorscale\": [[0.0, \"#0d0887\"], [0.1111111111111111, \"#46039f\"], [0.2222222222222222, \"#7201a8\"], [0.3333333333333333, \"#9c179e\"], [0.4444444444444444, \"#bd3786\"], [0.5555555555555556, \"#d8576b\"], [0.6666666666666666, \"#ed7953\"], [0.7777777777777778, \"#fb9f3a\"], [0.8888888888888888, \"#fdca26\"], [1.0, \"#f0f921\"]], \"type\": \"heatmapgl\"}], \"histogram\": [{\"marker\": {\"colorbar\": {\"outlinewidth\": 0, \"ticks\": \"\"}}, \"type\": \"histogram\"}], \"histogram2d\": [{\"colorbar\": {\"outlinewidth\": 0, \"ticks\": \"\"}, \"colorscale\": [[0.0, \"#0d0887\"], [0.1111111111111111, \"#46039f\"], [0.2222222222222222, \"#7201a8\"], [0.3333333333333333, \"#9c179e\"], [0.4444444444444444, \"#bd3786\"], [0.5555555555555556, \"#d8576b\"], [0.6666666666666666, \"#ed7953\"], [0.7777777777777778, \"#fb9f3a\"], [0.8888888888888888, \"#fdca26\"], [1.0, \"#f0f921\"]], \"type\": \"histogram2d\"}], \"histogram2dcontour\": [{\"colorbar\": {\"outlinewidth\": 0, \"ticks\": \"\"}, \"colorscale\": [[0.0, \"#0d0887\"], [0.1111111111111111, \"#46039f\"], [0.2222222222222222, \"#7201a8\"], [0.3333333333333333, \"#9c179e\"], [0.4444444444444444, \"#bd3786\"], [0.5555555555555556, \"#d8576b\"], [0.6666666666666666, \"#ed7953\"], [0.7777777777777778, \"#fb9f3a\"], [0.8888888888888888, \"#fdca26\"], [1.0, \"#f0f921\"]], \"type\": \"histogram2dcontour\"}], \"mesh3d\": [{\"colorbar\": {\"outlinewidth\": 0, \"ticks\": \"\"}, \"type\": \"mesh3d\"}], \"parcoords\": [{\"line\": {\"colorbar\": {\"outlinewidth\": 0, \"ticks\": \"\"}}, \"type\": \"parcoords\"}], \"pie\": [{\"automargin\": true, \"type\": \"pie\"}], \"scatter\": [{\"marker\": {\"colorbar\": {\"outlinewidth\": 0, \"ticks\": \"\"}}, \"type\": \"scatter\"}], \"scatter3d\": [{\"line\": {\"colorbar\": {\"outlinewidth\": 0, \"ticks\": \"\"}}, \"marker\": {\"colorbar\": {\"outlinewidth\": 0, \"ticks\": \"\"}}, \"type\": \"scatter3d\"}], \"scattercarpet\": [{\"marker\": {\"colorbar\": {\"outlinewidth\": 0, \"ticks\": \"\"}}, \"type\": \"scattercarpet\"}], \"scattergeo\": [{\"marker\": {\"colorbar\": {\"outlinewidth\": 0, \"ticks\": \"\"}}, \"type\": \"scattergeo\"}], \"scattergl\": [{\"marker\": {\"colorbar\": {\"outlinewidth\": 0, \"ticks\": \"\"}}, \"type\": \"scattergl\"}], \"scattermapbox\": [{\"marker\": {\"colorbar\": {\"outlinewidth\": 0, \"ticks\": \"\"}}, \"type\": \"scattermapbox\"}], \"scatterpolar\": [{\"marker\": {\"colorbar\": {\"outlinewidth\": 0, \"ticks\": \"\"}}, \"type\": \"scatterpolar\"}], \"scatterpolargl\": [{\"marker\": {\"colorbar\": {\"outlinewidth\": 0, \"ticks\": \"\"}}, \"type\": \"scatterpolargl\"}], \"scatterternary\": [{\"marker\": {\"colorbar\": {\"outlinewidth\": 0, \"ticks\": \"\"}}, \"type\": \"scatterternary\"}], \"surface\": [{\"colorbar\": {\"outlinewidth\": 0, \"ticks\": \"\"}, \"colorscale\": [[0.0, \"#0d0887\"], [0.1111111111111111, \"#46039f\"], [0.2222222222222222, \"#7201a8\"], [0.3333333333333333, \"#9c179e\"], [0.4444444444444444, \"#bd3786\"], [0.5555555555555556, \"#d8576b\"], [0.6666666666666666, \"#ed7953\"], [0.7777777777777778, \"#fb9f3a\"], [0.8888888888888888, \"#fdca26\"], [1.0, \"#f0f921\"]], \"type\": \"surface\"}], \"table\": [{\"cells\": {\"fill\": {\"color\": \"#EBF0F8\"}, \"line\": {\"color\": \"white\"}}, \"header\": {\"fill\": {\"color\": \"#C8D4E3\"}, \"line\": {\"color\": \"white\"}}, \"type\": \"table\"}]}, \"layout\": {\"annotationdefaults\": {\"arrowcolor\": \"#2a3f5f\", \"arrowhead\": 0, \"arrowwidth\": 1}, \"coloraxis\": {\"colorbar\": {\"outlinewidth\": 0, \"ticks\": \"\"}}, \"colorscale\": {\"diverging\": [[0, \"#8e0152\"], [0.1, \"#c51b7d\"], [0.2, \"#de77ae\"], [0.3, \"#f1b6da\"], [0.4, \"#fde0ef\"], [0.5, \"#f7f7f7\"], [0.6, \"#e6f5d0\"], [0.7, \"#b8e186\"], [0.8, \"#7fbc41\"], [0.9, \"#4d9221\"], [1, \"#276419\"]], \"sequential\": [[0.0, \"#0d0887\"], [0.1111111111111111, \"#46039f\"], [0.2222222222222222, \"#7201a8\"], [0.3333333333333333, \"#9c179e\"], [0.4444444444444444, \"#bd3786\"], [0.5555555555555556, \"#d8576b\"], [0.6666666666666666, \"#ed7953\"], [0.7777777777777778, \"#fb9f3a\"], [0.8888888888888888, \"#fdca26\"], [1.0, \"#f0f921\"]], \"sequentialminus\": [[0.0, \"#0d0887\"], [0.1111111111111111, \"#46039f\"], [0.2222222222222222, \"#7201a8\"], [0.3333333333333333, \"#9c179e\"], [0.4444444444444444, \"#bd3786\"], [0.5555555555555556, \"#d8576b\"], [0.6666666666666666, \"#ed7953\"], [0.7777777777777778, \"#fb9f3a\"], [0.8888888888888888, \"#fdca26\"], [1.0, \"#f0f921\"]]}, \"colorway\": [\"#636efa\", \"#EF553B\", \"#00cc96\", \"#ab63fa\", \"#FFA15A\", \"#19d3f3\", \"#FF6692\", \"#B6E880\", \"#FF97FF\", \"#FECB52\"], \"font\": {\"color\": \"#2a3f5f\"}, \"geo\": {\"bgcolor\": \"white\", \"lakecolor\": \"white\", \"landcolor\": \"#E5ECF6\", \"showlakes\": true, \"showland\": true, \"subunitcolor\": \"white\"}, \"hoverlabel\": {\"align\": \"left\"}, \"hovermode\": \"closest\", \"mapbox\": {\"style\": \"light\"}, \"paper_bgcolor\": \"white\", \"plot_bgcolor\": \"#E5ECF6\", \"polar\": {\"angularaxis\": {\"gridcolor\": \"white\", \"linecolor\": \"white\", \"ticks\": \"\"}, \"bgcolor\": \"#E5ECF6\", \"radialaxis\": {\"gridcolor\": \"white\", \"linecolor\": \"white\", \"ticks\": \"\"}}, \"scene\": {\"xaxis\": {\"backgroundcolor\": \"#E5ECF6\", \"gridcolor\": \"white\", \"gridwidth\": 2, \"linecolor\": \"white\", \"showbackground\": true, \"ticks\": \"\", \"zerolinecolor\": \"white\"}, \"yaxis\": {\"backgroundcolor\": \"#E5ECF6\", \"gridcolor\": \"white\", \"gridwidth\": 2, \"linecolor\": \"white\", \"showbackground\": true, \"ticks\": \"\", \"zerolinecolor\": \"white\"}, \"zaxis\": {\"backgroundcolor\": \"#E5ECF6\", \"gridcolor\": \"white\", \"gridwidth\": 2, \"linecolor\": \"white\", \"showbackground\": true, \"ticks\": \"\", \"zerolinecolor\": \"white\"}}, \"shapedefaults\": {\"line\": {\"color\": \"#2a3f5f\"}}, \"ternary\": {\"aaxis\": {\"gridcolor\": \"white\", \"linecolor\": \"white\", \"ticks\": \"\"}, \"baxis\": {\"gridcolor\": \"white\", \"linecolor\": \"white\", \"ticks\": \"\"}, \"bgcolor\": \"#E5ECF6\", \"caxis\": {\"gridcolor\": \"white\", \"linecolor\": \"white\", \"ticks\": \"\"}}, \"title\": {\"x\": 0.05}, \"xaxis\": {\"automargin\": true, \"gridcolor\": \"white\", \"linecolor\": \"white\", \"ticks\": \"\", \"title\": {\"standoff\": 15}, \"zerolinecolor\": \"white\", \"zerolinewidth\": 2}, \"yaxis\": {\"automargin\": true, \"gridcolor\": \"white\", \"linecolor\": \"white\", \"ticks\": \"\", \"title\": {\"standoff\": 15}, \"zerolinecolor\": \"white\", \"zerolinewidth\": 2}}}},\n",
       "                        {\"responsive\": true}\n",
       "                    ).then(function(){\n",
       "                            \n",
       "var gd = document.getElementById('fcb0b36e-1887-4888-816c-50e91ed442df');\n",
       "var x = new MutationObserver(function (mutations, observer) {{\n",
       "        var display = window.getComputedStyle(gd).display;\n",
       "        if (!display || display === 'none') {{\n",
       "            console.log([gd, 'removed!']);\n",
       "            Plotly.purge(gd);\n",
       "            observer.disconnect();\n",
       "        }}\n",
       "}});\n",
       "\n",
       "// Listen for the removal of the full notebook cells\n",
       "var notebookContainer = gd.closest('#notebook-container');\n",
       "if (notebookContainer) {{\n",
       "    x.observe(notebookContainer, {childList: true});\n",
       "}}\n",
       "\n",
       "// Listen for the clearing of the current output cell\n",
       "var outputEl = gd.closest('.output');\n",
       "if (outputEl) {{\n",
       "    x.observe(outputEl, {childList: true});\n",
       "}}\n",
       "\n",
       "                        })\n",
       "                };\n",
       "                });\n",
       "            </script>\n",
       "        </div>"
      ]
     },
     "metadata": {},
     "output_type": "display_data"
    }
   ],
   "source": [
    "fig=go.Figure(go.Bar(x=df['노선명'],y=df['소   계'],name='전체거리'))\n",
    "fig.add_trace(go.Bar(x=df['노선명'],y=df['2차로'],name='2차로길이'))\n",
    "fig.add_trace(go.Bar(x=df['노선명'],y=df['4차로'],name='4차로길이'))\n",
    "fig.add_trace(go.Bar(x=df['노선명'],y=df['6차로'],name='6차로길이'))\n",
    "fig.add_trace(go.Bar(x=df['노선명'],y=df['8차로'],name='8차로길이'))\n",
    "fig.add_trace(go.Bar(x=df['노선명'],y=df['10차로\\n이상'],name='10차로 이상길이'))\n",
    "\n",
    "#fig.update_layout(barmode='stack') #차트 한줄로 스택!\n",
    "#fig.update_xaxes(categoryorder='category ascending') 오름차순 정렬\n",
    "fig.show()"
   ]
  },
  {
   "cell_type": "code",
   "execution_count": 35,
   "id": "b98f57b4",
   "metadata": {
    "scrolled": false
   },
   "outputs": [
    {
     "data": {
      "application/vnd.plotly.v1+json": {
       "config": {
        "plotlyServerURL": "https://plot.ly"
       },
       "data": [
        {
         "name": "전체거리",
         "type": "bar",
         "x": [
          "경부선",
          "남해선",
          "광주대구선",
          "함양울산선",
          "서해안선",
          "울산선",
          "평택파주선",
          "새만금포항선",
          "호남선",
          "순천완주선",
          "세종포천선",
          "당진상주선",
          "옥산~오창선",
          "중부선",
          "제2중부선",
          "평택제천선",
          "중부내륙선",
          "영동선",
          "광주원주선",
          "중앙선",
          "서울양양선",
          "동해선",
          "수도권\n제1순환선",
          "남해제1지선",
          "남해제2지선",
          "남해제3지선",
          "제2경인선",
          "경인선",
          "인천국제\n공항선",
          "서천공주선",
          "평택시흥선",
          "용인서울선",
          "새만금포항선의지선",
          "호남선지선",
          "고창담양선",
          "대전남부\n순환선",
          "상주영천선",
          "수도권\n제2순환선",
          "중부내륙지선",
          "중앙선지선",
          "부산외곽선",
          null
         ],
         "y": [
          415.34,
          273.2,
          212.88,
          44.98,
          336.65,
          14.3,
          89.27,
          105.86,
          276.26,
          117.78,
          50.6,
          278.9,
          12.1,
          332.48,
          31.08,
          126.91,
          302.03,
          234.4,
          56.95,
          370.76,
          151.07,
          222.63,
          128.02,
          17.88,
          20.25,
          15.26,
          69.98,
          13.44,
          36.55,
          61.36,
          40.3,
          25.45,
          24.49,
          53.97,
          42.5,
          13.28,
          94,
          38.14,
          30,
          17.42,
          48.8,
          null
         ]
        },
        {
         "name": "2차로길이",
         "type": "bar",
         "x": [
          "경부선",
          "남해선",
          "광주대구선",
          "함양울산선",
          "서해안선",
          "울산선",
          "평택파주선",
          "새만금포항선",
          "호남선",
          "순천완주선",
          "세종포천선",
          "당진상주선",
          "옥산~오창선",
          "중부선",
          "제2중부선",
          "평택제천선",
          "중부내륙선",
          "영동선",
          "광주원주선",
          "중앙선",
          "서울양양선",
          "동해선",
          "수도권\n제1순환선",
          "남해제1지선",
          "남해제2지선",
          "남해제3지선",
          "제2경인선",
          "경인선",
          "인천국제\n공항선",
          "서천공주선",
          "평택시흥선",
          "용인서울선",
          "새만금포항선의지선",
          "호남선지선",
          "고창담양선",
          "대전남부\n순환선",
          "상주영천선",
          "수도권\n제2순환선",
          "중부내륙지선",
          "중앙선지선",
          "부산외곽선",
          null
         ],
         "y": [
          0,
          0,
          0,
          0,
          0,
          0,
          2.4,
          0,
          0,
          0,
          0,
          0,
          0,
          0,
          0,
          0,
          0,
          0,
          0,
          0,
          0,
          0,
          0,
          0,
          0,
          0,
          2.18,
          0,
          0,
          0,
          0,
          0,
          0,
          0,
          0,
          0,
          0,
          0,
          0,
          0,
          0,
          null
         ]
        },
        {
         "name": "4차로길이",
         "type": "bar",
         "x": [
          "경부선",
          "남해선",
          "광주대구선",
          "함양울산선",
          "서해안선",
          "울산선",
          "평택파주선",
          "새만금포항선",
          "호남선",
          "순천완주선",
          "세종포천선",
          "당진상주선",
          "옥산~오창선",
          "중부선",
          "제2중부선",
          "평택제천선",
          "중부내륙선",
          "영동선",
          "광주원주선",
          "중앙선",
          "서울양양선",
          "동해선",
          "수도권\n제1순환선",
          "남해제1지선",
          "남해제2지선",
          "남해제3지선",
          "제2경인선",
          "경인선",
          "인천국제\n공항선",
          "서천공주선",
          "평택시흥선",
          "용인서울선",
          "새만금포항선의지선",
          "호남선지선",
          "고창담양선",
          "대전남부\n순환선",
          "상주영천선",
          "수도권\n제2순환선",
          "중부내륙지선",
          "중앙선지선",
          "부산외곽선",
          null
         ],
         "y": [
          13.51,
          190.61,
          198.53,
          44.98,
          255.57,
          10.57,
          38.65,
          72.68,
          249.3,
          117.78,
          22.3,
          278.9,
          12.1,
          322.83,
          31.08,
          101.11,
          302.03,
          145.99,
          56.95,
          368.87,
          137.87,
          179.68,
          0,
          17.88,
          0,
          14.33,
          14.83,
          0,
          0,
          61.36,
          35.561,
          4.9,
          24.49,
          53.97,
          42.5,
          13.28,
          91.29,
          22.74,
          15.56,
          10.98,
          48.8,
          null
         ]
        },
        {
         "name": "6차로길이",
         "type": "bar",
         "x": [
          "경부선",
          "남해선",
          "광주대구선",
          "함양울산선",
          "서해안선",
          "울산선",
          "평택파주선",
          "새만금포항선",
          "호남선",
          "순천완주선",
          "세종포천선",
          "당진상주선",
          "옥산~오창선",
          "중부선",
          "제2중부선",
          "평택제천선",
          "중부내륙선",
          "영동선",
          "광주원주선",
          "중앙선",
          "서울양양선",
          "동해선",
          "수도권\n제1순환선",
          "남해제1지선",
          "남해제2지선",
          "남해제3지선",
          "제2경인선",
          "경인선",
          "인천국제\n공항선",
          "서천공주선",
          "평택시흥선",
          "용인서울선",
          "새만금포항선의지선",
          "호남선지선",
          "고창담양선",
          "대전남부\n순환선",
          "상주영천선",
          "수도권\n제2순환선",
          "중부내륙지선",
          "중앙선지선",
          "부산외곽선",
          null
         ],
         "y": [
          221.89,
          19.4,
          14.35,
          0,
          53.21,
          2.79,
          48.22,
          33.18,
          12.68,
          0,
          28.3,
          0,
          0,
          0,
          0,
          25.8,
          0,
          34.95,
          0,
          1.89,
          11.22,
          42.95,
          0,
          0,
          2.02,
          0.54,
          50.14,
          1.14,
          9.3,
          0,
          4.109,
          20.55,
          0,
          0,
          0,
          0,
          2.71,
          15.4,
          6.66,
          6.44,
          0,
          null
         ]
        },
        {
         "name": "8차로길이",
         "type": "bar",
         "x": [
          "경부선",
          "남해선",
          "광주대구선",
          "함양울산선",
          "서해안선",
          "울산선",
          "평택파주선",
          "새만금포항선",
          "호남선",
          "순천완주선",
          "세종포천선",
          "당진상주선",
          "옥산~오창선",
          "중부선",
          "제2중부선",
          "평택제천선",
          "중부내륙선",
          "영동선",
          "광주원주선",
          "중앙선",
          "서울양양선",
          "동해선",
          "수도권\n제1순환선",
          "남해제1지선",
          "남해제2지선",
          "남해제3지선",
          "제2경인선",
          "경인선",
          "인천국제\n공항선",
          "서천공주선",
          "평택시흥선",
          "용인서울선",
          "새만금포항선의지선",
          "호남선지선",
          "고창담양선",
          "대전남부\n순환선",
          "상주영천선",
          "수도권\n제2순환선",
          "중부내륙지선",
          "중앙선지선",
          "부산외곽선",
          null
         ],
         "y": [
          159.51,
          63.19,
          0,
          0,
          9.64,
          0.94,
          0,
          0,
          14.28,
          0,
          0,
          0,
          0,
          9.65,
          0,
          0,
          0,
          43.31,
          0,
          0,
          1.98,
          0,
          126.92,
          0,
          18.23,
          0,
          2.83,
          12.3,
          27.25,
          0,
          0,
          0,
          0,
          0,
          0,
          0,
          0,
          0,
          7.78,
          0,
          0,
          null
         ]
        },
        {
         "name": "10차로 이상길이",
         "type": "bar",
         "x": [
          "경부선",
          "남해선",
          "광주대구선",
          "함양울산선",
          "서해안선",
          "울산선",
          "평택파주선",
          "새만금포항선",
          "호남선",
          "순천완주선",
          "세종포천선",
          "당진상주선",
          "옥산~오창선",
          "중부선",
          "제2중부선",
          "평택제천선",
          "중부내륙선",
          "영동선",
          "광주원주선",
          "중앙선",
          "서울양양선",
          "동해선",
          "수도권\n제1순환선",
          "남해제1지선",
          "남해제2지선",
          "남해제3지선",
          "제2경인선",
          "경인선",
          "인천국제\n공항선",
          "서천공주선",
          "평택시흥선",
          "용인서울선",
          "새만금포항선의지선",
          "호남선지선",
          "고창담양선",
          "대전남부\n순환선",
          "상주영천선",
          "수도권\n제2순환선",
          "중부내륙지선",
          "중앙선지선",
          "부산외곽선",
          null
         ],
         "y": [
          20.43,
          0,
          0,
          0,
          18.23,
          0,
          0,
          0,
          0,
          0,
          0,
          0,
          0,
          0,
          0,
          0,
          0,
          10.15,
          0,
          0,
          0,
          0,
          1.1,
          0,
          0,
          0.39,
          0,
          0,
          0,
          0,
          0.63,
          0,
          0,
          0,
          0,
          0,
          0,
          0,
          0,
          0,
          0,
          null
         ]
        }
       ],
       "layout": {
        "barmode": "stack",
        "template": {
         "data": {
          "bar": [
           {
            "error_x": {
             "color": "#2a3f5f"
            },
            "error_y": {
             "color": "#2a3f5f"
            },
            "marker": {
             "line": {
              "color": "#E5ECF6",
              "width": 0.5
             }
            },
            "type": "bar"
           }
          ],
          "barpolar": [
           {
            "marker": {
             "line": {
              "color": "#E5ECF6",
              "width": 0.5
             }
            },
            "type": "barpolar"
           }
          ],
          "carpet": [
           {
            "aaxis": {
             "endlinecolor": "#2a3f5f",
             "gridcolor": "white",
             "linecolor": "white",
             "minorgridcolor": "white",
             "startlinecolor": "#2a3f5f"
            },
            "baxis": {
             "endlinecolor": "#2a3f5f",
             "gridcolor": "white",
             "linecolor": "white",
             "minorgridcolor": "white",
             "startlinecolor": "#2a3f5f"
            },
            "type": "carpet"
           }
          ],
          "choropleth": [
           {
            "colorbar": {
             "outlinewidth": 0,
             "ticks": ""
            },
            "type": "choropleth"
           }
          ],
          "contour": [
           {
            "colorbar": {
             "outlinewidth": 0,
             "ticks": ""
            },
            "colorscale": [
             [
              0,
              "#0d0887"
             ],
             [
              0.1111111111111111,
              "#46039f"
             ],
             [
              0.2222222222222222,
              "#7201a8"
             ],
             [
              0.3333333333333333,
              "#9c179e"
             ],
             [
              0.4444444444444444,
              "#bd3786"
             ],
             [
              0.5555555555555556,
              "#d8576b"
             ],
             [
              0.6666666666666666,
              "#ed7953"
             ],
             [
              0.7777777777777778,
              "#fb9f3a"
             ],
             [
              0.8888888888888888,
              "#fdca26"
             ],
             [
              1,
              "#f0f921"
             ]
            ],
            "type": "contour"
           }
          ],
          "contourcarpet": [
           {
            "colorbar": {
             "outlinewidth": 0,
             "ticks": ""
            },
            "type": "contourcarpet"
           }
          ],
          "heatmap": [
           {
            "colorbar": {
             "outlinewidth": 0,
             "ticks": ""
            },
            "colorscale": [
             [
              0,
              "#0d0887"
             ],
             [
              0.1111111111111111,
              "#46039f"
             ],
             [
              0.2222222222222222,
              "#7201a8"
             ],
             [
              0.3333333333333333,
              "#9c179e"
             ],
             [
              0.4444444444444444,
              "#bd3786"
             ],
             [
              0.5555555555555556,
              "#d8576b"
             ],
             [
              0.6666666666666666,
              "#ed7953"
             ],
             [
              0.7777777777777778,
              "#fb9f3a"
             ],
             [
              0.8888888888888888,
              "#fdca26"
             ],
             [
              1,
              "#f0f921"
             ]
            ],
            "type": "heatmap"
           }
          ],
          "heatmapgl": [
           {
            "colorbar": {
             "outlinewidth": 0,
             "ticks": ""
            },
            "colorscale": [
             [
              0,
              "#0d0887"
             ],
             [
              0.1111111111111111,
              "#46039f"
             ],
             [
              0.2222222222222222,
              "#7201a8"
             ],
             [
              0.3333333333333333,
              "#9c179e"
             ],
             [
              0.4444444444444444,
              "#bd3786"
             ],
             [
              0.5555555555555556,
              "#d8576b"
             ],
             [
              0.6666666666666666,
              "#ed7953"
             ],
             [
              0.7777777777777778,
              "#fb9f3a"
             ],
             [
              0.8888888888888888,
              "#fdca26"
             ],
             [
              1,
              "#f0f921"
             ]
            ],
            "type": "heatmapgl"
           }
          ],
          "histogram": [
           {
            "marker": {
             "colorbar": {
              "outlinewidth": 0,
              "ticks": ""
             }
            },
            "type": "histogram"
           }
          ],
          "histogram2d": [
           {
            "colorbar": {
             "outlinewidth": 0,
             "ticks": ""
            },
            "colorscale": [
             [
              0,
              "#0d0887"
             ],
             [
              0.1111111111111111,
              "#46039f"
             ],
             [
              0.2222222222222222,
              "#7201a8"
             ],
             [
              0.3333333333333333,
              "#9c179e"
             ],
             [
              0.4444444444444444,
              "#bd3786"
             ],
             [
              0.5555555555555556,
              "#d8576b"
             ],
             [
              0.6666666666666666,
              "#ed7953"
             ],
             [
              0.7777777777777778,
              "#fb9f3a"
             ],
             [
              0.8888888888888888,
              "#fdca26"
             ],
             [
              1,
              "#f0f921"
             ]
            ],
            "type": "histogram2d"
           }
          ],
          "histogram2dcontour": [
           {
            "colorbar": {
             "outlinewidth": 0,
             "ticks": ""
            },
            "colorscale": [
             [
              0,
              "#0d0887"
             ],
             [
              0.1111111111111111,
              "#46039f"
             ],
             [
              0.2222222222222222,
              "#7201a8"
             ],
             [
              0.3333333333333333,
              "#9c179e"
             ],
             [
              0.4444444444444444,
              "#bd3786"
             ],
             [
              0.5555555555555556,
              "#d8576b"
             ],
             [
              0.6666666666666666,
              "#ed7953"
             ],
             [
              0.7777777777777778,
              "#fb9f3a"
             ],
             [
              0.8888888888888888,
              "#fdca26"
             ],
             [
              1,
              "#f0f921"
             ]
            ],
            "type": "histogram2dcontour"
           }
          ],
          "mesh3d": [
           {
            "colorbar": {
             "outlinewidth": 0,
             "ticks": ""
            },
            "type": "mesh3d"
           }
          ],
          "parcoords": [
           {
            "line": {
             "colorbar": {
              "outlinewidth": 0,
              "ticks": ""
             }
            },
            "type": "parcoords"
           }
          ],
          "pie": [
           {
            "automargin": true,
            "type": "pie"
           }
          ],
          "scatter": [
           {
            "marker": {
             "colorbar": {
              "outlinewidth": 0,
              "ticks": ""
             }
            },
            "type": "scatter"
           }
          ],
          "scatter3d": [
           {
            "line": {
             "colorbar": {
              "outlinewidth": 0,
              "ticks": ""
             }
            },
            "marker": {
             "colorbar": {
              "outlinewidth": 0,
              "ticks": ""
             }
            },
            "type": "scatter3d"
           }
          ],
          "scattercarpet": [
           {
            "marker": {
             "colorbar": {
              "outlinewidth": 0,
              "ticks": ""
             }
            },
            "type": "scattercarpet"
           }
          ],
          "scattergeo": [
           {
            "marker": {
             "colorbar": {
              "outlinewidth": 0,
              "ticks": ""
             }
            },
            "type": "scattergeo"
           }
          ],
          "scattergl": [
           {
            "marker": {
             "colorbar": {
              "outlinewidth": 0,
              "ticks": ""
             }
            },
            "type": "scattergl"
           }
          ],
          "scattermapbox": [
           {
            "marker": {
             "colorbar": {
              "outlinewidth": 0,
              "ticks": ""
             }
            },
            "type": "scattermapbox"
           }
          ],
          "scatterpolar": [
           {
            "marker": {
             "colorbar": {
              "outlinewidth": 0,
              "ticks": ""
             }
            },
            "type": "scatterpolar"
           }
          ],
          "scatterpolargl": [
           {
            "marker": {
             "colorbar": {
              "outlinewidth": 0,
              "ticks": ""
             }
            },
            "type": "scatterpolargl"
           }
          ],
          "scatterternary": [
           {
            "marker": {
             "colorbar": {
              "outlinewidth": 0,
              "ticks": ""
             }
            },
            "type": "scatterternary"
           }
          ],
          "surface": [
           {
            "colorbar": {
             "outlinewidth": 0,
             "ticks": ""
            },
            "colorscale": [
             [
              0,
              "#0d0887"
             ],
             [
              0.1111111111111111,
              "#46039f"
             ],
             [
              0.2222222222222222,
              "#7201a8"
             ],
             [
              0.3333333333333333,
              "#9c179e"
             ],
             [
              0.4444444444444444,
              "#bd3786"
             ],
             [
              0.5555555555555556,
              "#d8576b"
             ],
             [
              0.6666666666666666,
              "#ed7953"
             ],
             [
              0.7777777777777778,
              "#fb9f3a"
             ],
             [
              0.8888888888888888,
              "#fdca26"
             ],
             [
              1,
              "#f0f921"
             ]
            ],
            "type": "surface"
           }
          ],
          "table": [
           {
            "cells": {
             "fill": {
              "color": "#EBF0F8"
             },
             "line": {
              "color": "white"
             }
            },
            "header": {
             "fill": {
              "color": "#C8D4E3"
             },
             "line": {
              "color": "white"
             }
            },
            "type": "table"
           }
          ]
         },
         "layout": {
          "annotationdefaults": {
           "arrowcolor": "#2a3f5f",
           "arrowhead": 0,
           "arrowwidth": 1
          },
          "coloraxis": {
           "colorbar": {
            "outlinewidth": 0,
            "ticks": ""
           }
          },
          "colorscale": {
           "diverging": [
            [
             0,
             "#8e0152"
            ],
            [
             0.1,
             "#c51b7d"
            ],
            [
             0.2,
             "#de77ae"
            ],
            [
             0.3,
             "#f1b6da"
            ],
            [
             0.4,
             "#fde0ef"
            ],
            [
             0.5,
             "#f7f7f7"
            ],
            [
             0.6,
             "#e6f5d0"
            ],
            [
             0.7,
             "#b8e186"
            ],
            [
             0.8,
             "#7fbc41"
            ],
            [
             0.9,
             "#4d9221"
            ],
            [
             1,
             "#276419"
            ]
           ],
           "sequential": [
            [
             0,
             "#0d0887"
            ],
            [
             0.1111111111111111,
             "#46039f"
            ],
            [
             0.2222222222222222,
             "#7201a8"
            ],
            [
             0.3333333333333333,
             "#9c179e"
            ],
            [
             0.4444444444444444,
             "#bd3786"
            ],
            [
             0.5555555555555556,
             "#d8576b"
            ],
            [
             0.6666666666666666,
             "#ed7953"
            ],
            [
             0.7777777777777778,
             "#fb9f3a"
            ],
            [
             0.8888888888888888,
             "#fdca26"
            ],
            [
             1,
             "#f0f921"
            ]
           ],
           "sequentialminus": [
            [
             0,
             "#0d0887"
            ],
            [
             0.1111111111111111,
             "#46039f"
            ],
            [
             0.2222222222222222,
             "#7201a8"
            ],
            [
             0.3333333333333333,
             "#9c179e"
            ],
            [
             0.4444444444444444,
             "#bd3786"
            ],
            [
             0.5555555555555556,
             "#d8576b"
            ],
            [
             0.6666666666666666,
             "#ed7953"
            ],
            [
             0.7777777777777778,
             "#fb9f3a"
            ],
            [
             0.8888888888888888,
             "#fdca26"
            ],
            [
             1,
             "#f0f921"
            ]
           ]
          },
          "colorway": [
           "#636efa",
           "#EF553B",
           "#00cc96",
           "#ab63fa",
           "#FFA15A",
           "#19d3f3",
           "#FF6692",
           "#B6E880",
           "#FF97FF",
           "#FECB52"
          ],
          "font": {
           "color": "#2a3f5f"
          },
          "geo": {
           "bgcolor": "white",
           "lakecolor": "white",
           "landcolor": "#E5ECF6",
           "showlakes": true,
           "showland": true,
           "subunitcolor": "white"
          },
          "hoverlabel": {
           "align": "left"
          },
          "hovermode": "closest",
          "mapbox": {
           "style": "light"
          },
          "paper_bgcolor": "white",
          "plot_bgcolor": "#E5ECF6",
          "polar": {
           "angularaxis": {
            "gridcolor": "white",
            "linecolor": "white",
            "ticks": ""
           },
           "bgcolor": "#E5ECF6",
           "radialaxis": {
            "gridcolor": "white",
            "linecolor": "white",
            "ticks": ""
           }
          },
          "scene": {
           "xaxis": {
            "backgroundcolor": "#E5ECF6",
            "gridcolor": "white",
            "gridwidth": 2,
            "linecolor": "white",
            "showbackground": true,
            "ticks": "",
            "zerolinecolor": "white"
           },
           "yaxis": {
            "backgroundcolor": "#E5ECF6",
            "gridcolor": "white",
            "gridwidth": 2,
            "linecolor": "white",
            "showbackground": true,
            "ticks": "",
            "zerolinecolor": "white"
           },
           "zaxis": {
            "backgroundcolor": "#E5ECF6",
            "gridcolor": "white",
            "gridwidth": 2,
            "linecolor": "white",
            "showbackground": true,
            "ticks": "",
            "zerolinecolor": "white"
           }
          },
          "shapedefaults": {
           "line": {
            "color": "#2a3f5f"
           }
          },
          "ternary": {
           "aaxis": {
            "gridcolor": "white",
            "linecolor": "white",
            "ticks": ""
           },
           "baxis": {
            "gridcolor": "white",
            "linecolor": "white",
            "ticks": ""
           },
           "bgcolor": "#E5ECF6",
           "caxis": {
            "gridcolor": "white",
            "linecolor": "white",
            "ticks": ""
           }
          },
          "title": {
           "x": 0.05
          },
          "xaxis": {
           "automargin": true,
           "gridcolor": "white",
           "linecolor": "white",
           "ticks": "",
           "title": {
            "standoff": 15
           },
           "zerolinecolor": "white",
           "zerolinewidth": 2
          },
          "yaxis": {
           "automargin": true,
           "gridcolor": "white",
           "linecolor": "white",
           "ticks": "",
           "title": {
            "standoff": 15
           },
           "zerolinecolor": "white",
           "zerolinewidth": 2
          }
         }
        },
        "xaxis": {
         "categoryorder": "category ascending"
        }
       }
      },
      "text/html": [
       "<div>\n",
       "        \n",
       "        \n",
       "            <div id=\"8100fc92-19af-4b93-b4a4-e7d75126a8bb\" class=\"plotly-graph-div\" style=\"height:525px; width:100%;\"></div>\n",
       "            <script type=\"text/javascript\">\n",
       "                require([\"plotly\"], function(Plotly) {\n",
       "                    window.PLOTLYENV=window.PLOTLYENV || {};\n",
       "                    \n",
       "                if (document.getElementById(\"8100fc92-19af-4b93-b4a4-e7d75126a8bb\")) {\n",
       "                    Plotly.newPlot(\n",
       "                        '8100fc92-19af-4b93-b4a4-e7d75126a8bb',\n",
       "                        [{\"name\": \"\\uc804\\uccb4\\uac70\\ub9ac\", \"type\": \"bar\", \"x\": [\"\\uacbd\\ubd80\\uc120\", \"\\ub0a8\\ud574\\uc120\", \"\\uad11\\uc8fc\\ub300\\uad6c\\uc120\", \"\\ud568\\uc591\\uc6b8\\uc0b0\\uc120\", \"\\uc11c\\ud574\\uc548\\uc120\", \"\\uc6b8\\uc0b0\\uc120\", \"\\ud3c9\\ud0dd\\ud30c\\uc8fc\\uc120\", \"\\uc0c8\\ub9cc\\uae08\\ud3ec\\ud56d\\uc120\", \"\\ud638\\ub0a8\\uc120\", \"\\uc21c\\ucc9c\\uc644\\uc8fc\\uc120\", \"\\uc138\\uc885\\ud3ec\\ucc9c\\uc120\", \"\\ub2f9\\uc9c4\\uc0c1\\uc8fc\\uc120\", \"\\uc625\\uc0b0~\\uc624\\ucc3d\\uc120\", \"\\uc911\\ubd80\\uc120\", \"\\uc81c2\\uc911\\ubd80\\uc120\", \"\\ud3c9\\ud0dd\\uc81c\\ucc9c\\uc120\", \"\\uc911\\ubd80\\ub0b4\\ub959\\uc120\", \"\\uc601\\ub3d9\\uc120\", \"\\uad11\\uc8fc\\uc6d0\\uc8fc\\uc120\", \"\\uc911\\uc559\\uc120\", \"\\uc11c\\uc6b8\\uc591\\uc591\\uc120\", \"\\ub3d9\\ud574\\uc120\", \"\\uc218\\ub3c4\\uad8c\\n\\uc81c1\\uc21c\\ud658\\uc120\", \"\\ub0a8\\ud574\\uc81c1\\uc9c0\\uc120\", \"\\ub0a8\\ud574\\uc81c2\\uc9c0\\uc120\", \"\\ub0a8\\ud574\\uc81c3\\uc9c0\\uc120\", \"\\uc81c2\\uacbd\\uc778\\uc120\", \"\\uacbd\\uc778\\uc120\", \"\\uc778\\ucc9c\\uad6d\\uc81c\\n\\uacf5\\ud56d\\uc120\", \"\\uc11c\\ucc9c\\uacf5\\uc8fc\\uc120\", \"\\ud3c9\\ud0dd\\uc2dc\\ud765\\uc120\", \"\\uc6a9\\uc778\\uc11c\\uc6b8\\uc120\", \"\\uc0c8\\ub9cc\\uae08\\ud3ec\\ud56d\\uc120\\uc758\\uc9c0\\uc120\", \"\\ud638\\ub0a8\\uc120\\uc9c0\\uc120\", \"\\uace0\\ucc3d\\ub2f4\\uc591\\uc120\", \"\\ub300\\uc804\\ub0a8\\ubd80\\n\\uc21c\\ud658\\uc120\", \"\\uc0c1\\uc8fc\\uc601\\ucc9c\\uc120\", \"\\uc218\\ub3c4\\uad8c\\n\\uc81c2\\uc21c\\ud658\\uc120\", \"\\uc911\\ubd80\\ub0b4\\ub959\\uc9c0\\uc120\", \"\\uc911\\uc559\\uc120\\uc9c0\\uc120\", \"\\ubd80\\uc0b0\\uc678\\uacfd\\uc120\", null], \"y\": [415.34, 273.2, 212.88, 44.98, 336.65, 14.3, 89.27, 105.86, 276.26, 117.78, 50.6, 278.9, 12.1, 332.48, 31.08, 126.91, 302.03, 234.4, 56.95, 370.76, 151.07, 222.63, 128.02, 17.88, 20.25, 15.26, 69.98, 13.44, 36.55, 61.36, 40.3, 25.45, 24.49, 53.97, 42.5, 13.28, 94.0, 38.14, 30.0, 17.42, 48.8, null]}, {\"name\": \"2\\ucc28\\ub85c\\uae38\\uc774\", \"type\": \"bar\", \"x\": [\"\\uacbd\\ubd80\\uc120\", \"\\ub0a8\\ud574\\uc120\", \"\\uad11\\uc8fc\\ub300\\uad6c\\uc120\", \"\\ud568\\uc591\\uc6b8\\uc0b0\\uc120\", \"\\uc11c\\ud574\\uc548\\uc120\", \"\\uc6b8\\uc0b0\\uc120\", \"\\ud3c9\\ud0dd\\ud30c\\uc8fc\\uc120\", \"\\uc0c8\\ub9cc\\uae08\\ud3ec\\ud56d\\uc120\", \"\\ud638\\ub0a8\\uc120\", \"\\uc21c\\ucc9c\\uc644\\uc8fc\\uc120\", \"\\uc138\\uc885\\ud3ec\\ucc9c\\uc120\", \"\\ub2f9\\uc9c4\\uc0c1\\uc8fc\\uc120\", \"\\uc625\\uc0b0~\\uc624\\ucc3d\\uc120\", \"\\uc911\\ubd80\\uc120\", \"\\uc81c2\\uc911\\ubd80\\uc120\", \"\\ud3c9\\ud0dd\\uc81c\\ucc9c\\uc120\", \"\\uc911\\ubd80\\ub0b4\\ub959\\uc120\", \"\\uc601\\ub3d9\\uc120\", \"\\uad11\\uc8fc\\uc6d0\\uc8fc\\uc120\", \"\\uc911\\uc559\\uc120\", \"\\uc11c\\uc6b8\\uc591\\uc591\\uc120\", \"\\ub3d9\\ud574\\uc120\", \"\\uc218\\ub3c4\\uad8c\\n\\uc81c1\\uc21c\\ud658\\uc120\", \"\\ub0a8\\ud574\\uc81c1\\uc9c0\\uc120\", \"\\ub0a8\\ud574\\uc81c2\\uc9c0\\uc120\", \"\\ub0a8\\ud574\\uc81c3\\uc9c0\\uc120\", \"\\uc81c2\\uacbd\\uc778\\uc120\", \"\\uacbd\\uc778\\uc120\", \"\\uc778\\ucc9c\\uad6d\\uc81c\\n\\uacf5\\ud56d\\uc120\", \"\\uc11c\\ucc9c\\uacf5\\uc8fc\\uc120\", \"\\ud3c9\\ud0dd\\uc2dc\\ud765\\uc120\", \"\\uc6a9\\uc778\\uc11c\\uc6b8\\uc120\", \"\\uc0c8\\ub9cc\\uae08\\ud3ec\\ud56d\\uc120\\uc758\\uc9c0\\uc120\", \"\\ud638\\ub0a8\\uc120\\uc9c0\\uc120\", \"\\uace0\\ucc3d\\ub2f4\\uc591\\uc120\", \"\\ub300\\uc804\\ub0a8\\ubd80\\n\\uc21c\\ud658\\uc120\", \"\\uc0c1\\uc8fc\\uc601\\ucc9c\\uc120\", \"\\uc218\\ub3c4\\uad8c\\n\\uc81c2\\uc21c\\ud658\\uc120\", \"\\uc911\\ubd80\\ub0b4\\ub959\\uc9c0\\uc120\", \"\\uc911\\uc559\\uc120\\uc9c0\\uc120\", \"\\ubd80\\uc0b0\\uc678\\uacfd\\uc120\", null], \"y\": [0.0, 0.0, 0.0, 0.0, 0.0, 0.0, 2.4, 0.0, 0.0, 0.0, 0.0, 0.0, 0.0, 0.0, 0.0, 0.0, 0.0, 0.0, 0.0, 0.0, 0.0, 0.0, 0.0, 0.0, 0.0, 0.0, 2.18, 0.0, 0.0, 0.0, 0.0, 0.0, 0.0, 0.0, 0.0, 0.0, 0.0, 0.0, 0.0, 0.0, 0.0, null]}, {\"name\": \"4\\ucc28\\ub85c\\uae38\\uc774\", \"type\": \"bar\", \"x\": [\"\\uacbd\\ubd80\\uc120\", \"\\ub0a8\\ud574\\uc120\", \"\\uad11\\uc8fc\\ub300\\uad6c\\uc120\", \"\\ud568\\uc591\\uc6b8\\uc0b0\\uc120\", \"\\uc11c\\ud574\\uc548\\uc120\", \"\\uc6b8\\uc0b0\\uc120\", \"\\ud3c9\\ud0dd\\ud30c\\uc8fc\\uc120\", \"\\uc0c8\\ub9cc\\uae08\\ud3ec\\ud56d\\uc120\", \"\\ud638\\ub0a8\\uc120\", \"\\uc21c\\ucc9c\\uc644\\uc8fc\\uc120\", \"\\uc138\\uc885\\ud3ec\\ucc9c\\uc120\", \"\\ub2f9\\uc9c4\\uc0c1\\uc8fc\\uc120\", \"\\uc625\\uc0b0~\\uc624\\ucc3d\\uc120\", \"\\uc911\\ubd80\\uc120\", \"\\uc81c2\\uc911\\ubd80\\uc120\", \"\\ud3c9\\ud0dd\\uc81c\\ucc9c\\uc120\", \"\\uc911\\ubd80\\ub0b4\\ub959\\uc120\", \"\\uc601\\ub3d9\\uc120\", \"\\uad11\\uc8fc\\uc6d0\\uc8fc\\uc120\", \"\\uc911\\uc559\\uc120\", \"\\uc11c\\uc6b8\\uc591\\uc591\\uc120\", \"\\ub3d9\\ud574\\uc120\", \"\\uc218\\ub3c4\\uad8c\\n\\uc81c1\\uc21c\\ud658\\uc120\", \"\\ub0a8\\ud574\\uc81c1\\uc9c0\\uc120\", \"\\ub0a8\\ud574\\uc81c2\\uc9c0\\uc120\", \"\\ub0a8\\ud574\\uc81c3\\uc9c0\\uc120\", \"\\uc81c2\\uacbd\\uc778\\uc120\", \"\\uacbd\\uc778\\uc120\", \"\\uc778\\ucc9c\\uad6d\\uc81c\\n\\uacf5\\ud56d\\uc120\", \"\\uc11c\\ucc9c\\uacf5\\uc8fc\\uc120\", \"\\ud3c9\\ud0dd\\uc2dc\\ud765\\uc120\", \"\\uc6a9\\uc778\\uc11c\\uc6b8\\uc120\", \"\\uc0c8\\ub9cc\\uae08\\ud3ec\\ud56d\\uc120\\uc758\\uc9c0\\uc120\", \"\\ud638\\ub0a8\\uc120\\uc9c0\\uc120\", \"\\uace0\\ucc3d\\ub2f4\\uc591\\uc120\", \"\\ub300\\uc804\\ub0a8\\ubd80\\n\\uc21c\\ud658\\uc120\", \"\\uc0c1\\uc8fc\\uc601\\ucc9c\\uc120\", \"\\uc218\\ub3c4\\uad8c\\n\\uc81c2\\uc21c\\ud658\\uc120\", \"\\uc911\\ubd80\\ub0b4\\ub959\\uc9c0\\uc120\", \"\\uc911\\uc559\\uc120\\uc9c0\\uc120\", \"\\ubd80\\uc0b0\\uc678\\uacfd\\uc120\", null], \"y\": [13.51, 190.61, 198.53, 44.98, 255.57, 10.57, 38.65, 72.68, 249.3, 117.78, 22.3, 278.9, 12.1, 322.83, 31.08, 101.11, 302.03, 145.99, 56.95, 368.87, 137.87, 179.68, 0.0, 17.88, 0.0, 14.33, 14.83, 0.0, 0.0, 61.36, 35.561, 4.9, 24.49, 53.97, 42.5, 13.28, 91.29, 22.74, 15.56, 10.98, 48.8, null]}, {\"name\": \"6\\ucc28\\ub85c\\uae38\\uc774\", \"type\": \"bar\", \"x\": [\"\\uacbd\\ubd80\\uc120\", \"\\ub0a8\\ud574\\uc120\", \"\\uad11\\uc8fc\\ub300\\uad6c\\uc120\", \"\\ud568\\uc591\\uc6b8\\uc0b0\\uc120\", \"\\uc11c\\ud574\\uc548\\uc120\", \"\\uc6b8\\uc0b0\\uc120\", \"\\ud3c9\\ud0dd\\ud30c\\uc8fc\\uc120\", \"\\uc0c8\\ub9cc\\uae08\\ud3ec\\ud56d\\uc120\", \"\\ud638\\ub0a8\\uc120\", \"\\uc21c\\ucc9c\\uc644\\uc8fc\\uc120\", \"\\uc138\\uc885\\ud3ec\\ucc9c\\uc120\", \"\\ub2f9\\uc9c4\\uc0c1\\uc8fc\\uc120\", \"\\uc625\\uc0b0~\\uc624\\ucc3d\\uc120\", \"\\uc911\\ubd80\\uc120\", \"\\uc81c2\\uc911\\ubd80\\uc120\", \"\\ud3c9\\ud0dd\\uc81c\\ucc9c\\uc120\", \"\\uc911\\ubd80\\ub0b4\\ub959\\uc120\", \"\\uc601\\ub3d9\\uc120\", \"\\uad11\\uc8fc\\uc6d0\\uc8fc\\uc120\", \"\\uc911\\uc559\\uc120\", \"\\uc11c\\uc6b8\\uc591\\uc591\\uc120\", \"\\ub3d9\\ud574\\uc120\", \"\\uc218\\ub3c4\\uad8c\\n\\uc81c1\\uc21c\\ud658\\uc120\", \"\\ub0a8\\ud574\\uc81c1\\uc9c0\\uc120\", \"\\ub0a8\\ud574\\uc81c2\\uc9c0\\uc120\", \"\\ub0a8\\ud574\\uc81c3\\uc9c0\\uc120\", \"\\uc81c2\\uacbd\\uc778\\uc120\", \"\\uacbd\\uc778\\uc120\", \"\\uc778\\ucc9c\\uad6d\\uc81c\\n\\uacf5\\ud56d\\uc120\", \"\\uc11c\\ucc9c\\uacf5\\uc8fc\\uc120\", \"\\ud3c9\\ud0dd\\uc2dc\\ud765\\uc120\", \"\\uc6a9\\uc778\\uc11c\\uc6b8\\uc120\", \"\\uc0c8\\ub9cc\\uae08\\ud3ec\\ud56d\\uc120\\uc758\\uc9c0\\uc120\", \"\\ud638\\ub0a8\\uc120\\uc9c0\\uc120\", \"\\uace0\\ucc3d\\ub2f4\\uc591\\uc120\", \"\\ub300\\uc804\\ub0a8\\ubd80\\n\\uc21c\\ud658\\uc120\", \"\\uc0c1\\uc8fc\\uc601\\ucc9c\\uc120\", \"\\uc218\\ub3c4\\uad8c\\n\\uc81c2\\uc21c\\ud658\\uc120\", \"\\uc911\\ubd80\\ub0b4\\ub959\\uc9c0\\uc120\", \"\\uc911\\uc559\\uc120\\uc9c0\\uc120\", \"\\ubd80\\uc0b0\\uc678\\uacfd\\uc120\", null], \"y\": [221.89, 19.4, 14.35, 0.0, 53.21, 2.79, 48.22, 33.18, 12.68, 0.0, 28.3, 0.0, 0.0, 0.0, 0.0, 25.8, 0.0, 34.95, 0.0, 1.89, 11.22, 42.95, 0.0, 0.0, 2.02, 0.54, 50.14, 1.14, 9.3, 0.0, 4.109, 20.55, 0.0, 0.0, 0.0, 0.0, 2.71, 15.4, 6.66, 6.44, 0.0, null]}, {\"name\": \"8\\ucc28\\ub85c\\uae38\\uc774\", \"type\": \"bar\", \"x\": [\"\\uacbd\\ubd80\\uc120\", \"\\ub0a8\\ud574\\uc120\", \"\\uad11\\uc8fc\\ub300\\uad6c\\uc120\", \"\\ud568\\uc591\\uc6b8\\uc0b0\\uc120\", \"\\uc11c\\ud574\\uc548\\uc120\", \"\\uc6b8\\uc0b0\\uc120\", \"\\ud3c9\\ud0dd\\ud30c\\uc8fc\\uc120\", \"\\uc0c8\\ub9cc\\uae08\\ud3ec\\ud56d\\uc120\", \"\\ud638\\ub0a8\\uc120\", \"\\uc21c\\ucc9c\\uc644\\uc8fc\\uc120\", \"\\uc138\\uc885\\ud3ec\\ucc9c\\uc120\", \"\\ub2f9\\uc9c4\\uc0c1\\uc8fc\\uc120\", \"\\uc625\\uc0b0~\\uc624\\ucc3d\\uc120\", \"\\uc911\\ubd80\\uc120\", \"\\uc81c2\\uc911\\ubd80\\uc120\", \"\\ud3c9\\ud0dd\\uc81c\\ucc9c\\uc120\", \"\\uc911\\ubd80\\ub0b4\\ub959\\uc120\", \"\\uc601\\ub3d9\\uc120\", \"\\uad11\\uc8fc\\uc6d0\\uc8fc\\uc120\", \"\\uc911\\uc559\\uc120\", \"\\uc11c\\uc6b8\\uc591\\uc591\\uc120\", \"\\ub3d9\\ud574\\uc120\", \"\\uc218\\ub3c4\\uad8c\\n\\uc81c1\\uc21c\\ud658\\uc120\", \"\\ub0a8\\ud574\\uc81c1\\uc9c0\\uc120\", \"\\ub0a8\\ud574\\uc81c2\\uc9c0\\uc120\", \"\\ub0a8\\ud574\\uc81c3\\uc9c0\\uc120\", \"\\uc81c2\\uacbd\\uc778\\uc120\", \"\\uacbd\\uc778\\uc120\", \"\\uc778\\ucc9c\\uad6d\\uc81c\\n\\uacf5\\ud56d\\uc120\", \"\\uc11c\\ucc9c\\uacf5\\uc8fc\\uc120\", \"\\ud3c9\\ud0dd\\uc2dc\\ud765\\uc120\", \"\\uc6a9\\uc778\\uc11c\\uc6b8\\uc120\", \"\\uc0c8\\ub9cc\\uae08\\ud3ec\\ud56d\\uc120\\uc758\\uc9c0\\uc120\", \"\\ud638\\ub0a8\\uc120\\uc9c0\\uc120\", \"\\uace0\\ucc3d\\ub2f4\\uc591\\uc120\", \"\\ub300\\uc804\\ub0a8\\ubd80\\n\\uc21c\\ud658\\uc120\", \"\\uc0c1\\uc8fc\\uc601\\ucc9c\\uc120\", \"\\uc218\\ub3c4\\uad8c\\n\\uc81c2\\uc21c\\ud658\\uc120\", \"\\uc911\\ubd80\\ub0b4\\ub959\\uc9c0\\uc120\", \"\\uc911\\uc559\\uc120\\uc9c0\\uc120\", \"\\ubd80\\uc0b0\\uc678\\uacfd\\uc120\", null], \"y\": [159.51, 63.19, 0.0, 0.0, 9.64, 0.94, 0.0, 0.0, 14.28, 0.0, 0.0, 0.0, 0.0, 9.65, 0.0, 0.0, 0.0, 43.31, 0.0, 0.0, 1.98, 0.0, 126.92, 0.0, 18.23, 0.0, 2.83, 12.3, 27.25, 0.0, 0.0, 0.0, 0.0, 0.0, 0.0, 0.0, 0.0, 0.0, 7.78, 0.0, 0.0, null]}, {\"name\": \"10\\ucc28\\ub85c \\uc774\\uc0c1\\uae38\\uc774\", \"type\": \"bar\", \"x\": [\"\\uacbd\\ubd80\\uc120\", \"\\ub0a8\\ud574\\uc120\", \"\\uad11\\uc8fc\\ub300\\uad6c\\uc120\", \"\\ud568\\uc591\\uc6b8\\uc0b0\\uc120\", \"\\uc11c\\ud574\\uc548\\uc120\", \"\\uc6b8\\uc0b0\\uc120\", \"\\ud3c9\\ud0dd\\ud30c\\uc8fc\\uc120\", \"\\uc0c8\\ub9cc\\uae08\\ud3ec\\ud56d\\uc120\", \"\\ud638\\ub0a8\\uc120\", \"\\uc21c\\ucc9c\\uc644\\uc8fc\\uc120\", \"\\uc138\\uc885\\ud3ec\\ucc9c\\uc120\", \"\\ub2f9\\uc9c4\\uc0c1\\uc8fc\\uc120\", \"\\uc625\\uc0b0~\\uc624\\ucc3d\\uc120\", \"\\uc911\\ubd80\\uc120\", \"\\uc81c2\\uc911\\ubd80\\uc120\", \"\\ud3c9\\ud0dd\\uc81c\\ucc9c\\uc120\", \"\\uc911\\ubd80\\ub0b4\\ub959\\uc120\", \"\\uc601\\ub3d9\\uc120\", \"\\uad11\\uc8fc\\uc6d0\\uc8fc\\uc120\", \"\\uc911\\uc559\\uc120\", \"\\uc11c\\uc6b8\\uc591\\uc591\\uc120\", \"\\ub3d9\\ud574\\uc120\", \"\\uc218\\ub3c4\\uad8c\\n\\uc81c1\\uc21c\\ud658\\uc120\", \"\\ub0a8\\ud574\\uc81c1\\uc9c0\\uc120\", \"\\ub0a8\\ud574\\uc81c2\\uc9c0\\uc120\", \"\\ub0a8\\ud574\\uc81c3\\uc9c0\\uc120\", \"\\uc81c2\\uacbd\\uc778\\uc120\", \"\\uacbd\\uc778\\uc120\", \"\\uc778\\ucc9c\\uad6d\\uc81c\\n\\uacf5\\ud56d\\uc120\", \"\\uc11c\\ucc9c\\uacf5\\uc8fc\\uc120\", \"\\ud3c9\\ud0dd\\uc2dc\\ud765\\uc120\", \"\\uc6a9\\uc778\\uc11c\\uc6b8\\uc120\", \"\\uc0c8\\ub9cc\\uae08\\ud3ec\\ud56d\\uc120\\uc758\\uc9c0\\uc120\", \"\\ud638\\ub0a8\\uc120\\uc9c0\\uc120\", \"\\uace0\\ucc3d\\ub2f4\\uc591\\uc120\", \"\\ub300\\uc804\\ub0a8\\ubd80\\n\\uc21c\\ud658\\uc120\", \"\\uc0c1\\uc8fc\\uc601\\ucc9c\\uc120\", \"\\uc218\\ub3c4\\uad8c\\n\\uc81c2\\uc21c\\ud658\\uc120\", \"\\uc911\\ubd80\\ub0b4\\ub959\\uc9c0\\uc120\", \"\\uc911\\uc559\\uc120\\uc9c0\\uc120\", \"\\ubd80\\uc0b0\\uc678\\uacfd\\uc120\", null], \"y\": [20.43, 0.0, 0.0, 0.0, 18.23, 0.0, 0.0, 0.0, 0.0, 0.0, 0.0, 0.0, 0.0, 0.0, 0.0, 0.0, 0.0, 10.15, 0.0, 0.0, 0.0, 0.0, 1.1, 0.0, 0.0, 0.39, 0.0, 0.0, 0.0, 0.0, 0.63, 0.0, 0.0, 0.0, 0.0, 0.0, 0.0, 0.0, 0.0, 0.0, 0.0, null]}],\n",
       "                        {\"barmode\": \"stack\", \"template\": {\"data\": {\"bar\": [{\"error_x\": {\"color\": \"#2a3f5f\"}, \"error_y\": {\"color\": \"#2a3f5f\"}, \"marker\": {\"line\": {\"color\": \"#E5ECF6\", \"width\": 0.5}}, \"type\": \"bar\"}], \"barpolar\": [{\"marker\": {\"line\": {\"color\": \"#E5ECF6\", \"width\": 0.5}}, \"type\": \"barpolar\"}], \"carpet\": [{\"aaxis\": {\"endlinecolor\": \"#2a3f5f\", \"gridcolor\": \"white\", \"linecolor\": \"white\", \"minorgridcolor\": \"white\", \"startlinecolor\": \"#2a3f5f\"}, \"baxis\": {\"endlinecolor\": \"#2a3f5f\", \"gridcolor\": \"white\", \"linecolor\": \"white\", \"minorgridcolor\": \"white\", \"startlinecolor\": \"#2a3f5f\"}, \"type\": \"carpet\"}], \"choropleth\": [{\"colorbar\": {\"outlinewidth\": 0, \"ticks\": \"\"}, \"type\": \"choropleth\"}], \"contour\": [{\"colorbar\": {\"outlinewidth\": 0, \"ticks\": \"\"}, \"colorscale\": [[0.0, \"#0d0887\"], [0.1111111111111111, \"#46039f\"], [0.2222222222222222, \"#7201a8\"], [0.3333333333333333, \"#9c179e\"], [0.4444444444444444, \"#bd3786\"], [0.5555555555555556, \"#d8576b\"], [0.6666666666666666, \"#ed7953\"], [0.7777777777777778, \"#fb9f3a\"], [0.8888888888888888, \"#fdca26\"], [1.0, \"#f0f921\"]], \"type\": \"contour\"}], \"contourcarpet\": [{\"colorbar\": {\"outlinewidth\": 0, \"ticks\": \"\"}, \"type\": \"contourcarpet\"}], \"heatmap\": [{\"colorbar\": {\"outlinewidth\": 0, \"ticks\": \"\"}, \"colorscale\": [[0.0, \"#0d0887\"], [0.1111111111111111, \"#46039f\"], [0.2222222222222222, \"#7201a8\"], [0.3333333333333333, \"#9c179e\"], [0.4444444444444444, \"#bd3786\"], [0.5555555555555556, \"#d8576b\"], [0.6666666666666666, \"#ed7953\"], [0.7777777777777778, \"#fb9f3a\"], [0.8888888888888888, \"#fdca26\"], [1.0, \"#f0f921\"]], \"type\": \"heatmap\"}], \"heatmapgl\": [{\"colorbar\": {\"outlinewidth\": 0, \"ticks\": \"\"}, \"colorscale\": [[0.0, \"#0d0887\"], [0.1111111111111111, \"#46039f\"], [0.2222222222222222, \"#7201a8\"], [0.3333333333333333, \"#9c179e\"], [0.4444444444444444, \"#bd3786\"], [0.5555555555555556, \"#d8576b\"], [0.6666666666666666, \"#ed7953\"], [0.7777777777777778, \"#fb9f3a\"], [0.8888888888888888, \"#fdca26\"], [1.0, \"#f0f921\"]], \"type\": \"heatmapgl\"}], \"histogram\": [{\"marker\": {\"colorbar\": {\"outlinewidth\": 0, \"ticks\": \"\"}}, \"type\": \"histogram\"}], \"histogram2d\": [{\"colorbar\": {\"outlinewidth\": 0, \"ticks\": \"\"}, \"colorscale\": [[0.0, \"#0d0887\"], [0.1111111111111111, \"#46039f\"], [0.2222222222222222, \"#7201a8\"], [0.3333333333333333, \"#9c179e\"], [0.4444444444444444, \"#bd3786\"], [0.5555555555555556, \"#d8576b\"], [0.6666666666666666, \"#ed7953\"], [0.7777777777777778, \"#fb9f3a\"], [0.8888888888888888, \"#fdca26\"], [1.0, \"#f0f921\"]], \"type\": \"histogram2d\"}], \"histogram2dcontour\": [{\"colorbar\": {\"outlinewidth\": 0, \"ticks\": \"\"}, \"colorscale\": [[0.0, \"#0d0887\"], [0.1111111111111111, \"#46039f\"], [0.2222222222222222, \"#7201a8\"], [0.3333333333333333, \"#9c179e\"], [0.4444444444444444, \"#bd3786\"], [0.5555555555555556, \"#d8576b\"], [0.6666666666666666, \"#ed7953\"], [0.7777777777777778, \"#fb9f3a\"], [0.8888888888888888, \"#fdca26\"], [1.0, \"#f0f921\"]], \"type\": \"histogram2dcontour\"}], \"mesh3d\": [{\"colorbar\": {\"outlinewidth\": 0, \"ticks\": \"\"}, \"type\": \"mesh3d\"}], \"parcoords\": [{\"line\": {\"colorbar\": {\"outlinewidth\": 0, \"ticks\": \"\"}}, \"type\": \"parcoords\"}], \"pie\": [{\"automargin\": true, \"type\": \"pie\"}], \"scatter\": [{\"marker\": {\"colorbar\": {\"outlinewidth\": 0, \"ticks\": \"\"}}, \"type\": \"scatter\"}], \"scatter3d\": [{\"line\": {\"colorbar\": {\"outlinewidth\": 0, \"ticks\": \"\"}}, \"marker\": {\"colorbar\": {\"outlinewidth\": 0, \"ticks\": \"\"}}, \"type\": \"scatter3d\"}], \"scattercarpet\": [{\"marker\": {\"colorbar\": {\"outlinewidth\": 0, \"ticks\": \"\"}}, \"type\": \"scattercarpet\"}], \"scattergeo\": [{\"marker\": {\"colorbar\": {\"outlinewidth\": 0, \"ticks\": \"\"}}, \"type\": \"scattergeo\"}], \"scattergl\": [{\"marker\": {\"colorbar\": {\"outlinewidth\": 0, \"ticks\": \"\"}}, \"type\": \"scattergl\"}], \"scattermapbox\": [{\"marker\": {\"colorbar\": {\"outlinewidth\": 0, \"ticks\": \"\"}}, \"type\": \"scattermapbox\"}], \"scatterpolar\": [{\"marker\": {\"colorbar\": {\"outlinewidth\": 0, \"ticks\": \"\"}}, \"type\": \"scatterpolar\"}], \"scatterpolargl\": [{\"marker\": {\"colorbar\": {\"outlinewidth\": 0, \"ticks\": \"\"}}, \"type\": \"scatterpolargl\"}], \"scatterternary\": [{\"marker\": {\"colorbar\": {\"outlinewidth\": 0, \"ticks\": \"\"}}, \"type\": \"scatterternary\"}], \"surface\": [{\"colorbar\": {\"outlinewidth\": 0, \"ticks\": \"\"}, \"colorscale\": [[0.0, \"#0d0887\"], [0.1111111111111111, \"#46039f\"], [0.2222222222222222, \"#7201a8\"], [0.3333333333333333, \"#9c179e\"], [0.4444444444444444, \"#bd3786\"], [0.5555555555555556, \"#d8576b\"], [0.6666666666666666, \"#ed7953\"], [0.7777777777777778, \"#fb9f3a\"], [0.8888888888888888, \"#fdca26\"], [1.0, \"#f0f921\"]], \"type\": \"surface\"}], \"table\": [{\"cells\": {\"fill\": {\"color\": \"#EBF0F8\"}, \"line\": {\"color\": \"white\"}}, \"header\": {\"fill\": {\"color\": \"#C8D4E3\"}, \"line\": {\"color\": \"white\"}}, \"type\": \"table\"}]}, \"layout\": {\"annotationdefaults\": {\"arrowcolor\": \"#2a3f5f\", \"arrowhead\": 0, \"arrowwidth\": 1}, \"coloraxis\": {\"colorbar\": {\"outlinewidth\": 0, \"ticks\": \"\"}}, \"colorscale\": {\"diverging\": [[0, \"#8e0152\"], [0.1, \"#c51b7d\"], [0.2, \"#de77ae\"], [0.3, \"#f1b6da\"], [0.4, \"#fde0ef\"], [0.5, \"#f7f7f7\"], [0.6, \"#e6f5d0\"], [0.7, \"#b8e186\"], [0.8, \"#7fbc41\"], [0.9, \"#4d9221\"], [1, \"#276419\"]], \"sequential\": [[0.0, \"#0d0887\"], [0.1111111111111111, \"#46039f\"], [0.2222222222222222, \"#7201a8\"], [0.3333333333333333, \"#9c179e\"], [0.4444444444444444, \"#bd3786\"], [0.5555555555555556, \"#d8576b\"], [0.6666666666666666, \"#ed7953\"], [0.7777777777777778, \"#fb9f3a\"], [0.8888888888888888, \"#fdca26\"], [1.0, \"#f0f921\"]], \"sequentialminus\": [[0.0, \"#0d0887\"], [0.1111111111111111, \"#46039f\"], [0.2222222222222222, \"#7201a8\"], [0.3333333333333333, \"#9c179e\"], [0.4444444444444444, \"#bd3786\"], [0.5555555555555556, \"#d8576b\"], [0.6666666666666666, \"#ed7953\"], [0.7777777777777778, \"#fb9f3a\"], [0.8888888888888888, \"#fdca26\"], [1.0, \"#f0f921\"]]}, \"colorway\": [\"#636efa\", \"#EF553B\", \"#00cc96\", \"#ab63fa\", \"#FFA15A\", \"#19d3f3\", \"#FF6692\", \"#B6E880\", \"#FF97FF\", \"#FECB52\"], \"font\": {\"color\": \"#2a3f5f\"}, \"geo\": {\"bgcolor\": \"white\", \"lakecolor\": \"white\", \"landcolor\": \"#E5ECF6\", \"showlakes\": true, \"showland\": true, \"subunitcolor\": \"white\"}, \"hoverlabel\": {\"align\": \"left\"}, \"hovermode\": \"closest\", \"mapbox\": {\"style\": \"light\"}, \"paper_bgcolor\": \"white\", \"plot_bgcolor\": \"#E5ECF6\", \"polar\": {\"angularaxis\": {\"gridcolor\": \"white\", \"linecolor\": \"white\", \"ticks\": \"\"}, \"bgcolor\": \"#E5ECF6\", \"radialaxis\": {\"gridcolor\": \"white\", \"linecolor\": \"white\", \"ticks\": \"\"}}, \"scene\": {\"xaxis\": {\"backgroundcolor\": \"#E5ECF6\", \"gridcolor\": \"white\", \"gridwidth\": 2, \"linecolor\": \"white\", \"showbackground\": true, \"ticks\": \"\", \"zerolinecolor\": \"white\"}, \"yaxis\": {\"backgroundcolor\": \"#E5ECF6\", \"gridcolor\": \"white\", \"gridwidth\": 2, \"linecolor\": \"white\", \"showbackground\": true, \"ticks\": \"\", \"zerolinecolor\": \"white\"}, \"zaxis\": {\"backgroundcolor\": \"#E5ECF6\", \"gridcolor\": \"white\", \"gridwidth\": 2, \"linecolor\": \"white\", \"showbackground\": true, \"ticks\": \"\", \"zerolinecolor\": \"white\"}}, \"shapedefaults\": {\"line\": {\"color\": \"#2a3f5f\"}}, \"ternary\": {\"aaxis\": {\"gridcolor\": \"white\", \"linecolor\": \"white\", \"ticks\": \"\"}, \"baxis\": {\"gridcolor\": \"white\", \"linecolor\": \"white\", \"ticks\": \"\"}, \"bgcolor\": \"#E5ECF6\", \"caxis\": {\"gridcolor\": \"white\", \"linecolor\": \"white\", \"ticks\": \"\"}}, \"title\": {\"x\": 0.05}, \"xaxis\": {\"automargin\": true, \"gridcolor\": \"white\", \"linecolor\": \"white\", \"ticks\": \"\", \"title\": {\"standoff\": 15}, \"zerolinecolor\": \"white\", \"zerolinewidth\": 2}, \"yaxis\": {\"automargin\": true, \"gridcolor\": \"white\", \"linecolor\": \"white\", \"ticks\": \"\", \"title\": {\"standoff\": 15}, \"zerolinecolor\": \"white\", \"zerolinewidth\": 2}}}, \"xaxis\": {\"categoryorder\": \"category ascending\"}},\n",
       "                        {\"responsive\": true}\n",
       "                    ).then(function(){\n",
       "                            \n",
       "var gd = document.getElementById('8100fc92-19af-4b93-b4a4-e7d75126a8bb');\n",
       "var x = new MutationObserver(function (mutations, observer) {{\n",
       "        var display = window.getComputedStyle(gd).display;\n",
       "        if (!display || display === 'none') {{\n",
       "            console.log([gd, 'removed!']);\n",
       "            Plotly.purge(gd);\n",
       "            observer.disconnect();\n",
       "        }}\n",
       "}});\n",
       "\n",
       "// Listen for the removal of the full notebook cells\n",
       "var notebookContainer = gd.closest('#notebook-container');\n",
       "if (notebookContainer) {{\n",
       "    x.observe(notebookContainer, {childList: true});\n",
       "}}\n",
       "\n",
       "// Listen for the clearing of the current output cell\n",
       "var outputEl = gd.closest('.output');\n",
       "if (outputEl) {{\n",
       "    x.observe(outputEl, {childList: true});\n",
       "}}\n",
       "\n",
       "                        })\n",
       "                };\n",
       "                });\n",
       "            </script>\n",
       "        </div>"
      ]
     },
     "metadata": {},
     "output_type": "display_data"
    }
   ],
   "source": [
    "fig.update_xaxes(categoryorder='category ascending')"
   ]
  },
  {
   "cell_type": "code",
   "execution_count": null,
   "id": "75d74c8c",
   "metadata": {},
   "outputs": [],
   "source": []
  }
 ],
 "metadata": {
  "kernelspec": {
   "display_name": "Python 3",
   "language": "python",
   "name": "python3"
  },
  "language_info": {
   "codemirror_mode": {
    "name": "ipython",
    "version": 3
   },
   "file_extension": ".py",
   "mimetype": "text/x-python",
   "name": "python",
   "nbconvert_exporter": "python",
   "pygments_lexer": "ipython3",
   "version": "3.8.8"
  }
 },
 "nbformat": 4,
 "nbformat_minor": 5
}
