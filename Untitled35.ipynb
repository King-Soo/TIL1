{
 "cells": [
  {
   "cell_type": "code",
   "execution_count": null,
   "id": "cdf4f0de",
   "metadata": {},
   "outputs": [],
   "source": [
    "#판다스 : 시리즈(시계열) 클래스, 데이터프레임 클래스\n",
    "#시리즈 = 인덱스(데이터 의미 표시) + 값(데이터)\n",
    "#20210804 35\n",
    "#20210805 36\n",
    "#20210806 34\n",
    "#....\n",
    "\n",
    "import pandas as pd\n",
    "\n"
   ]
  },
  {
   "cell_type": "code",
   "execution_count": null,
   "id": "8bb4da8a",
   "metadata": {},
   "outputs": [],
   "source": []
  },
  {
   "cell_type": "code",
   "execution_count": null,
   "id": "91a90234",
   "metadata": {},
   "outputs": [],
   "source": []
  },
  {
   "cell_type": "code",
   "execution_count": null,
   "id": "955c7add",
   "metadata": {},
   "outputs": [],
   "source": []
  },
  {
   "cell_type": "code",
   "execution_count": null,
   "id": "67046781",
   "metadata": {},
   "outputs": [],
   "source": []
  }
 ],
 "metadata": {
  "kernelspec": {
   "display_name": "Python 3",
   "language": "python",
   "name": "python3"
  }
 },
 "nbformat": 4,
 "nbformat_minor": 5
}
