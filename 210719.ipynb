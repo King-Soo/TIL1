{
 "cells": [
  {
   "cell_type": "code",
   "execution_count": 5,
   "id": "23398023",
   "metadata": {},
   "outputs": [
    {
     "data": {
      "text/plain": [
       "128"
      ]
     },
     "execution_count": 5,
     "metadata": {},
     "output_type": "execute_result"
    }
   ],
   "source": [
    "pow(2,7)"
   ]
  },
  {
   "cell_type": "code",
   "execution_count": 25,
   "id": "6a7303e9",
   "metadata": {},
   "outputs": [],
   "source": [
    "import datetime as dt"
   ]
  },
  {
   "cell_type": "code",
   "execution_count": 26,
   "id": "c5a9d6c8",
   "metadata": {},
   "outputs": [
    {
     "data": {
      "text/plain": [
       "datetime.datetime(2021, 7, 19, 14, 18, 12, 940480)"
      ]
     },
     "execution_count": 26,
     "metadata": {},
     "output_type": "execute_result"
    }
   ],
   "source": [
    "dt.datetime.now()"
   ]
  },
  {
   "cell_type": "code",
   "execution_count": 27,
   "id": "f140e9a5",
   "metadata": {},
   "outputs": [
    {
     "data": {
      "text/plain": [
       "datetime.datetime(2021, 7, 19, 14, 18, 13, 266877)"
      ]
     },
     "execution_count": 27,
     "metadata": {},
     "output_type": "execute_result"
    }
   ],
   "source": [
    "a=dt.datetime.now()\n",
    "a"
   ]
  },
  {
   "cell_type": "code",
   "execution_count": 28,
   "id": "a9b1d6a0",
   "metadata": {},
   "outputs": [
    {
     "data": {
      "text/plain": [
       "0"
      ]
     },
     "execution_count": 28,
     "metadata": {},
     "output_type": "execute_result"
    }
   ],
   "source": [
    "# 날짜/시간 관련 메서드\n",
    "a.weekday() #월요일 : 0 ~ 일요일 : 6"
   ]
  },
  {
   "cell_type": "code",
   "execution_count": 29,
   "id": "1677a598",
   "metadata": {},
   "outputs": [
    {
     "data": {
      "text/plain": [
       "'Monday 19. July 2021'"
      ]
     },
     "execution_count": 29,
     "metadata": {},
     "output_type": "execute_result"
    }
   ],
   "source": [
    "a.strftime(\"%A %d. %B %Y\")"
   ]
  },
  {
   "cell_type": "code",
   "execution_count": 34,
   "id": "8e301684",
   "metadata": {},
   "outputs": [
    {
     "ename": "ValueError",
     "evalue": "time data '2021-07-19 13:50' does not match format '%Y-Ym-%d %H:%M'",
     "output_type": "error",
     "traceback": [
      "\u001b[1;31m---------------------------------------------------------------------------\u001b[0m",
      "\u001b[1;31mValueError\u001b[0m                                Traceback (most recent call last)",
      "\u001b[1;32m<ipython-input-34-9404b7529110>\u001b[0m in \u001b[0;36m<module>\u001b[1;34m\u001b[0m\n\u001b[0;32m      1\u001b[0m \u001b[1;31m# strptime() : \"문자열로된 날짜데이터\"-> 날짜 객체 생성\u001b[0m\u001b[1;33m\u001b[0m\u001b[1;33m\u001b[0m\u001b[1;33m\u001b[0m\u001b[0m\n\u001b[0;32m      2\u001b[0m \u001b[1;33m\u001b[0m\u001b[0m\n\u001b[1;32m----> 3\u001b[1;33m \u001b[0mdt\u001b[0m\u001b[1;33m.\u001b[0m\u001b[0mdatetime\u001b[0m\u001b[1;33m.\u001b[0m\u001b[0mstrptime\u001b[0m\u001b[1;33m(\u001b[0m\u001b[1;34m\"2021-07-19 13:50\"\u001b[0m\u001b[1;33m,\u001b[0m\u001b[1;34m\"%Y-Ym-%d %H:%M\"\u001b[0m\u001b[1;33m)\u001b[0m\u001b[1;33m\u001b[0m\u001b[1;33m\u001b[0m\u001b[0m\n\u001b[0m",
      "\u001b[1;32mD:\\AI\\anaconda3\\lib\\_strptime.py\u001b[0m in \u001b[0;36m_strptime_datetime\u001b[1;34m(cls, data_string, format)\u001b[0m\n\u001b[0;32m    566\u001b[0m     \"\"\"Return a class cls instance based on the input string and the\n\u001b[0;32m    567\u001b[0m     format string.\"\"\"\n\u001b[1;32m--> 568\u001b[1;33m     \u001b[0mtt\u001b[0m\u001b[1;33m,\u001b[0m \u001b[0mfraction\u001b[0m\u001b[1;33m,\u001b[0m \u001b[0mgmtoff_fraction\u001b[0m \u001b[1;33m=\u001b[0m \u001b[0m_strptime\u001b[0m\u001b[1;33m(\u001b[0m\u001b[0mdata_string\u001b[0m\u001b[1;33m,\u001b[0m \u001b[0mformat\u001b[0m\u001b[1;33m)\u001b[0m\u001b[1;33m\u001b[0m\u001b[1;33m\u001b[0m\u001b[0m\n\u001b[0m\u001b[0;32m    569\u001b[0m     \u001b[0mtzname\u001b[0m\u001b[1;33m,\u001b[0m \u001b[0mgmtoff\u001b[0m \u001b[1;33m=\u001b[0m \u001b[0mtt\u001b[0m\u001b[1;33m[\u001b[0m\u001b[1;33m-\u001b[0m\u001b[1;36m2\u001b[0m\u001b[1;33m:\u001b[0m\u001b[1;33m]\u001b[0m\u001b[1;33m\u001b[0m\u001b[1;33m\u001b[0m\u001b[0m\n\u001b[0;32m    570\u001b[0m     \u001b[0margs\u001b[0m \u001b[1;33m=\u001b[0m \u001b[0mtt\u001b[0m\u001b[1;33m[\u001b[0m\u001b[1;33m:\u001b[0m\u001b[1;36m6\u001b[0m\u001b[1;33m]\u001b[0m \u001b[1;33m+\u001b[0m \u001b[1;33m(\u001b[0m\u001b[0mfraction\u001b[0m\u001b[1;33m,\u001b[0m\u001b[1;33m)\u001b[0m\u001b[1;33m\u001b[0m\u001b[1;33m\u001b[0m\u001b[0m\n",
      "\u001b[1;32mD:\\AI\\anaconda3\\lib\\_strptime.py\u001b[0m in \u001b[0;36m_strptime\u001b[1;34m(data_string, format)\u001b[0m\n\u001b[0;32m    347\u001b[0m     \u001b[0mfound\u001b[0m \u001b[1;33m=\u001b[0m \u001b[0mformat_regex\u001b[0m\u001b[1;33m.\u001b[0m\u001b[0mmatch\u001b[0m\u001b[1;33m(\u001b[0m\u001b[0mdata_string\u001b[0m\u001b[1;33m)\u001b[0m\u001b[1;33m\u001b[0m\u001b[1;33m\u001b[0m\u001b[0m\n\u001b[0;32m    348\u001b[0m     \u001b[1;32mif\u001b[0m \u001b[1;32mnot\u001b[0m \u001b[0mfound\u001b[0m\u001b[1;33m:\u001b[0m\u001b[1;33m\u001b[0m\u001b[1;33m\u001b[0m\u001b[0m\n\u001b[1;32m--> 349\u001b[1;33m         raise ValueError(\"time data %r does not match format %r\" %\n\u001b[0m\u001b[0;32m    350\u001b[0m                          (data_string, format))\n\u001b[0;32m    351\u001b[0m     \u001b[1;32mif\u001b[0m \u001b[0mlen\u001b[0m\u001b[1;33m(\u001b[0m\u001b[0mdata_string\u001b[0m\u001b[1;33m)\u001b[0m \u001b[1;33m!=\u001b[0m \u001b[0mfound\u001b[0m\u001b[1;33m.\u001b[0m\u001b[0mend\u001b[0m\u001b[1;33m(\u001b[0m\u001b[1;33m)\u001b[0m\u001b[1;33m:\u001b[0m\u001b[1;33m\u001b[0m\u001b[1;33m\u001b[0m\u001b[0m\n",
      "\u001b[1;31mValueError\u001b[0m: time data '2021-07-19 13:50' does not match format '%Y-Ym-%d %H:%M'"
     ]
    }
   ],
   "source": [
    "# strptime() : \"문자열로된 날짜데이터\"-> 날짜 객체 생성\n",
    "\n",
    "dt.datetime.strptime(\"2021-07-19 13:50\",\"%Y-Ym-%d %H:%M\")"
   ]
  },
  {
   "cell_type": "code",
   "execution_count": 45,
   "id": "3353df56",
   "metadata": {},
   "outputs": [],
   "source": [
    "dt1=dt.datetime(1992,4,11,8,30)\n",
    "dt2=dt.datetime.now()"
   ]
  },
  {
   "cell_type": "code",
   "execution_count": 46,
   "id": "e2bc73db",
   "metadata": {},
   "outputs": [
    {
     "name": "stdout",
     "output_type": "stream",
     "text": [
      "10691 days, 5:54:59.724554\n"
     ]
    }
   ],
   "source": [
    "td=dt2-dt1\n",
    "print(td)"
   ]
  },
  {
   "cell_type": "code",
   "execution_count": 48,
   "id": "c91f0967",
   "metadata": {},
   "outputs": [
    {
     "name": "stdout",
     "output_type": "stream",
     "text": [
      "923723699.724554\n",
      "273600\n",
      "10691 days, 5:54:59.724554\n"
     ]
    }
   ],
   "source": [
    "td.days\n",
    "td.seconds\n",
    "print(td.total_seconds())\n",
    "print(3*24*3600+4*3600)\n",
    "print(td)"
   ]
  },
  {
   "cell_type": "code",
   "execution_count": 42,
   "id": "081f3b31",
   "metadata": {},
   "outputs": [],
   "source": [
    "a=dt.datetime(1992,4,11,8,30)\n",
    "b=dt.datetime.now()"
   ]
  },
  {
   "cell_type": "code",
   "execution_count": 44,
   "id": "0377f9bf",
   "metadata": {},
   "outputs": [],
   "source": [
    "tt=b-a\n",
    "print(tt.total_se)"
   ]
  },
  {
   "cell_type": "code",
   "execution_count": null,
   "id": "70e580b5",
   "metadata": {},
   "outputs": [],
   "source": [
    "# 스크래핑(필요시마다 긁어오는 것), 크롤링(주기적으로 긁어 오는것)\n",
    "\n",
    "# raw data-> 가공(뷰티풀 숲으로 파싱 -> 정규식 -> 데이터추출) -> 분석"
   ]
  },
  {
   "cell_type": "code",
   "execution_count": null,
   "id": "dff032b6",
   "metadata": {},
   "outputs": [],
   "source": [
    "#weekly > div.scroll_control.end_left > div > ul > li.week_item.today > div > div.cell_temperature > strong > span.lowest"
   ]
  },
  {
   "cell_type": "code",
   "execution_count": 51,
   "id": "2a63cf30",
   "metadata": {},
   "outputs": [],
   "source": [
    "#스크래핑 대상 이미지 주소 : https://www.all-con.co.kr/img/logo.new.png\n",
    "#uillib(url 모듈의 집합) : 웹 사이트 데이터 추출\n",
    "#urllib.request 모듈 : 웹에 있는 데이터에 접근\n",
    "import urllib.request\n"
   ]
  },
  {
   "cell_type": "code",
   "execution_count": 53,
   "id": "1e6b4045",
   "metadata": {},
   "outputs": [
    {
     "name": "stdout",
     "output_type": "stream",
     "text": [
      "로고이미지 다운로드 완료\n"
     ]
    }
   ],
   "source": [
    "urllib.request.urlretrieve(\"https://www.all-con.co.kr/img/logo.new.png\",\"test.jpg\")\n",
    "print(\"로고이미지 다운로드 완료\")"
   ]
  },
  {
   "cell_type": "code",
   "execution_count": 54,
   "id": "0ee3fe41",
   "metadata": {},
   "outputs": [],
   "source": [
    "url=\"https://www.weather.go.kr/weather/forecast/mid-term-rss3.jsp\""
   ]
  },
  {
   "cell_type": "code",
   "execution_count": 55,
   "id": "8ba323b6",
   "metadata": {},
   "outputs": [],
   "source": [
    "myarg={\"stnId\":\"184\"}"
   ]
  },
  {
   "cell_type": "code",
   "execution_count": null,
   "id": "f2ceee80",
   "metadata": {},
   "outputs": [],
   "source": [
    "https://www.weather.go.kr/weather/forecast/mid-term-rss3.jsp?stnId=184"
   ]
  },
  {
   "cell_type": "code",
   "execution_count": 56,
   "id": "bce10152",
   "metadata": {},
   "outputs": [],
   "source": [
    "import urllib.parse as up"
   ]
  },
  {
   "cell_type": "code",
   "execution_count": 59,
   "id": "efd32fcb",
   "metadata": {},
   "outputs": [],
   "source": [
    "params=up.urlencode(myarg) \n",
    "addr=url+\"?\"+params"
   ]
  },
  {
   "cell_type": "code",
   "execution_count": 60,
   "id": "2b2dc014",
   "metadata": {},
   "outputs": [
    {
     "data": {
      "text/plain": [
       "'https://www.weather.go.kr/weather/forecast/mid-term-rss3.jsp?stnId=184'"
      ]
     },
     "execution_count": 60,
     "metadata": {},
     "output_type": "execute_result"
    }
   ],
   "source": [
    "addr"
   ]
  },
  {
   "cell_type": "code",
   "execution_count": 64,
   "id": "592aa3ed",
   "metadata": {},
   "outputs": [
    {
     "data": {
      "text/plain": [
       "'<?xml version=\"1.0\" encoding=\"utf-8\" ?>\\r\\n<rss version=\"2.0\">\\r\\n<channel>\\r\\n<title>기상청 육상 중기예보</title>\\r\\n<link>http://www.kma.go.kr/weather/forecast/mid-term_07.jsp</link>\\r\\n<description>기상청 날씨 웹서비스</description>\\r\\n<language>ko</language>\\r\\n<generator>기상청</generator>\\r\\n<pubDate>2021년 07월 19일 (월)요일 06:00</pubDate>\\r\\n <item>\\r\\n<author>기상청</author>\\r\\n<category>육상중기예보</category>\\r\\n<title>제주도 육상 중기예보 - 2021년 07월 19일 (월)요일 06:00 발표</title>\\r\\n<link>http://www.kma.go.kr/weather/forecast/mid-term_07.jsp</link>\\r\\n<guid>http://www.kma.go.kr/weather/forecast/mid-term_07.jsp</guid>\\r\\n<description>\\r\\n\\t<header>\\r\\n\\t\\t<title>제주도 육상중기예보</title>\\r\\n\\t\\t<tm>202107190600</tm>\\r\\n\\t\\t<wf><![CDATA[○ (하늘상태) 이번 예보기간 동안 구름많거나 흐리겠습니다.<br />○ (기온) 이번 예보기간 동안 기온은 어제(18일, 아침기온 23~24도, 낮 기온 28~31도)보다 높겠습니다.<br />○ (해상) 제주도해상과 남해서부해상은 22일(목)에는 2~5m로 매우 높게 일겠고, 그 밖의 날은 1~3m로 일겠습니다.<br /><br /> * 이번 예보기간 동안 낮최고기온이 33도 이상, 아침최저기온이 25도 이상으로 올라 매우 무덥겠으니, 건강관리에 각별히 유의하기 바랍니다.<br /> * 또한, 북태평양고기압 위치에 따라서 낮최고기온의 변동성이 크겠으니, 앞으로 발표되는 기상정보를 참고하기 바랍니다.]]></wf>\\r\\n\\t</header>\\r\\n\\t<body>\\r\\n\\t\\t\\t\\t\\r\\n\\r\\n\\t\\t<location wl_ver=\"3\">\\r\\n\\t\\t\\t\\t<province>제주도</province>\\r\\n\\t\\t\\t\\t<city>제주</city>\\r\\n\\t\\t\\t\\t\\r\\n\\t\\t\\t\\t<data>\\r\\n\\t\\t\\t\\t\\t<mode>A02</mode>\\r\\n\\t\\t\\t\\t\\t<tmEf>2021-07-22 00:00</tmEf>\\r\\n\\t\\t\\t\\t\\t<wf>구름많음</wf>\\r\\n\\t\\t\\t\\t\\t<tmn>26</tmn>\\r\\n\\t\\t\\t\\t\\t<tmx>33</tmx>\\r\\n\\t\\t\\t\\t\\t<reliability></reliability>\\r\\n\\t\\t\\t\\t\\t<rnSt>30</rnSt>\\r\\n\\t\\t\\t\\t</data>\\r\\n\\r\\n\\t\\t\\t\\t\\r\\n\\t\\t\\t\\t<data>\\r\\n\\t\\t\\t\\t\\t<mode>A02</mode>\\r\\n\\t\\t\\t\\t\\t<tmEf>2021-07-22 12:00</tmEf>\\r\\n\\t\\t\\t\\t\\t<wf>구름많음</wf>\\r\\n\\t\\t\\t\\t\\t<tmn>26</tmn>\\r\\n\\t\\t\\t\\t\\t<tmx>33</tmx>\\r\\n\\t\\t\\t\\t\\t<reliability></reliability>\\r\\n\\t\\t\\t\\t\\t<rnSt>30</rnSt>\\r\\n\\t\\t\\t\\t</data>\\r\\n\\r\\n\\t\\t\\t\\t\\r\\n\\t\\t\\t\\t<data>\\r\\n\\t\\t\\t\\t\\t<mode>A02</mode>\\r\\n\\t\\t\\t\\t\\t<tmEf>2021-07-23 00:00</tmEf>\\r\\n\\t\\t\\t\\t\\t<wf>구름많음</wf>\\r\\n\\t\\t\\t\\t\\t<tmn>26</tmn>\\r\\n\\t\\t\\t\\t\\t<tmx>32</tmx>\\r\\n\\t\\t\\t\\t\\t<reliability></reliability>\\r\\n\\t\\t\\t\\t\\t<rnSt>30</rnSt>\\r\\n\\t\\t\\t\\t</data>\\r\\n\\r\\n\\t\\t\\t\\t\\r\\n\\t\\t\\t\\t<data>\\r\\n\\t\\t\\t\\t\\t<mode>A02</mode>\\r\\n\\t\\t\\t\\t\\t<tmEf>2021-07-23 12:00</tmEf>\\r\\n\\t\\t\\t\\t\\t<wf>구름많음</wf>\\r\\n\\t\\t\\t\\t\\t<tmn>26</tmn>\\r\\n\\t\\t\\t\\t\\t<tmx>32</tmx>\\r\\n\\t\\t\\t\\t\\t<reliability></reliability>\\r\\n\\t\\t\\t\\t\\t<rnSt>30</rnSt>\\r\\n\\t\\t\\t\\t</data>\\r\\n\\r\\n\\t\\t\\t\\t\\r\\n\\t\\t\\t\\t<data>\\r\\n\\t\\t\\t\\t\\t<mode>A02</mode>\\r\\n\\t\\t\\t\\t\\t<tmEf>2021-07-24 00:00</tmEf>\\r\\n\\t\\t\\t\\t\\t<wf>구름많음</wf>\\r\\n\\t\\t\\t\\t\\t<tmn>26</tmn>\\r\\n\\t\\t\\t\\t\\t<tmx>32</tmx>\\r\\n\\t\\t\\t\\t\\t<reliability></reliability>\\r\\n\\t\\t\\t\\t\\t<rnSt>30</rnSt>\\r\\n\\t\\t\\t\\t</data>\\r\\n\\r\\n\\t\\t\\t\\t\\r\\n\\t\\t\\t\\t<data>\\r\\n\\t\\t\\t\\t\\t<mode>A02</mode>\\r\\n\\t\\t\\t\\t\\t<tmEf>2021-07-24 12:00</tmEf>\\r\\n\\t\\t\\t\\t\\t<wf>구름많음</wf>\\r\\n\\t\\t\\t\\t\\t<tmn>26</tmn>\\r\\n\\t\\t\\t\\t\\t<tmx>32</tmx>\\r\\n\\t\\t\\t\\t\\t<reliability></reliability>\\r\\n\\t\\t\\t\\t\\t<rnSt>30</rnSt>\\r\\n\\t\\t\\t\\t</data>\\r\\n\\r\\n\\t\\t\\t\\t\\r\\n\\t\\t\\t\\t<data>\\r\\n\\t\\t\\t\\t\\t<mode>A02</mode>\\r\\n\\t\\t\\t\\t\\t<tmEf>2021-07-25 00:00</tmEf>\\r\\n\\t\\t\\t\\t\\t<wf>구름많음</wf>\\r\\n\\t\\t\\t\\t\\t<tmn>26</tmn>\\r\\n\\t\\t\\t\\t\\t<tmx>33</tmx>\\r\\n\\t\\t\\t\\t\\t<reliability></reliability>\\r\\n\\t\\t\\t\\t\\t<rnSt>30</rnSt>\\r\\n\\t\\t\\t\\t</data>\\r\\n\\r\\n\\t\\t\\t\\t\\r\\n\\t\\t\\t\\t<data>\\r\\n\\t\\t\\t\\t\\t<mode>A02</mode>\\r\\n\\t\\t\\t\\t\\t<tmEf>2021-07-25 12:00</tmEf>\\r\\n\\t\\t\\t\\t\\t<wf>흐림</wf>\\r\\n\\t\\t\\t\\t\\t<tmn>26</tmn>\\r\\n\\t\\t\\t\\t\\t<tmx>33</tmx>\\r\\n\\t\\t\\t\\t\\t<reliability></reliability>\\r\\n\\t\\t\\t\\t\\t<rnSt>40</rnSt>\\r\\n\\t\\t\\t\\t</data>\\r\\n\\r\\n\\t\\t\\t\\t\\r\\n\\t\\t\\t\\t<data>\\r\\n\\t\\t\\t\\t\\t<mode>A02</mode>\\r\\n\\t\\t\\t\\t\\t<tmEf>2021-07-26 00:00</tmEf>\\r\\n\\t\\t\\t\\t\\t<wf>흐림</wf>\\r\\n\\t\\t\\t\\t\\t<tmn>26</tmn>\\r\\n\\t\\t\\t\\t\\t<tmx>32</tmx>\\r\\n\\t\\t\\t\\t\\t<reliability></reliability>\\r\\n\\t\\t\\t\\t\\t<rnSt>40</rnSt>\\r\\n\\t\\t\\t\\t</data>\\r\\n\\r\\n\\t\\t\\t\\t\\r\\n\\t\\t\\t\\t<data>\\r\\n\\t\\t\\t\\t\\t<mode>A02</mode>\\r\\n\\t\\t\\t\\t\\t<tmEf>2021-07-26 12:00</tmEf>\\r\\n\\t\\t\\t\\t\\t<wf>구름많음</wf>\\r\\n\\t\\t\\t\\t\\t<tmn>26</tmn>\\r\\n\\t\\t\\t\\t\\t<tmx>32</tmx>\\r\\n\\t\\t\\t\\t\\t<reliability></reliability>\\r\\n\\t\\t\\t\\t\\t<rnSt>40</rnSt>\\r\\n\\t\\t\\t\\t</data>\\r\\n\\r\\n\\t\\t\\t\\t\\r\\n\\t\\t\\t\\t<data>\\r\\n\\t\\t\\t\\t\\t<mode>A01</mode>\\r\\n\\t\\t\\t\\t\\t<tmEf>2021-07-27 00:00</tmEf>\\r\\n\\t\\t\\t\\t\\t<wf>흐림</wf>\\r\\n\\t\\t\\t\\t\\t<tmn>26</tmn>\\r\\n\\t\\t\\t\\t\\t<tmx>32</tmx>\\r\\n\\t\\t\\t\\t\\t<reliability></reliability>\\r\\n\\t\\t\\t\\t\\t<rnSt>40</rnSt>\\r\\n\\t\\t\\t\\t</data>\\r\\n\\r\\n\\t\\t\\t\\t\\r\\n\\t\\t\\t\\t<data>\\r\\n\\t\\t\\t\\t\\t<mode>A01</mode>\\r\\n\\t\\t\\t\\t\\t<tmEf>2021-07-28 00:00</tmEf>\\r\\n\\t\\t\\t\\t\\t<wf>구름많음</wf>\\r\\n\\t\\t\\t\\t\\t<tmn>26</tmn>\\r\\n\\t\\t\\t\\t\\t<tmx>32</tmx>\\r\\n\\t\\t\\t\\t\\t<reliability></reliability>\\r\\n\\t\\t\\t\\t\\t<rnSt>40</rnSt>\\r\\n\\t\\t\\t\\t</data>\\r\\n\\r\\n\\t\\t\\t\\t\\r\\n\\t\\t\\t\\t<data>\\r\\n\\t\\t\\t\\t\\t<mode>A01</mode>\\r\\n\\t\\t\\t\\t\\t<tmEf>2021-07-29 00:00</tmEf>\\r\\n\\t\\t\\t\\t\\t<wf>구름많음</wf>\\r\\n\\t\\t\\t\\t\\t<tmn>26</tmn>\\r\\n\\t\\t\\t\\t\\t<tmx>32</tmx>\\r\\n\\t\\t\\t\\t\\t<reliability></reliability>\\r\\n\\t\\t\\t\\t\\t<rnSt>40</rnSt>\\r\\n\\t\\t\\t\\t</data>\\r\\n\\r\\n\\r\\n\\t\\t</location>\\r\\n\\r\\n\\t\\t<location wl_ver=\"3\">\\r\\n\\t\\t\\t\\t<province>제주도</province>\\r\\n\\t\\t\\t\\t<city>서귀포</city>\\r\\n\\t\\t\\t\\t\\r\\n\\t\\t\\t\\t<data>\\r\\n\\t\\t\\t\\t\\t<mode>A02</mode>\\r\\n\\t\\t\\t\\t\\t<tmEf>2021-07-22 00:00</tmEf>\\r\\n\\t\\t\\t\\t\\t<wf>구름많음</wf>\\r\\n\\t\\t\\t\\t\\t<tmn>26</tmn>\\r\\n\\t\\t\\t\\t\\t<tmx>31</tmx>\\r\\n\\t\\t\\t\\t\\t<reliability></reliability>\\r\\n\\t\\t\\t\\t\\t<rnSt>30</rnSt>\\r\\n\\t\\t\\t\\t</data>\\r\\n\\r\\n\\t\\t\\t\\t\\r\\n\\t\\t\\t\\t<data>\\r\\n\\t\\t\\t\\t\\t<mode>A02</mode>\\r\\n\\t\\t\\t\\t\\t<tmEf>2021-07-22 12:00</tmEf>\\r\\n\\t\\t\\t\\t\\t<wf>구름많음</wf>\\r\\n\\t\\t\\t\\t\\t<tmn>26</tmn>\\r\\n\\t\\t\\t\\t\\t<tmx>31</tmx>\\r\\n\\t\\t\\t\\t\\t<reliability></reliability>\\r\\n\\t\\t\\t\\t\\t<rnSt>30</rnSt>\\r\\n\\t\\t\\t\\t</data>\\r\\n\\r\\n\\t\\t\\t\\t\\r\\n\\t\\t\\t\\t<data>\\r\\n\\t\\t\\t\\t\\t<mode>A02</mode>\\r\\n\\t\\t\\t\\t\\t<tmEf>2021-07-23 00:00</tmEf>\\r\\n\\t\\t\\t\\t\\t<wf>구름많음</wf>\\r\\n\\t\\t\\t\\t\\t<tmn>26</tmn>\\r\\n\\t\\t\\t\\t\\t<tmx>31</tmx>\\r\\n\\t\\t\\t\\t\\t<reliability></reliability>\\r\\n\\t\\t\\t\\t\\t<rnSt>30</rnSt>\\r\\n\\t\\t\\t\\t</data>\\r\\n\\r\\n\\t\\t\\t\\t\\r\\n\\t\\t\\t\\t<data>\\r\\n\\t\\t\\t\\t\\t<mode>A02</mode>\\r\\n\\t\\t\\t\\t\\t<tmEf>2021-07-23 12:00</tmEf>\\r\\n\\t\\t\\t\\t\\t<wf>구름많음</wf>\\r\\n\\t\\t\\t\\t\\t<tmn>26</tmn>\\r\\n\\t\\t\\t\\t\\t<tmx>31</tmx>\\r\\n\\t\\t\\t\\t\\t<reliability></reliability>\\r\\n\\t\\t\\t\\t\\t<rnSt>30</rnSt>\\r\\n\\t\\t\\t\\t</data>\\r\\n\\r\\n\\t\\t\\t\\t\\r\\n\\t\\t\\t\\t<data>\\r\\n\\t\\t\\t\\t\\t<mode>A02</mode>\\r\\n\\t\\t\\t\\t\\t<tmEf>2021-07-24 00:00</tmEf>\\r\\n\\t\\t\\t\\t\\t<wf>구름많음</wf>\\r\\n\\t\\t\\t\\t\\t<tmn>26</tmn>\\r\\n\\t\\t\\t\\t\\t<tmx>31</tmx>\\r\\n\\t\\t\\t\\t\\t<reliability></reliability>\\r\\n\\t\\t\\t\\t\\t<rnSt>30</rnSt>\\r\\n\\t\\t\\t\\t</data>\\r\\n\\r\\n\\t\\t\\t\\t\\r\\n\\t\\t\\t\\t<data>\\r\\n\\t\\t\\t\\t\\t<mode>A02</mode>\\r\\n\\t\\t\\t\\t\\t<tmEf>2021-07-24 12:00</tmEf>\\r\\n\\t\\t\\t\\t\\t<wf>구름많음</wf>\\r\\n\\t\\t\\t\\t\\t<tmn>26</tmn>\\r\\n\\t\\t\\t\\t\\t<tmx>31</tmx>\\r\\n\\t\\t\\t\\t\\t<reliability></reliability>\\r\\n\\t\\t\\t\\t\\t<rnSt>30</rnSt>\\r\\n\\t\\t\\t\\t</data>\\r\\n\\r\\n\\t\\t\\t\\t\\r\\n\\t\\t\\t\\t<data>\\r\\n\\t\\t\\t\\t\\t<mode>A02</mode>\\r\\n\\t\\t\\t\\t\\t<tmEf>2021-07-25 00:00</tmEf>\\r\\n\\t\\t\\t\\t\\t<wf>구름많음</wf>\\r\\n\\t\\t\\t\\t\\t<tmn>26</tmn>\\r\\n\\t\\t\\t\\t\\t<tmx>31</tmx>\\r\\n\\t\\t\\t\\t\\t<reliability></reliability>\\r\\n\\t\\t\\t\\t\\t<rnSt>30</rnSt>\\r\\n\\t\\t\\t\\t</data>\\r\\n\\r\\n\\t\\t\\t\\t\\r\\n\\t\\t\\t\\t<data>\\r\\n\\t\\t\\t\\t\\t<mode>A02</mode>\\r\\n\\t\\t\\t\\t\\t<tmEf>2021-07-25 12:00</tmEf>\\r\\n\\t\\t\\t\\t\\t<wf>흐림</wf>\\r\\n\\t\\t\\t\\t\\t<tmn>26</tmn>\\r\\n\\t\\t\\t\\t\\t<tmx>31</tmx>\\r\\n\\t\\t\\t\\t\\t<reliability></reliability>\\r\\n\\t\\t\\t\\t\\t<rnSt>40</rnSt>\\r\\n\\t\\t\\t\\t</data>\\r\\n\\r\\n\\t\\t\\t\\t\\r\\n\\t\\t\\t\\t<data>\\r\\n\\t\\t\\t\\t\\t<mode>A02</mode>\\r\\n\\t\\t\\t\\t\\t<tmEf>2021-07-26 00:00</tmEf>\\r\\n\\t\\t\\t\\t\\t<wf>흐림</wf>\\r\\n\\t\\t\\t\\t\\t<tmn>26</tmn>\\r\\n\\t\\t\\t\\t\\t<tmx>30</tmx>\\r\\n\\t\\t\\t\\t\\t<reliability></reliability>\\r\\n\\t\\t\\t\\t\\t<rnSt>40</rnSt>\\r\\n\\t\\t\\t\\t</data>\\r\\n\\r\\n\\t\\t\\t\\t\\r\\n\\t\\t\\t\\t<data>\\r\\n\\t\\t\\t\\t\\t<mode>A02</mode>\\r\\n\\t\\t\\t\\t\\t<tmEf>2021-07-26 12:00</tmEf>\\r\\n\\t\\t\\t\\t\\t<wf>구름많음</wf>\\r\\n\\t\\t\\t\\t\\t<tmn>26</tmn>\\r\\n\\t\\t\\t\\t\\t<tmx>30</tmx>\\r\\n\\t\\t\\t\\t\\t<reliability></reliability>\\r\\n\\t\\t\\t\\t\\t<rnSt>40</rnSt>\\r\\n\\t\\t\\t\\t</data>\\r\\n\\r\\n\\t\\t\\t\\t\\r\\n\\t\\t\\t\\t<data>\\r\\n\\t\\t\\t\\t\\t<mode>A01</mode>\\r\\n\\t\\t\\t\\t\\t<tmEf>2021-07-27 00:00</tmEf>\\r\\n\\t\\t\\t\\t\\t<wf>흐림</wf>\\r\\n\\t\\t\\t\\t\\t<tmn>25</tmn>\\r\\n\\t\\t\\t\\t\\t<tmx>31</tmx>\\r\\n\\t\\t\\t\\t\\t<reliability></reliability>\\r\\n\\t\\t\\t\\t\\t<rnSt>40</rnSt>\\r\\n\\t\\t\\t\\t</data>\\r\\n\\r\\n\\t\\t\\t\\t\\r\\n\\t\\t\\t\\t<data>\\r\\n\\t\\t\\t\\t\\t<mode>A01</mode>\\r\\n\\t\\t\\t\\t\\t<tmEf>2021-07-28 00:00</tmEf>\\r\\n\\t\\t\\t\\t\\t<wf>구름많음</wf>\\r\\n\\t\\t\\t\\t\\t<tmn>25</tmn>\\r\\n\\t\\t\\t\\t\\t<tmx>31</tmx>\\r\\n\\t\\t\\t\\t\\t<reliability></reliability>\\r\\n\\t\\t\\t\\t\\t<rnSt>40</rnSt>\\r\\n\\t\\t\\t\\t</data>\\r\\n\\r\\n\\t\\t\\t\\t\\r\\n\\t\\t\\t\\t<data>\\r\\n\\t\\t\\t\\t\\t<mode>A01</mode>\\r\\n\\t\\t\\t\\t\\t<tmEf>2021-07-29 00:00</tmEf>\\r\\n\\t\\t\\t\\t\\t<wf>구름많음</wf>\\r\\n\\t\\t\\t\\t\\t<tmn>26</tmn>\\r\\n\\t\\t\\t\\t\\t<tmx>31</tmx>\\r\\n\\t\\t\\t\\t\\t<reliability></reliability>\\r\\n\\t\\t\\t\\t\\t<rnSt>40</rnSt>\\r\\n\\t\\t\\t\\t</data>\\r\\n\\r\\n\\r\\n\\t\\t</location>\\r\\n\\r\\n\\t\\t<location wl_ver=\"3\">\\r\\n\\t\\t\\t\\t<province>제주도</province>\\r\\n\\t\\t\\t\\t<city>성산</city>\\r\\n\\t\\t\\t\\t\\r\\n\\t\\t\\t\\t<data>\\r\\n\\t\\t\\t\\t\\t<mode>A02</mode>\\r\\n\\t\\t\\t\\t\\t<tmEf>2021-07-22 00:00</tmEf>\\r\\n\\t\\t\\t\\t\\t<wf>구름많음</wf>\\r\\n\\t\\t\\t\\t\\t<tmn>25</tmn>\\r\\n\\t\\t\\t\\t\\t<tmx>30</tmx>\\r\\n\\t\\t\\t\\t\\t<reliability></reliability>\\r\\n\\t\\t\\t\\t\\t<rnSt>30</rnSt>\\r\\n\\t\\t\\t\\t</data>\\r\\n\\r\\n\\t\\t\\t\\t\\r\\n\\t\\t\\t\\t<data>\\r\\n\\t\\t\\t\\t\\t<mode>A02</mode>\\r\\n\\t\\t\\t\\t\\t<tmEf>2021-07-22 12:00</tmEf>\\r\\n\\t\\t\\t\\t\\t<wf>구름많음</wf>\\r\\n\\t\\t\\t\\t\\t<tmn>25</tmn>\\r\\n\\t\\t\\t\\t\\t<tmx>30</tmx>\\r\\n\\t\\t\\t\\t\\t<reliability></reliability>\\r\\n\\t\\t\\t\\t\\t<rnSt>30</rnSt>\\r\\n\\t\\t\\t\\t</data>\\r\\n\\r\\n\\t\\t\\t\\t\\r\\n\\t\\t\\t\\t<data>\\r\\n\\t\\t\\t\\t\\t<mode>A02</mode>\\r\\n\\t\\t\\t\\t\\t<tmEf>2021-07-23 00:00</tmEf>\\r\\n\\t\\t\\t\\t\\t<wf>구름많음</wf>\\r\\n\\t\\t\\t\\t\\t<tmn>25</tmn>\\r\\n\\t\\t\\t\\t\\t<tmx>30</tmx>\\r\\n\\t\\t\\t\\t\\t<reliability></reliability>\\r\\n\\t\\t\\t\\t\\t<rnSt>30</rnSt>\\r\\n\\t\\t\\t\\t</data>\\r\\n\\r\\n\\t\\t\\t\\t\\r\\n\\t\\t\\t\\t<data>\\r\\n\\t\\t\\t\\t\\t<mode>A02</mode>\\r\\n\\t\\t\\t\\t\\t<tmEf>2021-07-23 12:00</tmEf>\\r\\n\\t\\t\\t\\t\\t<wf>구름많음</wf>\\r\\n\\t\\t\\t\\t\\t<tmn>25</tmn>\\r\\n\\t\\t\\t\\t\\t<tmx>30</tmx>\\r\\n\\t\\t\\t\\t\\t<reliability></reliability>\\r\\n\\t\\t\\t\\t\\t<rnSt>30</rnSt>\\r\\n\\t\\t\\t\\t</data>\\r\\n\\r\\n\\t\\t\\t\\t\\r\\n\\t\\t\\t\\t<data>\\r\\n\\t\\t\\t\\t\\t<mode>A02</mode>\\r\\n\\t\\t\\t\\t\\t<tmEf>2021-07-24 00:00</tmEf>\\r\\n\\t\\t\\t\\t\\t<wf>구름많음</wf>\\r\\n\\t\\t\\t\\t\\t<tmn>25</tmn>\\r\\n\\t\\t\\t\\t\\t<tmx>30</tmx>\\r\\n\\t\\t\\t\\t\\t<reliability></reliability>\\r\\n\\t\\t\\t\\t\\t<rnSt>30</rnSt>\\r\\n\\t\\t\\t\\t</data>\\r\\n\\r\\n\\t\\t\\t\\t\\r\\n\\t\\t\\t\\t<data>\\r\\n\\t\\t\\t\\t\\t<mode>A02</mode>\\r\\n\\t\\t\\t\\t\\t<tmEf>2021-07-24 12:00</tmEf>\\r\\n\\t\\t\\t\\t\\t<wf>구름많음</wf>\\r\\n\\t\\t\\t\\t\\t<tmn>25</tmn>\\r\\n\\t\\t\\t\\t\\t<tmx>30</tmx>\\r\\n\\t\\t\\t\\t\\t<reliability></reliability>\\r\\n\\t\\t\\t\\t\\t<rnSt>30</rnSt>\\r\\n\\t\\t\\t\\t</data>\\r\\n\\r\\n\\t\\t\\t\\t\\r\\n\\t\\t\\t\\t<data>\\r\\n\\t\\t\\t\\t\\t<mode>A02</mode>\\r\\n\\t\\t\\t\\t\\t<tmEf>2021-07-25 00:00</tmEf>\\r\\n\\t\\t\\t\\t\\t<wf>구름많음</wf>\\r\\n\\t\\t\\t\\t\\t<tmn>25</tmn>\\r\\n\\t\\t\\t\\t\\t<tmx>30</tmx>\\r\\n\\t\\t\\t\\t\\t<reliability></reliability>\\r\\n\\t\\t\\t\\t\\t<rnSt>30</rnSt>\\r\\n\\t\\t\\t\\t</data>\\r\\n\\r\\n\\t\\t\\t\\t\\r\\n\\t\\t\\t\\t<data>\\r\\n\\t\\t\\t\\t\\t<mode>A02</mode>\\r\\n\\t\\t\\t\\t\\t<tmEf>2021-07-25 12:00</tmEf>\\r\\n\\t\\t\\t\\t\\t<wf>흐림</wf>\\r\\n\\t\\t\\t\\t\\t<tmn>25</tmn>\\r\\n\\t\\t\\t\\t\\t<tmx>30</tmx>\\r\\n\\t\\t\\t\\t\\t<reliability></reliability>\\r\\n\\t\\t\\t\\t\\t<rnSt>40</rnSt>\\r\\n\\t\\t\\t\\t</data>\\r\\n\\r\\n\\t\\t\\t\\t\\r\\n\\t\\t\\t\\t<data>\\r\\n\\t\\t\\t\\t\\t<mode>A02</mode>\\r\\n\\t\\t\\t\\t\\t<tmEf>2021-07-26 00:00</tmEf>\\r\\n\\t\\t\\t\\t\\t<wf>흐림</wf>\\r\\n\\t\\t\\t\\t\\t<tmn>25</tmn>\\r\\n\\t\\t\\t\\t\\t<tmx>30</tmx>\\r\\n\\t\\t\\t\\t\\t<reliability></reliability>\\r\\n\\t\\t\\t\\t\\t<rnSt>40</rnSt>\\r\\n\\t\\t\\t\\t</data>\\r\\n\\r\\n\\t\\t\\t\\t\\r\\n\\t\\t\\t\\t<data>\\r\\n\\t\\t\\t\\t\\t<mode>A02</mode>\\r\\n\\t\\t\\t\\t\\t<tmEf>2021-07-26 12:00</tmEf>\\r\\n\\t\\t\\t\\t\\t<wf>구름많음</wf>\\r\\n\\t\\t\\t\\t\\t<tmn>25</tmn>\\r\\n\\t\\t\\t\\t\\t<tmx>30</tmx>\\r\\n\\t\\t\\t\\t\\t<reliability></reliability>\\r\\n\\t\\t\\t\\t\\t<rnSt>40</rnSt>\\r\\n\\t\\t\\t\\t</data>\\r\\n\\r\\n\\t\\t\\t\\t\\r\\n\\t\\t\\t\\t<data>\\r\\n\\t\\t\\t\\t\\t<mode>A01</mode>\\r\\n\\t\\t\\t\\t\\t<tmEf>2021-07-27 00:00</tmEf>\\r\\n\\t\\t\\t\\t\\t<wf>흐림</wf>\\r\\n\\t\\t\\t\\t\\t<tmn>25</tmn>\\r\\n\\t\\t\\t\\t\\t<tmx>30</tmx>\\r\\n\\t\\t\\t\\t\\t<reliability></reliability>\\r\\n\\t\\t\\t\\t\\t<rnSt>40</rnSt>\\r\\n\\t\\t\\t\\t</data>\\r\\n\\r\\n\\t\\t\\t\\t\\r\\n\\t\\t\\t\\t<data>\\r\\n\\t\\t\\t\\t\\t<mode>A01</mode>\\r\\n\\t\\t\\t\\t\\t<tmEf>2021-07-28 00:00</tmEf>\\r\\n\\t\\t\\t\\t\\t<wf>구름많음</wf>\\r\\n\\t\\t\\t\\t\\t<tmn>25</tmn>\\r\\n\\t\\t\\t\\t\\t<tmx>30</tmx>\\r\\n\\t\\t\\t\\t\\t<reliability></reliability>\\r\\n\\t\\t\\t\\t\\t<rnSt>40</rnSt>\\r\\n\\t\\t\\t\\t</data>\\r\\n\\r\\n\\t\\t\\t\\t\\r\\n\\t\\t\\t\\t<data>\\r\\n\\t\\t\\t\\t\\t<mode>A01</mode>\\r\\n\\t\\t\\t\\t\\t<tmEf>2021-07-29 00:00</tmEf>\\r\\n\\t\\t\\t\\t\\t<wf>구름많음</wf>\\r\\n\\t\\t\\t\\t\\t<tmn>25</tmn>\\r\\n\\t\\t\\t\\t\\t<tmx>31</tmx>\\r\\n\\t\\t\\t\\t\\t<reliability></reliability>\\r\\n\\t\\t\\t\\t\\t<rnSt>40</rnSt>\\r\\n\\t\\t\\t\\t</data>\\r\\n\\r\\n\\r\\n\\t\\t</location>\\r\\n\\r\\n\\t\\t<location wl_ver=\"3\">\\r\\n\\t\\t\\t\\t<province>제주도</province>\\r\\n\\t\\t\\t\\t<city>성판악</city>\\r\\n\\t\\t\\t\\t\\r\\n\\t\\t\\t\\t<data>\\r\\n\\t\\t\\t\\t\\t<mode>A02</mode>\\r\\n\\t\\t\\t\\t\\t<tmEf>2021-07-22 00:00</tmEf>\\r\\n\\t\\t\\t\\t\\t<wf>구름많음</wf>\\r\\n\\t\\t\\t\\t\\t<tmn>20</tmn>\\r\\n\\t\\t\\t\\t\\t<tmx>24</tmx>\\r\\n\\t\\t\\t\\t\\t<reliability></reliability>\\r\\n\\t\\t\\t\\t\\t<rnSt>30</rnSt>\\r\\n\\t\\t\\t\\t</data>\\r\\n\\r\\n\\t\\t\\t\\t\\r\\n\\t\\t\\t\\t<data>\\r\\n\\t\\t\\t\\t\\t<mode>A02</mode>\\r\\n\\t\\t\\t\\t\\t<tmEf>2021-07-22 12:00</tmEf>\\r\\n\\t\\t\\t\\t\\t<wf>구름많음</wf>\\r\\n\\t\\t\\t\\t\\t<tmn>20</tmn>\\r\\n\\t\\t\\t\\t\\t<tmx>24</tmx>\\r\\n\\t\\t\\t\\t\\t<reliability></reliability>\\r\\n\\t\\t\\t\\t\\t<rnSt>30</rnSt>\\r\\n\\t\\t\\t\\t</data>\\r\\n\\r\\n\\t\\t\\t\\t\\r\\n\\t\\t\\t\\t<data>\\r\\n\\t\\t\\t\\t\\t<mode>A02</mode>\\r\\n\\t\\t\\t\\t\\t<tmEf>2021-07-23 00:00</tmEf>\\r\\n\\t\\t\\t\\t\\t<wf>구름많음</wf>\\r\\n\\t\\t\\t\\t\\t<tmn>20</tmn>\\r\\n\\t\\t\\t\\t\\t<tmx>25</tmx>\\r\\n\\t\\t\\t\\t\\t<reliability></reliability>\\r\\n\\t\\t\\t\\t\\t<rnSt>30</rnSt>\\r\\n\\t\\t\\t\\t</data>\\r\\n\\r\\n\\t\\t\\t\\t\\r\\n\\t\\t\\t\\t<data>\\r\\n\\t\\t\\t\\t\\t<mode>A02</mode>\\r\\n\\t\\t\\t\\t\\t<tmEf>2021-07-23 12:00</tmEf>\\r\\n\\t\\t\\t\\t\\t<wf>구름많음</wf>\\r\\n\\t\\t\\t\\t\\t<tmn>20</tmn>\\r\\n\\t\\t\\t\\t\\t<tmx>25</tmx>\\r\\n\\t\\t\\t\\t\\t<reliability></reliability>\\r\\n\\t\\t\\t\\t\\t<rnSt>30</rnSt>\\r\\n\\t\\t\\t\\t</data>\\r\\n\\r\\n\\t\\t\\t\\t\\r\\n\\t\\t\\t\\t<data>\\r\\n\\t\\t\\t\\t\\t<mode>A02</mode>\\r\\n\\t\\t\\t\\t\\t<tmEf>2021-07-24 00:00</tmEf>\\r\\n\\t\\t\\t\\t\\t<wf>구름많음</wf>\\r\\n\\t\\t\\t\\t\\t<tmn>20</tmn>\\r\\n\\t\\t\\t\\t\\t<tmx>26</tmx>\\r\\n\\t\\t\\t\\t\\t<reliability></reliability>\\r\\n\\t\\t\\t\\t\\t<rnSt>30</rnSt>\\r\\n\\t\\t\\t\\t</data>\\r\\n\\r\\n\\t\\t\\t\\t\\r\\n\\t\\t\\t\\t<data>\\r\\n\\t\\t\\t\\t\\t<mode>A02</mode>\\r\\n\\t\\t\\t\\t\\t<tmEf>2021-07-24 12:00</tmEf>\\r\\n\\t\\t\\t\\t\\t<wf>구름많음</wf>\\r\\n\\t\\t\\t\\t\\t<tmn>20</tmn>\\r\\n\\t\\t\\t\\t\\t<tmx>26</tmx>\\r\\n\\t\\t\\t\\t\\t<reliability></reliability>\\r\\n\\t\\t\\t\\t\\t<rnSt>30</rnSt>\\r\\n\\t\\t\\t\\t</data>\\r\\n\\r\\n\\t\\t\\t\\t\\r\\n\\t\\t\\t\\t<data>\\r\\n\\t\\t\\t\\t\\t<mode>A02</mode>\\r\\n\\t\\t\\t\\t\\t<tmEf>2021-07-25 00:00</tmEf>\\r\\n\\t\\t\\t\\t\\t<wf>구름많음</wf>\\r\\n\\t\\t\\t\\t\\t<tmn>20</tmn>\\r\\n\\t\\t\\t\\t\\t<tmx>26</tmx>\\r\\n\\t\\t\\t\\t\\t<reliability></reliability>\\r\\n\\t\\t\\t\\t\\t<rnSt>30</rnSt>\\r\\n\\t\\t\\t\\t</data>\\r\\n\\r\\n\\t\\t\\t\\t\\r\\n\\t\\t\\t\\t<data>\\r\\n\\t\\t\\t\\t\\t<mode>A02</mode>\\r\\n\\t\\t\\t\\t\\t<tmEf>2021-07-25 12:00</tmEf>\\r\\n\\t\\t\\t\\t\\t<wf>흐림</wf>\\r\\n\\t\\t\\t\\t\\t<tmn>20</tmn>\\r\\n\\t\\t\\t\\t\\t<tmx>26</tmx>\\r\\n\\t\\t\\t\\t\\t<reliability></reliability>\\r\\n\\t\\t\\t\\t\\t<rnSt>40</rnSt>\\r\\n\\t\\t\\t\\t</data>\\r\\n\\r\\n\\t\\t\\t\\t\\r\\n\\t\\t\\t\\t<data>\\r\\n\\t\\t\\t\\t\\t<mode>A02</mode>\\r\\n\\t\\t\\t\\t\\t<tmEf>2021-07-26 00:00</tmEf>\\r\\n\\t\\t\\t\\t\\t<wf>흐림</wf>\\r\\n\\t\\t\\t\\t\\t<tmn>20</tmn>\\r\\n\\t\\t\\t\\t\\t<tmx>26</tmx>\\r\\n\\t\\t\\t\\t\\t<reliability></reliability>\\r\\n\\t\\t\\t\\t\\t<rnSt>40</rnSt>\\r\\n\\t\\t\\t\\t</data>\\r\\n\\r\\n\\t\\t\\t\\t\\r\\n\\t\\t\\t\\t<data>\\r\\n\\t\\t\\t\\t\\t<mode>A02</mode>\\r\\n\\t\\t\\t\\t\\t<tmEf>2021-07-26 12:00</tmEf>\\r\\n\\t\\t\\t\\t\\t<wf>구름많음</wf>\\r\\n\\t\\t\\t\\t\\t<tmn>20</tmn>\\r\\n\\t\\t\\t\\t\\t<tmx>26</tmx>\\r\\n\\t\\t\\t\\t\\t<reliability></reliability>\\r\\n\\t\\t\\t\\t\\t<rnSt>40</rnSt>\\r\\n\\t\\t\\t\\t</data>\\r\\n\\r\\n\\t\\t\\t\\t\\r\\n\\t\\t\\t\\t<data>\\r\\n\\t\\t\\t\\t\\t<mode>A01</mode>\\r\\n\\t\\t\\t\\t\\t<tmEf>2021-07-27 00:00</tmEf>\\r\\n\\t\\t\\t\\t\\t<wf>흐림</wf>\\r\\n\\t\\t\\t\\t\\t<tmn>19</tmn>\\r\\n\\t\\t\\t\\t\\t<tmx>26</tmx>\\r\\n\\t\\t\\t\\t\\t<reliability></reliability>\\r\\n\\t\\t\\t\\t\\t<rnSt>40</rnSt>\\r\\n\\t\\t\\t\\t</data>\\r\\n\\r\\n\\t\\t\\t\\t\\r\\n\\t\\t\\t\\t<data>\\r\\n\\t\\t\\t\\t\\t<mode>A01</mode>\\r\\n\\t\\t\\t\\t\\t<tmEf>2021-07-28 00:00</tmEf>\\r\\n\\t\\t\\t\\t\\t<wf>구름많음</wf>\\r\\n\\t\\t\\t\\t\\t<tmn>20</tmn>\\r\\n\\t\\t\\t\\t\\t<tmx>27</tmx>\\r\\n\\t\\t\\t\\t\\t<reliability></reliability>\\r\\n\\t\\t\\t\\t\\t<rnSt>40</rnSt>\\r\\n\\t\\t\\t\\t</data>\\r\\n\\r\\n\\t\\t\\t\\t\\r\\n\\t\\t\\t\\t<data>\\r\\n\\t\\t\\t\\t\\t<mode>A01</mode>\\r\\n\\t\\t\\t\\t\\t<tmEf>2021-07-29 00:00</tmEf>\\r\\n\\t\\t\\t\\t\\t<wf>구름많음</wf>\\r\\n\\t\\t\\t\\t\\t<tmn>21</tmn>\\r\\n\\t\\t\\t\\t\\t<tmx>28</tmx>\\r\\n\\t\\t\\t\\t\\t<reliability></reliability>\\r\\n\\t\\t\\t\\t\\t<rnSt>40</rnSt>\\r\\n\\t\\t\\t\\t</data>\\r\\n\\r\\n\\r\\n\\t\\t</location>\\r\\n\\r\\n\\t\\t<location wl_ver=\"3\">\\r\\n\\t\\t\\t\\t<province>제주도</province>\\r\\n\\t\\t\\t\\t<city>고산</city>\\r\\n\\t\\t\\t\\t\\r\\n\\t\\t\\t\\t<data>\\r\\n\\t\\t\\t\\t\\t<mode>A02</mode>\\r\\n\\t\\t\\t\\t\\t<tmEf>2021-07-22 00:00</tmEf>\\r\\n\\t\\t\\t\\t\\t<wf>구름많음</wf>\\r\\n\\t\\t\\t\\t\\t<tmn>25</tmn>\\r\\n\\t\\t\\t\\t\\t<tmx>31</tmx>\\r\\n\\t\\t\\t\\t\\t<reliability></reliability>\\r\\n\\t\\t\\t\\t\\t<rnSt>30</rnSt>\\r\\n\\t\\t\\t\\t</data>\\r\\n\\r\\n\\t\\t\\t\\t\\r\\n\\t\\t\\t\\t<data>\\r\\n\\t\\t\\t\\t\\t<mode>A02</mode>\\r\\n\\t\\t\\t\\t\\t<tmEf>2021-07-22 12:00</tmEf>\\r\\n\\t\\t\\t\\t\\t<wf>구름많음</wf>\\r\\n\\t\\t\\t\\t\\t<tmn>25</tmn>\\r\\n\\t\\t\\t\\t\\t<tmx>31</tmx>\\r\\n\\t\\t\\t\\t\\t<reliability></reliability>\\r\\n\\t\\t\\t\\t\\t<rnSt>30</rnSt>\\r\\n\\t\\t\\t\\t</data>\\r\\n\\r\\n\\t\\t\\t\\t\\r\\n\\t\\t\\t\\t<data>\\r\\n\\t\\t\\t\\t\\t<mode>A02</mode>\\r\\n\\t\\t\\t\\t\\t<tmEf>2021-07-23 00:00</tmEf>\\r\\n\\t\\t\\t\\t\\t<wf>구름많음</wf>\\r\\n\\t\\t\\t\\t\\t<tmn>26</tmn>\\r\\n\\t\\t\\t\\t\\t<tmx>31</tmx>\\r\\n\\t\\t\\t\\t\\t<reliability></reliability>\\r\\n\\t\\t\\t\\t\\t<rnSt>30</rnSt>\\r\\n\\t\\t\\t\\t</data>\\r\\n\\r\\n\\t\\t\\t\\t\\r\\n\\t\\t\\t\\t<data>\\r\\n\\t\\t\\t\\t\\t<mode>A02</mode>\\r\\n\\t\\t\\t\\t\\t<tmEf>2021-07-23 12:00</tmEf>\\r\\n\\t\\t\\t\\t\\t<wf>구름많음</wf>\\r\\n\\t\\t\\t\\t\\t<tmn>26</tmn>\\r\\n\\t\\t\\t\\t\\t<tmx>31</tmx>\\r\\n\\t\\t\\t\\t\\t<reliability></reliability>\\r\\n\\t\\t\\t\\t\\t<rnSt>30</rnSt>\\r\\n\\t\\t\\t\\t</data>\\r\\n\\r\\n\\t\\t\\t\\t\\r\\n\\t\\t\\t\\t<data>\\r\\n\\t\\t\\t\\t\\t<mode>A02</mode>\\r\\n\\t\\t\\t\\t\\t<tmEf>2021-07-24 00:00</tmEf>\\r\\n\\t\\t\\t\\t\\t<wf>구름많음</wf>\\r\\n\\t\\t\\t\\t\\t<tmn>25</tmn>\\r\\n\\t\\t\\t\\t\\t<tmx>31</tmx>\\r\\n\\t\\t\\t\\t\\t<reliability></reliability>\\r\\n\\t\\t\\t\\t\\t<rnSt>30</rnSt>\\r\\n\\t\\t\\t\\t</data>\\r\\n\\r\\n\\t\\t\\t\\t\\r\\n\\t\\t\\t\\t<data>\\r\\n\\t\\t\\t\\t\\t<mode>A02</mode>\\r\\n\\t\\t\\t\\t\\t<tmEf>2021-07-24 12:00</tmEf>\\r\\n\\t\\t\\t\\t\\t<wf>구름많음</wf>\\r\\n\\t\\t\\t\\t\\t<tmn>25</tmn>\\r\\n\\t\\t\\t\\t\\t<tmx>31</tmx>\\r\\n\\t\\t\\t\\t\\t<reliability></reliability>\\r\\n\\t\\t\\t\\t\\t<rnSt>30</rnSt>\\r\\n\\t\\t\\t\\t</data>\\r\\n\\r\\n\\t\\t\\t\\t\\r\\n\\t\\t\\t\\t<data>\\r\\n\\t\\t\\t\\t\\t<mode>A02</mode>\\r\\n\\t\\t\\t\\t\\t<tmEf>2021-07-25 00:00</tmEf>\\r\\n\\t\\t\\t\\t\\t<wf>구름많음</wf>\\r\\n\\t\\t\\t\\t\\t<tmn>25</tmn>\\r\\n\\t\\t\\t\\t\\t<tmx>31</tmx>\\r\\n\\t\\t\\t\\t\\t<reliability></reliability>\\r\\n\\t\\t\\t\\t\\t<rnSt>30</rnSt>\\r\\n\\t\\t\\t\\t</data>\\r\\n\\r\\n\\t\\t\\t\\t\\r\\n\\t\\t\\t\\t<data>\\r\\n\\t\\t\\t\\t\\t<mode>A02</mode>\\r\\n\\t\\t\\t\\t\\t<tmEf>2021-07-25 12:00</tmEf>\\r\\n\\t\\t\\t\\t\\t<wf>흐림</wf>\\r\\n\\t\\t\\t\\t\\t<tmn>25</tmn>\\r\\n\\t\\t\\t\\t\\t<tmx>31</tmx>\\r\\n\\t\\t\\t\\t\\t<reliability></reliability>\\r\\n\\t\\t\\t\\t\\t<rnSt>40</rnSt>\\r\\n\\t\\t\\t\\t</data>\\r\\n\\r\\n\\t\\t\\t\\t\\r\\n\\t\\t\\t\\t<data>\\r\\n\\t\\t\\t\\t\\t<mode>A02</mode>\\r\\n\\t\\t\\t\\t\\t<tmEf>2021-07-26 00:00</tmEf>\\r\\n\\t\\t\\t\\t\\t<wf>흐림</wf>\\r\\n\\t\\t\\t\\t\\t<tmn>25</tmn>\\r\\n\\t\\t\\t\\t\\t<tmx>30</tmx>\\r\\n\\t\\t\\t\\t\\t<reliability></reliability>\\r\\n\\t\\t\\t\\t\\t<rnSt>40</rnSt>\\r\\n\\t\\t\\t\\t</data>\\r\\n\\r\\n\\t\\t\\t\\t\\r\\n\\t\\t\\t\\t<data>\\r\\n\\t\\t\\t\\t\\t<mode>A02</mode>\\r\\n\\t\\t\\t\\t\\t<tmEf>2021-07-26 12:00</tmEf>\\r\\n\\t\\t\\t\\t\\t<wf>구름많음</wf>\\r\\n\\t\\t\\t\\t\\t<tmn>25</tmn>\\r\\n\\t\\t\\t\\t\\t<tmx>30</tmx>\\r\\n\\t\\t\\t\\t\\t<reliability></reliability>\\r\\n\\t\\t\\t\\t\\t<rnSt>40</rnSt>\\r\\n\\t\\t\\t\\t</data>\\r\\n\\r\\n\\t\\t\\t\\t\\r\\n\\t\\t\\t\\t<data>\\r\\n\\t\\t\\t\\t\\t<mode>A01</mode>\\r\\n\\t\\t\\t\\t\\t<tmEf>2021-07-27 00:00</tmEf>\\r\\n\\t\\t\\t\\t\\t<wf>흐림</wf>\\r\\n\\t\\t\\t\\t\\t<tmn>25</tmn>\\r\\n\\t\\t\\t\\t\\t<tmx>30</tmx>\\r\\n\\t\\t\\t\\t\\t<reliability></reliability>\\r\\n\\t\\t\\t\\t\\t<rnSt>40</rnSt>\\r\\n\\t\\t\\t\\t</data>\\r\\n\\r\\n\\t\\t\\t\\t\\r\\n\\t\\t\\t\\t<data>\\r\\n\\t\\t\\t\\t\\t<mode>A01</mode>\\r\\n\\t\\t\\t\\t\\t<tmEf>2021-07-28 00:00</tmEf>\\r\\n\\t\\t\\t\\t\\t<wf>구름많음</wf>\\r\\n\\t\\t\\t\\t\\t<tmn>25</tmn>\\r\\n\\t\\t\\t\\t\\t<tmx>30</tmx>\\r\\n\\t\\t\\t\\t\\t<reliability></reliability>\\r\\n\\t\\t\\t\\t\\t<rnSt>40</rnSt>\\r\\n\\t\\t\\t\\t</data>\\r\\n\\r\\n\\t\\t\\t\\t\\r\\n\\t\\t\\t\\t<data>\\r\\n\\t\\t\\t\\t\\t<mode>A01</mode>\\r\\n\\t\\t\\t\\t\\t<tmEf>2021-07-29 00:00</tmEf>\\r\\n\\t\\t\\t\\t\\t<wf>구름많음</wf>\\r\\n\\t\\t\\t\\t\\t<tmn>25</tmn>\\r\\n\\t\\t\\t\\t\\t<tmx>30</tmx>\\r\\n\\t\\t\\t\\t\\t<reliability></reliability>\\r\\n\\t\\t\\t\\t\\t<rnSt>40</rnSt>\\r\\n\\t\\t\\t\\t</data>\\r\\n\\r\\n\\r\\n\\t\\t</location>\\r\\n\\r\\n\\t\\t<location wl_ver=\"3\">\\r\\n\\t\\t\\t\\t<province>제주도</province>\\r\\n\\t\\t\\t\\t<city>이어도</city>\\r\\n\\t\\t\\t\\t\\r\\n\\t\\t\\t\\t<data>\\r\\n\\t\\t\\t\\t\\t<mode>A02</mode>\\r\\n\\t\\t\\t\\t\\t<tmEf>2021-07-22 00:00</tmEf>\\r\\n\\t\\t\\t\\t\\t<wf>구름많음</wf>\\r\\n\\t\\t\\t\\t\\t<tmn>28</tmn>\\r\\n\\t\\t\\t\\t\\t<tmx>29</tmx>\\r\\n\\t\\t\\t\\t\\t<reliability></reliability>\\r\\n\\t\\t\\t\\t\\t<rnSt>30</rnSt>\\r\\n\\t\\t\\t\\t</data>\\r\\n\\r\\n\\t\\t\\t\\t\\r\\n\\t\\t\\t\\t<data>\\r\\n\\t\\t\\t\\t\\t<mode>A02</mode>\\r\\n\\t\\t\\t\\t\\t<tmEf>2021-07-22 12:00</tmEf>\\r\\n\\t\\t\\t\\t\\t<wf>구름많음</wf>\\r\\n\\t\\t\\t\\t\\t<tmn>28</tmn>\\r\\n\\t\\t\\t\\t\\t<tmx>29</tmx>\\r\\n\\t\\t\\t\\t\\t<reliability></reliability>\\r\\n\\t\\t\\t\\t\\t<rnSt>30</rnSt>\\r\\n\\t\\t\\t\\t</data>\\r\\n\\r\\n\\t\\t\\t\\t\\r\\n\\t\\t\\t\\t<data>\\r\\n\\t\\t\\t\\t\\t<mode>A02</mode>\\r\\n\\t\\t\\t\\t\\t<tmEf>2021-07-23 00:00</tmEf>\\r\\n\\t\\t\\t\\t\\t<wf>구름많음</wf>\\r\\n\\t\\t\\t\\t\\t<tmn>28</tmn>\\r\\n\\t\\t\\t\\t\\t<tmx>29</tmx>\\r\\n\\t\\t\\t\\t\\t<reliability></reliability>\\r\\n\\t\\t\\t\\t\\t<rnSt>30</rnSt>\\r\\n\\t\\t\\t\\t</data>\\r\\n\\r\\n\\t\\t\\t\\t\\r\\n\\t\\t\\t\\t<data>\\r\\n\\t\\t\\t\\t\\t<mode>A02</mode>\\r\\n\\t\\t\\t\\t\\t<tmEf>2021-07-23 12:00</tmEf>\\r\\n\\t\\t\\t\\t\\t<wf>구름많음</wf>\\r\\n\\t\\t\\t\\t\\t<tmn>28</tmn>\\r\\n\\t\\t\\t\\t\\t<tmx>29</tmx>\\r\\n\\t\\t\\t\\t\\t<reliability></reliability>\\r\\n\\t\\t\\t\\t\\t<rnSt>30</rnSt>\\r\\n\\t\\t\\t\\t</data>\\r\\n\\r\\n\\t\\t\\t\\t\\r\\n\\t\\t\\t\\t<data>\\r\\n\\t\\t\\t\\t\\t<mode>A02</mode>\\r\\n\\t\\t\\t\\t\\t<tmEf>2021-07-24 00:00</tmEf>\\r\\n\\t\\t\\t\\t\\t<wf>구름많음</wf>\\r\\n\\t\\t\\t\\t\\t<tmn>27</tmn>\\r\\n\\t\\t\\t\\t\\t<tmx>28</tmx>\\r\\n\\t\\t\\t\\t\\t<reliability></reliability>\\r\\n\\t\\t\\t\\t\\t<rnSt>30</rnSt>\\r\\n\\t\\t\\t\\t</data>\\r\\n\\r\\n\\t\\t\\t\\t\\r\\n\\t\\t\\t\\t<data>\\r\\n\\t\\t\\t\\t\\t<mode>A02</mode>\\r\\n\\t\\t\\t\\t\\t<tmEf>2021-07-24 12:00</tmEf>\\r\\n\\t\\t\\t\\t\\t<wf>구름많음</wf>\\r\\n\\t\\t\\t\\t\\t<tmn>27</tmn>\\r\\n\\t\\t\\t\\t\\t<tmx>28</tmx>\\r\\n\\t\\t\\t\\t\\t<reliability></reliability>\\r\\n\\t\\t\\t\\t\\t<rnSt>30</rnSt>\\r\\n\\t\\t\\t\\t</data>\\r\\n\\r\\n\\t\\t\\t\\t\\r\\n\\t\\t\\t\\t<data>\\r\\n\\t\\t\\t\\t\\t<mode>A02</mode>\\r\\n\\t\\t\\t\\t\\t<tmEf>2021-07-25 00:00</tmEf>\\r\\n\\t\\t\\t\\t\\t<wf>구름많음</wf>\\r\\n\\t\\t\\t\\t\\t<tmn>27</tmn>\\r\\n\\t\\t\\t\\t\\t<tmx>28</tmx>\\r\\n\\t\\t\\t\\t\\t<reliability></reliability>\\r\\n\\t\\t\\t\\t\\t<rnSt>30</rnSt>\\r\\n\\t\\t\\t\\t</data>\\r\\n\\r\\n\\t\\t\\t\\t\\r\\n\\t\\t\\t\\t<data>\\r\\n\\t\\t\\t\\t\\t<mode>A02</mode>\\r\\n\\t\\t\\t\\t\\t<tmEf>2021-07-25 12:00</tmEf>\\r\\n\\t\\t\\t\\t\\t<wf>흐림</wf>\\r\\n\\t\\t\\t\\t\\t<tmn>27</tmn>\\r\\n\\t\\t\\t\\t\\t<tmx>28</tmx>\\r\\n\\t\\t\\t\\t\\t<reliability></reliability>\\r\\n\\t\\t\\t\\t\\t<rnSt>40</rnSt>\\r\\n\\t\\t\\t\\t</data>\\r\\n\\r\\n\\t\\t\\t\\t\\r\\n\\t\\t\\t\\t<data>\\r\\n\\t\\t\\t\\t\\t<mode>A02</mode>\\r\\n\\t\\t\\t\\t\\t<tmEf>2021-07-26 00:00</tmEf>\\r\\n\\t\\t\\t\\t\\t<wf>흐림</wf>\\r\\n\\t\\t\\t\\t\\t<tmn>27</tmn>\\r\\n\\t\\t\\t\\t\\t<tmx>28</tmx>\\r\\n\\t\\t\\t\\t\\t<reliability></reliability>\\r\\n\\t\\t\\t\\t\\t<rnSt>40</rnSt>\\r\\n\\t\\t\\t\\t</data>\\r\\n\\r\\n\\t\\t\\t\\t\\r\\n\\t\\t\\t\\t<data>\\r\\n\\t\\t\\t\\t\\t<mode>A02</mode>\\r\\n\\t\\t\\t\\t\\t<tmEf>2021-07-26 12:00</tmEf>\\r\\n\\t\\t\\t\\t\\t<wf>구름많음</wf>\\r\\n\\t\\t\\t\\t\\t<tmn>27</tmn>\\r\\n\\t\\t\\t\\t\\t<tmx>28</tmx>\\r\\n\\t\\t\\t\\t\\t<reliability></reliability>\\r\\n\\t\\t\\t\\t\\t<rnSt>40</rnSt>\\r\\n\\t\\t\\t\\t</data>\\r\\n\\r\\n\\t\\t\\t\\t\\r\\n\\t\\t\\t\\t<data>\\r\\n\\t\\t\\t\\t\\t<mode>A01</mode>\\r\\n\\t\\t\\t\\t\\t<tmEf>2021-07-27 00:00</tmEf>\\r\\n\\t\\t\\t\\t\\t<wf>흐림</wf>\\r\\n\\t\\t\\t\\t\\t<tmn>27</tmn>\\r\\n\\t\\t\\t\\t\\t<tmx>28</tmx>\\r\\n\\t\\t\\t\\t\\t<reliability></reliability>\\r\\n\\t\\t\\t\\t\\t<rnSt>40</rnSt>\\r\\n\\t\\t\\t\\t</data>\\r\\n\\r\\n\\t\\t\\t\\t\\r\\n\\t\\t\\t\\t<data>\\r\\n\\t\\t\\t\\t\\t<mode>A01</mode>\\r\\n\\t\\t\\t\\t\\t<tmEf>2021-07-28 00:00</tmEf>\\r\\n\\t\\t\\t\\t\\t<wf>구름많음</wf>\\r\\n\\t\\t\\t\\t\\t<tmn>27</tmn>\\r\\n\\t\\t\\t\\t\\t<tmx>28</tmx>\\r\\n\\t\\t\\t\\t\\t<reliability></reliability>\\r\\n\\t\\t\\t\\t\\t<rnSt>40</rnSt>\\r\\n\\t\\t\\t\\t</data>\\r\\n\\r\\n\\t\\t\\t\\t\\r\\n\\t\\t\\t\\t<data>\\r\\n\\t\\t\\t\\t\\t<mode>A01</mode>\\r\\n\\t\\t\\t\\t\\t<tmEf>2021-07-29 00:00</tmEf>\\r\\n\\t\\t\\t\\t\\t<wf>구름많음</wf>\\r\\n\\t\\t\\t\\t\\t<tmn>28</tmn>\\r\\n\\t\\t\\t\\t\\t<tmx>29</tmx>\\r\\n\\t\\t\\t\\t\\t<reliability></reliability>\\r\\n\\t\\t\\t\\t\\t<rnSt>40</rnSt>\\r\\n\\t\\t\\t\\t</data>\\r\\n\\r\\n\\r\\n\\t\\t</location>\\r\\n\\r\\n\\t\\t<location wl_ver=\"3\">\\r\\n\\t\\t\\t\\t<province>제주도</province>\\r\\n\\t\\t\\t\\t<city>추자도</city>\\r\\n\\t\\t\\t\\t\\r\\n\\t\\t\\t\\t<data>\\r\\n\\t\\t\\t\\t\\t<mode>A02</mode>\\r\\n\\t\\t\\t\\t\\t<tmEf>2021-07-22 00:00</tmEf>\\r\\n\\t\\t\\t\\t\\t<wf>구름많음</wf>\\r\\n\\t\\t\\t\\t\\t<tmn>25</tmn>\\r\\n\\t\\t\\t\\t\\t<tmx>30</tmx>\\r\\n\\t\\t\\t\\t\\t<reliability></reliability>\\r\\n\\t\\t\\t\\t\\t<rnSt>30</rnSt>\\r\\n\\t\\t\\t\\t</data>\\r\\n\\r\\n\\t\\t\\t\\t\\r\\n\\t\\t\\t\\t<data>\\r\\n\\t\\t\\t\\t\\t<mode>A02</mode>\\r\\n\\t\\t\\t\\t\\t<tmEf>2021-07-22 12:00</tmEf>\\r\\n\\t\\t\\t\\t\\t<wf>구름많음</wf>\\r\\n\\t\\t\\t\\t\\t<tmn>25</tmn>\\r\\n\\t\\t\\t\\t\\t<tmx>30</tmx>\\r\\n\\t\\t\\t\\t\\t<reliability></reliability>\\r\\n\\t\\t\\t\\t\\t<rnSt>30</rnSt>\\r\\n\\t\\t\\t\\t</data>\\r\\n\\r\\n\\t\\t\\t\\t\\r\\n\\t\\t\\t\\t<data>\\r\\n\\t\\t\\t\\t\\t<mode>A02</mode>\\r\\n\\t\\t\\t\\t\\t<tmEf>2021-07-23 00:00</tmEf>\\r\\n\\t\\t\\t\\t\\t<wf>구름많음</wf>\\r\\n\\t\\t\\t\\t\\t<tmn>25</tmn>\\r\\n\\t\\t\\t\\t\\t<tmx>29</tmx>\\r\\n\\t\\t\\t\\t\\t<reliability></reliability>\\r\\n\\t\\t\\t\\t\\t<rnSt>30</rnSt>\\r\\n\\t\\t\\t\\t</data>\\r\\n\\r\\n\\t\\t\\t\\t\\r\\n\\t\\t\\t\\t<data>\\r\\n\\t\\t\\t\\t\\t<mode>A02</mode>\\r\\n\\t\\t\\t\\t\\t<tmEf>2021-07-23 12:00</tmEf>\\r\\n\\t\\t\\t\\t\\t<wf>구름많음</wf>\\r\\n\\t\\t\\t\\t\\t<tmn>25</tmn>\\r\\n\\t\\t\\t\\t\\t<tmx>29</tmx>\\r\\n\\t\\t\\t\\t\\t<reliability></reliability>\\r\\n\\t\\t\\t\\t\\t<rnSt>30</rnSt>\\r\\n\\t\\t\\t\\t</data>\\r\\n\\r\\n\\t\\t\\t\\t\\r\\n\\t\\t\\t\\t<data>\\r\\n\\t\\t\\t\\t\\t<mode>A02</mode>\\r\\n\\t\\t\\t\\t\\t<tmEf>2021-07-24 00:00</tmEf>\\r\\n\\t\\t\\t\\t\\t<wf>구름많음</wf>\\r\\n\\t\\t\\t\\t\\t<tmn>25</tmn>\\r\\n\\t\\t\\t\\t\\t<tmx>28</tmx>\\r\\n\\t\\t\\t\\t\\t<reliability></reliability>\\r\\n\\t\\t\\t\\t\\t<rnSt>30</rnSt>\\r\\n\\t\\t\\t\\t</data>\\r\\n\\r\\n\\t\\t\\t\\t\\r\\n\\t\\t\\t\\t<data>\\r\\n\\t\\t\\t\\t\\t<mode>A02</mode>\\r\\n\\t\\t\\t\\t\\t<tmEf>2021-07-24 12:00</tmEf>\\r\\n\\t\\t\\t\\t\\t<wf>구름많음</wf>\\r\\n\\t\\t\\t\\t\\t<tmn>25</tmn>\\r\\n\\t\\t\\t\\t\\t<tmx>28</tmx>\\r\\n\\t\\t\\t\\t\\t<reliability></reliability>\\r\\n\\t\\t\\t\\t\\t<rnSt>30</rnSt>\\r\\n\\t\\t\\t\\t</data>\\r\\n\\r\\n\\t\\t\\t\\t\\r\\n\\t\\t\\t\\t<data>\\r\\n\\t\\t\\t\\t\\t<mode>A02</mode>\\r\\n\\t\\t\\t\\t\\t<tmEf>2021-07-25 00:00</tmEf>\\r\\n\\t\\t\\t\\t\\t<wf>구름많음</wf>\\r\\n\\t\\t\\t\\t\\t<tmn>25</tmn>\\r\\n\\t\\t\\t\\t\\t<tmx>28</tmx>\\r\\n\\t\\t\\t\\t\\t<reliability></reliability>\\r\\n\\t\\t\\t\\t\\t<rnSt>30</rnSt>\\r\\n\\t\\t\\t\\t</data>\\r\\n\\r\\n\\t\\t\\t\\t\\r\\n\\t\\t\\t\\t<data>\\r\\n\\t\\t\\t\\t\\t<mode>A02</mode>\\r\\n\\t\\t\\t\\t\\t<tmEf>2021-07-25 12:00</tmEf>\\r\\n\\t\\t\\t\\t\\t<wf>흐림</wf>\\r\\n\\t\\t\\t\\t\\t<tmn>25</tmn>\\r\\n\\t\\t\\t\\t\\t<tmx>28</tmx>\\r\\n\\t\\t\\t\\t\\t<reliability></reliability>\\r\\n\\t\\t\\t\\t\\t<rnSt>40</rnSt>\\r\\n\\t\\t\\t\\t</data>\\r\\n\\r\\n\\t\\t\\t\\t\\r\\n\\t\\t\\t\\t<data>\\r\\n\\t\\t\\t\\t\\t<mode>A02</mode>\\r\\n\\t\\t\\t\\t\\t<tmEf>2021-07-26 00:00</tmEf>\\r\\n\\t\\t\\t\\t\\t<wf>흐림</wf>\\r\\n\\t\\t\\t\\t\\t<tmn>25</tmn>\\r\\n\\t\\t\\t\\t\\t<tmx>28</tmx>\\r\\n\\t\\t\\t\\t\\t<reliability></reliability>\\r\\n\\t\\t\\t\\t\\t<rnSt>40</rnSt>\\r\\n\\t\\t\\t\\t</data>\\r\\n\\r\\n\\t\\t\\t\\t\\r\\n\\t\\t\\t\\t<data>\\r\\n\\t\\t\\t\\t\\t<mode>A02</mode>\\r\\n\\t\\t\\t\\t\\t<tmEf>2021-07-26 12:00</tmEf>\\r\\n\\t\\t\\t\\t\\t<wf>구름많음</wf>\\r\\n\\t\\t\\t\\t\\t<tmn>25</tmn>\\r\\n\\t\\t\\t\\t\\t<tmx>28</tmx>\\r\\n\\t\\t\\t\\t\\t<reliability></reliability>\\r\\n\\t\\t\\t\\t\\t<rnSt>40</rnSt>\\r\\n\\t\\t\\t\\t</data>\\r\\n\\r\\n\\t\\t\\t\\t\\r\\n\\t\\t\\t\\t<data>\\r\\n\\t\\t\\t\\t\\t<mode>A01</mode>\\r\\n\\t\\t\\t\\t\\t<tmEf>2021-07-27 00:00</tmEf>\\r\\n\\t\\t\\t\\t\\t<wf>흐림</wf>\\r\\n\\t\\t\\t\\t\\t<tmn>25</tmn>\\r\\n\\t\\t\\t\\t\\t<tmx>28</tmx>\\r\\n\\t\\t\\t\\t\\t<reliability></reliability>\\r\\n\\t\\t\\t\\t\\t<rnSt>40</rnSt>\\r\\n\\t\\t\\t\\t</data>\\r\\n\\r\\n\\t\\t\\t\\t\\r\\n\\t\\t\\t\\t<data>\\r\\n\\t\\t\\t\\t\\t<mode>A01</mode>\\r\\n\\t\\t\\t\\t\\t<tmEf>2021-07-28 00:00</tmEf>\\r\\n\\t\\t\\t\\t\\t<wf>구름많음</wf>\\r\\n\\t\\t\\t\\t\\t<tmn>25</tmn>\\r\\n\\t\\t\\t\\t\\t<tmx>30</tmx>\\r\\n\\t\\t\\t\\t\\t<reliability></reliability>\\r\\n\\t\\t\\t\\t\\t<rnSt>40</rnSt>\\r\\n\\t\\t\\t\\t</data>\\r\\n\\r\\n\\t\\t\\t\\t\\r\\n\\t\\t\\t\\t<data>\\r\\n\\t\\t\\t\\t\\t<mode>A01</mode>\\r\\n\\t\\t\\t\\t\\t<tmEf>2021-07-29 00:00</tmEf>\\r\\n\\t\\t\\t\\t\\t<wf>구름많음</wf>\\r\\n\\t\\t\\t\\t\\t<tmn>26</tmn>\\r\\n\\t\\t\\t\\t\\t<tmx>31</tmx>\\r\\n\\t\\t\\t\\t\\t<reliability></reliability>\\r\\n\\t\\t\\t\\t\\t<rnSt>40</rnSt>\\r\\n\\t\\t\\t\\t</data>\\r\\n\\r\\n\\r\\n\\t\\t</location>\\r\\n\\r\\n\\r\\n\\t\\r\\n\\r\\n\\t</body>\\r\\n</description>\\r\\n</item>\\r\\n</channel>\\r\\n</rss>\\t'"
      ]
     },
     "execution_count": 64,
     "metadata": {},
     "output_type": "execute_result"
    }
   ],
   "source": [
    "res=urllib.request.urlopen(addr).read()\n",
    "# 클 -> 서버로 요청 -> 답변(200(정상), 40x(주소오류), 50x(서버오류)) =>\n",
    "# 서버는 클라이언트에게 메인페이지의 코드를 전송\n",
    "text=res.decode(\"utf-8\")\n",
    "text"
   ]
  },
  {
   "cell_type": "code",
   "execution_count": null,
   "id": "6dfe2a12",
   "metadata": {},
   "outputs": [],
   "source": []
  },
  {
   "cell_type": "code",
   "execution_count": null,
   "id": "50e64169",
   "metadata": {},
   "outputs": [],
   "source": []
  },
  {
   "cell_type": "code",
   "execution_count": null,
   "id": "8a18e82f",
   "metadata": {},
   "outputs": [],
   "source": []
  }
 ],
 "metadata": {
  "kernelspec": {
   "display_name": "Python 3",
   "language": "python",
   "name": "python3"
  },
  "language_info": {
   "codemirror_mode": {
    "name": "ipython",
    "version": 3
   },
   "file_extension": ".py",
   "mimetype": "text/x-python",
   "name": "python",
   "nbconvert_exporter": "python",
   "pygments_lexer": "ipython3",
   "version": "3.8.8"
  }
 },
 "nbformat": 4,
 "nbformat_minor": 5
}
