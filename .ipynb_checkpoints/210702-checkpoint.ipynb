{
 "cells": [
  {
   "cell_type": "code",
   "execution_count": 5,
   "id": "573420b5",
   "metadata": {},
   "outputs": [
    {
     "name": "stdout",
     "output_type": "stream",
     "text": [
      "숫자 입력: 5 3\n",
      "8\n"
     ]
    }
   ],
   "source": [
    "x,y=map(int,input(\"숫자 입력: \").split())\n",
    "print(x+y)"
   ]
  },
  {
   "cell_type": "code",
   "execution_count": 7,
   "id": "e8ab912d",
   "metadata": {},
   "outputs": [
    {
     "name": "stdout",
     "output_type": "stream",
     "text": [
      "숫자 입력: 10 10\n",
      "<map object at 0x0000017EFA2DECD0>\n"
     ]
    }
   ],
   "source": [
    "print(map(int,input(\"숫자 입력: \").split()))"
   ]
  },
  {
   "cell_type": "code",
   "execution_count": 9,
   "id": "3670058d",
   "metadata": {},
   "outputs": [
    {
     "name": "stdout",
     "output_type": "stream",
     "text": [
      "숫자 입력: 5,6\n",
      "11\n"
     ]
    }
   ],
   "source": [
    "x,y=map(int,input(\"숫자 입력: \").split(\",\"))\n",
    "print(x+y)"
   ]
  },
  {
   "cell_type": "code",
   "execution_count": 11,
   "id": "3ae0682d",
   "metadata": {
    "scrolled": true
   },
   "outputs": [
    {
     "name": "stdout",
     "output_type": "stream",
     "text": [
      "10 20 30\n",
      "10?20?30\n"
     ]
    }
   ],
   "source": [
    "print(10,20,30)\n",
    "print(10,20,30,sep=\"?\")"
   ]
  },
  {
   "cell_type": "code",
   "execution_count": 14,
   "id": "5c8cd72e",
   "metadata": {},
   "outputs": [
    {
     "data": {
      "text/plain": [
       "False"
      ]
     },
     "execution_count": 14,
     "metadata": {},
     "output_type": "execute_result"
    }
   ],
   "source": [
    "False and True"
   ]
  },
  {
   "cell_type": "code",
   "execution_count": 15,
   "id": "7e06a010",
   "metadata": {},
   "outputs": [
    {
     "ename": "NameError",
     "evalue": "name 'null' is not defined",
     "output_type": "error",
     "traceback": [
      "\u001b[1;31m---------------------------------------------------------------------------\u001b[0m",
      "\u001b[1;31mNameError\u001b[0m                                 Traceback (most recent call last)",
      "\u001b[1;32m<ipython-input-15-d10f2c52cdaa>\u001b[0m in \u001b[0;36m<module>\u001b[1;34m\u001b[0m\n\u001b[1;32m----> 1\u001b[1;33m \u001b[0mbool\u001b[0m\u001b[1;33m(\u001b[0m\u001b[0mnull\u001b[0m\u001b[1;33m)\u001b[0m\u001b[1;33m\u001b[0m\u001b[1;33m\u001b[0m\u001b[0m\n\u001b[0m",
      "\u001b[1;31mNameError\u001b[0m: name 'null' is not defined"
     ]
    }
   ],
   "source": [
    "bool(null)"
   ]
  },
  {
   "cell_type": "code",
   "execution_count": 16,
   "id": "57ce9105",
   "metadata": {},
   "outputs": [
    {
     "name": "stdout",
     "output_type": "stream",
     "text": [
      "이건 실수다 3\n"
     ]
    }
   ],
   "source": [
    "print(\"이건 실수다 %d\" %3.2)"
   ]
  },
  {
   "cell_type": "code",
   "execution_count": 17,
   "id": "a1bcb987",
   "metadata": {},
   "outputs": [
    {
     "name": "stdout",
     "output_type": "stream",
     "text": [
      "퍼센트 붙이기 2 %\n"
     ]
    }
   ],
   "source": [
    "print(\"퍼센트 붙이기 %d %%\" %2)"
   ]
  },
  {
   "cell_type": "code",
   "execution_count": 20,
   "id": "dba0a58b",
   "metadata": {},
   "outputs": [
    {
     "name": "stdout",
     "output_type": "stream",
     "text": [
      "        안농\n",
      "안농\n",
      "                  안농\n"
     ]
    }
   ],
   "source": [
    "print(\"%10s\"% \"안농\")\n",
    "print(\"%1s\"% \"안농\")\n",
    "print(\"%20s\"% \"안농\")"
   ]
  },
  {
   "cell_type": "code",
   "execution_count": 26,
   "id": "e51a93de",
   "metadata": {},
   "outputs": [],
   "source": [
    "num=3 \n",
    "day=\"five\""
   ]
  },
  {
   "cell_type": "code",
   "execution_count": 32,
   "id": "98fc79f8",
   "metadata": {},
   "outputs": [
    {
     "name": "stdout",
     "output_type": "stream",
     "text": [
      "i eat 3 apples. so i was sick for five days\n",
      "i eat 3 apples. so i was sick for five days\n",
      "i eat 3 apples. so i was sick for five days\n",
      "i eat five apples. so i was sick for 3 days\n",
      "i eat 5 apples. so i was sick for two days\n"
     ]
    }
   ],
   "source": [
    "print(\"i eat %d apples. so i was sick for %s days\" % (3,\"five\"))\n",
    "print(\"i eat %d apples. so i was sick for %s days\" % (num,day))\n",
    "print(\"i eat {0} apples. so i was sick for {1} days\". format(num,day))\n",
    "print(\"i eat {1} apples. so i was sick for {0} days\". format(num,day))\n",
    "print(\"i eat {num} apples. so i was sick for {day} days\". format(num=5,day=\"two\"))"
   ]
  },
  {
   "cell_type": "code",
   "execution_count": 36,
   "id": "0c1f5254",
   "metadata": {},
   "outputs": [
    {
     "name": "stdout",
     "output_type": "stream",
     "text": [
      "hello     \n",
      "     hello\n",
      "  hello   \n",
      "$$hello$$$\n"
     ]
    }
   ],
   "source": [
    "print(\"{0:<10}\".format(\"hello\"))\n",
    "# :<10 전체 자리수가 10자리, 왼쪽 정렬\n",
    "print(\"{0:>10}\".format(\"hello\"))\n",
    "# :<10 전체 자리수가 10자리, 오른쪽 정렬\n",
    "print(\"{0:^10}\".format(\"hello\"))\n",
    "# :<10 전체 자리수가 10자리, 가운데 정렬\n",
    "print(\"{0:$^10}\".format(\"hello\"))\n",
    "# :<10 전체 자리수가 10자리, 삽입문자 후 가운데 정렬"
   ]
  },
  {
   "cell_type": "code",
   "execution_count": 48,
   "id": "f4637017",
   "metadata": {},
   "outputs": [
    {
     "name": "stdout",
     "output_type": "stream",
     "text": [
      "abcd\n"
     ]
    }
   ],
   "source": [
    "x= \"a,b,c,d\"\n",
    "res=x.split(\",\")\n",
    "print(\"\".join(res))"
   ]
  },
  {
   "cell_type": "code",
   "execution_count": null,
   "id": "f6ca0a38",
   "metadata": {},
   "outputs": [],
   "source": []
  },
  {
   "cell_type": "code",
   "execution_count": 50,
   "id": "2ed7c1ad",
   "metadata": {},
   "outputs": [
    {
     "name": "stdout",
     "output_type": "stream",
     "text": [
      "  hello  hi\n",
      "  hello hi\n"
     ]
    }
   ],
   "source": [
    "a= \"  hello \"\n",
    "b= \"hi\"\n",
    "print(a,b)\n",
    "print(a,b, sep=\"\")"
   ]
  },
  {
   "cell_type": "code",
   "execution_count": 52,
   "id": "dfe6c99e",
   "metadata": {},
   "outputs": [
    {
     "data": {
      "text/plain": [
       "'  hello'"
      ]
     },
     "execution_count": 52,
     "metadata": {},
     "output_type": "execute_result"
    }
   ],
   "source": [
    "a.strip() #양쪽 공백 제거\n",
    "a.lstrip()#왼쪽 공백 제거\n",
    "a.rstrip()#오른쪽 공백 제거"
   ]
  },
  {
   "cell_type": "code",
   "execution_count": 56,
   "id": "26a930b7",
   "metadata": {},
   "outputs": [
    {
     "data": {
      "text/plain": [
       "'Python is too difficult'"
      ]
     },
     "execution_count": 56,
     "metadata": {},
     "output_type": "execute_result"
    }
   ],
   "source": [
    "a=\"Python is too easy\"\n",
    "a.replace(\"easy\",\"difficult\")"
   ]
  },
  {
   "cell_type": "code",
   "execution_count": 62,
   "id": "c60b587b",
   "metadata": {},
   "outputs": [],
   "source": [
    "a=[]\n",
    "a2=[10,20,30]\n",
    "jumin=[9,2,0,4,1,1]\n",
    "a3=['hi','hello']\n",
    "a4=[10,20,'hi']\n",
    "a5=[10, 'hi',1.15, True]\n",
    "a6=list()"
   ]
  },
  {
   "cell_type": "code",
   "execution_count": 63,
   "id": "5dc34a46",
   "metadata": {},
   "outputs": [
    {
     "data": {
      "text/plain": [
       "[]"
      ]
     },
     "execution_count": 63,
     "metadata": {},
     "output_type": "execute_result"
    }
   ],
   "source": [
    "a6"
   ]
  },
  {
   "cell_type": "code",
   "execution_count": 73,
   "id": "b8c67ff1",
   "metadata": {},
   "outputs": [
    {
     "data": {
      "text/plain": [
       "40"
      ]
     },
     "execution_count": 73,
     "metadata": {},
     "output_type": "execute_result"
    }
   ],
   "source": [
    "a=[10,20,30,40,[50,'a','b']]\n",
    "a[2]+a[0]\n",
    "a[-2]"
   ]
  },
  {
   "cell_type": "code",
   "execution_count": 78,
   "id": "9c42dbed",
   "metadata": {},
   "outputs": [
    {
     "data": {
      "text/plain": [
       "'a'"
      ]
     },
     "execution_count": 78,
     "metadata": {},
     "output_type": "execute_result"
    }
   ],
   "source": [
    "a=[10,20,30,40,[50,'a','b']]\n",
    "a[-1][1]"
   ]
  },
  {
   "cell_type": "code",
   "execution_count": 80,
   "id": "196980c3",
   "metadata": {},
   "outputs": [
    {
     "data": {
      "text/plain": [
       "3.14"
      ]
     },
     "execution_count": 80,
     "metadata": {},
     "output_type": "execute_result"
    }
   ],
   "source": [
    "a=[10,20,30,40,[50,'a',[3.14, True, 100],'b']]\n",
    "a[-1][2][0]"
   ]
  },
  {
   "cell_type": "code",
   "execution_count": 82,
   "id": "3cfe5eca",
   "metadata": {},
   "outputs": [
    {
     "data": {
      "text/plain": [
       "[10, 20]"
      ]
     },
     "execution_count": 82,
     "metadata": {},
     "output_type": "execute_result"
    }
   ],
   "source": [
    "a=[10,20,30,40,50]\n",
    "a[0:2]"
   ]
  },
  {
   "cell_type": "code",
   "execution_count": 83,
   "id": "4234fe73",
   "metadata": {},
   "outputs": [
    {
     "data": {
      "text/plain": [
       "['가', '나']"
      ]
     },
     "execution_count": 83,
     "metadata": {},
     "output_type": "execute_result"
    }
   ],
   "source": [
    "a=[10,20,30,['가','나','다'],40,50,60]\n",
    "a[3][0:2]"
   ]
  },
  {
   "cell_type": "code",
   "execution_count": 107,
   "id": "1d57ea25",
   "metadata": {},
   "outputs": [
    {
     "data": {
      "text/plain": [
       "[5.0, 4.5, 4.0, 3.5, 3.0, 2.5, 2.0, 1.5]"
      ]
     },
     "execution_count": 107,
     "metadata": {},
     "output_type": "execute_result"
    }
   ],
   "source": [
    "a=[x/10 for x in range(50,10,-5)]\n",
    "a\n",
    "\n"
   ]
  },
  {
   "cell_type": "code",
   "execution_count": 112,
   "id": "225fdeca",
   "metadata": {},
   "outputs": [
    {
     "data": {
      "text/plain": [
       "[10, 20]"
      ]
     },
     "execution_count": 112,
     "metadata": {},
     "output_type": "execute_result"
    }
   ],
   "source": [
    "a=[10,20,30]\n",
    "a[2]=40\n",
    "a\n",
    "del a[2]\n",
    "a"
   ]
  },
  {
   "cell_type": "code",
   "execution_count": 122,
   "id": "efe42a57",
   "metadata": {},
   "outputs": [
    {
     "data": {
      "text/plain": [
       "[10, 20, 30]"
      ]
     },
     "execution_count": 122,
     "metadata": {},
     "output_type": "execute_result"
    }
   ],
   "source": [
    "b=list(range(10,101,10))\n",
    "del b[3:]\n",
    "b"
   ]
  },
  {
   "cell_type": "code",
   "execution_count": 124,
   "id": "ea8a0c1c",
   "metadata": {},
   "outputs": [
    {
     "data": {
      "text/plain": [
       "[10, 20, 30]"
      ]
     },
     "execution_count": 124,
     "metadata": {},
     "output_type": "execute_result"
    }
   ],
   "source": [
    "a=[10,20]\n",
    "a.append(30)\n",
    "a"
   ]
  },
  {
   "cell_type": "code",
   "execution_count": null,
   "id": "25dc7674",
   "metadata": {},
   "outputs": [],
   "source": []
  }
 ],
 "metadata": {
  "kernelspec": {
   "display_name": "Python 3",
   "language": "python",
   "name": "python3"
  },
  "language_info": {
   "codemirror_mode": {
    "name": "ipython",
    "version": 3
   },
   "file_extension": ".py",
   "mimetype": "text/x-python",
   "name": "python",
   "nbconvert_exporter": "python",
   "pygments_lexer": "ipython3",
   "version": "3.8.8"
  }
 },
 "nbformat": 4,
 "nbformat_minor": 5
}
