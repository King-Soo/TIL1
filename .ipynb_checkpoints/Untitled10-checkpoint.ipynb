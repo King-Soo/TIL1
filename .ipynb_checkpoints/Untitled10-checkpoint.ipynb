{
 "cells": [
  {
   "cell_type": "code",
   "execution_count": 2,
   "id": "38c9dd29",
   "metadata": {},
   "outputs": [
    {
     "name": "stdout",
     "output_type": "stream",
     "text": [
      "짝수입니다.\n"
     ]
    }
   ],
   "source": [
    "def is_odd(x):\n",
    "    if (x % 2 == 1):\n",
    "        print('홀수입니다.')\n",
    "    else:\n",
    "        print('짝수입니다.')\n",
    "\n",
    "is_odd(4)"
   ]
  },
  {
   "cell_type": "code",
   "execution_count": 6,
   "id": "36b968c4",
   "metadata": {},
   "outputs": [
    {
     "name": "stdout",
     "output_type": "stream",
     "text": [
      "Life is too short\n"
     ]
    }
   ],
   "source": [
    "a=\"Life is too short\"\n",
    "\n",
    "f= open(\"test.txt\",\"w\")\n",
    "f.write(a)\n",
    "\n",
    "f=open(\"test.txt\",\"r\")\n",
    "output = f.readline()\n",
    "print(output)\n",
    "f.close()"
   ]
  },
  {
   "cell_type": "code",
   "execution_count": 61,
   "id": "d7b0f6d2",
   "metadata": {
    "scrolled": true
   },
   "outputs": [
    {
     "name": "stdout",
     "output_type": "stream",
     "text": [
      "Life is too short you need Java\n",
      "Life is too short you need python\n"
     ]
    }
   ],
   "source": [
    "b = \"Life is too short you need Java\"\n",
    "\n",
    "f = open(\"test1.txt\",\"w\")\n",
    "f.write(b)\n",
    "\n",
    "f = open('test1.txt', 'r')\n",
    "body = f.read()\n",
    "f.close()\n",
    "\n",
    "print(body)\n",
    "\n",
    "body = body.replace('Java','python')\n",
    "\n",
    "\n",
    "\n",
    "f = open('test1.txt', 'w')\n",
    "f.write(body)\n",
    "f.close()\n",
    "\n",
    "print(body)"
   ]
  },
  {
   "cell_type": "code",
   "execution_count": 65,
   "id": "f0c48ef1",
   "metadata": {},
   "outputs": [
    {
     "name": "stdout",
     "output_type": "stream",
     "text": [
      "비트코인1\n",
      "비트코인2\n",
      "비트코인3\n",
      "비트코인4\n",
      "비트코인5\n",
      "비트코인6\n",
      "비트코인7\n",
      "비트코인8\n",
      "비트코인9\n",
      "비트코인10\n",
      "비트코인11\n",
      "비트코인12\n",
      "비트코인13\n",
      "비트코인14\n",
      "비트코인15\n",
      "비트코인16\n",
      "비트코인17\n",
      "비트코인18\n",
      "비트코인19\n",
      "비트코인20\n",
      "비트코인21\n",
      "비트코인22\n",
      "비트코인23\n",
      "비트코인24\n",
      "비트코인25\n",
      "비트코인26\n",
      "비트코인27\n",
      "비트코인28\n",
      "비트코인29\n",
      "비트코인30\n",
      "비트코인31\n",
      "비트코인32\n",
      "비트코인33\n",
      "비트코인34\n",
      "비트코인35\n",
      "비트코인36\n",
      "비트코인37\n",
      "비트코인38\n",
      "비트코인39\n",
      "비트코인40\n",
      "비트코인41\n",
      "비트코인42\n",
      "비트코인43\n",
      "비트코인44\n",
      "비트코인45\n",
      "비트코인46\n",
      "비트코인47\n",
      "비트코인48\n",
      "비트코인49\n",
      "비트코인50\n",
      "비트코인51\n",
      "비트코인52\n",
      "비트코인53\n",
      "비트코인54\n",
      "비트코인55\n",
      "비트코인56\n",
      "비트코인57\n",
      "비트코인58\n",
      "비트코인59\n",
      "비트코인60\n",
      "비트코인61\n",
      "비트코인62\n",
      "비트코인63\n",
      "비트코인64\n",
      "비트코인65\n",
      "비트코인66\n",
      "비트코인67\n",
      "비트코인68\n",
      "비트코인69\n",
      "비트코인70\n",
      "비트코인71\n",
      "비트코인72\n",
      "비트코인73\n",
      "비트코인74\n",
      "비트코인75\n",
      "비트코인76\n",
      "비트코인77\n",
      "비트코인78\n",
      "비트코인79\n",
      "비트코인80\n",
      "비트코인81\n",
      "비트코인82\n",
      "비트코인83\n",
      "비트코인84\n",
      "비트코인85\n",
      "비트코인86\n",
      "비트코인87\n",
      "비트코인88\n",
      "비트코인89\n",
      "비트코인90\n",
      "비트코인91\n",
      "비트코인92\n",
      "비트코인93\n",
      "비트코인94\n",
      "비트코인95\n",
      "비트코인96\n",
      "비트코인97\n",
      "비트코인98\n",
      "비트코인99\n",
      "비트코인100\n"
     ]
    }
   ],
   "source": [
    "def print_coin():\n",
    "    i=0\n",
    "    while i < 100:\n",
    "        i = i+1\n",
    "        print(\"비트코인%d\" %i)\n",
    "        \n",
    "print_coin()"
   ]
  },
  {
   "cell_type": "code",
   "execution_count": null,
   "id": "40b0f88d",
   "metadata": {},
   "outputs": [],
   "source": []
  },
  {
   "cell_type": "code",
   "execution_count": null,
   "id": "0d36164c",
   "metadata": {},
   "outputs": [],
   "source": []
  }
 ],
 "metadata": {
  "kernelspec": {
   "display_name": "Python 3",
   "language": "python",
   "name": "python3"
  },
  "language_info": {
   "codemirror_mode": {
    "name": "ipython",
    "version": 3
   },
   "file_extension": ".py",
   "mimetype": "text/x-python",
   "name": "python",
   "nbconvert_exporter": "python",
   "pygments_lexer": "ipython3",
   "version": "3.8.8"
  }
 },
 "nbformat": 4,
 "nbformat_minor": 5
}
