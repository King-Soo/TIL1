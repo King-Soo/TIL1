{
 "cells": [
  {
   "cell_type": "code",
   "execution_count": 5,
   "id": "59c04dd5",
   "metadata": {},
   "outputs": [
    {
     "name": "stdout",
     "output_type": "stream",
     "text": [
      "가위,바위,보 입력 :\n"
     ]
    }
   ],
   "source": [
    "import random\n",
    "dictrcp={'가위':'보','바위':'가위','보':'바위'}      \n",
    "rcp=['가위','바위','보']\n",
    "\n",
    "Myrcp=input('가위,바위,보 입력 :')\n",
    "while Myrcp == rcp[0] or Myrcp == rcp[1] or Myrcp == rcp[2]:\n",
    "    cpu=random.choice(rcp)                    \n",
    "    print('나:',Myrcp,'   PC:',cpu)\n",
    "    if Myrcp == cpu:\n",
    "        print('비겼습니다.')\n",
    "    else:\n",
    "        if cpu == dictrcp[Myrcp]:\n",
    "            print('승리!!!!')\n",
    "            break\n",
    "        else:\n",
    "            print('패배!!')\n",
    "            break\n",
    "    print()\n",
    "    Myrcp=input('가위,바위,보 입력 :')"
   ]
  },
  {
   "cell_type": "code",
   "execution_count": 8,
   "id": "3765325c",
   "metadata": {},
   "outputs": [
    {
     "name": "stdout",
     "output_type": "stream",
     "text": [
      "[-1, -2, 1, 3, 2]\n"
     ]
    }
   ],
   "source": [
    "n=[-1,1,3,-2,2]\n",
    "a= []\n",
    "\n",
    "for i in n:\n",
    "    if i < 0:\n",
    "        a.append(i)\n",
    "        n.remove(i)\n",
    "    \n",
    "res = a+n\n",
    "print(res)"
   ]
  },
  {
   "cell_type": "code",
   "execution_count": 8,
   "id": "797830ee",
   "metadata": {},
   "outputs": [
    {
     "name": "stdout",
     "output_type": "stream",
     "text": [
      "게시물의 수 : 11\n",
      "페이지당 게시물의 수 :10\n",
      "11    10    2\n"
     ]
    }
   ],
   "source": [
    "m = int(input(\"게시물의 수 : \"))\n",
    "n = int(input(\"페이지당 게시물의 수 :\"))\n",
    "\n",
    "if n <= 0:\n",
    "    n = input(\"다시 입력 페이지당 게시물의 수 :\")\n",
    "else:\n",
    "    if m <= n:\n",
    "        a=1\n",
    "    else:\n",
    "        if m%n==0:\n",
    "            a=m/n\n",
    "        else:\n",
    "            a=int(m/n)+1\n",
    "    \n",
    "print(\"{0}    {1}    {2}\".format(m,n,a))"
   ]
  },
  {
   "cell_type": "code",
   "execution_count": null,
   "id": "9063dd11",
   "metadata": {},
   "outputs": [],
   "source": []
  },
  {
   "cell_type": "code",
   "execution_count": null,
   "id": "4706b55a",
   "metadata": {},
   "outputs": [],
   "source": []
  }
 ],
 "metadata": {
  "kernelspec": {
   "display_name": "Python 3",
   "language": "python",
   "name": "python3"
  }
 },
 "nbformat": 4,
 "nbformat_minor": 5
}
