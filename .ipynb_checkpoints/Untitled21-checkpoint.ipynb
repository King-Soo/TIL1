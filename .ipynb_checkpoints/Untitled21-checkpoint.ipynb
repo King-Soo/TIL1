{
 "cells": [
  {
   "cell_type": "code",
   "execution_count": 1,
   "id": "9299b654",
   "metadata": {},
   "outputs": [
    {
     "name": "stdout",
     "output_type": "stream",
     "text": [
      "1. 김씨 2명, 이씨 6명\n",
      "2. 이재영은 3명\n",
      "3. 박민호, 박영서, 이유덕, 이재영, 송정환, 권종표, 이성연, 김지완, 최승혁, 강상희, 김재성, 전경헌\n",
      "4. 강상희 ,권종표 ,김재성 ,김지완 ,박민호 ,박영서 ,송정환 ,이성연 ,이유덕 ,이재영 ,전경헌 ,최승혁\n"
     ]
    }
   ],
   "source": [
    "name='이유덕,이재영,권종표,이재영,박민호,강상희,이재영,김지완,최승혁,이성연,박영서,박민호,전경헌,송정환,김재성,이유덕,전경헌'\n",
    "sim=name.split(\",\")\n",
    "\n",
    "loopsim=[i[0] for i in sim]\n",
    "print(\"1. 김씨 {}명, 이씨 {}명\".format(loopsim.count('김'),loopsim.count('이')))\n",
    "\n",
    "print(\"2. 이재영은 {}명\".format(sim.count('이재영')))\n",
    "\n",
    "joongsim= list(set(sim))\n",
    "print(\"3.\",\", \".join(joongsim))\n",
    "\n",
    "joongsim.sort()\n",
    "print(\"4.\",\" ,\".join(joongsim))"
   ]
  },
  {
   "cell_type": "code",
   "execution_count": 4,
   "id": "0aa9010b",
   "metadata": {},
   "outputs": [
    {
     "name": "stdout",
     "output_type": "stream",
     "text": [
      "버전1 입력 :1.0.3\n",
      "버전2 입력 :1.0.2.9\n",
      "최신버전은 ver1 입니다.\n"
     ]
    }
   ],
   "source": [
    "ver1=str(input(\"버전1 입력 :\"))\n",
    "ver2=str(input(\"버전2 입력 :\"))\n",
    "\n",
    "\n",
    "ver1=ver1.split(\".\")\n",
    "ver2=ver2.split(\".\")\n",
    "\n",
    "\n",
    "len_ver=max(len(ver1),len(ver2))\n",
    "\n",
    "for i in range(len_ver):\n",
    "    if ver1[i] > ver2[i]:\n",
    "        print(\"최신버전은 ver1 입니다.\")\n",
    "        break\n",
    "    elif ver1[i] < ver2[i]:\n",
    "        print(\"최신버전은 ver2 입니다.\")\n",
    "        break"
   ]
  },
  {
   "cell_type": "code",
   "execution_count": 10,
   "id": "30f809f8",
   "metadata": {},
   "outputs": [
    {
     "data": {
      "text/plain": [
       "952"
      ]
     },
     "execution_count": 10,
     "metadata": {},
     "output_type": "execute_result"
    }
   ],
   "source": [
    "a=\"\"\"As the country became embroiled in a domestic crisis, \n",
    "the first government was dislodged and succeeded by several different administrations. \n",
    "Bolikango served as Deputy Prime Minister in one of the new governments before a partial \n",
    "state of stability was reestablished in 1961. He mediated between warring factions \n",
    "in the Congo and briefly served once again as Deputy Prime Minister in 1962 before\n",
    "returning to the parliamentary opposition. After Joseph-Desire Mobutu took power in 1965, \n",
    "Bolikango became a minister in his government. Mobutu soon dismissed him but appointed \n",
    "him to the political bureau of the Mouvement Populaire de la Revolution. Bolikango left the \n",
    "bureau in 1970. He left Parliament in 1975 and died seven years later. His grandson created \n",
    "the Jean Bolikango Foundation in his memory to promote social progress. The President of the \n",
    "Congo posthumously awarded Bolikango a medal in 2005 for his long career in public service.\n",
    "\"\"\"\n",
    "\n",
    "f=open(\"wiki.txt\",\"w\")\n",
    "f.write(a)\n"
   ]
  },
  {
   "cell_type": "code",
   "execution_count": 16,
   "id": "218e0e84",
   "metadata": {},
   "outputs": [
    {
     "name": "stdout",
     "output_type": "stream",
     "text": [
      "in 12\n",
      "the 10\n",
      "Bolikango 5\n",
      "a 4\n",
      "of 4\n",
      "to 3\n",
      "his 3\n",
      "and 3\n",
      "served 2\n",
      "Congo 2\n"
     ]
    }
   ],
   "source": [
    "f=open('wiki.txt','r')\n",
    "\n",
    "count = f.read()\n",
    "\n",
    "word1 = count.replace(\",\",\" \").replace(\".\",\" \").split()\n",
    "word2 = list(set([(i,word1.count(i)) for i in word1]))\n",
    "word2.sort(key = lambda x : x[1], reverse=True)\n",
    "\n",
    "for i in range(10):\n",
    "    print(*word2[i])"
   ]
  },
  {
   "cell_type": "code",
   "execution_count": null,
   "id": "fa24047b",
   "metadata": {},
   "outputs": [],
   "source": []
  }
 ],
 "metadata": {
  "kernelspec": {
   "display_name": "Python 3",
   "language": "python",
   "name": "python3"
  },
  "language_info": {
   "codemirror_mode": {
    "name": "ipython",
    "version": 3
   },
   "file_extension": ".py",
   "mimetype": "text/x-python",
   "name": "python",
   "nbconvert_exporter": "python",
   "pygments_lexer": "ipython3",
   "version": "3.8.8"
  }
 },
 "nbformat": 4,
 "nbformat_minor": 5
}
