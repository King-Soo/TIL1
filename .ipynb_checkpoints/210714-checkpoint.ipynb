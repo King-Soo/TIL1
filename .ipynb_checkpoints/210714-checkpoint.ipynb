{
 "cells": [
  {
   "cell_type": "code",
   "execution_count": 3,
   "id": "fbb3725c",
   "metadata": {},
   "outputs": [
    {
     "name": "stdout",
     "output_type": "stream",
     "text": [
      "[1, 2, 3]\n",
      "1 2 3\n",
      "1 2 3\n"
     ]
    }
   ],
   "source": [
    "x=[1,2,3]\n",
    "print(x)\n",
    "print(*x) # unpacking\n",
    "print(*[1,2,3]) # unpacking"
   ]
  },
  {
   "cell_type": "code",
   "execution_count": 5,
   "id": "f7fd2dd0",
   "metadata": {},
   "outputs": [
    {
     "name": "stdout",
     "output_type": "stream",
     "text": [
      "1\n",
      "2\n",
      "3\n",
      "1\n",
      "2\n",
      "3\n"
     ]
    }
   ],
   "source": [
    "def printNum(*args):\n",
    "    for i in args:\n",
    "        print(i)\n",
    "    \n",
    "printNum(1,2,3)\n",
    "\n",
    "printNum(*[1,2,3])"
   ]
  },
  {
   "cell_type": "code",
   "execution_count": 9,
   "id": "85b11565",
   "metadata": {},
   "outputs": [],
   "source": [
    "num=[10,20,30,40,50]\n",
    "x=num[0]\n",
    "y=num[1]\n",
    "z=num[2:]"
   ]
  },
  {
   "cell_type": "code",
   "execution_count": 10,
   "id": "6d462072",
   "metadata": {},
   "outputs": [],
   "source": [
    "x,y,*z = num # 위와 결과가 같음"
   ]
  },
  {
   "cell_type": "code",
   "execution_count": 13,
   "id": "67abcad9",
   "metadata": {},
   "outputs": [
    {
     "data": {
      "text/plain": [
       "'2021년7월14일'"
      ]
     },
     "execution_count": 13,
     "metadata": {},
     "output_type": "execute_result"
    }
   ],
   "source": [
    "def dString(year, month, day):\n",
    "    return str(year)+\"년\"+ str(month)+\"월\"+str(day)+\"일\"\n",
    "date=(2021,7,14)\n",
    "dString(date[0], date[1], date[2])"
   ]
  },
  {
   "cell_type": "code",
   "execution_count": 14,
   "id": "f1369ad5",
   "metadata": {},
   "outputs": [
    {
     "data": {
      "text/plain": [
       "'2021년7월14일'"
      ]
     },
     "execution_count": 14,
     "metadata": {},
     "output_type": "execute_result"
    }
   ],
   "source": [
    "dString(*date)"
   ]
  },
  {
   "cell_type": "code",
   "execution_count": null,
   "id": "6f2ee152",
   "metadata": {},
   "outputs": [],
   "source": [
    "# 람다함수, 리스트내포\n",
    "\n",
    "# lambda : 함수를 정의할 때 사용하는 예약어(def와 동일, 간단한 기능의 함수)\n",
    "# def를 사용 할수 없는곳에 쓰임\n",
    "# def : 복잡한 기능을 갖는 함수 정의"
   ]
  },
  {
   "cell_type": "code",
   "execution_count": 15,
   "id": "73fce0ad",
   "metadata": {},
   "outputs": [],
   "source": [
    "def sum(a,b):\n",
    "    return a+b"
   ]
  },
  {
   "cell_type": "code",
   "execution_count": 16,
   "id": "eeb52cd2",
   "metadata": {},
   "outputs": [
    {
     "name": "stdout",
     "output_type": "stream",
     "text": [
      "30\n"
     ]
    }
   ],
   "source": [
    "res=sum(10,20)\n",
    "print(res)"
   ]
  },
  {
   "cell_type": "markdown",
   "id": "0171562b",
   "metadata": {},
   "source": [
    "#람다 함수\n"
   ]
  },
  {
   "cell_type": "code",
   "execution_count": 17,
   "id": "1aed0d9a",
   "metadata": {},
   "outputs": [
    {
     "data": {
      "text/plain": [
       "30"
      ]
     },
     "execution_count": 17,
     "metadata": {},
     "output_type": "execute_result"
    }
   ],
   "source": [
    "sum2=lambda a,b:a+b\n",
    "\n",
    "sum2(10,20)"
   ]
  },
  {
   "cell_type": "markdown",
   "id": "cc808d78",
   "metadata": {},
   "source": [
    "lambda 매겨변수 (들):식"
   ]
  },
  {
   "cell_type": "code",
   "execution_count": 27,
   "id": "bdbb0ad7",
   "metadata": {},
   "outputs": [
    {
     "data": {
      "text/plain": [
       "6"
      ]
     },
     "execution_count": 27,
     "metadata": {},
     "output_type": "execute_result"
    }
   ],
   "source": [
    "(lambda x:x+1)(5)\n"
   ]
  },
  {
   "cell_type": "code",
   "execution_count": 26,
   "id": "ebb9b01d",
   "metadata": {},
   "outputs": [
    {
     "data": {
      "text/plain": [
       "15"
      ]
     },
     "execution_count": 26,
     "metadata": {},
     "output_type": "execute_result"
    }
   ],
   "source": [
    "(lambda x,y:x+y)(5,10)"
   ]
  },
  {
   "cell_type": "code",
   "execution_count": 29,
   "id": "d9e288d8",
   "metadata": {},
   "outputs": [
    {
     "data": {
      "text/plain": [
       "15"
      ]
     },
     "execution_count": 29,
     "metadata": {},
     "output_type": "execute_result"
    }
   ],
   "source": [
    "(lambda x,y=10:x+y)(5) # 버전에 따라 오류가 발생할 수 도 있음"
   ]
  },
  {
   "cell_type": "code",
   "execution_count": 30,
   "id": "31b39a92",
   "metadata": {},
   "outputs": [
    {
     "data": {
      "text/plain": [
       "15"
      ]
     },
     "execution_count": 30,
     "metadata": {},
     "output_type": "execute_result"
    }
   ],
   "source": [
    "y=10\n",
    "(lambda x:x+y)(5) # 위 보단 안전하게 사용가능"
   ]
  },
  {
   "cell_type": "code",
   "execution_count": 43,
   "id": "a1cb0b41",
   "metadata": {},
   "outputs": [
    {
     "data": {
      "text/plain": [
       "[2, 3, 4]"
      ]
     },
     "execution_count": 43,
     "metadata": {},
     "output_type": "execute_result"
    }
   ],
   "source": [
    "# 람다함수를 map함수의 인수로 전달하여 수행\n",
    "\n",
    "# def add(a):\n",
    "#     return a+1\n",
    "x=[1,2,3]\n",
    "\n",
    "#print(list(map(add,x)))\n",
    "\n",
    "list(map(lambda a:a+1,x))"
   ]
  },
  {
   "cell_type": "code",
   "execution_count": 36,
   "id": "78598304",
   "metadata": {},
   "outputs": [
    {
     "data": {
      "text/plain": [
       "[2, 3, 4]"
      ]
     },
     "execution_count": 36,
     "metadata": {},
     "output_type": "execute_result"
    }
   ],
   "source": [
    "# for i in range(len(x)):\n",
    "#     x[i]=add(x[i])\n",
    "# x\n",
    "# -------------------------\n",
    "# x_add=[]\n",
    "# [x_add.append(add(i))for i in x]\n",
    "# x_add"
   ]
  },
  {
   "cell_type": "code",
   "execution_count": 50,
   "id": "345daa38",
   "metadata": {},
   "outputs": [
    {
     "data": {
      "text/plain": [
       "[1, '2', 3, '4', 5]"
      ]
     },
     "execution_count": 50,
     "metadata": {},
     "output_type": "execute_result"
    }
   ],
   "source": [
    "# lambda 매겨변수 : 식\n",
    "# lambda 매겨변수 : 조건식\n",
    "x=[1,2,3,4,5]\n",
    "list(map(lambda x: str(x) if x % 2 == 0 else x, x))"
   ]
  },
  {
   "cell_type": "code",
   "execution_count": 55,
   "id": "49db782e",
   "metadata": {},
   "outputs": [
    {
     "data": {
      "text/plain": [
       "['1', 2.0, 3, 4, 5]"
      ]
     },
     "execution_count": 55,
     "metadata": {},
     "output_type": "execute_result"
    }
   ],
   "source": [
    "# 조건식 => 식1 if 조건식1 else 식2 if 조건식2 else 식3\n",
    "\n",
    "x=[1,2,3,4,5]\n",
    "list(map(lambda x: str(x) if x == 1 else float(x) if x == 2 else x, x))\n"
   ]
  },
  {
   "cell_type": "code",
   "execution_count": 56,
   "id": "cd0ad348",
   "metadata": {},
   "outputs": [
    {
     "data": {
      "text/plain": [
       "[10, 0, 0, 75, 50]"
      ]
     },
     "execution_count": 56,
     "metadata": {},
     "output_type": "execute_result"
    }
   ],
   "source": [
    "x=[10,20,0,5,10]\n",
    "y=[1,0,20,15,5]\n",
    "\n",
    "list(map(lambda a, b: a* b, x, y))"
   ]
  },
  {
   "cell_type": "code",
   "execution_count": 60,
   "id": "c1ad5a9c",
   "metadata": {},
   "outputs": [
    {
     "name": "stdout",
     "output_type": "stream",
     "text": [
      "(0, 'a')\n",
      "(1, 'b')\n",
      "(2, 'c')\n"
     ]
    }
   ],
   "source": [
    "a= ['a','b','c']\n",
    "for i in enumerate(a): # enumerreate함수 : 열거형 함수, 리스트(퓨틀,문자열)의\n",
    "                        # 자료를 입력받아 (index,자료) 형식으로 리턴\n",
    "    print(i)"
   ]
  },
  {
   "cell_type": "code",
   "execution_count": 62,
   "id": "b43e4a70",
   "metadata": {},
   "outputs": [
    {
     "data": {
      "text/plain": [
       "3"
      ]
     },
     "execution_count": 62,
     "metadata": {},
     "output_type": "execute_result"
    }
   ],
   "source": [
    "#eval() 연산이 가능한 문자열을 전달받아 연산 수행, 결과 도출\n",
    "\n",
    "eval(\"1+2\")"
   ]
  },
  {
   "cell_type": "code",
   "execution_count": 65,
   "id": "578b5708",
   "metadata": {},
   "outputs": [],
   "source": [
    "# filter() 조건에 만족하는 자료들만 추출\n",
    "# filter(함수, 리스트(튜플...)): 함수에 정의한 조건을 만족하는 자료들만 필터링됌\n",
    "\n",
    "def myFunc(data):\n",
    "    return data>3 and data<7"
   ]
  },
  {
   "cell_type": "code",
   "execution_count": 66,
   "id": "5fdd7048",
   "metadata": {},
   "outputs": [
    {
     "data": {
      "text/plain": [
       "[5, 6]"
      ]
     },
     "execution_count": 66,
     "metadata": {},
     "output_type": "execute_result"
    }
   ],
   "source": [
    "data=[8,1,5,2,6]\n",
    "list(filter(myFunc,data))"
   ]
  },
  {
   "cell_type": "code",
   "execution_count": 67,
   "id": "d816c03a",
   "metadata": {},
   "outputs": [
    {
     "data": {
      "text/plain": [
       "[5, 6]"
      ]
     },
     "execution_count": 67,
     "metadata": {},
     "output_type": "execute_result"
    }
   ],
   "source": [
    "data=[8,1,5,2,6]\n",
    "list(filter(lambda x: x>3 and x<7, data))"
   ]
  },
  {
   "cell_type": "code",
   "execution_count": 68,
   "id": "4c1adce7",
   "metadata": {},
   "outputs": [
    {
     "name": "stdout",
     "output_type": "stream",
     "text": [
      "[2, 4, 6]\n"
     ]
    }
   ],
   "source": [
    "x=[1,2,3]\n",
    "for i in range(len(x)):\n",
    "    x[i] = x[i]*2\n",
    "print(x)"
   ]
  },
  {
   "cell_type": "code",
   "execution_count": 70,
   "id": "ad516d51",
   "metadata": {},
   "outputs": [
    {
     "name": "stdout",
     "output_type": "stream",
     "text": [
      "[2, 4, 6]\n"
     ]
    }
   ],
   "source": [
    "x=[1,2,3]\n",
    "print(list(map(lambda x: x*2,x)))"
   ]
  },
  {
   "cell_type": "code",
   "execution_count": 73,
   "id": "708eff19",
   "metadata": {},
   "outputs": [
    {
     "data": {
      "text/plain": [
       "3"
      ]
     },
     "execution_count": 73,
     "metadata": {},
     "output_type": "execute_result"
    }
   ],
   "source": [
    "pow(3,2) #제곱\n",
    "\n",
    "round(3.1) # 반올림(소수1번째자리)"
   ]
  },
  {
   "cell_type": "code",
   "execution_count": 74,
   "id": "69f143df",
   "metadata": {},
   "outputs": [
    {
     "data": {
      "text/plain": [
       "[(1, 3), (2, 4)]"
      ]
     },
     "execution_count": 74,
     "metadata": {},
     "output_type": "execute_result"
    }
   ],
   "source": [
    "list(zip([1,2],[3,4]))"
   ]
  },
  {
   "cell_type": "code",
   "execution_count": 89,
   "id": "5731ba3a",
   "metadata": {},
   "outputs": [
    {
     "name": "stdout",
     "output_type": "stream",
     "text": [
      "a8b5c3\n"
     ]
    },
    {
     "ename": "TypeError",
     "evalue": "can't multiply sequence by non-int of type 'str'",
     "output_type": "error",
     "traceback": [
      "\u001b[1;31m---------------------------------------------------------------------------\u001b[0m",
      "\u001b[1;31mTypeError\u001b[0m                                 Traceback (most recent call last)",
      "\u001b[1;32m<ipython-input-89-a6fc6a1e8468>\u001b[0m in \u001b[0;36m<module>\u001b[1;34m\u001b[0m\n\u001b[0;32m     18\u001b[0m \u001b[0mdeco2\u001b[0m\u001b[1;33m=\u001b[0m\u001b[0menco\u001b[0m\u001b[1;33m[\u001b[0m\u001b[1;36m1\u001b[0m\u001b[1;33m:\u001b[0m\u001b[1;33m:\u001b[0m\u001b[1;36m2\u001b[0m\u001b[1;33m]\u001b[0m\u001b[1;33m\u001b[0m\u001b[1;33m\u001b[0m\u001b[0m\n\u001b[0;32m     19\u001b[0m \u001b[1;32mfor\u001b[0m \u001b[0mi\u001b[0m \u001b[1;32min\u001b[0m \u001b[0mrange\u001b[0m\u001b[1;33m(\u001b[0m\u001b[0mlen\u001b[0m\u001b[1;33m(\u001b[0m\u001b[0mdeco1\u001b[0m\u001b[1;33m)\u001b[0m\u001b[1;33m-\u001b[0m\u001b[1;36m1\u001b[0m\u001b[1;33m)\u001b[0m\u001b[1;33m:\u001b[0m\u001b[1;33m\u001b[0m\u001b[1;33m\u001b[0m\u001b[0m\n\u001b[1;32m---> 20\u001b[1;33m     \u001b[0mdecoding\u001b[0m\u001b[1;33m[\u001b[0m\u001b[0mi\u001b[0m\u001b[1;33m]\u001b[0m \u001b[1;33m=\u001b[0m \u001b[0mdeco1\u001b[0m\u001b[1;33m[\u001b[0m\u001b[0mi\u001b[0m\u001b[1;33m]\u001b[0m \u001b[1;33m*\u001b[0m \u001b[0mdeco2\u001b[0m\u001b[1;33m[\u001b[0m\u001b[0mi\u001b[0m\u001b[1;33m]\u001b[0m\u001b[1;33m\u001b[0m\u001b[1;33m\u001b[0m\u001b[0m\n\u001b[0m\u001b[0;32m     21\u001b[0m \u001b[0mdecoding\u001b[0m\u001b[1;33m\u001b[0m\u001b[1;33m\u001b[0m\u001b[0m\n",
      "\u001b[1;31mTypeError\u001b[0m: can't multiply sequence by non-int of type 'str'"
     ]
    }
   ],
   "source": [
    "data='aaaaaaaabbbbbccc'\n",
    "enco=''\n",
    "count=1\n",
    "\n",
    "for i in range(1, len(data)):\n",
    "    if data[i] == data[i-1]:\n",
    "        count += 1\n",
    "    else:\n",
    "        enco += data[i-1] + str(count)\n",
    "        count = 1\n",
    "    if i == len(data)-1:\n",
    "        enco += data[i] + str(count)\n",
    "        \n",
    "print(enco)\n",
    "\n",
    "decoding=[]\n",
    "deco1=enco[0::2]\n",
    "deco2=enco[1::2]\n",
    "for i in range(len(deco1)-1):\n",
    "    decoding[i] = deco1[i] * deco2[i]\n",
    "decoding"
   ]
  },
  {
   "cell_type": "code",
   "execution_count": null,
   "id": "657316dc",
   "metadata": {},
   "outputs": [],
   "source": []
  }
 ],
 "metadata": {
  "kernelspec": {
   "display_name": "Python 3",
   "language": "python",
   "name": "python3"
  },
  "language_info": {
   "codemirror_mode": {
    "name": "ipython",
    "version": 3
   },
   "file_extension": ".py",
   "mimetype": "text/x-python",
   "name": "python",
   "nbconvert_exporter": "python",
   "pygments_lexer": "ipython3",
   "version": "3.8.8"
  }
 },
 "nbformat": 4,
 "nbformat_minor": 5
}
