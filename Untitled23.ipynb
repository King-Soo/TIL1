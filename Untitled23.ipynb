{
 "cells": [
  {
   "cell_type": "code",
   "execution_count": 6,
   "id": "2e3c9211",
   "metadata": {},
   "outputs": [],
   "source": [
    "from selenium import webdriver\n",
    "\n",
    "driver = webdriver.Chrome(\"chromedriver.exe\")"
   ]
  },
  {
   "cell_type": "code",
   "execution_count": 7,
   "id": "1eed467b",
   "metadata": {},
   "outputs": [],
   "source": [
    "import time\n",
    "driver.get('https://www.instargram.com')\n",
    "time.sleep(2)"
   ]
  },
  {
   "cell_type": "code",
   "execution_count": 8,
   "id": "97cce455",
   "metadata": {},
   "outputs": [],
   "source": [
    "email = 'gmlslslaa'  \n",
    "input_id = driver.find_elements_by_css_selector('input._2hvTZ.pexuQ.zyHYP')[0]\n",
    "input_id.clear()\n",
    "input_id.send_keys(email)\n",
    "\n",
    "password = '1004486aa##'\n",
    "input_pw = driver.find_elements_by_css_selector('input._2hvTZ.pexuQ.zyHYP')[1]\n",
    "input_pw.clear()\n",
    "input_pw.send_keys(password)\n",
    "input_pw.submit()\n",
    "time.sleep(3)\n"
   ]
  },
  {
   "cell_type": "code",
   "execution_count": 9,
   "id": "c1e21767",
   "metadata": {},
   "outputs": [],
   "source": [
    "def insta_searching(word):    \n",
    "    url = 'https://www.instagram.com/explore/tags/' + word\n",
    "    return url\n"
   ]
  },
  {
   "cell_type": "code",
   "execution_count": 5,
   "id": "5f0be23b",
   "metadata": {},
   "outputs": [],
   "source": [
    "word = \"제주도맛집\"\n",
    "url = insta_searching(word)\n",
    "driver.get(url)\n"
   ]
  },
  {
   "cell_type": "code",
   "execution_count": 10,
   "id": "fc6d1ba4",
   "metadata": {},
   "outputs": [],
   "source": [
    "def select_first(driver):\n",
    "    first = driver.find_element_by_css_selector(\"div._9AhH0\")\n",
    "    first.click()\n",
    "    time.sleep(3)\n",
    "    \n",
    "#select_first(driver)\n"
   ]
  },
  {
   "cell_type": "code",
   "execution_count": 11,
   "id": "fafd02a9",
   "metadata": {},
   "outputs": [],
   "source": [
    "import re\n",
    "from bs4 import BeautifulSoup"
   ]
  },
  {
   "cell_type": "code",
   "execution_count": 12,
   "id": "f8edb8d1",
   "metadata": {},
   "outputs": [],
   "source": [
    "#모든 게시물에 대한 공통적으로 작업\n",
    "#html페이지 가져오기\n",
    "#본문 가져오기\n",
    "#해시태그 가져오기\n",
    "#작성일자 가져오기\n",
    "\n",
    "def getContent(driver):\n",
    "    html=driver.page_source\n",
    "    soup=BeautifulSoup(html,'html.parser')\n",
    "    content=soup.select(\"div.C4VMK\")[0].text\n",
    "    tags=re.findall(\"#\\w+\",content)\n",
    "    date=soup.select(\"time.FH9sR.Nzb55\")[0].attrs['datetime'][:10] #string type\n",
    "\n",
    "    data=[content, tags, date]\n",
    "    return data"
   ]
  },
  {
   "cell_type": "code",
   "execution_count": 13,
   "id": "847ddf9c",
   "metadata": {},
   "outputs": [
    {
     "ename": "TypeError",
     "evalue": "getContent() missing 1 required positional argument: 'driver'",
     "output_type": "error",
     "traceback": [
      "\u001b[1;31m---------------------------------------------------------------------------\u001b[0m",
      "\u001b[1;31mTypeError\u001b[0m                                 Traceback (most recent call last)",
      "\u001b[1;32m<ipython-input-13-fbddab8707e6>\u001b[0m in \u001b[0;36m<module>\u001b[1;34m\u001b[0m\n\u001b[1;32m----> 1\u001b[1;33m \u001b[0mgetContent\u001b[0m\u001b[1;33m(\u001b[0m\u001b[1;33m)\u001b[0m\u001b[1;33m\u001b[0m\u001b[1;33m\u001b[0m\u001b[0m\n\u001b[0m",
      "\u001b[1;31mTypeError\u001b[0m: getContent() missing 1 required positional argument: 'driver'"
     ]
    }
   ],
   "source": [
    "getContent()"
   ]
  },
  {
   "cell_type": "code",
   "execution_count": 14,
   "id": "cc96c1b2",
   "metadata": {},
   "outputs": [],
   "source": [
    "def move_next(driver):\n",
    "\n",
    "    right = driver.find_element_by_css_selector ('a.coreSpriteRightPaginationArrow')\n",
    "    right.click()\n",
    "    time.sleep(3)\n",
    " #   move_next(driver)"
   ]
  },
  {
   "cell_type": "code",
   "execution_count": null,
   "id": "e1d2e683",
   "metadata": {},
   "outputs": [],
   "source": []
  },
  {
   "cell_type": "code",
   "execution_count": 19,
   "id": "c2f063a1",
   "metadata": {},
   "outputs": [
    {
     "name": "stdout",
     "output_type": "stream",
     "text": [
      "[['ryoryo4499<광고>매일가고 싶은 제주도..볼것도 많고 먹을것도 많고제주하면 유명한 음식중 하나인 국수 🍜하지만 다른 일반 고기국수보다더 맛있는 갈비국수!!🍖🍜⠀🌀#산도롱맨도롱🌀제주시 구좌읍 해맞이해안로 2284🌀영업시간 : 07:30 ~ 17:00🌀문의 : 064-782-5105✴️ 07:30~10:00 여유롭게 식사가 가능합니다.⠀#제주맛집 #제주도맛집 #제주고기국수맛집#성산맛집 #성산일출봉맛집 #제주성산맛집#광치기해변맛집 #스누피가든 #성산읍맛집#성산밥집 #성산아침식사 #제주가볼만한곳#제주핫플 #제주도핫플 #비자림맛집3시간', ['#산도롱맨도롱', '#제주맛집', '#제주도맛집', '#제주고기국수맛집', '#성산맛집', '#성산일출봉맛집', '#제주성산맛집', '#광치기해변맛집', '#스누피가든', '#성산읍맛집', '#성산밥집', '#성산아침식사', '#제주가볼만한곳', '#제주핫플', '#제주도핫플', '#비자림맛집3시간'], '2021-07-22'], ['raralove773#제주도여행 이건꼭먹어야해💕도시락 포장후 바다뷰보며 먹는 #흑돼지박스자동차안 숙소 등 어디서든👌..🔹️11:00~19:00까지 영업(재료소진시 마감).🔹️흑돼지박스산방산점👉안덕면사계남로168🔹️흑돼지박스성산점👉성산읍 신양로100..#제주맛집 #제주도맛집 #산방산맛집 #송악산맛집 #산방산카페 #송악산카페 #안덕면맛집 #안덕면카페 #사계해변카페 #애월카페 #중문관광단지맛집 #오설록맛집 #용머리해안맛집 #제주핫플레이스 #성산맛집 #섭지코지맛집 #성산일출봉맛집 #산방산 #서귀포맛집 #중문맛집 #제주도카페 #한림맛집 #한림카페 #사계해변 #모슬포맛집 #대정맛집2시간', ['#제주도여행', '#흑돼지박스자동차안', '#제주맛집', '#제주도맛집', '#산방산맛집', '#송악산맛집', '#산방산카페', '#송악산카페', '#안덕면맛집', '#안덕면카페', '#사계해변카페', '#애월카페', '#중문관광단지맛집', '#오설록맛집', '#용머리해안맛집', '#제주핫플레이스', '#성산맛집', '#섭지코지맛집', '#성산일출봉맛집', '#산방산', '#서귀포맛집', '#중문맛집', '#제주도카페', '#한림맛집', '#한림카페', '#사계해변', '#모슬포맛집', '#대정맛집2시간'], '2021-07-22'], ['kakalove775이가격실화??갈치조림정식이 1만원.직접만든 도토리묵반찬에~~부실한 반찬이아닌 김치부터 모든 밑반찬을 직접만드심👍#제주가성비맛집#보말칼국수 또한 찐😍이건 꼭 먹어야해😋도민들사이에서만 쉬쉬거리며 유명한 #제주도민맛집.🔹️상호:#보리밥과수제비.🔹️아침식사가능단체예약문의 📞064-721-1239.🔹️오전8~오후8시까지 영업\\xa0\\xa0\\xa0\\xa0 (재료소진시 조기마감).🔹️제주시 가령로 61-1..#제주맛집 #제주도맛집 #제주공항근처맛집 #제주공항맛집 #제주갈치조림맛집 #제주도갈치조림 #제주동문시장맛집 #제주보말칼국수 #보말칼국수맛집 #갈치조림맛집 #제주공항아침식사 #동문시장맛집 #제주시청맛집 #제주도공항맛집 #제주도갈치맛집 #제주도갈치조림맛집 #제주도보말칼국수 #제주보말칼국수맛집 #제주시아침식사 #제주맛집추천 #탑동맛집2시간', ['#제주가성비맛집', '#보말칼국수', '#제주도민맛집', '#보리밥과수제비', '#제주맛집', '#제주도맛집', '#제주공항근처맛집', '#제주공항맛집', '#제주갈치조림맛집', '#제주도갈치조림', '#제주동문시장맛집', '#제주보말칼국수', '#보말칼국수맛집', '#갈치조림맛집', '#제주공항아침식사', '#동문시장맛집', '#제주시청맛집', '#제주도공항맛집', '#제주도갈치맛집', '#제주도갈치조림맛집', '#제주도보말칼국수', '#제주보말칼국수맛집', '#제주시아침식사', '#제주맛집추천', '#탑동맛집2시간'], '2021-07-22']]\n"
     ]
    }
   ],
   "source": [
    "word = \"제주도맛집\"   \n",
    "url = insta_searching(word)\n",
    "driver.get(url)\n",
    "time.sleep(7)\n",
    "select_first(driver)\n",
    "\n",
    "results = [ ]\n",
    "target = 10\n",
    "\n",
    "for i in range(target):\n",
    "    try:\n",
    "        data = getContent(driver)\n",
    "        results.append(data)\n",
    "        move_next(driver)\n",
    "    except:\n",
    "        time.sleep(3)\n",
    "        print(\"예외\")\n",
    "        move_next(driver)\n",
    "print(results[:3])\n",
    "    "
   ]
  },
  {
   "cell_type": "code",
   "execution_count": 20,
   "id": "ef5c4915",
   "metadata": {},
   "outputs": [],
   "source": [
    "import pandas as pd"
   ]
  },
  {
   "cell_type": "code",
   "execution_count": 21,
   "id": "3014ed5d",
   "metadata": {},
   "outputs": [
    {
     "data": {
      "text/html": [
       "<div>\n",
       "<style scoped>\n",
       "    .dataframe tbody tr th:only-of-type {\n",
       "        vertical-align: middle;\n",
       "    }\n",
       "\n",
       "    .dataframe tbody tr th {\n",
       "        vertical-align: top;\n",
       "    }\n",
       "\n",
       "    .dataframe thead th {\n",
       "        text-align: right;\n",
       "    }\n",
       "</style>\n",
       "<table border=\"1\" class=\"dataframe\">\n",
       "  <thead>\n",
       "    <tr style=\"text-align: right;\">\n",
       "      <th></th>\n",
       "      <th>0</th>\n",
       "      <th>1</th>\n",
       "      <th>2</th>\n",
       "    </tr>\n",
       "  </thead>\n",
       "  <tbody>\n",
       "    <tr>\n",
       "      <th>0</th>\n",
       "      <td>ryoryo4499&lt;광고&gt;매일가고 싶은 제주도..볼것도 많고 먹을것도 많고제주하면 ...</td>\n",
       "      <td>[#산도롱맨도롱, #제주맛집, #제주도맛집, #제주고기국수맛집, #성산맛집, #성산...</td>\n",
       "      <td>2021-07-22</td>\n",
       "    </tr>\n",
       "    <tr>\n",
       "      <th>1</th>\n",
       "      <td>raralove773#제주도여행 이건꼭먹어야해💕도시락 포장후 바다뷰보며 먹는 #흑돼...</td>\n",
       "      <td>[#제주도여행, #흑돼지박스자동차안, #제주맛집, #제주도맛집, #산방산맛집, #송...</td>\n",
       "      <td>2021-07-22</td>\n",
       "    </tr>\n",
       "    <tr>\n",
       "      <th>2</th>\n",
       "      <td>kakalove775이가격실화??갈치조림정식이 1만원.직접만든 도토리묵반찬에~~부실...</td>\n",
       "      <td>[#제주가성비맛집, #보말칼국수, #제주도민맛집, #보리밥과수제비, #제주맛집, #...</td>\n",
       "      <td>2021-07-22</td>\n",
       "    </tr>\n",
       "    <tr>\n",
       "      <th>3</th>\n",
       "      <td>mukjamukja7540&lt;광고&gt;#우도 들어가기전에 꼭 #산도롱맨도롱#갈비국수 꼭 ...</td>\n",
       "      <td>[#우도, #산도롱맨도롱, #갈비국수, #제주맛집, #제주도맛집, #성산맛집, #성...</td>\n",
       "      <td>2021-07-21</td>\n",
       "    </tr>\n",
       "    <tr>\n",
       "      <th>4</th>\n",
       "      <td>raralove773이가격실화??갈치조림정식이 1만원.직접만든 도토리묵반찬에~~부실...</td>\n",
       "      <td>[#제주가성비맛집, #보말칼국수, #제주도민맛집, #보리밥과수제비, #제주맛집, #...</td>\n",
       "      <td>2021-07-22</td>\n",
       "    </tr>\n",
       "    <tr>\n",
       "      <th>5</th>\n",
       "      <td>jyp_story3(광고)제주도민들도 극찬한 #운정이네중문에 위치한 아주아주 귀한맛...</td>\n",
       "      <td>[#운정이네중문에, #제주맛집추천, #제주서귀포맛집, #서귀포갈치조림, #제주도서귀...</td>\n",
       "      <td>2021-07-22</td>\n",
       "    </tr>\n",
       "    <tr>\n",
       "      <th>6</th>\n",
       "      <td>kikilove771#제주여행 필수코스 #흑돼지박스 포장하고 바로옆 섭지해변에서 성...</td>\n",
       "      <td>[#제주여행, #흑돼지박스, #제주맛집, #성산일출봉맛집, #섭지코지맛집, #성산맛...</td>\n",
       "      <td>2021-07-22</td>\n",
       "    </tr>\n",
       "    <tr>\n",
       "      <th>7</th>\n",
       "      <td>daini_bb.bb( 협찬 )인스타에서 완전 유명한 맛집 #제주분식모당모당이 시크...</td>\n",
       "      <td>[#제주분식모당모당이, #돔베라면, #제주분식주소, #제주공항근처맛집, #제주맛집,...</td>\n",
       "      <td>2021-07-23</td>\n",
       "    </tr>\n",
       "    <tr>\n",
       "      <th>8</th>\n",
       "      <td>znzlznzl7425협찬제주애월맛집 \"랍스터빈\"주소 : 제주시 애월읍 애월해안로 ...</td>\n",
       "      <td>[#애월맛집, #애월카페, #애월읍맛집, #제주애월맛집, #제주도맛집, #제주맛집,...</td>\n",
       "      <td>2021-07-22</td>\n",
       "    </tr>\n",
       "    <tr>\n",
       "      <th>9</th>\n",
       "      <td>lucin_nam오늘 제주도 마지막날ㅠㅠ마지막 식사는 공항근처 #제주분식 에서 #제...</td>\n",
       "      <td>[#제주분식, #제주현지인맛집, #제주맛집, #제주도맛집, #제주공항맛집, #연동맛...</td>\n",
       "      <td>2021-07-23</td>\n",
       "    </tr>\n",
       "  </tbody>\n",
       "</table>\n",
       "</div>"
      ],
      "text/plain": [
       "                                                   0  \\\n",
       "0  ryoryo4499<광고>매일가고 싶은 제주도..볼것도 많고 먹을것도 많고제주하면 ...   \n",
       "1  raralove773#제주도여행 이건꼭먹어야해💕도시락 포장후 바다뷰보며 먹는 #흑돼...   \n",
       "2  kakalove775이가격실화??갈치조림정식이 1만원.직접만든 도토리묵반찬에~~부실...   \n",
       "3  mukjamukja7540<광고>#우도 들어가기전에 꼭 #산도롱맨도롱#갈비국수 꼭 ...   \n",
       "4  raralove773이가격실화??갈치조림정식이 1만원.직접만든 도토리묵반찬에~~부실...   \n",
       "5  jyp_story3(광고)제주도민들도 극찬한 #운정이네중문에 위치한 아주아주 귀한맛...   \n",
       "6  kikilove771#제주여행 필수코스 #흑돼지박스 포장하고 바로옆 섭지해변에서 성...   \n",
       "7  daini_bb.bb( 협찬 )인스타에서 완전 유명한 맛집 #제주분식모당모당이 시크...   \n",
       "8  znzlznzl7425협찬제주애월맛집 \"랍스터빈\"주소 : 제주시 애월읍 애월해안로 ...   \n",
       "9  lucin_nam오늘 제주도 마지막날ㅠㅠ마지막 식사는 공항근처 #제주분식 에서 #제...   \n",
       "\n",
       "                                                   1           2  \n",
       "0  [#산도롱맨도롱, #제주맛집, #제주도맛집, #제주고기국수맛집, #성산맛집, #성산...  2021-07-22  \n",
       "1  [#제주도여행, #흑돼지박스자동차안, #제주맛집, #제주도맛집, #산방산맛집, #송...  2021-07-22  \n",
       "2  [#제주가성비맛집, #보말칼국수, #제주도민맛집, #보리밥과수제비, #제주맛집, #...  2021-07-22  \n",
       "3  [#우도, #산도롱맨도롱, #갈비국수, #제주맛집, #제주도맛집, #성산맛집, #성...  2021-07-21  \n",
       "4  [#제주가성비맛집, #보말칼국수, #제주도민맛집, #보리밥과수제비, #제주맛집, #...  2021-07-22  \n",
       "5  [#운정이네중문에, #제주맛집추천, #제주서귀포맛집, #서귀포갈치조림, #제주도서귀...  2021-07-22  \n",
       "6  [#제주여행, #흑돼지박스, #제주맛집, #성산일출봉맛집, #섭지코지맛집, #성산맛...  2021-07-22  \n",
       "7  [#제주분식모당모당이, #돔베라면, #제주분식주소, #제주공항근처맛집, #제주맛집,...  2021-07-23  \n",
       "8  [#애월맛집, #애월카페, #애월읍맛집, #제주애월맛집, #제주도맛집, #제주맛집,...  2021-07-22  \n",
       "9  [#제주분식, #제주현지인맛집, #제주맛집, #제주도맛집, #제주공항맛집, #연동맛...  2021-07-23  "
      ]
     },
     "execution_count": 21,
     "metadata": {},
     "output_type": "execute_result"
    }
   ],
   "source": [
    "df=pd.DataFrame(results)\n",
    "df.columns[]"
   ]
  },
  {
   "cell_type": "code",
   "execution_count": null,
   "id": "59d1750d",
   "metadata": {},
   "outputs": [],
   "source": []
  },
  {
   "cell_type": "code",
   "execution_count": null,
   "id": "23251cc6",
   "metadata": {},
   "outputs": [],
   "source": []
  },
  {
   "cell_type": "code",
   "execution_count": null,
   "id": "d99ab8a8",
   "metadata": {},
   "outputs": [],
   "source": []
  },
  {
   "cell_type": "code",
   "execution_count": null,
   "id": "d4a7959a",
   "metadata": {},
   "outputs": [],
   "source": []
  }
 ],
 "metadata": {
  "kernelspec": {
   "display_name": "Python 3",
   "language": "python",
   "name": "python3"
  },
  "language_info": {
   "codemirror_mode": {
    "name": "ipython",
    "version": 3
   },
   "file_extension": ".py",
   "mimetype": "text/x-python",
   "name": "python",
   "nbconvert_exporter": "python",
   "pygments_lexer": "ipython3",
   "version": "3.8.8"
  }
 },
 "nbformat": 4,
 "nbformat_minor": 5
}
