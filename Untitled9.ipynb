{
 "cells": [
  {
   "cell_type": "code",
   "execution_count": 1,
   "id": "f0a80ee7",
   "metadata": {},
   "outputs": [],
   "source": [
    "def add(x,y):\n",
    "    print(x+y)"
   ]
  },
  {
   "cell_type": "code",
   "execution_count": 2,
   "id": "41d0adf3",
   "metadata": {},
   "outputs": [
    {
     "name": "stdout",
     "output_type": "stream",
     "text": [
      "3\n"
     ]
    }
   ],
   "source": [
    "add(1,2)"
   ]
  },
  {
   "cell_type": "code",
   "execution_count": 37,
   "id": "ebf6a574",
   "metadata": {},
   "outputs": [],
   "source": [
    "def calc(x,y,op):\n",
    "    if op == \"+\":\n",
    "        return x+y\n",
    "    elif op == \"-\":\n",
    "        return x-y\n",
    "    elif op == \"*\":\n",
    "        return x*y\n",
    "    else:\n",
    "        return x/y"
   ]
  },
  {
   "cell_type": "code",
   "execution_count": 35,
   "id": "cfc2bb53",
   "metadata": {},
   "outputs": [
    {
     "data": {
      "text/plain": [
       "-1"
      ]
     },
     "execution_count": 35,
     "metadata": {},
     "output_type": "execute_result"
    }
   ],
   "source": [
    "calc(1,2,\"-\")"
   ]
  },
  {
   "cell_type": "code",
   "execution_count": 39,
   "id": "d729c826",
   "metadata": {},
   "outputs": [
    {
     "name": "stdout",
     "output_type": "stream",
     "text": [
      "3\n",
      "-1\n",
      "6\n",
      "5.0\n"
     ]
    }
   ],
   "source": [
    "print(calc(1,2,\"+\"))\n",
    "print(calc(1,2,\"-\"))\n",
    "print(calc(3,2,\"*\"))\n",
    "print(calc(10,2,\"/\"))"
   ]
  },
  {
   "cell_type": "code",
   "execution_count": 65,
   "id": "1e27ac17",
   "metadata": {},
   "outputs": [],
   "source": [
    "def test(x,y):\n",
    "    #print(\"hello\")\n",
    "    return x+y"
   ]
  },
  {
   "cell_type": "code",
   "execution_count": 66,
   "id": "ae3ff69f",
   "metadata": {},
   "outputs": [
    {
     "data": {
      "text/plain": [
       "150"
      ]
     },
     "execution_count": 66,
     "metadata": {},
     "output_type": "execute_result"
    }
   ],
   "source": [
    "test(100,50)"
   ]
  },
  {
   "cell_type": "code",
   "execution_count": 67,
   "id": "a5a5f80a",
   "metadata": {},
   "outputs": [],
   "source": [
    "def add(*args):\n",
    "    sum=0\n",
    "    for i in range:\n",
    "        sum += i\n",
    "        return sum"
   ]
  },
  {
   "cell_type": "code",
   "execution_count": 72,
   "id": "96a8eee0",
   "metadata": {},
   "outputs": [],
   "source": [
    "def func1(op, *numbers):\n",
    "    if op == \"multiply\":\n",
    "        result = 1\n",
    "        for number in numbers:\n",
    "            result *= number\n",
    "        return result\n",
    "    else:\n",
    "        result = 0\n",
    "        for number in numbers:\n",
    "            result += number\n",
    "    return result"
   ]
  },
  {
   "cell_type": "code",
   "execution_count": 73,
   "id": "4de9ed69",
   "metadata": {},
   "outputs": [
    {
     "ename": "IndentationError",
     "evalue": "unexpected indent (<ipython-input-73-b93300828556>, line 2)",
     "output_type": "error",
     "traceback": [
      "\u001b[1;36m  File \u001b[1;32m\"<ipython-input-73-b93300828556>\"\u001b[1;36m, line \u001b[1;32m2\u001b[0m\n\u001b[1;33m    return res\u001b[0m\n\u001b[1;37m    ^\u001b[0m\n\u001b[1;31mIndentationError\u001b[0m\u001b[1;31m:\u001b[0m unexpected indent\n"
     ]
    }
   ],
   "source": [
    "res=func1(\"multly\",10,20,30)\n",
    "    return res"
   ]
  },
  {
   "cell_type": "code",
   "execution_count": 74,
   "id": "66e349d6",
   "metadata": {},
   "outputs": [],
   "source": [
    "def addsub(x,y):\n",
    "    return x+y, x-y"
   ]
  },
  {
   "cell_type": "code",
   "execution_count": 75,
   "id": "8567f6d8",
   "metadata": {},
   "outputs": [
    {
     "name": "stdout",
     "output_type": "stream",
     "text": [
      "7\n",
      "-1\n"
     ]
    }
   ],
   "source": [
    "res1, res2 = addsub(3,4)\n",
    "print(res1)\n",
    "print(res2)"
   ]
  },
  {
   "cell_type": "code",
   "execution_count": 92,
   "id": "ca994279",
   "metadata": {},
   "outputs": [
    {
     "ename": "SyntaxError",
     "evalue": "non-default argument follows default argument (<ipython-input-92-d11f69eaf0a9>, line 3)",
     "output_type": "error",
     "traceback": [
      "\u001b[1;36m  File \u001b[1;32m\"<ipython-input-92-d11f69eaf0a9>\"\u001b[1;36m, line \u001b[1;32m3\u001b[0m\n\u001b[1;33m    def intro(n, female=True, age): #매개변수 초기값 설정 가능\u001b[0m\n\u001b[1;37m              ^\u001b[0m\n\u001b[1;31mSyntaxError\u001b[0m\u001b[1;31m:\u001b[0m non-default argument follows default argument\n"
     ]
    }
   ],
   "source": [
    "#def intro(n, age, female=True): #매개변수 초기값 설정 가능\n",
    "    \n",
    "def intro(n, female=True, age): #매개변수 순서에 의해 불가능, 의미없음\n",
    "    print(\"이름:\", n)\n",
    "    print(\"나이:\", age)\n",
    "    if female:\n",
    "        print(\"여성\")\n",
    "    else:\n",
    "        print(\"남성\")"
   ]
  },
  {
   "cell_type": "code",
   "execution_count": 91,
   "id": "1ae155df",
   "metadata": {},
   "outputs": [
    {
     "name": "stdout",
     "output_type": "stream",
     "text": [
      "이름: 홍길동\n",
      "나이: 25\n",
      "여성\n",
      "이름: 홍길동\n",
      "나이: 25\n",
      "남성\n"
     ]
    }
   ],
   "source": [
    "intro(\"홍길동\", 25)\n",
    "intro(\"홍길동\", 25,0)"
   ]
  },
  {
   "cell_type": "code",
   "execution_count": 94,
   "id": "cc62199d",
   "metadata": {},
   "outputs": [
    {
     "name": "stdout",
     "output_type": "stream",
     "text": [
      "1\n"
     ]
    }
   ],
   "source": [
    "a=1\n",
    "\n",
    "def test(a): #매개변수는 함수 내에서만 사용하는 변수\n",
    "    a=a+10\n",
    "    \n",
    "test(a)\n",
    "\n",
    "print(a)"
   ]
  },
  {
   "cell_type": "code",
   "execution_count": 99,
   "id": "0d2e6984",
   "metadata": {},
   "outputs": [
    {
     "ename": "NameError",
     "evalue": "name 'x' is not defined",
     "output_type": "error",
     "traceback": [
      "\u001b[1;31m---------------------------------------------------------------------------\u001b[0m",
      "\u001b[1;31mNameError\u001b[0m                                 Traceback (most recent call last)",
      "\u001b[1;32m<ipython-input-99-266cb95c9c86>\u001b[0m in \u001b[0;36m<module>\u001b[1;34m\u001b[0m\n\u001b[0;32m      3\u001b[0m \u001b[1;33m\u001b[0m\u001b[0m\n\u001b[0;32m      4\u001b[0m \u001b[0mtest2\u001b[0m\u001b[1;33m(\u001b[0m\u001b[1;36m10\u001b[0m\u001b[1;33m)\u001b[0m\u001b[1;33m\u001b[0m\u001b[1;33m\u001b[0m\u001b[0m\n\u001b[1;32m----> 5\u001b[1;33m \u001b[0mprint\u001b[0m\u001b[1;33m(\u001b[0m\u001b[0mx\u001b[0m\u001b[1;33m)\u001b[0m\u001b[1;33m\u001b[0m\u001b[1;33m\u001b[0m\u001b[0m\n\u001b[0m",
      "\u001b[1;31mNameError\u001b[0m: name 'x' is not defined"
     ]
    }
   ],
   "source": [
    "def test2(x):\n",
    "    x=x+1\n",
    "    \n",
    "test2(10)\n",
    "print(x)\n",
    "# test2 의 x는 함수내부에서만 사용하는 변수이기 때문에 x를 출력 할 수 없다"
   ]
  },
  {
   "cell_type": "code",
   "execution_count": 103,
   "id": "7dc0b028",
   "metadata": {},
   "outputs": [
    {
     "name": "stdout",
     "output_type": "stream",
     "text": [
      "11\n"
     ]
    }
   ],
   "source": [
    "x=1\n",
    "\n",
    "def test(x):\n",
    "    x=x+10\n",
    "    return x\n",
    "\n",
    "# test(x)\n",
    "# print(x)\n",
    "\n",
    "x=test(x)\n",
    "print(x)"
   ]
  },
  {
   "cell_type": "code",
   "execution_count": 107,
   "id": "68fb32c0",
   "metadata": {},
   "outputs": [
    {
     "name": "stdout",
     "output_type": "stream",
     "text": [
      "11\n"
     ]
    }
   ],
   "source": [
    "x=1\n",
    "\n",
    "def test():\n",
    "    global x # 함수 내부에서 함수 외부에 있는 변수 x를 사용하겠다\n",
    "    x=x+10 # x의 선언이 안되있다\n",
    "test()\n",
    "print(x)"
   ]
  },
  {
   "cell_type": "code",
   "execution_count": 112,
   "id": "4abd5cda",
   "metadata": {},
   "outputs": [
    {
     "name": "stdout",
     "output_type": "stream",
     "text": [
      "[1, 2]\n"
     ]
    }
   ],
   "source": [
    "def test():\n",
    "    return 1,2\n",
    "#    return [1,2] 리스트를 리턴해줘도 됀다\n",
    "\n",
    "\n",
    "res=test()\n",
    "print(list(res))"
   ]
  },
  {
   "cell_type": "code",
   "execution_count": 115,
   "id": "3b451692",
   "metadata": {},
   "outputs": [
    {
     "name": "stdout",
     "output_type": "stream",
     "text": [
      "3\n",
      "6\n"
     ]
    }
   ],
   "source": [
    "def mul(a,b):\n",
    "    res=a*b\n",
    "    return res\n",
    "\n",
    "def add(xx,yy):\n",
    "    zz=xx+yy\n",
    "    print(zz)\n",
    "    result = mul(zz, 2)\n",
    "    print(result)\n",
    "    \n",
    "x=1\n",
    "y=2\n",
    "add(x,y)  "
   ]
  },
  {
   "cell_type": "code",
   "execution_count": null,
   "id": "5c7f5298",
   "metadata": {},
   "outputs": [],
   "source": []
  },
  {
   "cell_type": "code",
   "execution_count": null,
   "id": "8a0d8eb1",
   "metadata": {},
   "outputs": [],
   "source": []
  },
  {
   "cell_type": "code",
   "execution_count": null,
   "id": "a0cdc07f",
   "metadata": {},
   "outputs": [],
   "source": []
  }
 ],
 "metadata": {
  "kernelspec": {
   "display_name": "Python 3",
   "language": "python",
   "name": "python3"
  },
  "language_info": {
   "codemirror_mode": {
    "name": "ipython",
    "version": 3
   },
   "file_extension": ".py",
   "mimetype": "text/x-python",
   "name": "python",
   "nbconvert_exporter": "python",
   "pygments_lexer": "ipython3",
   "version": "3.8.8"
  }
 },
 "nbformat": 4,
 "nbformat_minor": 5
}
