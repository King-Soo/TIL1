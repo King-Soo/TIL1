{
 "cells": [
  {
   "cell_type": "code",
   "execution_count": 24,
   "id": "1b26299f",
   "metadata": {},
   "outputs": [
    {
     "name": "stdout",
     "output_type": "stream",
     "text": [
      "철수 98\n",
      "영희 80\n",
      "순이 100\n",
      "돌이 70\n",
      "=============\n",
      "평균 87.0\n"
     ]
    }
   ],
   "source": [
    "data = {\n",
    "    \"철수\": 98,\n",
    "    \"영희\": 80,\n",
    "    \"순이\": 100,\n",
    "    \"돌이\": 70,\n",
    "}\n",
    "\n",
    "for key, value in data.items():\n",
    "    print(key,value)\n",
    "    \n",
    "print(\"=============\")\n",
    "print('평균',((sum(data.values()))/len(data)))\n",
    "\n"
   ]
  },
  {
   "cell_type": "code",
   "execution_count": 26,
   "id": "da13acc1",
   "metadata": {},
   "outputs": [
    {
     "name": "stdout",
     "output_type": "stream",
     "text": [
      "('길동', '철수', '영수', '방자')\n"
     ]
    }
   ],
   "source": [
    "x = [\n",
    "  [\"길동\", 90],\n",
    "  [\"철수\", 80],\n",
    "  [\"영수\", 70],\n",
    "  [\"방자\", 60],\n",
    "]\n",
    "names, score = zip(*x)\n",
    "print(names)"
   ]
  },
  {
   "cell_type": "code",
   "execution_count": 27,
   "id": "46799041",
   "metadata": {},
   "outputs": [
    {
     "ename": "SyntaxError",
     "evalue": "invalid syntax (<ipython-input-27-61d7e447dc9b>, line 4)",
     "output_type": "error",
     "traceback": [
      "\u001b[1;36m  File \u001b[1;32m\"<ipython-input-27-61d7e447dc9b>\"\u001b[1;36m, line \u001b[1;32m4\u001b[0m\n\u001b[1;33m    res=\u001b[0m\n\u001b[1;37m        ^\u001b[0m\n\u001b[1;31mSyntaxError\u001b[0m\u001b[1;31m:\u001b[0m invalid syntax\n"
     ]
    }
   ],
   "source": [
    "import urllib.request\n",
    "\n",
    "url=\" https://movie.naver.com/movie/bi/mi/basic.naver?code=184318#\"\n",
    "res=urllib.request.urlopen"
   ]
  },
  {
   "cell_type": "code",
   "execution_count": null,
   "id": "82a8f7f9",
   "metadata": {},
   "outputs": [],
   "source": []
  },
  {
   "cell_type": "code",
   "execution_count": null,
   "id": "d6dc0233",
   "metadata": {},
   "outputs": [],
   "source": []
  }
 ],
 "metadata": {
  "kernelspec": {
   "display_name": "Python 3",
   "language": "python",
   "name": "python3"
  },
  "language_info": {
   "codemirror_mode": {
    "name": "ipython",
    "version": 3
   },
   "file_extension": ".py",
   "mimetype": "text/x-python",
   "name": "python",
   "nbconvert_exporter": "python",
   "pygments_lexer": "ipython3",
   "version": "3.8.8"
  }
 },
 "nbformat": 4,
 "nbformat_minor": 5
}
