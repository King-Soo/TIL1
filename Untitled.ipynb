{
 "cells": [
  {
   "cell_type": "code",
   "execution_count": 16,
   "id": "6ae13de6",
   "metadata": {},
   "outputs": [
    {
     "name": "stdout",
     "output_type": "stream",
     "text": [
      "p t\n"
     ]
    }
   ],
   "source": [
    "letters ='pyton'\n",
    "print(letters[0],letters[2])"
   ]
  },
  {
   "cell_type": "code",
   "execution_count": 19,
   "id": "511f391a",
   "metadata": {},
   "outputs": [
    {
     "data": {
      "text/plain": [
       "'2210'"
      ]
     },
     "execution_count": 19,
     "metadata": {},
     "output_type": "execute_result"
    }
   ],
   "source": [
    "cn=\"24가 2210\"\n",
    "cn[4:]"
   ]
  },
  {
   "cell_type": "code",
   "execution_count": 20,
   "id": "3955bf45",
   "metadata": {},
   "outputs": [],
   "source": [
    "s=\"파이썬파이썬파이썬\""
   ]
  },
  {
   "cell_type": "code",
   "execution_count": 26,
   "id": "0bfb9883",
   "metadata": {},
   "outputs": [
    {
     "name": "stdout",
     "output_type": "stream",
     "text": [
      "파파파\n"
     ]
    }
   ],
   "source": [
    "print(s.replace(\"이썬\",''))"
   ]
  },
  {
   "cell_type": "code",
   "execution_count": 27,
   "id": "8c97e1ae",
   "metadata": {},
   "outputs": [],
   "source": [
    "num_str=\"720\""
   ]
  },
  {
   "cell_type": "code",
   "execution_count": 29,
   "id": "14f7a80b",
   "metadata": {},
   "outputs": [
    {
     "name": "stdout",
     "output_type": "stream",
     "text": [
      "720\n"
     ]
    }
   ],
   "source": [
    "print(int(num_str))"
   ]
  },
  {
   "cell_type": "code",
   "execution_count": 31,
   "id": "34e76db0",
   "metadata": {},
   "outputs": [
    {
     "name": "stdout",
     "output_type": "stream",
     "text": [
      "15.79\n"
     ]
    }
   ],
   "source": [
    "data=\"15.79\"\n",
    "print(float(data))"
   ]
  },
  {
   "cell_type": "code",
   "execution_count": 32,
   "id": "392c2c2b",
   "metadata": {},
   "outputs": [
    {
     "data": {
      "text/plain": [
       "1749024"
      ]
     },
     "execution_count": 32,
     "metadata": {},
     "output_type": "execute_result"
    }
   ],
   "source": [
    "48584*36"
   ]
  },
  {
   "cell_type": "code",
   "execution_count": 55,
   "id": "0ce402af",
   "metadata": {},
   "outputs": [
    {
     "name": "stdout",
     "output_type": "stream",
     "text": [
      "생년월일: 850701  주민번호 1234567\n",
      "성별 : 남자\n",
      "07 월\n"
     ]
    }
   ],
   "source": [
    "jumin = \"850701-1234567\"\n",
    "dkq, enl = jumin.split('-')\n",
    "print(\"생년월일:\",dkq,\" 주민번호\",enl)\n",
    "if enl[0]=='1':\n",
    "    print(\"성별 : 남자\")\n",
    "else:\n",
    "    print(\"성별 : 여자\")\n",
    "    \n",
    "month=dkq[2:4]\n",
    "print(month,\"월\")"
   ]
  },
  {
   "cell_type": "code",
   "execution_count": null,
   "id": "fcecedee",
   "metadata": {},
   "outputs": [],
   "source": []
  },
  {
   "cell_type": "code",
   "execution_count": null,
   "id": "612edd48",
   "metadata": {},
   "outputs": [],
   "source": []
  }
 ],
 "metadata": {
  "kernelspec": {
   "display_name": "Python 3",
   "language": "python",
   "name": "python3"
  },
  "language_info": {
   "codemirror_mode": {
    "name": "ipython",
    "version": 3
   },
   "file_extension": ".py",
   "mimetype": "text/x-python",
   "name": "python",
   "nbconvert_exporter": "python",
   "pygments_lexer": "ipython3",
   "version": "3.8.8"
  }
 },
 "nbformat": 4,
 "nbformat_minor": 5
}
