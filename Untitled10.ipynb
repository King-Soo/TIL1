{
 "cells": [
  {
   "cell_type": "code",
   "execution_count": 2,
   "id": "6a6429cc",
   "metadata": {},
   "outputs": [
    {
     "name": "stdout",
     "output_type": "stream",
     "text": [
      "짝수입니다.\n"
     ]
    }
   ],
   "source": [
    "def is_odd(x):\n",
    "    if (x % 2 == 1):\n",
    "        print('홀수입니다.')\n",
    "    else:\n",
    "        print('짝수입니다.')\n",
    "\n",
    "is_odd(4)"
   ]
  },
  {
   "cell_type": "code",
   "execution_count": 6,
   "id": "a656fd64",
   "metadata": {},
   "outputs": [
    {
     "name": "stdout",
     "output_type": "stream",
     "text": [
      "Life is too short\n"
     ]
    }
   ],
   "source": [
    "a=\"Life is too short\"\n",
    "\n",
    "f= open(\"test.txt\",\"w\")\n",
    "f.write(a)\n",
    "\n",
    "f=open(\"test.txt\",\"r\")\n",
    "output = f.readline()\n",
    "print(output)\n",
    "f.close()"
   ]
  },
  {
   "cell_type": "code",
   "execution_count": 61,
   "id": "17082b66",
   "metadata": {
    "scrolled": true
   },
   "outputs": [
    {
     "name": "stdout",
     "output_type": "stream",
     "text": [
      "Life is too short you need Java\n",
      "Life is too short you need python\n"
     ]
    }
   ],
   "source": [
    "b = \"Life is too short you need Java\"\n",
    "\n",
    "f = open(\"test1.txt\",\"w\")\n",
    "f.write(b)\n",
    "\n",
    "f = open('test1.txt', 'r')\n",
    "body = f.read()\n",
    "f.close()\n",
    "\n",
    "print(body)\n",
    "\n",
    "body = body.replace('Java','python')\n",
    "\n",
    "\n",
    "\n",
    "f = open('test1.txt', 'w')\n",
    "f.write(body)\n",
    "f.close()\n",
    "\n",
    "print(body)"
   ]
  },
  {
   "cell_type": "code",
   "execution_count": 81,
   "id": "726b575c",
   "metadata": {},
   "outputs": [],
   "source": [
    "def print_coin():\n",
    "    return (\"비트코인\")\n",
    "        \n",
    "print_coin()"
   ]
  },
  {
   "cell_type": "code",
   "execution_count": null,
   "id": "3f3ea0dd",
   "metadata": {},
   "outputs": [],
   "source": []
  },
  {
   "cell_type": "code",
   "execution_count": 10,
   "id": "5f3f3daa",
   "metadata": {},
   "outputs": [
    {
     "name": "stdout",
     "output_type": "stream",
     "text": [
      "비트코인 0\n",
      "비트코인 1\n",
      "비트코인 2\n",
      "비트코인 3\n",
      "비트코인 4\n",
      "비트코인 5\n",
      "비트코인 6\n",
      "비트코인 7\n",
      "비트코인 8\n",
      "비트코인 9\n",
      "비트코인 10\n",
      "비트코인 11\n",
      "비트코인 12\n",
      "비트코인 13\n",
      "비트코인 14\n",
      "비트코인 15\n",
      "비트코인 16\n",
      "비트코인 17\n",
      "비트코인 18\n",
      "비트코인 19\n",
      "비트코인 20\n",
      "비트코인 21\n",
      "비트코인 22\n",
      "비트코인 23\n",
      "비트코인 24\n",
      "비트코인 25\n",
      "비트코인 26\n",
      "비트코인 27\n",
      "비트코인 28\n",
      "비트코인 29\n",
      "비트코인 30\n",
      "비트코인 31\n",
      "비트코인 32\n",
      "비트코인 33\n",
      "비트코인 34\n",
      "비트코인 35\n",
      "비트코인 36\n",
      "비트코인 37\n",
      "비트코인 38\n",
      "비트코인 39\n",
      "비트코인 40\n",
      "비트코인 41\n",
      "비트코인 42\n",
      "비트코인 43\n",
      "비트코인 44\n",
      "비트코인 45\n",
      "비트코인 46\n",
      "비트코인 47\n",
      "비트코인 48\n",
      "비트코인 49\n",
      "비트코인 50\n",
      "비트코인 51\n",
      "비트코인 52\n",
      "비트코인 53\n",
      "비트코인 54\n",
      "비트코인 55\n",
      "비트코인 56\n",
      "비트코인 57\n",
      "비트코인 58\n",
      "비트코인 59\n",
      "비트코인 60\n",
      "비트코인 61\n",
      "비트코인 62\n",
      "비트코인 63\n",
      "비트코인 64\n",
      "비트코인 65\n",
      "비트코인 66\n",
      "비트코인 67\n",
      "비트코인 68\n",
      "비트코인 69\n",
      "비트코인 70\n",
      "비트코인 71\n",
      "비트코인 72\n",
      "비트코인 73\n",
      "비트코인 74\n",
      "비트코인 75\n",
      "비트코인 76\n",
      "비트코인 77\n",
      "비트코인 78\n",
      "비트코인 79\n",
      "비트코인 80\n",
      "비트코인 81\n",
      "비트코인 82\n",
      "비트코인 83\n",
      "비트코인 84\n",
      "비트코인 85\n",
      "비트코인 86\n",
      "비트코인 87\n",
      "비트코인 88\n",
      "비트코인 89\n",
      "비트코인 90\n",
      "비트코인 91\n",
      "비트코인 92\n",
      "비트코인 93\n",
      "비트코인 94\n",
      "비트코인 95\n",
      "비트코인 96\n",
      "비트코인 97\n",
      "비트코인 98\n",
      "비트코인 99\n",
      "비트코인 100\n"
     ]
    }
   ],
   "source": [
    "def print_coin():\n",
    "    return (\"비트코인\")\n",
    "\n",
    "        \n",
    "for i in range(101):\n",
    "    print(print_coin(),\"%d\"%i)"
   ]
  },
  {
   "cell_type": "code",
   "execution_count": null,
   "id": "5572ebc5",
   "metadata": {},
   "outputs": [],
   "source": []
  },
  {
   "cell_type": "code",
   "execution_count": 11,
   "id": "e8a37321",
   "metadata": {},
   "outputs": [
    {
     "name": "stdout",
     "output_type": "stream",
     "text": [
      "비트코인 1\n",
      "비트코인 2\n",
      "비트코인 3\n",
      "비트코인 4\n",
      "비트코인 5\n",
      "비트코인 6\n",
      "비트코인 7\n",
      "비트코인 8\n",
      "비트코인 9\n",
      "비트코인 10\n",
      "비트코인 11\n",
      "비트코인 12\n",
      "비트코인 13\n",
      "비트코인 14\n",
      "비트코인 15\n",
      "비트코인 16\n",
      "비트코인 17\n",
      "비트코인 18\n",
      "비트코인 19\n",
      "비트코인 20\n",
      "비트코인 21\n",
      "비트코인 22\n",
      "비트코인 23\n",
      "비트코인 24\n",
      "비트코인 25\n",
      "비트코인 26\n",
      "비트코인 27\n",
      "비트코인 28\n",
      "비트코인 29\n",
      "비트코인 30\n",
      "비트코인 31\n",
      "비트코인 32\n",
      "비트코인 33\n",
      "비트코인 34\n",
      "비트코인 35\n",
      "비트코인 36\n",
      "비트코인 37\n",
      "비트코인 38\n",
      "비트코인 39\n",
      "비트코인 40\n",
      "비트코인 41\n",
      "비트코인 42\n",
      "비트코인 43\n",
      "비트코인 44\n",
      "비트코인 45\n",
      "비트코인 46\n",
      "비트코인 47\n",
      "비트코인 48\n",
      "비트코인 49\n",
      "비트코인 50\n",
      "비트코인 51\n",
      "비트코인 52\n",
      "비트코인 53\n",
      "비트코인 54\n",
      "비트코인 55\n",
      "비트코인 56\n",
      "비트코인 57\n",
      "비트코인 58\n",
      "비트코인 59\n",
      "비트코인 60\n",
      "비트코인 61\n",
      "비트코인 62\n",
      "비트코인 63\n",
      "비트코인 64\n",
      "비트코인 65\n",
      "비트코인 66\n",
      "비트코인 67\n",
      "비트코인 68\n",
      "비트코인 69\n",
      "비트코인 70\n",
      "비트코인 71\n",
      "비트코인 72\n",
      "비트코인 73\n",
      "비트코인 74\n",
      "비트코인 75\n",
      "비트코인 76\n",
      "비트코인 77\n",
      "비트코인 78\n",
      "비트코인 79\n",
      "비트코인 80\n",
      "비트코인 81\n",
      "비트코인 82\n",
      "비트코인 83\n",
      "비트코인 84\n",
      "비트코인 85\n",
      "비트코인 86\n",
      "비트코인 87\n",
      "비트코인 88\n",
      "비트코인 89\n",
      "비트코인 90\n",
      "비트코인 91\n",
      "비트코인 92\n",
      "비트코인 93\n",
      "비트코인 94\n",
      "비트코인 95\n",
      "비트코인 96\n",
      "비트코인 97\n",
      "비트코인 98\n",
      "비트코인 99\n",
      "비트코인 100\n"
     ]
    }
   ],
   "source": [
    "def print_coin():\n",
    "    i=0\n",
    "    while i < 100:\n",
    "        i = i+1\n",
    "        print(\"비트코인 %d\" %i)\n",
    "        \n",
    "print_coin()"
   ]
  },
  {
   "cell_type": "code",
   "execution_count": 20,
   "id": "1e0335b3",
   "metadata": {},
   "outputs": [
    {
     "name": "stdout",
     "output_type": "stream",
     "text": [
      "as\n"
     ]
    },
    {
     "data": {
      "text/plain": [
       "'as :D'"
      ]
     },
     "execution_count": 20,
     "metadata": {},
     "output_type": "execute_result"
    }
   ],
   "source": [
    "def print_with_smile():\n",
    "    string = input()\n",
    "    return string + \" :D\"\n",
    "    \n",
    "print_with_smile()"
   ]
  },
  {
   "cell_type": "code",
   "execution_count": 47,
   "id": "fe243783",
   "metadata": {},
   "outputs": [
    {
     "name": "stdout",
     "output_type": "stream",
     "text": [
      "[100, 90, 80, 70, 60, 50, 40, 30, 20, 10]\n",
      "[100, 90]\n"
     ]
    }
   ],
   "source": [
    "priceList=[90,100,10,20,30,40,50,60,70,80]\n",
    "\n",
    "def print_upper_price():\n",
    "    priceList.sort()\n",
    "    priceList.reverse() #큰수부터\n",
    "    print(priceList)\n",
    "    print(priceList[0:(len(priceList)-8)])\n",
    "    \n",
    "print_upper_price()"
   ]
  },
  {
   "cell_type": "code",
   "execution_count": 66,
   "id": "39b29223",
   "metadata": {
    "scrolled": true
   },
   "outputs": [
    {
     "name": "stdout",
     "output_type": "stream",
     "text": [
      "1 3 5 7 8 9 11 13\n",
      "8\n"
     ]
    }
   ],
   "source": [
    "def print_even():\n",
    "    list1 = list(map(int, input().split()))\n",
    "    \n",
    "    for y in list1:\n",
    "        if y % 2 == 0:\n",
    "            print(y)\n",
    "            \n",
    "\n",
    "print_even()"
   ]
  },
  {
   "cell_type": "code",
   "execution_count": 96,
   "id": "5782a4fe",
   "metadata": {},
   "outputs": [
    {
     "name": "stdout",
     "output_type": "stream",
     "text": [
      "['name', 'age', 'addr', 'bt']\n"
     ]
    }
   ],
   "source": [
    "def print_keys():\n",
    "    a = {'name':'kim', 'age':30, 'addr':'seoul', 'bt':'AB'}\n",
    "    print((list(a.keys())))\n",
    "\n",
    "print_keys()"
   ]
  },
  {
   "cell_type": "code",
   "execution_count": 101,
   "id": "be458789",
   "metadata": {},
   "outputs": [
    {
     "name": "stdout",
     "output_type": "stream",
     "text": [
      "he\n",
      "ll\n",
      "o\n"
     ]
    }
   ],
   "source": [
    "def print_mxn(inputstr, num):\n",
    "    for i in range(0, len(inputstr), num):\n",
    "        print(inputstr[i:i+num])\n",
    "    \n",
    "    \n",
    "print_mxn(\"hello\",2)"
   ]
  },
  {
   "cell_type": "code",
   "execution_count": 103,
   "id": "dcd6ed17",
   "metadata": {},
   "outputs": [
    {
     "data": {
      "text/plain": [
       "8333333"
      ]
     },
     "execution_count": 103,
     "metadata": {},
     "output_type": "execute_result"
    }
   ],
   "source": [
    "def calc_monthly_salary(annual_salary):\n",
    "    return  int(annual_salary/12)\n",
    "\n",
    "\n",
    "calc_monthly_salary(100000000)"
   ]
  },
  {
   "cell_type": "code",
   "execution_count": 107,
   "id": "68ae4a9c",
   "metadata": {},
   "outputs": [
    {
     "name": "stdout",
     "output_type": "stream",
     "text": [
      "google\n",
      "www.google.com\n"
     ]
    }
   ],
   "source": [
    "def make_url(domain):\n",
    "    return f\"www.{domain}.com\"\n",
    "    \n",
    "print(make_url(input()))"
   ]
  },
  {
   "cell_type": "code",
   "execution_count": 108,
   "id": "8ab063c5",
   "metadata": {},
   "outputs": [
    {
     "name": "stdout",
     "output_type": "stream",
     "text": [
      "avcd\n",
      "['a', 'v', 'c', 'd']\n"
     ]
    }
   ],
   "source": [
    "def make_list(st):\n",
    "    return list(st)\n",
    "    \n",
    "    \n",
    "print(make_list(input()))"
   ]
  },
  {
   "cell_type": "code",
   "execution_count": 112,
   "id": "37285759",
   "metadata": {},
   "outputs": [
    {
     "name": "stdout",
     "output_type": "stream",
     "text": [
      "1227365\n",
      "time : 0.007954597473144531\n"
     ]
    }
   ],
   "source": [
    "import time\n",
    "start = time.time()  # 시작 시간 저장\n",
    "\n",
    "a = set()\n",
    "b = set(range(1, 5000))\n",
    "\n",
    "for i in range(1, 5000):\n",
    "    for j in str(i):\n",
    "        i = i + int(j)\n",
    "\n",
    "    if i < 5000:\n",
    "        a.add(i)\n",
    "\n",
    "b = b - a\n",
    "\n",
    "print(sum(b))\n",
    "\n",
    "print(\"time :\", time.time() - start)"
   ]
  },
  {
   "cell_type": "code",
   "execution_count": null,
   "id": "54661895",
   "metadata": {},
   "outputs": [],
   "source": []
  }
 ],
 "metadata": {
  "kernelspec": {
   "display_name": "Python 3",
   "language": "python",
   "name": "python3"
  },
  "language_info": {
   "codemirror_mode": {
    "name": "ipython",
    "version": 3
   },
   "file_extension": ".py",
   "mimetype": "text/x-python",
   "name": "python",
   "nbconvert_exporter": "python",
   "pygments_lexer": "ipython3",
   "version": "3.8.8"
  }
 },
 "nbformat": 4,
 "nbformat_minor": 5
}
