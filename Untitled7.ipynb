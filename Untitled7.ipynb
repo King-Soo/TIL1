{
 "cells": [
  {
   "cell_type": "code",
   "execution_count": null,
   "id": "ea38cba0",
   "metadata": {},
   "outputs": [],
   "source": [
    "f=open(\"test.txt\",\"r\")\n",
    "s=f.read()\n",
    "print(s)\n",
    "f.close()\n",
    "\n",
    "with open(\"test.txt\",\"r\") as f:\n",
    "    s=f.read()\n",
    "    print(s)"
   ]
  },
  {
   "cell_type": "code",
   "execution_count": null,
   "id": "b582af56",
   "metadata": {},
   "outputs": [],
   "source": [
    "#여러 줄 저장\n",
    "\n",
    "with open(\"test.txt\",\"r\") as f:\n",
    "    for i in range(3):\n",
    "        f.write(\"hello world\\n\")\n",
    "    s=f.read()\n",
    "    print(s)"
   ]
  },
  {
   "cell_type": "code",
   "execution_count": null,
   "id": "cb35d9e2",
   "metadata": {},
   "outputs": [],
   "source": [
    "with open(\"test.txt\",\"r\") as f:\n",
    "    for i in range(3):\n",
    "#        f.write(\"hello world{0}\".format(i+1))\n",
    "        f.write(\"hello world %d\"% (i+1) )\n"
   ]
  },
  {
   "cell_type": "code",
   "execution_count": 3,
   "id": "2fb38f57",
   "metadata": {},
   "outputs": [],
   "source": [
    "lines=['hello world1','hello world2','hello world3']"
   ]
  },
  {
   "cell_type": "code",
   "execution_count": 7,
   "id": "e1eab77a",
   "metadata": {},
   "outputs": [],
   "source": [
    "#with open(\"test2.txt\",\"w\")as f:\n",
    "#    for i in range(len(lines)):\n",
    "#        f.write(lines[i]+\"\\n\")\n",
    "        \n",
    "with open(\"test2.txt\",\"w\")as f:\n",
    "    f.writelines(lines)"
   ]
  },
  {
   "cell_type": "code",
   "execution_count": 10,
   "id": "9ab2fe37",
   "metadata": {
    "scrolled": true
   },
   "outputs": [
    {
     "ename": "SyntaxError",
     "evalue": "invalid syntax (<ipython-input-10-c19ce59af1e1>, line 1)",
     "output_type": "error",
     "traceback": [
      "\u001b[1;36m  File \u001b[1;32m\"<ipython-input-10-c19ce59af1e1>\"\u001b[1;36m, line \u001b[1;32m1\u001b[0m\n\u001b[1;33m    n 그램 : 문자열(문장)에서 n개의 연속된 문자(단어)를 추출하는 것\u001b[0m\n\u001b[1;37m      ^\u001b[0m\n\u001b[1;31mSyntaxError\u001b[0m\u001b[1;31m:\u001b[0m invalid syntax\n"
     ]
    }
   ],
   "source": [
    "n 그램 : 문자열(문장)에서 n개의 연속된 문자(단어)를 추출하는 것\n",
    "n=2, 2-gram\n",
    "n=3, 3-gram\n",
    "...\n",
    "ex)\n",
    "삼성동에 코로나가 퍼지고 있습니다.\n",
    "n-2, 2-gram\n",
    "문장 -> 단어 단위(2-gram)로 추출\n",
    "공백단위로 구분 했다면 => [삼성동에, 코로나가, 퍼지고, 있습니다.]\n",
    "단어 단위(2-gram)로 추출 후 => [삼성동에, 코로나가], [코로나가, 퍼지고], [퍼지고, 있습니다.]\n",
    "\n",
    "문장 -> 글자 단위(2-gram)로 추출\n",
    "삼성동에 코로나가 퍼지고 있습니다\n",
    "글자 단위(2-gram)로 추출 후 ['삼성', '성동', '동에', '에', '코'....]\n",
    "\n",
    "ex)\n",
    "hello -> 2-gram => ge, el, ll, lo\n"
   ]
  },
  {
   "cell_type": "code",
   "execution_count": 44,
   "id": "c638d3b2",
   "metadata": {},
   "outputs": [
    {
     "name": "stdout",
     "output_type": "stream",
     "text": [
      "he\n",
      "el\n",
      "l \n",
      " l\n",
      "lo\n"
     ]
    }
   ],
   "source": [
    "Zzz=\"hello\"\n",
    "\n",
    "for i in range(len(Zzz)-1):\n",
    "    print(Zzz[i],Zzz[i+1], sep=\"\")\n"
   ]
  },
  {
   "cell_type": "code",
   "execution_count": 15,
   "id": "c9989ec7",
   "metadata": {
    "scrolled": true
   },
   "outputs": [
    {
     "name": "stdout",
     "output_type": "stream",
     "text": [
      "this is\n",
      "is python\n",
      "python program\n"
     ]
    }
   ],
   "source": [
    "zzz=\"this is python program\"\n",
    "\n",
    "w = zzz.split()\n",
    "for i in range(len(w)-1):\n",
    "    print(w[i],w[i+1], sep=\" \")"
   ]
  },
  {
   "cell_type": "code",
   "execution_count": 6,
   "id": "80b99d05",
   "metadata": {},
   "outputs": [
    {
     "name": "stdout",
     "output_type": "stream",
     "text": [
      "4\n",
      "유사도는 22.22 %입니다\n"
     ]
    }
   ],
   "source": [
    "x=\"머신러닝은 인공지능의 한 분류입니다\" #내가 작성한 숙제\n",
    "y=\"런닝머신은 운동 기구중의 하나입니다\" #다른 사람이 작성한 숙제\n",
    "\n",
    "p=[]\n",
    "q=[]\n",
    "count=0\n",
    "\n",
    "for i in range(len(x)-1):\n",
    "    p.append([x[i:i+2]])\n",
    "\n",
    "for j in range(len(y)-1):\n",
    "    q.append([y[j:j+2]])\n",
    "\n",
    "\n",
    "for k in range(len(p)-1):\n",
    "    for l in range(len(q)-1):\n",
    "        if p[k]==q[l]:\n",
    "            count+=1\n",
    "print(count)\n",
    "\n",
    "print(\"유사도는 %.2f %%입니다\" % (100*count/len(p)))"
   ]
  },
  {
   "cell_type": "code",
   "execution_count": 29,
   "id": "6439807c",
   "metadata": {},
   "outputs": [
    {
     "name": "stdout",
     "output_type": "stream",
     "text": [
      "[5, 4, 4, 5, 5, 5, 5, 5, 5, 6, 5]\n",
      "2\n"
     ]
    }
   ],
   "source": [
    "a = [5,8,3,1,5,6,9,9,2,2,4]\n",
    "for i in range(11):\n",
    "    a.sort()\n",
    "    a[len(a)-1] -= 1\n",
    "    a[0] += 1\n",
    "\n",
    "print(a)\n",
    "a.sort()\n",
    "print(a[len(a)-1]-a[0])"
   ]
  },
  {
   "cell_type": "code",
   "execution_count": 31,
   "id": "b0b31e6f",
   "metadata": {},
   "outputs": [
    {
     "name": "stdout",
     "output_type": "stream",
     "text": [
      "hello\n",
      "ex01\n",
      "intro\n"
     ]
    }
   ],
   "source": [
    "li = ['hello.py', 'ex01.py', 'intro.hwp']\n",
    "for i in li:\n",
    "    print(i.split(\".\")[0])"
   ]
  },
  {
   "cell_type": "code",
   "execution_count": 33,
   "id": "700feec4",
   "metadata": {},
   "outputs": [
    {
     "name": "stdout",
     "output_type": "stream",
     "text": [
      "[50, 100, 30, 80, 0]\n"
     ]
    }
   ],
   "source": [
    "low_prices = [100, 200, 400, 800, 1000]\n",
    "high_prices = [150, 300, 430, 880, 1000]\n",
    "var = []\n",
    "\n",
    "for i in range(5):\n",
    "    a = high_prices[i] - low_prices[i]\n",
    "    var.append(a)\n",
    "print(var)"
   ]
  },
  {
   "cell_type": "code",
   "execution_count": 34,
   "id": "83485bec",
   "metadata": {},
   "outputs": [
    {
     "name": "stdout",
     "output_type": "stream",
     "text": [
      "101 호\n",
      "102 호\n",
      "-----\n",
      "201 호\n",
      "202 호\n",
      "-----\n",
      "301 호\n",
      "302 호\n",
      "-----\n"
     ]
    }
   ],
   "source": [
    "apart = [ [101, 102], [201, 202], [301, 302] ]\n",
    " \n",
    "for i in range(len(apart)):\n",
    "    for j in range(len(apart[i])):\n",
    "        print(apart[i][j],\"호\")\n",
    "    print(\"-----\")"
   ]
  },
  {
   "cell_type": "code",
   "execution_count": null,
   "id": "067c00cd",
   "metadata": {},
   "outputs": [],
   "source": []
  }
 ],
 "metadata": {
  "kernelspec": {
   "display_name": "Python 3",
   "language": "python",
   "name": "python3"
  },
  "language_info": {
   "codemirror_mode": {
    "name": "ipython",
    "version": 3
   },
   "file_extension": ".py",
   "mimetype": "text/x-python",
   "name": "python",
   "nbconvert_exporter": "python",
   "pygments_lexer": "ipython3",
   "version": "3.8.8"
  }
 },
 "nbformat": 4,
 "nbformat_minor": 5
}
