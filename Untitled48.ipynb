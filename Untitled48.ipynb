{
 "cells": [
  {
   "cell_type": "code",
   "execution_count": 1,
   "id": "b35bdcf9",
   "metadata": {},
   "outputs": [
    {
     "name": "stdout",
     "output_type": "stream",
     "text": [
      "Downloaded: Ac_Day_20210630.zip\n"
     ]
    }
   ],
   "source": [
    "!pip install wget\n",
    "\n",
    "from datetime import date, timedelta\n",
    "from IPython.display import clear_output\n",
    "import time, wget\n",
    "\n",
    "# cd its-raw\n",
    "\n",
    "# 데이터 다운로드 (ITS 사고)\n",
    "target_date = date(2020, 1, 1)\n",
    "end_date = date(2021, 6, 30)\n",
    "while target_date <= end_date:\n",
    "    try:\n",
    "        url = f\"https://www.its.go.kr/opendata/fileDownload/Incident_Day/Ac_Day_{target_date.strftime('%Y%m%d')}.zip\"\n",
    "        filename = wget.download(url)\n",
    "        clear_output(wait=True)\n",
    "        print(\"Downloaded:\", filename)\n",
    "    except:\n",
    "        pass\n",
    "    target_date += timedelta(days=1)\n",
    "    time.sleep(2.5)\n"
   ]
  },
  {
   "cell_type": "code",
   "execution_count": null,
   "id": "1c0e9ee4",
   "metadata": {},
   "outputs": [],
   "source": []
  }
 ],
 "metadata": {
  "kernelspec": {
   "display_name": "Python 3",
   "language": "python",
   "name": "python3"
  },
  "language_info": {
   "codemirror_mode": {
    "name": "ipython",
    "version": 3
   },
   "file_extension": ".py",
   "mimetype": "text/x-python",
   "name": "python",
   "nbconvert_exporter": "python",
   "pygments_lexer": "ipython3",
   "version": "3.8.8"
  }
 },
 "nbformat": 4,
 "nbformat_minor": 5
}
