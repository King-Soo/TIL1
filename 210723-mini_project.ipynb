{
 "cells": [
  {
   "cell_type": "code",
   "execution_count": 1,
   "id": "63dae3ab",
   "metadata": {},
   "outputs": [],
   "source": [
    "from selenium import webdriver\n",
    "from bs4 import BeautifulSoup\n",
    "import time\n",
    "import re"
   ]
  },
  {
   "cell_type": "code",
   "execution_count": 97,
   "id": "94df45f4",
   "metadata": {},
   "outputs": [],
   "source": [
    "def getContent(driver):\n",
    "    html=driver.page_source\n",
    "    soup=BeautifulSoup(html,'html.parser')\n",
    "    title=soup.select('yt-formatted-string.style-scope.ytd-video-renderer')[(i+i)].text\n",
    "    view=soup.select('span.style-scope.ytd-video-meta-block')[(i+i)].text\n",
    "    view_time=soup.select('span.style-scope.ytd-video-meta-block')[((i+i)+1)].text    \n",
    "        \n",
    "    view_digit=re.findall(\"\\d+\",view)\n",
    "    view_time_digit=re.findall('\\d+',view_time)\n",
    "    \n",
    "    view_time_day=re.findall(\"\\D+\",view_time)\n",
    "    \n",
    "    if view_time_day[0] == \"일 전\":\n",
    "        a=int(view_digit[0])\n",
    "        b=int(view_time_digit[0])\n",
    "        hour=eval(\"a/(b*24)\")\n",
    "    else:\n",
    "        a=int(view_digit[0])\n",
    "        b=int(view_time_digit[0])\n",
    "        hour=eval(\"a/b\")\n",
    "    data=[title, view, view_time, round(hour,1),\"만 view/h\"]\n",
    "    return data\n"
   ]
  },
  {
   "cell_type": "code",
   "execution_count": 98,
   "id": "23e32b9d",
   "metadata": {},
   "outputs": [
    {
     "name": "stdout",
     "output_type": "stream",
     "text": [
      "[['[양궁 하이라이트] 금메달 딴 무서운 막내들..10점 화살도 쪼개버렸다', '조회수 253만회', '22시간 전', 11.5, '만 view/h'], ['어렵게 막을 올린 도쿄올림픽...개회식에서 가장 인상적이었던 장면은? / 스포츠머그', '조회수 111만회', '1일 전', 4.6, '만 view/h'], ['Dance your 💜 out to #PermissiontoDance 💃🕺 Only on YouTube #Shorts', '조회수 3873만회', '1일 전', 161.4, '만 view/h'], ['[짐승친구들] 짐벤져스 : 찌찌 구출 작전', '조회수 113만회', '22시간 전', 5.1, '만 view/h'], ['빠지는 계속 물에 빠지라고 빠지인가요? 워크맨 최초 2주 연속 🩳팬티🩳준비....?? 💦水릴 넘쳐 빠져버려🌊 | 빠지 알바 리뷰 | 워크맨 ep.109', '조회수 136만회', '1일 전', 5.7, '만 view/h'], ['양궁 막내 금메달 듀오! 16강부터 결승전까지 9분 컷 하이라이트 (feat. 장혜진의 말말말)ㅣ2020 도쿄 올림픽', '조회수 40만회', '18시간 전', 2.2, '만 view/h'], ['아 마시쩡~!', '조회수 22만회', '19시간 전', 1.2, '만 view/h'], ['17세 ‘탁구 신동’ 신유빈…단식 첫 승리/ KBS 2020 도쿄올림픽 2021.07.24', '조회수 108만회', '19시간 전', 5.7, '만 view/h'], ['한달매출 1억 5천만원 30대 함바집 여사장님이 건설현장에 나가는 이유', '조회수 72만회', '1일 전', 3.0, '만 view/h'], ['똥 밟았네 노래 부른 직원들 최초공개!! 똥 밟았네 비하인드썰 대방출! 레트로봇 직원 인터뷰! #똥밟았네', '조회수 88만회', '1일 전', 3.7, '만 view/h']]\n"
     ]
    }
   ],
   "source": [
    "driver = webdriver.Chrome('chromedriver.exe')\n",
    "driver.get('https://www.youtube.com/feed/explore')\n",
    "time.sleep(1)\n",
    "\n",
    "results = []\n",
    "target = 10\n",
    "for i in range(target):\n",
    "    data= getContent(driver)\n",
    "    results.append(data)\n",
    "    \n",
    "print(results)"
   ]
  },
  {
   "cell_type": "code",
   "execution_count": 66,
   "id": "e28310eb",
   "metadata": {},
   "outputs": [],
   "source": [
    "import pandas as pd"
   ]
  },
  {
   "cell_type": "code",
   "execution_count": 99,
   "id": "1a45d40f",
   "metadata": {},
   "outputs": [
    {
     "data": {
      "text/html": [
       "<div>\n",
       "<style scoped>\n",
       "    .dataframe tbody tr th:only-of-type {\n",
       "        vertical-align: middle;\n",
       "    }\n",
       "\n",
       "    .dataframe tbody tr th {\n",
       "        vertical-align: top;\n",
       "    }\n",
       "\n",
       "    .dataframe thead th {\n",
       "        text-align: right;\n",
       "    }\n",
       "</style>\n",
       "<table border=\"1\" class=\"dataframe\">\n",
       "  <thead>\n",
       "    <tr style=\"text-align: right;\">\n",
       "      <th></th>\n",
       "      <th>0</th>\n",
       "      <th>1</th>\n",
       "      <th>2</th>\n",
       "      <th>3</th>\n",
       "      <th>4</th>\n",
       "    </tr>\n",
       "  </thead>\n",
       "  <tbody>\n",
       "    <tr>\n",
       "      <th>0</th>\n",
       "      <td>[양궁 하이라이트] 금메달 딴 무서운 막내들..10점 화살도 쪼개버렸다</td>\n",
       "      <td>조회수 253만회</td>\n",
       "      <td>22시간 전</td>\n",
       "      <td>11.5</td>\n",
       "      <td>만 view/h</td>\n",
       "    </tr>\n",
       "    <tr>\n",
       "      <th>1</th>\n",
       "      <td>어렵게 막을 올린 도쿄올림픽...개회식에서 가장 인상적이었던 장면은? / 스포츠머그</td>\n",
       "      <td>조회수 111만회</td>\n",
       "      <td>1일 전</td>\n",
       "      <td>4.6</td>\n",
       "      <td>만 view/h</td>\n",
       "    </tr>\n",
       "    <tr>\n",
       "      <th>2</th>\n",
       "      <td>Dance your 💜 out to #PermissiontoDance 💃🕺 Only...</td>\n",
       "      <td>조회수 3873만회</td>\n",
       "      <td>1일 전</td>\n",
       "      <td>161.4</td>\n",
       "      <td>만 view/h</td>\n",
       "    </tr>\n",
       "    <tr>\n",
       "      <th>3</th>\n",
       "      <td>[짐승친구들] 짐벤져스 : 찌찌 구출 작전</td>\n",
       "      <td>조회수 113만회</td>\n",
       "      <td>22시간 전</td>\n",
       "      <td>5.1</td>\n",
       "      <td>만 view/h</td>\n",
       "    </tr>\n",
       "    <tr>\n",
       "      <th>4</th>\n",
       "      <td>빠지는 계속 물에 빠지라고 빠지인가요? 워크맨 최초 2주 연속 🩳팬티🩳준비....?...</td>\n",
       "      <td>조회수 136만회</td>\n",
       "      <td>1일 전</td>\n",
       "      <td>5.7</td>\n",
       "      <td>만 view/h</td>\n",
       "    </tr>\n",
       "    <tr>\n",
       "      <th>5</th>\n",
       "      <td>양궁 막내 금메달 듀오! 16강부터 결승전까지 9분 컷 하이라이트 (feat. 장혜...</td>\n",
       "      <td>조회수 40만회</td>\n",
       "      <td>18시간 전</td>\n",
       "      <td>2.2</td>\n",
       "      <td>만 view/h</td>\n",
       "    </tr>\n",
       "    <tr>\n",
       "      <th>6</th>\n",
       "      <td>아 마시쩡~!</td>\n",
       "      <td>조회수 22만회</td>\n",
       "      <td>19시간 전</td>\n",
       "      <td>1.2</td>\n",
       "      <td>만 view/h</td>\n",
       "    </tr>\n",
       "    <tr>\n",
       "      <th>7</th>\n",
       "      <td>17세 ‘탁구 신동’ 신유빈…단식 첫 승리/ KBS 2020 도쿄올림픽 2021.0...</td>\n",
       "      <td>조회수 108만회</td>\n",
       "      <td>19시간 전</td>\n",
       "      <td>5.7</td>\n",
       "      <td>만 view/h</td>\n",
       "    </tr>\n",
       "    <tr>\n",
       "      <th>8</th>\n",
       "      <td>한달매출 1억 5천만원 30대 함바집 여사장님이 건설현장에 나가는 이유</td>\n",
       "      <td>조회수 72만회</td>\n",
       "      <td>1일 전</td>\n",
       "      <td>3.0</td>\n",
       "      <td>만 view/h</td>\n",
       "    </tr>\n",
       "    <tr>\n",
       "      <th>9</th>\n",
       "      <td>똥 밟았네 노래 부른 직원들 최초공개!! 똥 밟았네 비하인드썰 대방출! 레트로봇 직...</td>\n",
       "      <td>조회수 88만회</td>\n",
       "      <td>1일 전</td>\n",
       "      <td>3.7</td>\n",
       "      <td>만 view/h</td>\n",
       "    </tr>\n",
       "  </tbody>\n",
       "</table>\n",
       "</div>"
      ],
      "text/plain": [
       "                                                   0           1       2  \\\n",
       "0            [양궁 하이라이트] 금메달 딴 무서운 막내들..10점 화살도 쪼개버렸다   조회수 253만회  22시간 전   \n",
       "1     어렵게 막을 올린 도쿄올림픽...개회식에서 가장 인상적이었던 장면은? / 스포츠머그   조회수 111만회    1일 전   \n",
       "2  Dance your 💜 out to #PermissiontoDance 💃🕺 Only...  조회수 3873만회    1일 전   \n",
       "3                            [짐승친구들] 짐벤져스 : 찌찌 구출 작전   조회수 113만회  22시간 전   \n",
       "4  빠지는 계속 물에 빠지라고 빠지인가요? 워크맨 최초 2주 연속 🩳팬티🩳준비....?...   조회수 136만회    1일 전   \n",
       "5  양궁 막내 금메달 듀오! 16강부터 결승전까지 9분 컷 하이라이트 (feat. 장혜...    조회수 40만회  18시간 전   \n",
       "6                                            아 마시쩡~!    조회수 22만회  19시간 전   \n",
       "7  17세 ‘탁구 신동’ 신유빈…단식 첫 승리/ KBS 2020 도쿄올림픽 2021.0...   조회수 108만회  19시간 전   \n",
       "8            한달매출 1억 5천만원 30대 함바집 여사장님이 건설현장에 나가는 이유    조회수 72만회    1일 전   \n",
       "9  똥 밟았네 노래 부른 직원들 최초공개!! 똥 밟았네 비하인드썰 대방출! 레트로봇 직...    조회수 88만회    1일 전   \n",
       "\n",
       "       3         4  \n",
       "0   11.5  만 view/h  \n",
       "1    4.6  만 view/h  \n",
       "2  161.4  만 view/h  \n",
       "3    5.1  만 view/h  \n",
       "4    5.7  만 view/h  \n",
       "5    2.2  만 view/h  \n",
       "6    1.2  만 view/h  \n",
       "7    5.7  만 view/h  \n",
       "8    3.0  만 view/h  \n",
       "9    3.7  만 view/h  "
      ]
     },
     "execution_count": 99,
     "metadata": {},
     "output_type": "execute_result"
    }
   ],
   "source": [
    "df=pd.DataFrame(results)\n",
    "df"
   ]
  },
  {
   "cell_type": "code",
   "execution_count": null,
   "id": "e3706690",
   "metadata": {},
   "outputs": [],
   "source": []
  },
  {
   "cell_type": "code",
   "execution_count": null,
   "id": "5c1265f2",
   "metadata": {},
   "outputs": [],
   "source": []
  },
  {
   "cell_type": "code",
   "execution_count": null,
   "id": "fd1d4644",
   "metadata": {},
   "outputs": [],
   "source": []
  },
  {
   "cell_type": "code",
   "execution_count": null,
   "id": "cdb120f2",
   "metadata": {},
   "outputs": [],
   "source": []
  },
  {
   "cell_type": "code",
   "execution_count": null,
   "id": "b32a56c0",
   "metadata": {},
   "outputs": [],
   "source": []
  },
  {
   "cell_type": "code",
   "execution_count": null,
   "id": "03c604d0",
   "metadata": {},
   "outputs": [],
   "source": []
  },
  {
   "cell_type": "code",
   "execution_count": null,
   "id": "1b504fda",
   "metadata": {},
   "outputs": [],
   "source": []
  },
  {
   "cell_type": "code",
   "execution_count": null,
   "id": "a918de42",
   "metadata": {},
   "outputs": [],
   "source": []
  },
  {
   "cell_type": "code",
   "execution_count": null,
   "id": "1191960a",
   "metadata": {},
   "outputs": [],
   "source": []
  },
  {
   "cell_type": "code",
   "execution_count": null,
   "id": "6bc56d32",
   "metadata": {},
   "outputs": [],
   "source": []
  },
  {
   "cell_type": "code",
   "execution_count": null,
   "id": "5ad26547",
   "metadata": {},
   "outputs": [],
   "source": []
  }
 ],
 "metadata": {
  "kernelspec": {
   "display_name": "Python 3",
   "language": "python",
   "name": "python3"
  },
  "language_info": {
   "codemirror_mode": {
    "name": "ipython",
    "version": 3
   },
   "file_extension": ".py",
   "mimetype": "text/x-python",
   "name": "python",
   "nbconvert_exporter": "python",
   "pygments_lexer": "ipython3",
   "version": "3.8.8"
  }
 },
 "nbformat": 4,
 "nbformat_minor": 5
}
