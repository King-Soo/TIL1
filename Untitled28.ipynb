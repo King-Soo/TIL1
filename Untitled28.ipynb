{
 "cells": [
  {
   "cell_type": "code",
   "execution_count": 1,
   "id": "5ed6a540",
   "metadata": {},
   "outputs": [],
   "source": [
    "import numpy as np"
   ]
  },
  {
   "cell_type": "code",
   "execution_count": 2,
   "id": "f2f3bab5",
   "metadata": {},
   "outputs": [
    {
     "data": {
      "text/plain": [
       "array([1, 2, 3, 4])"
      ]
     },
     "execution_count": 2,
     "metadata": {},
     "output_type": "execute_result"
    }
   ],
   "source": [
    "np.array([1,2,3,4])"
   ]
  },
  {
   "cell_type": "code",
   "execution_count": 7,
   "id": "37e6ac4a",
   "metadata": {},
   "outputs": [
    {
     "data": {
      "text/plain": [
       "4"
      ]
     },
     "execution_count": 7,
     "metadata": {},
     "output_type": "execute_result"
    }
   ],
   "source": [
    "x = np.array([[[1, 2, 3, 4],\n",
    "               [5, 6, 7, 8],\n",
    "               [9, 10, 11, 12]],\n",
    "              [[11, 12, 13, 14],\n",
    "               [15, 16, 17, 18],\n",
    "               [19, 20, 21, 22]]])\n",
    "# 깊이 : 2\n",
    "# 행   : 3\n",
    "# 열   : 4\n",
    "# x배열의 shape?  2*3*4 배열\n",
    "len(x) #깊이\n",
    "len(x[0]) #행\n",
    "len(x[0][0]) #열"
   ]
  },
  {
   "cell_type": "code",
   "execution_count": 10,
   "id": "136956e0",
   "metadata": {},
   "outputs": [
    {
     "data": {
      "text/plain": [
       "(2, 3, 4)"
      ]
     },
     "execution_count": 10,
     "metadata": {},
     "output_type": "execute_result"
    }
   ],
   "source": [
    "x.ndim #배열의 차원\n",
    "x.shape # 배열의 크기"
   ]
  },
  {
   "cell_type": "code",
   "execution_count": 14,
   "id": "111a52bb",
   "metadata": {},
   "outputs": [],
   "source": [
    "x = np.array([[1,2,3],[4,5,6]])"
   ]
  },
  {
   "cell_type": "code",
   "execution_count": 23,
   "id": "086a4ae3",
   "metadata": {},
   "outputs": [
    {
     "data": {
      "text/plain": [
       "1"
      ]
     },
     "execution_count": 23,
     "metadata": {},
     "output_type": "execute_result"
    }
   ],
   "source": [
    "x[0]\n",
    "x[-2][-3]\n",
    "x[-2,-3]"
   ]
  },
  {
   "cell_type": "code",
   "execution_count": 35,
   "id": "228443a7",
   "metadata": {},
   "outputs": [
    {
     "data": {
      "text/plain": [
       "array([2, 5])"
      ]
     },
     "execution_count": 35,
     "metadata": {},
     "output_type": "execute_result"
    }
   ],
   "source": [
    "x = np.array([[1,2,3],\n",
    "              [4,5,6]])\n",
    "x[0] #첫번째 행 전체\n",
    "x[0,] #첫번째 행 전체\n",
    "x[0,:] #첫번째 행 전체\n",
    "\n",
    "x[1, : ]\n",
    "x[:,1]"
   ]
  },
  {
   "cell_type": "code",
   "execution_count": 38,
   "id": "faf68d90",
   "metadata": {},
   "outputs": [
    {
     "data": {
      "text/plain": [
       "array([5, 6])"
      ]
     },
     "execution_count": 38,
     "metadata": {},
     "output_type": "execute_result"
    }
   ],
   "source": [
    "x[1][1:]\n",
    "x[1,1:]"
   ]
  },
  {
   "cell_type": "code",
   "execution_count": 40,
   "id": "83524be9",
   "metadata": {},
   "outputs": [
    {
     "data": {
      "text/plain": [
       "array([[2, 3],\n",
       "       [5, 6]])"
      ]
     },
     "execution_count": 40,
     "metadata": {},
     "output_type": "execute_result"
    }
   ],
   "source": [
    "x[:,1:]"
   ]
  },
  {
   "cell_type": "code",
   "execution_count": 42,
   "id": "e7c3b8c2",
   "metadata": {},
   "outputs": [],
   "source": [
    "x=np.array([1,2,3])\n",
    "b=np.array([True, False, True])"
   ]
  },
  {
   "cell_type": "code",
   "execution_count": 43,
   "id": "1b3baf15",
   "metadata": {},
   "outputs": [
    {
     "data": {
      "text/plain": [
       "array([1, 3])"
      ]
     },
     "execution_count": 43,
     "metadata": {},
     "output_type": "execute_result"
    }
   ],
   "source": [
    "x[b]"
   ]
  },
  {
   "cell_type": "code",
   "execution_count": 47,
   "id": "a5938cce",
   "metadata": {},
   "outputs": [
    {
     "data": {
      "text/plain": [
       "array([2, 3])"
      ]
     },
     "execution_count": 47,
     "metadata": {},
     "output_type": "execute_result"
    }
   ],
   "source": [
    "x>1\n",
    "x[x>1]"
   ]
  },
  {
   "cell_type": "code",
   "execution_count": 48,
   "id": "b8dc82a7",
   "metadata": {},
   "outputs": [],
   "source": [
    "x=np.array([1,2,3,4])\n",
    "b=np.array([True, False, True])"
   ]
  },
  {
   "cell_type": "code",
   "execution_count": 49,
   "id": "83d24ba2",
   "metadata": {},
   "outputs": [
    {
     "ename": "IndexError",
     "evalue": "boolean index did not match indexed array along dimension 0; dimension is 4 but corresponding boolean dimension is 3",
     "output_type": "error",
     "traceback": [
      "\u001b[1;31m---------------------------------------------------------------------------\u001b[0m",
      "\u001b[1;31mIndexError\u001b[0m                                Traceback (most recent call last)",
      "\u001b[1;32m<ipython-input-49-80bb4cb00dbb>\u001b[0m in \u001b[0;36m<module>\u001b[1;34m\u001b[0m\n\u001b[1;32m----> 1\u001b[1;33m \u001b[0mx\u001b[0m\u001b[1;33m[\u001b[0m\u001b[0mb\u001b[0m\u001b[1;33m]\u001b[0m\u001b[1;33m\u001b[0m\u001b[1;33m\u001b[0m\u001b[0m\n\u001b[0m",
      "\u001b[1;31mIndexError\u001b[0m: boolean index did not match indexed array along dimension 0; dimension is 4 but corresponding boolean dimension is 3"
     ]
    }
   ],
   "source": [
    "x[b]"
   ]
  },
  {
   "cell_type": "code",
   "execution_count": 50,
   "id": "64b9016c",
   "metadata": {},
   "outputs": [
    {
     "data": {
      "text/plain": [
       "array([ True, False,  True])"
      ]
     },
     "execution_count": 50,
     "metadata": {},
     "output_type": "execute_result"
    }
   ],
   "source": [
    "x=np.array([1,2,3])\n",
    "b=np.array([True, False, True])\n",
    "x%2==1"
   ]
  },
  {
   "cell_type": "code",
   "execution_count": 52,
   "id": "8592052d",
   "metadata": {},
   "outputs": [
    {
     "data": {
      "text/plain": [
       "array([1, 3])"
      ]
     },
     "execution_count": 52,
     "metadata": {},
     "output_type": "execute_result"
    }
   ],
   "source": [
    "x[x%2==1]"
   ]
  },
  {
   "cell_type": "code",
   "execution_count": 54,
   "id": "ffa57c5e",
   "metadata": {},
   "outputs": [
    {
     "data": {
      "text/plain": [
       "array([10, 30, 50])"
      ]
     },
     "execution_count": 54,
     "metadata": {},
     "output_type": "execute_result"
    }
   ],
   "source": [
    "x=np.array([10,20,30,40,50])\n",
    "y=np.array([0,2,4])\n",
    "y=np.array([0,2,4,0,0,2])\n",
    "x[y] # 정수 배열 인덱싱"
   ]
  },
  {
   "cell_type": "code",
   "execution_count": 55,
   "id": "4a01e5d5",
   "metadata": {},
   "outputs": [
    {
     "data": {
      "text/plain": [
       "array([10, 30, 50, 10, 10, 30])"
      ]
     },
     "execution_count": 55,
     "metadata": {},
     "output_type": "execute_result"
    }
   ],
   "source": [
    "y=np.array([0,2,4,0,0,2])\n",
    "x[y] # 정수 배열 인덱싱"
   ]
  },
  {
   "cell_type": "code",
   "execution_count": 56,
   "id": "90853c0a",
   "metadata": {},
   "outputs": [
    {
     "data": {
      "text/plain": [
       "array([[10, 20, 30],\n",
       "       [40, 50, 60]])"
      ]
     },
     "execution_count": 56,
     "metadata": {},
     "output_type": "execute_result"
    }
   ],
   "source": [
    "x=np.array([[10,20,30],[40,50,60]])\n",
    "x"
   ]
  },
  {
   "cell_type": "code",
   "execution_count": 57,
   "id": "a6902e14",
   "metadata": {},
   "outputs": [
    {
     "data": {
      "text/plain": [
       "array([[10, 20, 30],\n",
       "       [40, 50, 60]])"
      ]
     },
     "execution_count": 57,
     "metadata": {},
     "output_type": "execute_result"
    }
   ],
   "source": [
    "x[:,:]"
   ]
  },
  {
   "cell_type": "code",
   "execution_count": 59,
   "id": "ba85bd46",
   "metadata": {},
   "outputs": [
    {
     "data": {
      "text/plain": [
       "array([[10, 20, 30]])"
      ]
     },
     "execution_count": 59,
     "metadata": {},
     "output_type": "execute_result"
    }
   ],
   "source": [
    "x[:,[True,False,True]]# 0번 2번 index 열 데이터 추출\n",
    "x[[True,False],:] # 0번 index 행 데이터 추출"
   ]
  },
  {
   "cell_type": "code",
   "execution_count": 65,
   "id": "b9ff97c3",
   "metadata": {},
   "outputs": [
    {
     "name": "stdout",
     "output_type": "stream",
     "text": [
      "[[10 30]\n",
      " [40 60]]\n",
      "[[30 10]\n",
      " [60 40]]\n",
      "[[30 10 10 30 10]\n",
      " [60 40 40 60 40]]\n",
      "[[40 50 60]\n",
      " [40 50 60]\n",
      " [40 50 60]\n",
      " [10 20 30]]\n",
      "[[40 50 60]\n",
      " [10 20 30]]\n"
     ]
    }
   ],
   "source": [
    "print(x[:,[0,2]])\n",
    "print(x[:,[2,0]])\n",
    "print(x[:,[2,0,0,2,0]])\n",
    "print(x[[1,1,1,0],:])\n",
    "print(x[[1,0],:])"
   ]
  },
  {
   "cell_type": "code",
   "execution_count": 72,
   "id": "a856a53d",
   "metadata": {},
   "outputs": [],
   "source": [
    "x= np.array([[ 0,  1,  2,  3,  4],\n",
    "            [ 5,  6,  7,  8,  9],\n",
    "            [10, 11, 12, 13, 14]])\n"
   ]
  },
  {
   "cell_type": "code",
   "execution_count": 81,
   "id": "807fb078",
   "metadata": {},
   "outputs": [
    {
     "data": {
      "text/plain": [
       "array([[3, 4],\n",
       "       [8, 9]])"
      ]
     },
     "execution_count": 81,
     "metadata": {},
     "output_type": "execute_result"
    }
   ],
   "source": [
    "#7 참조\n",
    "x[1,2]\n",
    "x[x==7]\n",
    "\n",
    "#14참조\n",
    "x[-1,-1]\n",
    "x[x==14]\n",
    "\n",
    "#6,7 참조\n",
    "x[1,1:3]\n",
    "x[1,[1,2]]\n",
    "x[(x==6)|(x==7)]\n",
    "\n",
    "#[3,4],[8,9] 참조\n",
    "x[0:2,3:5]\n"
   ]
  },
  {
   "cell_type": "code",
   "execution_count": 82,
   "id": "318e4f09",
   "metadata": {},
   "outputs": [],
   "source": [
    "x = np.array([1, 2, 3, 4, 5, 6, 7, 8, 9, 10,\n",
    "             11, 12, 13, 14, 15, 16, 17, 18, 19, 20])\n"
   ]
  },
  {
   "cell_type": "code",
   "execution_count": 87,
   "id": "7a148893",
   "metadata": {},
   "outputs": [
    {
     "data": {
      "text/plain": [
       "array([ 1,  5,  9, 13, 17])"
      ]
     },
     "execution_count": 87,
     "metadata": {},
     "output_type": "execute_result"
    }
   ],
   "source": [
    "x[x % 3 ==0]\n",
    "x[x % 4 ==1]\n",
    "#x[(x % 3 ==0)|(x % 4 ==1)]"
   ]
  },
  {
   "cell_type": "code",
   "execution_count": 93,
   "id": "b184e268",
   "metadata": {},
   "outputs": [
    {
     "data": {
      "text/plain": [
       "dtype('float64')"
      ]
     },
     "execution_count": 93,
     "metadata": {},
     "output_type": "execute_result"
    }
   ],
   "source": [
    "x=np.array([1,2.5])\n",
    "\n",
    "type(x)\n",
    "#x.dtype"
   ]
  },
  {
   "cell_type": "code",
   "execution_count": 95,
   "id": "af115b8d",
   "metadata": {},
   "outputs": [
    {
     "data": {
      "text/plain": [
       "array([1. , 2.5], dtype=float32)"
      ]
     },
     "execution_count": 95,
     "metadata": {},
     "output_type": "execute_result"
    }
   ],
   "source": [
    "x=np.array([1,2.5], dtype='f') # 변수 조절가능\n",
    "x.dtype\n",
    "x"
   ]
  },
  {
   "cell_type": "code",
   "execution_count": null,
   "id": "724b533a",
   "metadata": {},
   "outputs": [],
   "source": [
    "inf #infinity"
   ]
  },
  {
   "cell_type": "code",
   "execution_count": null,
   "id": "4f5f8e6e",
   "metadata": {},
   "outputs": [],
   "source": [
    "np.inf # 무한대를 표현하는 상수\n",
    "np.nan# 정의할 수 없는 숫자"
   ]
  },
  {
   "cell_type": "code",
   "execution_count": 99,
   "id": "091c02e4",
   "metadata": {},
   "outputs": [
    {
     "name": "stdout",
     "output_type": "stream",
     "text": [
      "[inf]\n",
      "[0.]\n",
      "[-inf]\n",
      "[nan]\n",
      "-inf\n"
     ]
    },
    {
     "name": "stderr",
     "output_type": "stream",
     "text": [
      "<ipython-input-99-407456aac886>:1: RuntimeWarning: divide by zero encountered in true_divide\n",
      "  print(np.array([1])/np.array([0]))\n",
      "<ipython-input-99-407456aac886>:3: RuntimeWarning: divide by zero encountered in true_divide\n",
      "  print(np.array([-1])/np.array([0]))\n",
      "<ipython-input-99-407456aac886>:4: RuntimeWarning: invalid value encountered in true_divide\n",
      "  print(np.array([0])/np.array([0]))\n",
      "<ipython-input-99-407456aac886>:6: RuntimeWarning: divide by zero encountered in log\n",
      "  print(np.log(0))\n"
     ]
    }
   ],
   "source": [
    "print(np.array([1])/np.array([0]))\n",
    "print(np.array([0])/np.array([1]))\n",
    "print(np.array([-1])/np.array([0]))\n",
    "print(np.array([0])/np.array([0]))\n",
    "\n",
    "print(np.log(0))\n",
    "np"
   ]
  },
  {
   "cell_type": "code",
   "execution_count": 102,
   "id": "f80bf4da",
   "metadata": {},
   "outputs": [
    {
     "data": {
      "text/plain": [
       "array([[[0., 0., 0., 0.],\n",
       "        [0., 0., 0., 0.]],\n",
       "\n",
       "       [[0., 0., 0., 0.],\n",
       "        [0., 0., 0., 0.]],\n",
       "\n",
       "       [[0., 0., 0., 0.],\n",
       "        [0., 0., 0., 0.]]])"
      ]
     },
     "execution_count": 102,
     "metadata": {},
     "output_type": "execute_result"
    }
   ],
   "source": [
    "np.zeros((3,2))\n",
    "np.zeros((3,2,4))"
   ]
  },
  {
   "cell_type": "code",
   "execution_count": null,
   "id": "47d7fd57",
   "metadata": {},
   "outputs": [],
   "source": [
    "np.zeros((3,2,4))"
   ]
  },
  {
   "cell_type": "code",
   "execution_count": 104,
   "id": "f8f4f86c",
   "metadata": {},
   "outputs": [
    {
     "data": {
      "text/plain": [
       "array([[[1., 1., 1., 1.],\n",
       "        [1., 1., 1., 1.]],\n",
       "\n",
       "       [[1., 1., 1., 1.],\n",
       "        [1., 1., 1., 1.]],\n",
       "\n",
       "       [[1., 1., 1., 1.],\n",
       "        [1., 1., 1., 1.]]])"
      ]
     },
     "execution_count": 104,
     "metadata": {},
     "output_type": "execute_result"
    }
   ],
   "source": [
    "np.ones((3,2,4))"
   ]
  },
  {
   "cell_type": "code",
   "execution_count": 105,
   "id": "62cb7541",
   "metadata": {},
   "outputs": [
    {
     "data": {
      "text/plain": [
       "array([[[2., 2., 2., 2.],\n",
       "        [2., 2., 2., 2.]],\n",
       "\n",
       "       [[2., 2., 2., 2.],\n",
       "        [2., 2., 2., 2.]],\n",
       "\n",
       "       [[2., 2., 2., 2.],\n",
       "        [2., 2., 2., 2.]]])"
      ]
     },
     "execution_count": 105,
     "metadata": {},
     "output_type": "execute_result"
    }
   ],
   "source": [
    "np.ones((3,2,4))*2"
   ]
  },
  {
   "cell_type": "code",
   "execution_count": 106,
   "id": "3573b408",
   "metadata": {},
   "outputs": [
    {
     "data": {
      "text/plain": [
       "array([[[1., 1., 1., 1.],\n",
       "        [1., 1., 1., 1.]],\n",
       "\n",
       "       [[1., 1., 1., 1.],\n",
       "        [1., 1., 1., 1.]],\n",
       "\n",
       "       [[1., 1., 1., 1.],\n",
       "        [1., 1., 1., 1.]]])"
      ]
     },
     "execution_count": 106,
     "metadata": {},
     "output_type": "execute_result"
    }
   ],
   "source": [
    "x=np.ones((3,2,4))\n",
    "x"
   ]
  },
  {
   "cell_type": "code",
   "execution_count": 108,
   "id": "89b68274",
   "metadata": {},
   "outputs": [
    {
     "data": {
      "text/plain": [
       "array([[[0., 0., 0., 0.],\n",
       "        [0., 0., 0., 0.]],\n",
       "\n",
       "       [[0., 0., 0., 0.],\n",
       "        [0., 0., 0., 0.]],\n",
       "\n",
       "       [[0., 0., 0., 0.],\n",
       "        [0., 0., 0., 0.]]])"
      ]
     },
     "execution_count": 108,
     "metadata": {},
     "output_type": "execute_result"
    }
   ],
   "source": [
    "# _like 함수 : x배열의 크기와 동일하게 0 또는 1로 모두 초기화하여 생성\n",
    "\n",
    "y=np.zeros_like(x)\n",
    "y"
   ]
  },
  {
   "cell_type": "code",
   "execution_count": 109,
   "id": "88d272ef",
   "metadata": {},
   "outputs": [
    {
     "data": {
      "text/plain": [
       "array([[0., 0.],\n",
       "       [0., 0.],\n",
       "       [0., 0.]])"
      ]
     },
     "execution_count": 109,
     "metadata": {},
     "output_type": "execute_result"
    }
   ],
   "source": [
    "np.empty((3,2))\n",
    "# zeros:0으로 초기화, empty:기존에 메모리에 남아있는 쓰레기값으로 초기화"
   ]
  },
  {
   "cell_type": "code",
   "execution_count": 110,
   "id": "47170745",
   "metadata": {},
   "outputs": [
    {
     "data": {
      "text/plain": [
       "array([0, 1, 2, 3, 4, 5, 6, 7])"
      ]
     },
     "execution_count": 110,
     "metadata": {},
     "output_type": "execute_result"
    }
   ],
   "source": [
    "np.array(list(range(8)))"
   ]
  },
  {
   "cell_type": "code",
   "execution_count": 111,
   "id": "42a4ac2b",
   "metadata": {},
   "outputs": [
    {
     "data": {
      "text/plain": [
       "array([[0, 1],\n",
       "       [2, 3],\n",
       "       [4, 5],\n",
       "       [6, 7]])"
      ]
     },
     "execution_count": 111,
     "metadata": {},
     "output_type": "execute_result"
    }
   ],
   "source": [
    "np.array(list(range(8))).reshape(4,2)"
   ]
  },
  {
   "cell_type": "code",
   "execution_count": 112,
   "id": "3dcd323d",
   "metadata": {},
   "outputs": [
    {
     "data": {
      "text/plain": [
       "array([0, 1, 2, 3, 4, 5, 6, 7])"
      ]
     },
     "execution_count": 112,
     "metadata": {},
     "output_type": "execute_result"
    }
   ],
   "source": [
    "np.arange(8)"
   ]
  },
  {
   "cell_type": "code",
   "execution_count": 114,
   "id": "d72ea5f7",
   "metadata": {},
   "outputs": [
    {
     "name": "stdout",
     "output_type": "stream",
     "text": [
      "[ 1  2  3  4  5  6  7  8  9 10]\n",
      "[1 3 5 7 9]\n"
     ]
    }
   ],
   "source": [
    "print(np.arange(1,11))\n",
    "print(np.arange(1,11,2))\n"
   ]
  },
  {
   "cell_type": "code",
   "execution_count": 115,
   "id": "770d17b4",
   "metadata": {},
   "outputs": [
    {
     "data": {
      "text/plain": [
       "array([  0.        ,  11.11111111,  22.22222222,  33.33333333,\n",
       "        44.44444444,  55.55555556,  66.66666667,  77.77777778,\n",
       "        88.88888889, 100.        ])"
      ]
     },
     "execution_count": 115,
     "metadata": {},
     "output_type": "execute_result"
    }
   ],
   "source": [
    "np.linspace(0,100,10)"
   ]
  },
  {
   "cell_type": "code",
   "execution_count": 117,
   "id": "6ebffc0d",
   "metadata": {},
   "outputs": [
    {
     "data": {
      "text/plain": [
       "array([   2.,    4.,    8.,   16.,   32.,   64.,  128.,  256.,  512.,\n",
       "       1024.])"
      ]
     },
     "execution_count": 117,
     "metadata": {},
     "output_type": "execute_result"
    }
   ],
   "source": [
    "#np.logspace(시작, 끝, 갯수, base)# 로그 스케일 값으로 배열 생성\n",
    "np.logspace(start=1,stop=10,num=10,base=2)"
   ]
  },
  {
   "cell_type": "code",
   "execution_count": null,
   "id": "eef20036",
   "metadata": {},
   "outputs": [],
   "source": [
    "#전치행렬 : 행과열을 바꾸어놓은 행렬, T속성을 이용\n"
   ]
  },
  {
   "cell_type": "code",
   "execution_count": null,
   "id": "4ec748ea",
   "metadata": {},
   "outputs": [],
   "source": [
    "#1~6까지 2행3열 행렬생성"
   ]
  },
  {
   "cell_type": "code",
   "execution_count": 118,
   "id": "0cb873f8",
   "metadata": {},
   "outputs": [],
   "source": [
    "X=np.arange(1,7).reshape((2,3))"
   ]
  },
  {
   "cell_type": "code",
   "execution_count": 122,
   "id": "a991f70f",
   "metadata": {},
   "outputs": [
    {
     "data": {
      "text/plain": [
       "array([[1, 4],\n",
       "       [2, 5],\n",
       "       [3, 6]])"
      ]
     },
     "execution_count": 122,
     "metadata": {},
     "output_type": "execute_result"
    }
   ],
   "source": [
    "X.T"
   ]
  },
  {
   "cell_type": "code",
   "execution_count": 123,
   "id": "ea4a14e4",
   "metadata": {},
   "outputs": [
    {
     "data": {
      "text/plain": [
       "array([[ 0,  1,  2,  3],\n",
       "       [ 4,  5,  6,  7],\n",
       "       [ 8,  9, 10, 11]])"
      ]
     },
     "execution_count": 123,
     "metadata": {},
     "output_type": "execute_result"
    }
   ],
   "source": [
    "x=np.arange(12)\n",
    "x.reshape(3,4)"
   ]
  },
  {
   "cell_type": "code",
   "execution_count": 126,
   "id": "28407e28",
   "metadata": {},
   "outputs": [
    {
     "data": {
      "text/plain": [
       "array([[ 0,  1,  2],\n",
       "       [ 3,  4,  5],\n",
       "       [ 6,  7,  8],\n",
       "       [ 9, 10, 11]])"
      ]
     },
     "execution_count": 126,
     "metadata": {},
     "output_type": "execute_result"
    }
   ],
   "source": [
    "x=np.arange(12)\n",
    "x.reshape(4,-1)"
   ]
  },
  {
   "cell_type": "code",
   "execution_count": 129,
   "id": "1d813983",
   "metadata": {},
   "outputs": [
    {
     "data": {
      "text/plain": [
       "array([[[ 0,  1,  2],\n",
       "        [ 3,  4,  5],\n",
       "        [ 6,  7,  8],\n",
       "        [ 9, 10, 11]],\n",
       "\n",
       "       [[12, 13, 14],\n",
       "        [15, 16, 17],\n",
       "        [18, 19, 20],\n",
       "        [21, 22, 23]]])"
      ]
     },
     "execution_count": 129,
     "metadata": {},
     "output_type": "execute_result"
    }
   ],
   "source": [
    "x=np.arange(24)\n",
    "x.reshape(2,-1,3)"
   ]
  },
  {
   "cell_type": "code",
   "execution_count": null,
   "id": "5e3d8ece",
   "metadata": {},
   "outputs": [],
   "source": [
    "# reshape으로 차원을 증가시킬 수 있다.\n",
    "# ex) reshape함수 : 1차원 배열 -> 다차원 배열\n",
    "# ex) flatten 또는 ravel함수 : 다차원 배열 -> 1차원 배열\n"
   ]
  },
  {
   "cell_type": "code",
   "execution_count": 133,
   "id": "7e273b8c",
   "metadata": {},
   "outputs": [],
   "source": [
    "x= x.reshape(2,3,-1)"
   ]
  },
  {
   "cell_type": "code",
   "execution_count": 134,
   "id": "e28cd39e",
   "metadata": {},
   "outputs": [
    {
     "data": {
      "text/plain": [
       "array([[[ 0,  1,  2,  3],\n",
       "        [ 4,  5,  6,  7],\n",
       "        [ 8,  9, 10, 11]],\n",
       "\n",
       "       [[12, 13, 14, 15],\n",
       "        [16, 17, 18, 19],\n",
       "        [20, 21, 22, 23]]])"
      ]
     },
     "execution_count": 134,
     "metadata": {},
     "output_type": "execute_result"
    }
   ],
   "source": [
    "x"
   ]
  },
  {
   "cell_type": "code",
   "execution_count": 135,
   "id": "a9b2e7d9",
   "metadata": {},
   "outputs": [
    {
     "data": {
      "text/plain": [
       "array([ 0,  1,  2,  3,  4,  5,  6,  7,  8,  9, 10, 11, 12, 13, 14, 15, 16,\n",
       "       17, 18, 19, 20, 21, 22, 23])"
      ]
     },
     "execution_count": 135,
     "metadata": {},
     "output_type": "execute_result"
    }
   ],
   "source": [
    "x.flatten()"
   ]
  },
  {
   "cell_type": "code",
   "execution_count": 136,
   "id": "bb9d9db5",
   "metadata": {},
   "outputs": [
    {
     "data": {
      "text/plain": [
       "array([ 0,  1,  2,  3,  4,  5,  6,  7,  8,  9, 10, 11, 12, 13, 14, 15, 16,\n",
       "       17, 18, 19, 20, 21, 22, 23])"
      ]
     },
     "execution_count": 136,
     "metadata": {},
     "output_type": "execute_result"
    }
   ],
   "source": [
    "x.ravel()"
   ]
  },
  {
   "cell_type": "code",
   "execution_count": 154,
   "id": "985d43ad",
   "metadata": {},
   "outputs": [],
   "source": [
    "import pandas as pd"
   ]
  },
  {
   "cell_type": "code",
   "execution_count": 155,
   "id": "3ef78548",
   "metadata": {},
   "outputs": [
    {
     "data": {
      "text/html": [
       "<div>\n",
       "<style scoped>\n",
       "    .dataframe tbody tr th:only-of-type {\n",
       "        vertical-align: middle;\n",
       "    }\n",
       "\n",
       "    .dataframe tbody tr th {\n",
       "        vertical-align: top;\n",
       "    }\n",
       "\n",
       "    .dataframe thead th {\n",
       "        text-align: right;\n",
       "    }\n",
       "</style>\n",
       "<table border=\"1\" class=\"dataframe\">\n",
       "  <thead>\n",
       "    <tr style=\"text-align: right;\">\n",
       "      <th></th>\n",
       "      <th>Open</th>\n",
       "      <th>High</th>\n",
       "      <th>Low</th>\n",
       "      <th>Close</th>\n",
       "      <th>Adj Close</th>\n",
       "      <th>Volume</th>\n",
       "    </tr>\n",
       "  </thead>\n",
       "  <tbody>\n",
       "    <tr>\n",
       "      <th>0</th>\n",
       "      <td>49.480000</td>\n",
       "      <td>50.230000</td>\n",
       "      <td>49.139999</td>\n",
       "      <td>49.240002</td>\n",
       "      <td>47.966309</td>\n",
       "      <td>62362600</td>\n",
       "    </tr>\n",
       "    <tr>\n",
       "      <th>1</th>\n",
       "      <td>49.490002</td>\n",
       "      <td>49.500000</td>\n",
       "      <td>47.900002</td>\n",
       "      <td>48.070000</td>\n",
       "      <td>46.826569</td>\n",
       "      <td>60500800</td>\n",
       "    </tr>\n",
       "    <tr>\n",
       "      <th>2</th>\n",
       "      <td>47.830002</td>\n",
       "      <td>48.500000</td>\n",
       "      <td>47.590000</td>\n",
       "      <td>47.990002</td>\n",
       "      <td>46.748642</td>\n",
       "      <td>39735200</td>\n",
       "    </tr>\n",
       "    <tr>\n",
       "      <th>3</th>\n",
       "      <td>48.130001</td>\n",
       "      <td>48.320000</td>\n",
       "      <td>46.970001</td>\n",
       "      <td>47.730000</td>\n",
       "      <td>46.495361</td>\n",
       "      <td>46536000</td>\n",
       "    </tr>\n",
       "    <tr>\n",
       "      <th>4</th>\n",
       "      <td>48.270000</td>\n",
       "      <td>48.630001</td>\n",
       "      <td>47.740002</td>\n",
       "      <td>48.299999</td>\n",
       "      <td>47.050617</td>\n",
       "      <td>31767100</td>\n",
       "    </tr>\n",
       "    <tr>\n",
       "      <th>...</th>\n",
       "      <td>...</td>\n",
       "      <td>...</td>\n",
       "      <td>...</td>\n",
       "      <td>...</td>\n",
       "      <td>...</td>\n",
       "      <td>...</td>\n",
       "    </tr>\n",
       "    <tr>\n",
       "      <th>247</th>\n",
       "      <td>55.180000</td>\n",
       "      <td>56.279999</td>\n",
       "      <td>55.009998</td>\n",
       "      <td>56.230000</td>\n",
       "      <td>56.230000</td>\n",
       "      <td>18497200</td>\n",
       "    </tr>\n",
       "    <tr>\n",
       "      <th>248</th>\n",
       "      <td>56.060001</td>\n",
       "      <td>56.540001</td>\n",
       "      <td>55.680000</td>\n",
       "      <td>55.959999</td>\n",
       "      <td>55.959999</td>\n",
       "      <td>36691000</td>\n",
       "    </tr>\n",
       "    <tr>\n",
       "      <th>249</th>\n",
       "      <td>54.580002</td>\n",
       "      <td>54.709999</td>\n",
       "      <td>52.320000</td>\n",
       "      <td>53.000000</td>\n",
       "      <td>53.000000</td>\n",
       "      <td>67715400</td>\n",
       "    </tr>\n",
       "    <tr>\n",
       "      <th>250</th>\n",
       "      <td>52.810001</td>\n",
       "      <td>54.540001</td>\n",
       "      <td>52.759998</td>\n",
       "      <td>54.310001</td>\n",
       "      <td>54.310001</td>\n",
       "      <td>32782400</td>\n",
       "    </tr>\n",
       "    <tr>\n",
       "      <th>251</th>\n",
       "      <td>53.119999</td>\n",
       "      <td>53.200001</td>\n",
       "      <td>52.310001</td>\n",
       "      <td>53.180000</td>\n",
       "      <td>53.180000</td>\n",
       "      <td>39846400</td>\n",
       "    </tr>\n",
       "  </tbody>\n",
       "</table>\n",
       "<p>252 rows × 6 columns</p>\n",
       "</div>"
      ],
      "text/plain": [
       "          Open       High        Low      Close  Adj Close    Volume\n",
       "0    49.480000  50.230000  49.139999  49.240002  47.966309  62362600\n",
       "1    49.490002  49.500000  47.900002  48.070000  46.826569  60500800\n",
       "2    47.830002  48.500000  47.590000  47.990002  46.748642  39735200\n",
       "3    48.130001  48.320000  46.970001  47.730000  46.495361  46536000\n",
       "4    48.270000  48.630001  47.740002  48.299999  47.050617  31767100\n",
       "..         ...        ...        ...        ...        ...       ...\n",
       "247  55.180000  56.279999  55.009998  56.230000  56.230000  18497200\n",
       "248  56.060001  56.540001  55.680000  55.959999  55.959999  36691000\n",
       "249  54.580002  54.709999  52.320000  53.000000  53.000000  67715400\n",
       "250  52.810001  54.540001  52.759998  54.310001  54.310001  32782400\n",
       "251  53.119999  53.200001  52.310001  53.180000  53.180000  39846400\n",
       "\n",
       "[252 rows x 6 columns]"
      ]
     },
     "execution_count": 155,
     "metadata": {},
     "output_type": "execute_result"
    }
   ],
   "source": [
    "pd.read_csv('intel.csv')"
   ]
  },
  {
   "cell_type": "code",
   "execution_count": 158,
   "id": "5b7ffcee",
   "metadata": {},
   "outputs": [
    {
     "data": {
      "text/plain": [
       "array([[4.9480000e+01, 5.0230000e+01, 4.9139999e+01, 4.9240002e+01,\n",
       "        4.7966309e+01, 6.2362600e+07],\n",
       "       [4.9490002e+01, 4.9500000e+01, 4.7900002e+01, 4.8070000e+01,\n",
       "        4.6826569e+01, 6.0500800e+07],\n",
       "       [4.7830002e+01, 4.8500000e+01, 4.7590000e+01, 4.7990002e+01,\n",
       "        4.6748642e+01, 3.9735200e+07],\n",
       "       ...,\n",
       "       [5.4580002e+01, 5.4709999e+01, 5.2320000e+01, 5.3000000e+01,\n",
       "        5.3000000e+01, 6.7715400e+07],\n",
       "       [5.2810001e+01, 5.4540001e+01, 5.2759998e+01, 5.4310001e+01,\n",
       "        5.4310001e+01, 3.2782400e+07],\n",
       "       [5.3119999e+01, 5.3200001e+01, 5.2310001e+01, 5.3180000e+01,\n",
       "        5.3180000e+01, 3.9846400e+07]])"
      ]
     },
     "execution_count": 158,
     "metadata": {},
     "output_type": "execute_result"
    }
   ],
   "source": [
    "intel=np.loadtxt('intel.csv',skiprows=1, delimiter=',')\n",
    "intel.shape\n",
    "intel"
   ]
  },
  {
   "cell_type": "code",
   "execution_count": 162,
   "id": "421abecc",
   "metadata": {},
   "outputs": [
    {
     "data": {
      "text/plain": [
       "'Braund, Mr. Owen Harris'"
      ]
     },
     "execution_count": 162,
     "metadata": {},
     "output_type": "execute_result"
    }
   ],
   "source": [
    "df=pd.read_csv('train.csv')\n",
    "df['Name']\n",
    "df['Name'][0]"
   ]
  },
  {
   "cell_type": "code",
   "execution_count": null,
   "id": "b912a626",
   "metadata": {},
   "outputs": [],
   "source": []
  },
  {
   "cell_type": "code",
   "execution_count": null,
   "id": "1f8407f8",
   "metadata": {},
   "outputs": [],
   "source": []
  },
  {
   "cell_type": "code",
   "execution_count": null,
   "id": "4fca4f32",
   "metadata": {},
   "outputs": [],
   "source": []
  },
  {
   "cell_type": "code",
   "execution_count": null,
   "id": "5ac4b7ce",
   "metadata": {},
   "outputs": [],
   "source": []
  },
  {
   "cell_type": "code",
   "execution_count": null,
   "id": "6f140b79",
   "metadata": {},
   "outputs": [],
   "source": []
  },
  {
   "cell_type": "code",
   "execution_count": null,
   "id": "9fe9befc",
   "metadata": {},
   "outputs": [],
   "source": []
  },
  {
   "cell_type": "code",
   "execution_count": null,
   "id": "401670bb",
   "metadata": {},
   "outputs": [],
   "source": []
  },
  {
   "cell_type": "code",
   "execution_count": null,
   "id": "8190b2ed",
   "metadata": {},
   "outputs": [],
   "source": []
  }
 ],
 "metadata": {
  "kernelspec": {
   "display_name": "Python 3",
   "language": "python",
   "name": "python3"
  },
  "language_info": {
   "codemirror_mode": {
    "name": "ipython",
    "version": 3
   },
   "file_extension": ".py",
   "mimetype": "text/x-python",
   "name": "python",
   "nbconvert_exporter": "python",
   "pygments_lexer": "ipython3",
   "version": "3.8.8"
  }
 },
 "nbformat": 4,
 "nbformat_minor": 5
}
