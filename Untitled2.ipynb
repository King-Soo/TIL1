{
 "cells": [
  {
   "cell_type": "code",
   "execution_count": 44,
   "id": "51fbee7b",
   "metadata": {},
   "outputs": [
    {
     "name": "stdout",
     "output_type": "stream",
     "text": [
      "() (1,) (1, 2, 3) (1, 2, 3) ('a', 'b', ('ab', 'cd'))\n",
      "(2, 3)\n"
     ]
    }
   ],
   "source": [
    "t1=()\n",
    "t2=(1,)\n",
    "t3=(1,2,3)\n",
    "t4=1,2,3\n",
    "t5=('a','b',('ab','cd'))\n",
    "print(t1,t2,t3,t4,t5)\n",
    "\n",
    "# 리스트와 모습이 거의 비슷하지만 튜플에서는 리스트와 다른 2가지 차이점이 있다.\n",
    "# t2 = (1,)처럼 단지 1개의 요소만을 가질 때는 요소 뒤에 콤마(,)를 반드시 붙여야 \n",
    "# 한다는 것과 t4 = 1, 2, 3처럼 괄호( )를 생략해도 무방\n",
    "\n",
    "l3=list(t3)\n",
    "del l3[0]\n",
    "t3=tuple(l3)\n",
    "print(t3)\n",
    "#강제 형변환으로 삭제하는법"
   ]
  },
  {
   "cell_type": "code",
   "execution_count": 47,
   "id": "2e6285d3",
   "metadata": {},
   "outputs": [
    {
     "data": {
      "text/plain": [
       "{'2', 'H', 'e', 'l', 'o'}"
      ]
     },
     "execution_count": 47,
     "metadata": {},
     "output_type": "execute_result"
    }
   ],
   "source": [
    "s1 = set([1,2,3])\n",
    "s1\n",
    "\n",
    "s2 = set(\"Hello22\")\n",
    "s2\n",
    "# 중복을 허용하지 않는다. 순서가 없다.\n",
    "\n",
    "\n"
   ]
  },
  {
   "cell_type": "code",
   "execution_count": 57,
   "id": "4eac5a8e",
   "metadata": {},
   "outputs": [
    {
     "name": "stdout",
     "output_type": "stream",
     "text": [
      "False\n",
      "True\n"
     ]
    }
   ],
   "source": [
    "ss2=s2.copy()\n",
    "\n",
    "print(s2 is ss2) # 두 집합이 동일(메모리주소, 위치)한지 확인\n",
    "\n",
    "\n",
    "print(s2 == ss2) # 두집합에 속해있는 요소가 동일한지 확인"
   ]
  },
  {
   "cell_type": "code",
   "execution_count": 62,
   "id": "d6e39b0c",
   "metadata": {},
   "outputs": [
    {
     "data": {
      "text/plain": [
       "{'name': 'kim',\n",
       " 'cp': 114,\n",
       " 'bir': '0707',\n",
       " 'nick': ['ai', 'robot'],\n",
       " 'dic1': {'dic1': 'value1', 'dic3': 'value2'}}"
      ]
     },
     "execution_count": 62,
     "metadata": {},
     "output_type": "execute_result"
    }
   ],
   "source": [
    "peo={'name':'kim',\n",
    "     'cp':114,\n",
    "     'bir':'0707',\n",
    "     'nick': ['ai','robot'],\n",
    "     'dic1':{'dic1': 'value1', 'dic3': 'value2'}}\n",
    "peo"
   ]
  },
  {
   "cell_type": "code",
   "execution_count": 66,
   "id": "f193327f",
   "metadata": {},
   "outputs": [
    {
     "data": {
      "text/plain": [
       "{'이름': '윤진수', '주소': '관악구', '성별': '남자', '별명': '텐수', '취미': '야구'}"
      ]
     },
     "execution_count": 66,
     "metadata": {},
     "output_type": "execute_result"
    }
   ],
   "source": [
    "jin={\n",
    "    '이름': '윤진수',\n",
    "    '주소': '관악구',\n",
    "    '성별': '남자',\n",
    "    '별명': '텐수',\n",
    "    '취미': '야구'}\n",
    "jin"
   ]
  },
  {
   "cell_type": "code",
   "execution_count": 71,
   "id": "cee7c5f6",
   "metadata": {},
   "outputs": [
    {
     "name": "stdout",
     "output_type": "stream",
     "text": [
      "{}\n"
     ]
    },
    {
     "data": {
      "text/plain": [
       "{'name': 'kim', 'cp': 114}"
      ]
     },
     "execution_count": 71,
     "metadata": {},
     "output_type": "execute_result"
    }
   ],
   "source": [
    "s=dict()\n",
    "print(s)\n",
    "type(s)\n",
    "\n",
    "my=dict(name='kim', cp=114)\n",
    "my"
   ]
  },
  {
   "cell_type": "code",
   "execution_count": 73,
   "id": "38c932e2",
   "metadata": {},
   "outputs": [],
   "source": [
    "li=[('name', 'kim'), ('cp', '119'), ('bloodtype', 'B')]\n",
    "mydic=dict(li)"
   ]
  },
  {
   "cell_type": "code",
   "execution_count": 74,
   "id": "25b40902",
   "metadata": {},
   "outputs": [],
   "source": [
    "t={'새우깡':1000,'감자칩':2000,'요구르트':500}"
   ]
  },
  {
   "cell_type": "code",
   "execution_count": 78,
   "id": "b1137429",
   "metadata": {},
   "outputs": [
    {
     "data": {
      "text/plain": [
       "{'새우깡': 1000, '감자칩': 2000, '요구르트': 500, '생수': 500}"
      ]
     },
     "execution_count": 78,
     "metadata": {},
     "output_type": "execute_result"
    }
   ],
   "source": [
    "t['생수']=500\n",
    "t"
   ]
  },
  {
   "cell_type": "code",
   "execution_count": 79,
   "id": "2dea7680",
   "metadata": {},
   "outputs": [],
   "source": [
    "del t['요구르트']"
   ]
  },
  {
   "cell_type": "code",
   "execution_count": 90,
   "id": "86fdbb34",
   "metadata": {},
   "outputs": [
    {
     "name": "stdout",
     "output_type": "stream",
     "text": [
      "10\n",
      "dict_items([('새우깡', [1000, 5]), ('생수', [500, 10])])\n"
     ]
    }
   ],
   "source": [
    "제품={'새우깡':[1000,5], '생수':[500,10]}\n",
    "print(제품['생수'][1])\n",
    "print(제품.items())"
   ]
  },
  {
   "cell_type": "code",
   "execution_count": null,
   "id": "07c973f5",
   "metadata": {},
   "outputs": [],
   "source": []
  }
 ],
 "metadata": {
  "kernelspec": {
   "display_name": "Python 3",
   "language": "python",
   "name": "python3"
  },
  "language_info": {
   "codemirror_mode": {
    "name": "ipython",
    "version": 3
   },
   "file_extension": ".py",
   "mimetype": "text/x-python",
   "name": "python",
   "nbconvert_exporter": "python",
   "pygments_lexer": "ipython3",
   "version": "3.8.8"
  }
 },
 "nbformat": 4,
 "nbformat_minor": 5
}
