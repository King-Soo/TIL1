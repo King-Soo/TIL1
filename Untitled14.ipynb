{
 "cells": [
  {
   "cell_type": "code",
   "execution_count": 8,
   "id": "30a9dfd8",
   "metadata": {},
   "outputs": [
    {
     "name": "stdout",
     "output_type": "stream",
     "text": [
      "<re.Match object; span=(0, 3), match='a.b'>\n",
      "<re.Match object; span=(0, 4), match='a..b'>\n",
      "<re.Match object; span=(0, 4), match='a..b'>\n"
     ]
    }
   ],
   "source": [
    "import re\n",
    "# print(re.match(\"ab\",\"abc\"))\n",
    "# print(re.match(\"a.b\",\"abc\"))\n",
    "# print(re.match(\"a.b\",\"acbc\"))\n",
    "# print(re.match(\"a.b\",\"accbc\"))\n",
    "# Dot(.): 모든 문자와 매치가 됨(단 \\n은 제외)\n",
    "\n",
    "#[.] : 반드시 점이 있어야 함\n",
    "print(re.match(\"a[..]b\",\"a.b\"))\n",
    "print(re.match(\"a[.][.]b\",\"a..b\"))\n",
    "print(re.match(\"a[.]+b\",\"a..b\")) #[.]* = .문자가 0개 이상나오면 매치"
   ]
  },
  {
   "cell_type": "code",
   "execution_count": 12,
   "id": "b83e4e71",
   "metadata": {},
   "outputs": [
    {
     "name": "stdout",
     "output_type": "stream",
     "text": [
      "None\n",
      "<re.Match object; span=(0, 4), match='doog'>\n",
      "None\n",
      "None\n",
      "<re.Match object; span=(0, 4), match='doog'>\n"
     ]
    }
   ],
   "source": [
    "#{숫자} : 반드시 숫자만큼 왼쪽에 있는 문자가 반복되어야 함\n",
    "print(re.match(\"do{2}g\",\"dog\"))\n",
    "print(re.match(\"do{2}g\",\"doog\"))\n",
    "print(re.match(\"do{2}g\",\"dooog\"))\n",
    "\n",
    "# 문자{숫자1, 숫자2} : 반드시 숫자1 이상 숫자2 이하만큼 왼쪽에 있는 문자가 \n",
    "#반복되어야함\n",
    "print(re.match(\"do{2,5}g\",\"dog\"))\n",
    "print(re.match(\"do{2,5}g\",\"doog\")) # o 가 2~5일때 매치됨"
   ]
  },
  {
   "cell_type": "code",
   "execution_count": null,
   "id": "817a3078",
   "metadata": {},
   "outputs": [],
   "source": [
    "# ? == {0,1}\n",
    "\n",
    "# * == {0,무한대}\n",
    "# + == {1,무한대}"
   ]
  },
  {
   "cell_type": "code",
   "execution_count": 13,
   "id": "65465e8a",
   "metadata": {},
   "outputs": [
    {
     "data": {
      "text/plain": [
       "<re.Match object; span=(0, 1), match='\\\\'>"
      ]
     },
     "execution_count": 13,
     "metadata": {},
     "output_type": "execute_result"
    }
   ],
   "source": [
    "re.match(\"\\\\\\\\\",\"\\\\test\")"
   ]
  },
  {
   "cell_type": "code",
   "execution_count": 15,
   "id": "90c381c6",
   "metadata": {},
   "outputs": [
    {
     "name": "stdout",
     "output_type": "stream",
     "text": [
      "None\n",
      "<re.Match object; span=(0, 10), match='a........b'>\n",
      "None\n",
      "None\n"
     ]
    }
   ],
   "source": [
    "print(re.match(\"a[.]{3,}b\",\"accb\"))\n",
    "print(re.match(\"a[.]{3,}b\",\"a........b\"))\n",
    "print(re.match(\"a[.]{3,}b\",\"aaab\"))\n",
    "print(re.match(\"a[.]{3,}b\",\"a.ccccccb\"))"
   ]
  },
  {
   "cell_type": "code",
   "execution_count": 17,
   "id": "ecbd10a1",
   "metadata": {},
   "outputs": [],
   "source": [
    "s=\"\"\"\n",
    "kim 010-1111-2222\n",
    "lee 010-1111-3333\n",
    "park 010-1111-4444\n",
    "\"\"\""
   ]
  },
  {
   "cell_type": "code",
   "execution_count": 27,
   "id": "7cff384e",
   "metadata": {},
   "outputs": [
    {
     "data": {
      "text/plain": [
       "'\\nkim 010-1111####\\nlee 010-1111####\\npark 010-1111####\\n'"
      ]
     },
     "execution_count": 27,
     "metadata": {},
     "output_type": "execute_result"
    }
   ],
   "source": [
    "#re.sub('[0-9]{4}','####',s)\n",
    "\n",
    "pat=re.compile(\"(\\d{3}[-]\\d{4})[-]\\d{4}\")\n",
    "pat.sub(\"\\g<1>####\",s) # g\\<1> = 첫번째 그룹을 뜻함 (\\d{3}[-]\\d{4})"
   ]
  },
  {
   "cell_type": "code",
   "execution_count": null,
   "id": "b5b72e45",
   "metadata": {},
   "outputs": [],
   "source": [
    "f=op"
   ]
  }
 ],
 "metadata": {
  "kernelspec": {
   "display_name": "Python 3",
   "language": "python",
   "name": "python3"
  },
  "language_info": {
   "codemirror_mode": {
    "name": "ipython",
    "version": 3
   },
   "file_extension": ".py",
   "mimetype": "text/x-python",
   "name": "python",
   "nbconvert_exporter": "python",
   "pygments_lexer": "ipython3",
   "version": "3.8.8"
  }
 },
 "nbformat": 4,
 "nbformat_minor": 5
}
