{
 "cells": [
  {
   "cell_type": "code",
   "execution_count": 28,
   "id": "0efa9463",
   "metadata": {},
   "outputs": [],
   "source": [
    "from selenium import webdriver\n",
    "from bs4 import BeautifulSoup\n",
    "import time\n",
    "import re"
   ]
  },
  {
   "cell_type": "code",
   "execution_count": 29,
   "id": "4f279e63",
   "metadata": {},
   "outputs": [],
   "source": []
  },
  {
   "cell_type": "code",
   "execution_count": 136,
   "id": "3ae3cb22",
   "metadata": {},
   "outputs": [],
   "source": [
    "def getContent(driver):\n",
    "    html=driver.page_source\n",
    "    soup=BeautifulSoup(html,'html.parser')\n",
    "    title=soup.select('yt-formatted-string.style-scope.ytd-video-renderer')[(i*2)].text\n",
    "    view=soup.select('span.style-scope.ytd-video-meta-block')[(i-1)].text\n",
    "    view_time=soup.select('span.style-scope.ytd-video-meta-block')[i].text\n",
    "    view_digit=re.findall(\"\\d+\",view)\n",
    "    view_time_digit=re.findall('\\d+',view_time)\n",
    "    a=int(view_digit[0])\n",
    "    b=int(view_time_digit[0])\n",
    "    hour=eval(\"a/b\")\n",
    "    data=[title, view, view_time, hour,\"view/h\"]\n",
    "    return data\n"
   ]
  },
  {
   "cell_type": "code",
   "execution_count": 137,
   "id": "ca0aa595",
   "metadata": {},
   "outputs": [
    {
     "name": "stdout",
     "output_type": "stream",
     "text": [
      "[['머릿속에 거미가 들어간 남자의 멈출 수 없는 고통┃A Spider in His Brain... Endless Torturing Pain', '2일 전', '조회수 281만회', 0.0071174377224199285, 'view/h'], [\"김하성 하이라이트: Ha-Seong Kim busy on defense, productive at the plate in Padres' doubleheader\", '조회수 281만회', '23시간 전', 12.217391304347826, 'view/h'], ['2020 도쿄올림픽 남자 축구 B조 1차전 대한민국 vs 뉴질랜드 [습츠_도쿄올림픽]', '23시간 전', '조회수 19만회', 1.2105263157894737, 'view/h'], ['여친 동생이 오빠한테 싸가지 없는 행동을 한다면? 미쳤다ㄷㄷ | Her little sister disrespects me to see how my girlfriend reacts', '조회수 19만회', '1일 전', 19.0, 'view/h'], ['[신속복습📝] FC구척장신 vs FC액셔니스타, 짜릿해! 늘 새로워! 골 때리는 그녀들 승부차기ㅣ골 때리는 그녀들(Kick A Goal)ㅣSBS ENTER.', '1일 전', '조회수 20만회', 0.05, 'view/h']]\n"
     ]
    }
   ],
   "source": [
    "driver = webdriver.Chrome('chromedriver.exe')\n",
    "driver.get('https://www.youtube.com/feed/explore')\n",
    "time.sleep(3)\n",
    "\n",
    "results = []\n",
    "target = 5\n",
    "for i in range(target):\n",
    "    data= getContent(driver)\n",
    "    results.append(data)\n",
    "    \n",
    "print(results)"
   ]
  },
  {
   "cell_type": "code",
   "execution_count": 138,
   "id": "5e88d9cc",
   "metadata": {},
   "outputs": [],
   "source": [
    "import pandas as pd"
   ]
  },
  {
   "cell_type": "code",
   "execution_count": 140,
   "id": "7a03940c",
   "metadata": {},
   "outputs": [
    {
     "data": {
      "text/html": [
       "<div>\n",
       "<style scoped>\n",
       "    .dataframe tbody tr th:only-of-type {\n",
       "        vertical-align: middle;\n",
       "    }\n",
       "\n",
       "    .dataframe tbody tr th {\n",
       "        vertical-align: top;\n",
       "    }\n",
       "\n",
       "    .dataframe thead th {\n",
       "        text-align: right;\n",
       "    }\n",
       "</style>\n",
       "<table border=\"1\" class=\"dataframe\">\n",
       "  <thead>\n",
       "    <tr style=\"text-align: right;\">\n",
       "      <th></th>\n",
       "      <th>0</th>\n",
       "      <th>1</th>\n",
       "      <th>2</th>\n",
       "      <th>3</th>\n",
       "      <th>4</th>\n",
       "    </tr>\n",
       "  </thead>\n",
       "  <tbody>\n",
       "    <tr>\n",
       "      <th>0</th>\n",
       "      <td>머릿속에 거미가 들어간 남자의 멈출 수 없는 고통┃A Spider in His Br...</td>\n",
       "      <td>2일 전</td>\n",
       "      <td>조회수 281만회</td>\n",
       "      <td>0.007117</td>\n",
       "      <td>view/h</td>\n",
       "    </tr>\n",
       "    <tr>\n",
       "      <th>1</th>\n",
       "      <td>김하성 하이라이트: Ha-Seong Kim busy on defense, produ...</td>\n",
       "      <td>조회수 281만회</td>\n",
       "      <td>23시간 전</td>\n",
       "      <td>12.217391</td>\n",
       "      <td>view/h</td>\n",
       "    </tr>\n",
       "    <tr>\n",
       "      <th>2</th>\n",
       "      <td>2020 도쿄올림픽 남자 축구 B조 1차전 대한민국 vs 뉴질랜드 [습츠_도쿄올림픽]</td>\n",
       "      <td>23시간 전</td>\n",
       "      <td>조회수 19만회</td>\n",
       "      <td>1.210526</td>\n",
       "      <td>view/h</td>\n",
       "    </tr>\n",
       "    <tr>\n",
       "      <th>3</th>\n",
       "      <td>여친 동생이 오빠한테 싸가지 없는 행동을 한다면? 미쳤다ㄷㄷ | Her little...</td>\n",
       "      <td>조회수 19만회</td>\n",
       "      <td>1일 전</td>\n",
       "      <td>19.000000</td>\n",
       "      <td>view/h</td>\n",
       "    </tr>\n",
       "    <tr>\n",
       "      <th>4</th>\n",
       "      <td>[신속복습📝] FC구척장신 vs FC액셔니스타, 짜릿해! 늘 새로워! 골 때리는 그...</td>\n",
       "      <td>1일 전</td>\n",
       "      <td>조회수 20만회</td>\n",
       "      <td>0.050000</td>\n",
       "      <td>view/h</td>\n",
       "    </tr>\n",
       "  </tbody>\n",
       "</table>\n",
       "</div>"
      ],
      "text/plain": [
       "                                                   0          1          2  \\\n",
       "0  머릿속에 거미가 들어간 남자의 멈출 수 없는 고통┃A Spider in His Br...       2일 전  조회수 281만회   \n",
       "1  김하성 하이라이트: Ha-Seong Kim busy on defense, produ...  조회수 281만회     23시간 전   \n",
       "2    2020 도쿄올림픽 남자 축구 B조 1차전 대한민국 vs 뉴질랜드 [습츠_도쿄올림픽]     23시간 전   조회수 19만회   \n",
       "3  여친 동생이 오빠한테 싸가지 없는 행동을 한다면? 미쳤다ㄷㄷ | Her little...   조회수 19만회       1일 전   \n",
       "4  [신속복습📝] FC구척장신 vs FC액셔니스타, 짜릿해! 늘 새로워! 골 때리는 그...       1일 전   조회수 20만회   \n",
       "\n",
       "           3       4  \n",
       "0   0.007117  view/h  \n",
       "1  12.217391  view/h  \n",
       "2   1.210526  view/h  \n",
       "3  19.000000  view/h  \n",
       "4   0.050000  view/h  "
      ]
     },
     "execution_count": 140,
     "metadata": {},
     "output_type": "execute_result"
    }
   ],
   "source": [
    "df=pd.DataFrame(results)\n",
    "df"
   ]
  },
  {
   "cell_type": "code",
   "execution_count": null,
   "id": "4405b0fa",
   "metadata": {},
   "outputs": [],
   "source": []
  },
  {
   "cell_type": "code",
   "execution_count": null,
   "id": "c7126e07",
   "metadata": {},
   "outputs": [],
   "source": []
  },
  {
   "cell_type": "code",
   "execution_count": null,
   "id": "6600b7be",
   "metadata": {},
   "outputs": [],
   "source": []
  },
  {
   "cell_type": "code",
   "execution_count": null,
   "id": "b5d875df",
   "metadata": {},
   "outputs": [],
   "source": []
  },
  {
   "cell_type": "code",
   "execution_count": null,
   "id": "26373bca",
   "metadata": {},
   "outputs": [],
   "source": []
  },
  {
   "cell_type": "code",
   "execution_count": null,
   "id": "4bd8d5ae",
   "metadata": {},
   "outputs": [],
   "source": []
  },
  {
   "cell_type": "code",
   "execution_count": null,
   "id": "7ee0aeca",
   "metadata": {},
   "outputs": [],
   "source": []
  },
  {
   "cell_type": "code",
   "execution_count": null,
   "id": "8d34f1c7",
   "metadata": {},
   "outputs": [],
   "source": []
  },
  {
   "cell_type": "code",
   "execution_count": null,
   "id": "4f03cc6c",
   "metadata": {},
   "outputs": [],
   "source": []
  },
  {
   "cell_type": "code",
   "execution_count": null,
   "id": "74cbabd0",
   "metadata": {},
   "outputs": [],
   "source": []
  },
  {
   "cell_type": "code",
   "execution_count": null,
   "id": "039a9556",
   "metadata": {},
   "outputs": [],
   "source": []
  }
 ],
 "metadata": {
  "kernelspec": {
   "display_name": "Python 3",
   "language": "python",
   "name": "python3"
  },
  "language_info": {
   "codemirror_mode": {
    "name": "ipython",
    "version": 3
   },
   "file_extension": ".py",
   "mimetype": "text/x-python",
   "name": "python",
   "nbconvert_exporter": "python",
   "pygments_lexer": "ipython3",
   "version": "3.8.8"
  }
 },
 "nbformat": 4,
 "nbformat_minor": 5
}
