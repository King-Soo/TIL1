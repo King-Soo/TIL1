{
 "cells": [
  {
   "cell_type": "code",
   "execution_count": 1,
   "id": "70c25d06",
   "metadata": {},
   "outputs": [
    {
     "name": "stdout",
     "output_type": "stream",
     "text": [
      "['a1', 'b1', 'a2', 'b2', 'a3', 'b3']\n"
     ]
    }
   ],
   "source": [
    "input_list=['a1','a2','a3','b1','b2','b3']\n",
    "\n",
    "b_index=input_list.index('b1')\n",
    "output_list=[]\n",
    "\n",
    "for i in range(b_index):\n",
    "    output_list.append(input_list[i])\n",
    "    output_list.append(input_list[i+b_index])\n",
    "\n",
    "print(output_list)"
   ]
  },
  {
   "cell_type": "code",
   "execution_count": 9,
   "id": "1223851d",
   "metadata": {},
   "outputs": [
    {
     "name": "stdout",
     "output_type": "stream",
     "text": [
      "2보다 큰 짝수 입력7\n",
      "잘못 입력하셨습니다.\n",
      "[[3, 47], [7, 43], [13, 37], [19, 31]]\n"
     ]
    }
   ],
   "source": [
    "def get_primes(n): # 소수구하는 알고리즘: 에라토스테네스의 체\n",
    "    primes=[]\n",
    "    a = [False,False] + [True]*(n-1)\n",
    "\n",
    "    for i in range(2,n+1):\n",
    "        if a[i]:\n",
    "            primes.append(i)\n",
    "        for j in range(2*i, n+1, i):\n",
    "            a[j] = False\n",
    "    return primes\n",
    "\n",
    "even = int(input(\"2보다 큰 짝수 입력\"))\n",
    "if even <= 2 or even % 2 != 0:\n",
    "    print(\"잘못 입력하셨습니다.\")\n",
    "else:\n",
    "    primes = get_primes(even)\n",
    "    res = []\n",
    "    for i in range(0,len(primes)):\n",
    "        for j in range(i,len(primes)):\n",
    "            if primes[i] + primes[j] == even:\n",
    "                res.append([primes[i],primes[j]])\n",
    "                \n",
    "print(res)\n",
    "# 테스트로 너무 큰수 넣으니까 메모리 터질려하네요"
   ]
  },
  {
   "cell_type": "code",
   "execution_count": 15,
   "id": "d2d28786",
   "metadata": {},
   "outputs": [],
   "source": [
    "import numpy as np\n",
    "\n",
    "mov1 = np.array([3,2,0,2])\n",
    "mov2 = np.array([1,2,3,0])\n",
    "mov3 = np.array([2,2,2,2])"
   ]
  },
  {
   "cell_type": "code",
   "execution_count": 22,
   "id": "0457789f",
   "metadata": {},
   "outputs": [],
   "source": [
    "a=sum(mov3-mov1)\n",
    "b=sum(mov3-mov2)"
   ]
  },
  {
   "cell_type": "code",
   "execution_count": 23,
   "id": "0247ecea",
   "metadata": {},
   "outputs": [
    {
     "name": "stdout",
     "output_type": "stream",
     "text": [
      "2번영화 추천 합니다.\n"
     ]
    }
   ],
   "source": [
    "if a > b:\n",
    "    print('1번 영화 추천 합니다.')\n",
    "elif a == b:\n",
    "    print('1번, 2번 영화를 추천 합니다')\n",
    "else:\n",
    "    print('2번영화 추천 합니다.')"
   ]
  },
  {
   "cell_type": "code",
   "execution_count": 25,
   "id": "b36e23bc",
   "metadata": {},
   "outputs": [
    {
     "data": {
      "text/plain": [
       "2"
      ]
     },
     "execution_count": 25,
     "metadata": {},
     "output_type": "execute_result"
    }
   ],
   "source": []
  },
  {
   "cell_type": "code",
   "execution_count": null,
   "id": "ac433e0e",
   "metadata": {},
   "outputs": [],
   "source": []
  },
  {
   "cell_type": "code",
   "execution_count": null,
   "id": "aec8d1a0",
   "metadata": {},
   "outputs": [],
   "source": []
  },
  {
   "cell_type": "code",
   "execution_count": null,
   "id": "396a0b93",
   "metadata": {},
   "outputs": [],
   "source": []
  },
  {
   "cell_type": "code",
   "execution_count": null,
   "id": "485ef9ee",
   "metadata": {},
   "outputs": [],
   "source": []
  },
  {
   "cell_type": "code",
   "execution_count": null,
   "id": "a5992d5b",
   "metadata": {},
   "outputs": [],
   "source": []
  },
  {
   "cell_type": "code",
   "execution_count": null,
   "id": "07dacb60",
   "metadata": {},
   "outputs": [],
   "source": []
  },
  {
   "cell_type": "code",
   "execution_count": null,
   "id": "5a426b7c",
   "metadata": {},
   "outputs": [],
   "source": []
  }
 ],
 "metadata": {
  "kernelspec": {
   "display_name": "Python 3",
   "language": "python",
   "name": "python3"
  },
  "language_info": {
   "codemirror_mode": {
    "name": "ipython",
    "version": 3
   },
   "file_extension": ".py",
   "mimetype": "text/x-python",
   "name": "python",
   "nbconvert_exporter": "python",
   "pygments_lexer": "ipython3",
   "version": "3.8.8"
  }
 },
 "nbformat": 4,
 "nbformat_minor": 5
}
