{
 "cells": [
  {
   "cell_type": "code",
   "execution_count": 2,
   "id": "865a2316",
   "metadata": {},
   "outputs": [],
   "source": [
    "import pandas as pd"
   ]
  },
  {
   "cell_type": "code",
   "execution_count": 3,
   "id": "b17097e7",
   "metadata": {},
   "outputs": [],
   "source": [
    "df=pd.read_table('C:/Users/jinsu1/Downloads/국토교통부_교량_20200601_1592485410977_8854152.csv',encoding='cp949', sep='\\n',\n",
    "                 header=None)"
   ]
  },
  {
   "cell_type": "code",
   "execution_count": 10,
   "id": "f0e7a449",
   "metadata": {},
   "outputs": [],
   "source": [
    "df1=df[0].str.split(',', expand=True,)\n",
    "#df1.info()\n",
    "df1.axis=1"
   ]
  },
  {
   "cell_type": "code",
   "execution_count": null,
   "id": "673f30eb",
   "metadata": {},
   "outputs": [],
   "source": []
  }
 ],
 "metadata": {
  "kernelspec": {
   "display_name": "Python 3",
   "language": "python",
   "name": "python3"
  },
  "language_info": {
   "codemirror_mode": {
    "name": "ipython",
    "version": 3
   },
   "file_extension": ".py",
   "mimetype": "text/x-python",
   "name": "python",
   "nbconvert_exporter": "python",
   "pygments_lexer": "ipython3",
   "version": "3.8.8"
  }
 },
 "nbformat": 4,
 "nbformat_minor": 5
}
