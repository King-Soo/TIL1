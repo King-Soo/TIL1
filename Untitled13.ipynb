{
 "cells": [
  {
   "cell_type": "code",
   "execution_count": 14,
   "id": "f1f57f8a",
   "metadata": {},
   "outputs": [],
   "source": [
    "#게이머 클래스 정의\n",
    "# self : 클래스로부터 생성된 객체 자기 자신, this와 같음\n",
    "\n",
    "class User:\n",
    "    def move(self):\n",
    "        print(\"이동합니다.\")\n",
    "    def hunt(self):\n",
    "        print(self.msg)\n",
    "        self.move()\n",
    "        print(\"사냥합니다.\")\n",
    "    def __init__(self): # 클래스로부터 객체가 생성될때 자동으로 호출되는 특별한 메서드\n",
    "        self.hp=100 # 게임 캐틱터의 초기 체력이 100\n",
    "        self.mp=50 # 게임 캐틱터의 초기 마나 50\n",
    "        #self.속성명=속성값\n",
    "        self.msg=\"캐틱터를 생성하였습니다.\""
   ]
  },
  {
   "cell_type": "code",
   "execution_count": 15,
   "id": "a90b866b",
   "metadata": {},
   "outputs": [],
   "source": [
    "# 게이머 객체 생성\n",
    "hong=User()"
   ]
  },
  {
   "cell_type": "code",
   "execution_count": 18,
   "id": "89862a63",
   "metadata": {},
   "outputs": [
    {
     "name": "stdout",
     "output_type": "stream",
     "text": [
      "캐틱터를 생성하였습니다.\n",
      "이동합니다.\n",
      "사냥합니다.\n"
     ]
    }
   ],
   "source": [
    "# 메서드 수행\n",
    "# 객체명.메서드명()\n",
    "\n",
    "#hong.move()\n",
    "hong.hunt()\n",
    "\n",
    "#isinstance(hong, User)"
   ]
  },
  {
   "cell_type": "code",
   "execution_count": null,
   "id": "bf635b7d",
   "metadata": {},
   "outputs": [],
   "source": [
    "# 정규표현식 : regex\n",
    "수집 문자 데이터 -> 문자열 전처리(preprocessing)"
   ]
  },
  {
   "cell_type": "code",
   "execution_count": 21,
   "id": "37873999",
   "metadata": {},
   "outputs": [
    {
     "data": {
      "text/plain": [
       "True"
      ]
     },
     "execution_count": 21,
     "metadata": {},
     "output_type": "execute_result"
    }
   ],
   "source": [
    "data=\"850101-1234567\"\n",
    "spdata=data.split(\"-\")\n",
    "\n",
    "spdata[1].isdigit() # 문자열.isdigit() 문자열이지만 숫자만 들어있는지 확인\n",
    "\n"
   ]
  },
  {
   "cell_type": "code",
   "execution_count": 23,
   "id": "5225197c",
   "metadata": {},
   "outputs": [
    {
     "data": {
      "text/plain": [
       "'850101-*******'"
      ]
     },
     "execution_count": 23,
     "metadata": {},
     "output_type": "execute_result"
    }
   ],
   "source": [
    "data=\"850101-1234567\"\n",
    "data[7:]\n",
    "data[:6]+\"-\"+\"*******\""
   ]
  },
  {
   "cell_type": "code",
   "execution_count": null,
   "id": "2ed0a522",
   "metadata": {},
   "outputs": [],
   "source": [
    "정규표현식은 문자열의 패턴(규칙)에 대한 규칙(표현식)을 작성"
   ]
  },
  {
   "cell_type": "code",
   "execution_count": 30,
   "id": "267d278e",
   "metadata": {},
   "outputs": [
    {
     "data": {
      "text/plain": [
       "'850101-*******'"
      ]
     },
     "execution_count": 30,
     "metadata": {},
     "output_type": "execute_result"
    }
   ],
   "source": [
    "import re\n",
    "data=\"850101-1234567\"\n",
    "pat=re.compile(\"(\\d{6})-(\\d{7})\")\n",
    "pat.sub(\"\\g<1>-*******\",data)"
   ]
  },
  {
   "cell_type": "code",
   "execution_count": 33,
   "id": "f040ed56",
   "metadata": {},
   "outputs": [],
   "source": [
    "# re.match(\"패턴\",\"문자열\") # 문자열에 패턴이 있는지 확인\n",
    "\n",
    "re.match(\"hi\",\"hi hello world\") #문자열에 패턴이 있는지 판단\n",
    "# 패턴이 문자열에 있는 경우에는 매치된 패턴과 위치가 출력\n",
    "\n",
    "re.match(\"hello\",\"hi hello world\")\n",
    "#match함수는 문자열의 최좌측부터 시작하여 패턴이 있는지 확인.\n",
    "#처음부터 패턴이 문자열에 없다면 종료\n",
    "#패턴이 문자열에 있다면 매치된 문자열이 출력"
   ]
  },
  {
   "cell_type": "code",
   "execution_count": 39,
   "id": "41a609ae",
   "metadata": {},
   "outputs": [
    {
     "name": "stdout",
     "output_type": "stream",
     "text": [
      "None\n",
      "None\n",
      "<re.Match object; span=(0, 5), match='hello'>\n",
      "None\n"
     ]
    }
   ],
   "source": [
    "print(re.match(\"hello\",\"hehello world\"))\n",
    "print(re.match(\"hello\",\"1hello world\"))\n",
    "print(re.match(\"hello\",\"hello world\"))\n",
    "print(re.match(\"hello!!\",\"hellohello world\"))\n"
   ]
  },
  {
   "cell_type": "code",
   "execution_count": null,
   "id": "7b85a17b",
   "metadata": {},
   "outputs": [],
   "source": [
    "# 정규표현식 메타문자()\n",
    "\n",
    "메타 데이터 : 데이터를 표현(설명)하는 데이터\n",
    "    \n",
    "메타 문자 : 기호가 갖는 고유의의미가 아닌, 정규표현식에서 식을 정의하는데\n",
    "    사용되는 특별한 의미의 문자(기호)\n",
    "메타 문자 종류 : () [] {} \\ | ? + ^ $..."
   ]
  },
  {
   "cell_type": "code",
   "execution_count": null,
   "id": "f8691065",
   "metadata": {},
   "outputs": [],
   "source": [
    "#1. [] : 모든 문자가 대괄호 안에 올 수 있음\n",
    "ex) [abcde] : a,b,c,d,e 중에 한개의 문자와 매치"
   ]
  },
  {
   "cell_type": "code",
   "execution_count": 40,
   "id": "d88ef23c",
   "metadata": {
    "scrolled": false
   },
   "outputs": [
    {
     "name": "stdout",
     "output_type": "stream",
     "text": [
      "<re.Match object; span=(0, 1), match='a'>\n"
     ]
    }
   ],
   "source": [
    "print(re.match(\"[abcde]\",\"a\"))"
   ]
  },
  {
   "cell_type": "code",
   "execution_count": 42,
   "id": "b3ea627c",
   "metadata": {},
   "outputs": [
    {
     "name": "stdout",
     "output_type": "stream",
     "text": [
      "<re.Match object; span=(0, 1), match='a'>\n"
     ]
    }
   ],
   "source": [
    "print(re.match(\"[a-z]\",\"a\"))\n",
    "print(re.match(\"[1084]\",\"a\"))"
   ]
  },
  {
   "cell_type": "code",
   "execution_count": null,
   "id": "886e6ef2",
   "metadata": {},
   "outputs": [],
   "source": [
    "[a-z]\n",
    "[A-Z]\n",
    "[a-zA-Z]\n",
    "[0-9] == \\d\n",
    "[^0-9] == \\D 차집합\n",
    "[0-9A-Za-z] == \\w\n",
    "[^0-9A-Za-z] == \\W\n",
    "[ \\t\\n\\r]  == \\s\n",
    "[^ \\t\\n\\r]  == \\S"
   ]
  },
  {
   "cell_type": "code",
   "execution_count": 43,
   "id": "fb0b995d",
   "metadata": {
    "scrolled": true
   },
   "outputs": [
    {
     "name": "stdout",
     "output_type": "stream",
     "text": [
      "<re.Match object; span=(0, 5), match='hello'>\n",
      "None\n"
     ]
    }
   ],
   "source": [
    "print(re.match(\"hello\",\"hello world\"))\n",
    "print(re.match(\"hello\",\"world hello world\"))"
   ]
  },
  {
   "cell_type": "code",
   "execution_count": 46,
   "id": "e48339e8",
   "metadata": {
    "scrolled": true
   },
   "outputs": [
    {
     "name": "stdout",
     "output_type": "stream",
     "text": [
      "<re.Match object; span=(0, 5), match='hello'>\n",
      "<re.Match object; span=(6, 11), match='hello'>\n",
      "<re.Match object; span=(6, 12), match='hel lo'>\n",
      "<re.Match object; span=(1, 2), match='o'>\n"
     ]
    }
   ],
   "source": [
    "print(re.search(\"hello\",\"hello world\"))\n",
    "print(re.search(\"hello\",\"world hello world\"))\n",
    "\n",
    "print(re.search(\"hel lo\",\"world hel lo world\"))\n",
    "print(re.search(\"[helo]+\",\"world hello world\"))"
   ]
  },
  {
   "cell_type": "code",
   "execution_count": 48,
   "id": "fbe58278",
   "metadata": {},
   "outputs": [],
   "source": [
    "re.search(\"hi\",\"hello, hi\")\n",
    "re.search(\"^hi\",\"hello, hi\")# ^ :~시작하는지 판단 ^hi: hi로 시작하는 문자열\n",
    "# $ : ~ 끝나는지 판단, hi$: hi로 끝나는 문자열"
   ]
  },
  {
   "cell_type": "code",
   "execution_count": 51,
   "id": "460006d3",
   "metadata": {},
   "outputs": [
    {
     "name": "stdout",
     "output_type": "stream",
     "text": [
      "<re.Match object; span=(7, 9), match='hi'>\n",
      "None\n",
      "<re.Match object; span=(0, 5), match='hello'>\n",
      "<re.Match object; span=(7, 9), match='hi'>\n",
      "<re.Match object; span=(0, 2), match='he'>\n"
     ]
    }
   ],
   "source": [
    "print(re.search(\"hi\",\"hello, hi\"))\n",
    "print(re.search(\"^hi\",\"hello, hi\"))\n",
    "print(re.search(\"^hello\",\"hello, hi\"))\n",
    "print(re.search(\"hi$\",\"hello, hi\"))\n",
    "\n",
    "print(re.search(\"hi|he\",\"hello, hi\")) # | : or"
   ]
  },
  {
   "cell_type": "code",
   "execution_count": 53,
   "id": "68232f02",
   "metadata": {},
   "outputs": [
    {
     "name": "stdout",
     "output_type": "stream",
     "text": [
      "<re.Match object; span=(0, 1), match='1'>\n",
      "<re.Match object; span=(0, 2), match='12'>\n",
      "None\n"
     ]
    }
   ],
   "source": [
    "# * : 0개 이상 있는지 판단\n",
    "# + : 1개 이상 있는지 판단\n",
    "    \n",
    "print(re.match(\"[0-9]\",\"12a3b\"))\n",
    "print(re.match(\"[0-9]+\",\"12a3b\"))\n",
    "\n",
    "print(re.match(\"[0-9]+\",\"x12a3b\"))"
   ]
  },
  {
   "cell_type": "code",
   "execution_count": 55,
   "id": "7695121c",
   "metadata": {},
   "outputs": [
    {
     "name": "stdout",
     "output_type": "stream",
     "text": [
      "None\n"
     ]
    }
   ],
   "source": [
    "print(re.match(\"[0-9]+\",\"a12a3b\"))\n"
   ]
  },
  {
   "cell_type": "code",
   "execution_count": 56,
   "id": "a1bc61dd",
   "metadata": {},
   "outputs": [
    {
     "name": "stdout",
     "output_type": "stream",
     "text": [
      "<re.Match object; span=(0, 2), match='12'>\n"
     ]
    }
   ],
   "source": [
    "print(re.match(\"[0-9]*\",\"12a3b\"))\n"
   ]
  },
  {
   "cell_type": "code",
   "execution_count": 63,
   "id": "99796b05",
   "metadata": {},
   "outputs": [
    {
     "data": {
      "text/plain": [
       "['100', '200']"
      ]
     },
     "execution_count": 63,
     "metadata": {},
     "output_type": "execute_result"
    }
   ],
   "source": [
    "s=\"가나다 100 라마바 200\"\n",
    "\n",
    "#res=re.search(\"[0-9]+\",s)\n",
    "#res=re.search(\"\\d+\",s)\n",
    "\n",
    "\n",
    "re.findall(\"[0-9]+\",s)\n",
    "re.findall(\"\\d+\",s)\n",
    "#res.group()"
   ]
  },
  {
   "cell_type": "code",
   "execution_count": 68,
   "id": "d14ba056",
   "metadata": {},
   "outputs": [
    {
     "data": {
      "text/plain": [
       "['27.3도']"
      ]
     },
     "execution_count": 68,
     "metadata": {},
     "output_type": "execute_result"
    }
   ],
   "source": [
    "3.14\n",
    "27.3\n",
    "36\n",
    "\n",
    "#나이\n",
    "re.findall(\"[0-9]+세\",\"20세 3.14 27.3도 36세\")\n",
    "\n",
    "#도\n",
    "re.findall(\"[0-9.]+도\",\"20세 3.14 27.3도 36세\")"
   ]
  },
  {
   "cell_type": "code",
   "execution_count": 69,
   "id": "091c65ae",
   "metadata": {},
   "outputs": [],
   "source": [
    "news=\"\"\"\n",
    "뜨거운 열기가 계속 쌓여만 가는 느낌인데요.\n",
    "\n",
    "현재 서울 기온은 34.5도까지 치솟으며 하루 만에 올여름 최고 기온을 경신했습니다.\n",
    "\n",
    "특히 비공식 기온이지만 서울 강북구 수유동은 무려 37.2도까지 치솟으며 사람 체온을 웃돌고 있습니다.\n",
    "\n",
    "반면, 대기 불안정으로 동쪽 지방은 호우특보 속에 요란한 소나기가 쏟아지고 있는데요.\n",
    "\n",
    "시설물 관리와 안전사고에 주의하셔야겠습니다.\n",
    "\n",
    "전국 대부분 지역에 폭염특보가 계속되는 가운데, 현재 전국에서 가장 더운 곳은 경기도 안성으로, 양성면의 기온이 37.7도까지 치솟았는데요.\n",
    "\n",
    "서울도 체감 35도 안팎의 찜통더위가 계속되고 있습니다.\n",
    "\n",
    "찌는 듯한 더위 속에 대기 불안정이 심해지면서 동쪽 내륙을 중심으로는 강한 소나기 구름이 발달하고 있는데요.\n",
    "\n",
    "강원 남부 내륙과 전북 동부에 호우특보가 내려진 가운데, 내일 새벽까지 돌풍과 벼락을 동반한 시간당 50mm 이상의 장대비가 쏟아지며, 100mm 이상의 강우량을 기록하는 곳도 있겠습니다.\n",
    "\n",
    "피해 없도록 주변 점검 철저히 해주시기 바랍니다.\n",
    "\n",
    "내일과 모레도 무더위 속에 기습적인 소나기가 지나겠고요, 일요일 전국에 비가 내린 뒤 다음 주에는 더 심한 더위가 찾아오겠습니다.\n",
    "\n",
    "연일 계속되는 무더위에 온열 질환에 걸릴 가능성도 커지고 있습니다.\n",
    "\n",
    "볕이 강한 오후 2~5시 사이 장시간의 야외 활동은 자제하시는 게 좋겠습니다.\n",
    "\n",
    "YTN 신미림입니다.\n",
    "\n",
    "\"\"\""
   ]
  },
  {
   "cell_type": "code",
   "execution_count": 70,
   "id": "f82ff578",
   "metadata": {},
   "outputs": [
    {
     "data": {
      "text/plain": [
       "'\\n뜨거운 열기가 계속 쌓여만 가는 느낌인데요.\\n\\n현재 서울 기온은 34.5도까지 치솟으며 하루 만에 올여름 최고 기온을 경신했습니다.\\n\\n특히 비공식 기온이지만 서울 강북구 수유동은 무려 37.2도까지 치솟으며 사람 체온을 웃돌고 있습니다.\\n\\n반면, 대기 불안정으로 동쪽 지방은 호우특보 속에 요란한 소나기가 쏟아지고 있는데요.\\n\\n시설물 관리와 안전사고에 주의하셔야겠습니다.\\n\\n전국 대부분 지역에 폭염특보가 계속되는 가운데, 현재 전국에서 가장 더운 곳은 경기도 안성으로, 양성면의 기온이 37.7도까지 치솟았는데요.\\n\\n서울도 체감 35도 안팎의 찜통더위가 계속되고 있습니다.\\n\\n찌는 듯한 더위 속에 대기 불안정이 심해지면서 동쪽 내륙을 중심으로는 강한 소나기 구름이 발달하고 있는데요.\\n\\n강원 남부 내륙과 전북 동부에 호우특보가 내려진 가운데, 내일 새벽까지 돌풍과 벼락을 동반한 시간당 50mm 이상의 장대비가 쏟아지며, 100mm 이상의 강우량을 기록하는 곳도 있겠습니다.\\n\\n피해 없도록 주변 점검 철저히 해주시기 바랍니다.\\n\\n내일과 모레도 무더위 속에 기습적인 소나기가 지나겠고요, 일요일 전국에 비가 내린 뒤 다음 주에는 더 심한 더위가 찾아오겠습니다.\\n\\n연일 계속되는 무더위에 온열 질환에 걸릴 가능성도 커지고 있습니다.\\n\\n볕이 강한 오후 2~5시 사이 장시간의 야외 활동은 자제하시는 게 좋겠습니다.\\n\\nYTN 신미림입니다.\\n\\n'"
      ]
     },
     "execution_count": 70,
     "metadata": {},
     "output_type": "execute_result"
    }
   ],
   "source": [
    "news"
   ]
  },
  {
   "cell_type": "code",
   "execution_count": 71,
   "id": "efbb8371",
   "metadata": {},
   "outputs": [
    {
     "data": {
      "text/plain": [
       "[]"
      ]
     },
     "execution_count": 71,
     "metadata": {},
     "output_type": "execute_result"
    }
   ],
   "source": [
    "\n",
    "re.findall(\"[0-9.][mm]+도\",news)"
   ]
  },
  {
   "cell_type": "code",
   "execution_count": null,
   "id": "1f48c2c8",
   "metadata": {},
   "outputs": [],
   "source": []
  }
 ],
 "metadata": {
  "kernelspec": {
   "display_name": "Python 3",
   "language": "python",
   "name": "python3"
  },
  "language_info": {
   "codemirror_mode": {
    "name": "ipython",
    "version": 3
   },
   "file_extension": ".py",
   "mimetype": "text/x-python",
   "name": "python",
   "nbconvert_exporter": "python",
   "pygments_lexer": "ipython3",
   "version": "3.8.8"
  }
 },
 "nbformat": 4,
 "nbformat_minor": 5
}
