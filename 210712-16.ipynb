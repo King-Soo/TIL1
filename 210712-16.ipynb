{
 "cells": [
  {
   "cell_type": "code",
   "execution_count": 4,
   "id": "311dc0bf",
   "metadata": {},
   "outputs": [
    {
     "name": "stdout",
     "output_type": "stream",
     "text": [
      "['머신', '신러', '러닝', '닝은', '은 ', ' 인', '인공', '공지', '지능', '능의', '의 ', ' 한', '한 ', ' 분', '분류', '류입', '입니', '니다']\n",
      "['런닝', '닝머', '머신', '신은', '은 ', ' 운', '운동', '동 ', ' 기', '기구', '구중', '중의', '의 ', ' 하', '하나', '나입', '입니', '니다']\n",
      "유사도는 22.2222 %입니다\n"
     ]
    }
   ],
   "source": [
    "x=\"머신러닝은 인공지능의 한 분류입니다\"  #내가 작성한 숙제\n",
    "y=\"런닝머신은 운동 기구중의 하나입니다\"  #다른 사람이 작성한 숙제\n",
    "xx=[]\n",
    "yy=[]\n",
    "count=0\n",
    "\n",
    "for i in range(len(x)-1):\n",
    "    xx.append(x[i:i+2])\n",
    "    \n",
    "for j in range(len(y)-1):\n",
    "    yy.append(y[j:j+2])\n",
    "    \n",
    "for k in range(len(xx)-1):\n",
    "    for l in range(len(yy)-1):\n",
    "        if xx[k]==yy[l]:\n",
    "            count += 1\n",
    "print(xx)\n",
    "print(yy)\n",
    "\n",
    "print(\"유사도는 %.4f %%입니다\" % (100*count/len(xx)))\n"
   ]
  },
  {
   "cell_type": "code",
   "execution_count": 5,
   "id": "5e8b5208",
   "metadata": {},
   "outputs": [],
   "source": [
    "a=[5,8,3,1,5,6,9,9,2,2,4]\n",
    "\n",
    "a.sort()\n"
   ]
  },
  {
   "cell_type": "code",
   "execution_count": null,
   "id": "bc43f185",
   "metadata": {},
   "outputs": [],
   "source": []
  }
 ],
 "metadata": {
  "kernelspec": {
   "display_name": "Python 3",
   "language": "python",
   "name": "python3"
  },
  "language_info": {
   "codemirror_mode": {
    "name": "ipython",
    "version": 3
   },
   "file_extension": ".py",
   "mimetype": "text/x-python",
   "name": "python",
   "nbconvert_exporter": "python",
   "pygments_lexer": "ipython3",
   "version": "3.8.8"
  }
 },
 "nbformat": 4,
 "nbformat_minor": 5
}
